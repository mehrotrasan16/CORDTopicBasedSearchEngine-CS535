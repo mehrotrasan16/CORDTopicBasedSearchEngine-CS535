{
 "cells": [
  {
   "cell_type": "markdown",
   "metadata": {},
   "source": [
    "# Goal"
   ]
  },
  {
   "cell_type": "markdown",
   "metadata": {},
   "source": [
    "There is a need to respond quickly to changes in today's world. This response may sometimes require understanding of a topic. Given any topic, there is a plethora of sources providing seas of data related to the it. Given todays world condition, a global concern is the treatment and handling of the COVID-19 pandemic. Given the rising amount of literature regarding the subject, it will be difficult for a scientist to keep up with today's literature.\n",
    "> Is it possible to cluster these tens of thousands of articles to make it easier for a scientist to find relevant research articles?\n",
    "\n"
   ]
  },
  {
   "cell_type": "code",
   "execution_count": 1,
   "metadata": {},
   "outputs": [
    {
     "name": "stdout",
     "output_type": "stream",
     "text": [
      "Time for imports only: 0:00:01.113192\n"
     ]
    }
   ],
   "source": [
    "from datetime import datetime\n",
    "start_time = datetime.now()\n",
    "import pandas as pd\n",
    "import os\n",
    "import json\n",
    "import glob\n",
    "import matplotlib.pyplot as plt\n",
    "from hdfs import InsecureClient\n",
    "\n",
    "end_time = datetime.now()\n",
    "print(f'Time for imports only: {end_time-start_time}')"
   ]
  },
  {
   "cell_type": "markdown",
   "metadata": {},
   "source": [
    "## Reading all files into Spark RDDs with PySpark"
   ]
  },
  {
   "cell_type": "code",
   "execution_count": 2,
   "metadata": {},
   "outputs": [],
   "source": [
    "from pyspark import SparkConf, SparkContext\n",
    "\n",
    "conf = SparkConf().setAppName(\"SparkTFIDF\")\n",
    "sc = SparkContext(conf=conf)\n",
    "\n",
    "hdfs_folder = 'hdfs://madison:31802/cord19dataset/metadata.csv'\n",
    "\n",
    "def read_data(hdfs_folder):\n",
    "    data = sc.parallelize([])\n",
    "    data = sc.textFile(hdfs_folder)\n",
    "    return data\n",
    "\n",
    "meta = read_data(hdfs_folder)\n",
    "sc.stop()"
   ]
  },
  {
   "cell_type": "code",
   "execution_count": 3,
   "metadata": {},
   "outputs": [
    {
     "data": {
      "text/plain": [
       "hdfs://madison:31802/cord19dataset/metadata.csv MapPartitionsRDD[2] at textFile at NativeMethodAccessorImpl.java:0"
      ]
     },
     "execution_count": 3,
     "metadata": {},
     "output_type": "execute_result"
    }
   ],
   "source": [
    "meta"
   ]
  },
  {
   "cell_type": "markdown",
   "metadata": {},
   "source": [
    "## Reading all files from HDFS"
   ]
  },
  {
   "cell_type": "code",
   "execution_count": 4,
   "metadata": {},
   "outputs": [],
   "source": [
    "client_hdfs = InsecureClient('http://madison:31802')"
   ]
  },
  {
   "cell_type": "code",
   "execution_count": 5,
   "metadata": {},
   "outputs": [
    {
     "data": {
      "text/plain": [
       "{'directoryCount': 17,\n",
       " 'fileCount': 59317,\n",
       " 'length': 7913288034,\n",
       " 'quota': -1,\n",
       " 'spaceConsumed': 23739864102,\n",
       " 'spaceQuota': -1,\n",
       " 'typeQuota': {}}"
      ]
     },
     "execution_count": 5,
     "metadata": {},
     "output_type": "execute_result"
    }
   ],
   "source": [
    "client_hdfs.content('/cord19dataset')"
   ]
  },
  {
   "cell_type": "code",
   "execution_count": 6,
   "metadata": {},
   "outputs": [
    {
     "data": {
      "text/plain": [
       "['COVID.DATA.LIC.AGMT.pdf',\n",
       " 'biorxiv_medrxiv',\n",
       " 'biorxiv_medrxiv.tar.gz',\n",
       " 'comm_use_subset',\n",
       " 'cord19_specter_embeddings_2020-04-10',\n",
       " 'custom_license',\n",
       " 'json_schema.txt',\n",
       " 'metadata.csv',\n",
       " 'metadata.readme',\n",
       " 'noncomm_use_subset']"
      ]
     },
     "execution_count": 6,
     "metadata": {},
     "output_type": "execute_result"
    }
   ],
   "source": [
    "fnames = client_hdfs.list('/cord19dataset')\n",
    "fnames"
   ]
  },
  {
   "cell_type": "code",
   "execution_count": 6,
   "metadata": {
    "scrolled": true
   },
   "outputs": [
    {
     "data": {
      "text/plain": [
       "['0015023cc06b5362d332b3baf348d11567ca2fbb.json',\n",
       " '00340eea543336d54adda18236424de6a5e91c9d.json',\n",
       " '004f0f8bb66cf446678dc13cf2701feec4f36d76.json',\n",
       " '00911cf4f99a3d5ae5e5b787675646a743574496.json',\n",
       " '00d16927588fb04d4be0e6b269fc02f0d3c2aa7b.json',\n",
       " '00eb9220dc8cd351393b6b035323d350f103f8c6.json',\n",
       " '0139ea4ca580af99b602c6435368e7fdbefacb03.json',\n",
       " '013d9d1cba8a54d5d3718c229b812d7cf91b6c89.json',\n",
       " '018fb5e62fbbcae07d57d94d29ac630dcc4dccf9.json',\n",
       " '01d162d7fae6aaba8e6e60e563ef4c2fca7b0e18.json',\n",
       " '01e3b313e78a352593be2ff64927192af66619b5.json',\n",
       " '02201e4601ab0eb70b6c26480cf2bfeae2625193.json',\n",
       " '0255ea4b2f26a51a3bfa3bd8f3e1978c82c976d5.json',\n",
       " '029c1c588047f1d612a219ee15494d2d19ff7439.json',\n",
       " '0313c3faa16cd66d64f31ae37e40fb70695d69fb.json',\n",
       " '033ea7af3e6137df652de026f0751ac435327b75.json',\n",
       " '03813d8657ba43ea382788caec2d14257b26d8fd.json',\n",
       " '03ce432f27c7df6af22b92245a614db2ecb5de5f.json',\n",
       " '03ea3a614b56409d3f099c9ad764864293132540.json',\n",
       " '03ea9ad47ebe9a599205b99390c45490e6724024.json',\n",
       " '04030bba3035a58c7725ae267973206f6eb6c0b4.json',\n",
       " '041bae0a6de2b69979d39460b3f2ee8946534ec2.json',\n",
       " '05082393ba4c7ec530190dd887d99c74fd72f6d6.json',\n",
       " '052bf4fb7deaf593862991af3b118b5f11a9fbe1.json',\n",
       " '0537863d6c059cc9cf5ec8dd0beb27dec5d9d801.json',\n",
       " '05d47dd5b46f86428de058db4ecc8bca76a9ad16.json',\n",
       " '05d99c07db59b6948e39bfa62c2cbbf62944059a.json',\n",
       " '05e37847597676ae715adcec18a6574e75a20546.json',\n",
       " '061ffcdd4d674c4d7ce24e4aa7c5037c68596864.json',\n",
       " '0624a12abfe85c8b5070850d912a2db4cd453236.json',\n",
       " '06837008df793f872a6fb830dfb83c9525edb7c4.json',\n",
       " '06a1002f9fbea7179ac3572843f66b14568af6e4.json',\n",
       " '06acb8da0009104a2af509334abe3c26b1da66a1.json',\n",
       " '06c1b3535b83251cf92c01258b5048beeab7a460.json',\n",
       " '06d12dc5ac32d82387c65370d0a600e13059122d.json',\n",
       " '073d74442e2655d79b0b3f764a627ec667ad422c.json',\n",
       " '07e833d0917cace550853f72923856d0fe1a7120.json',\n",
       " '08660499ee722a74043f8417faee3e1eeb9d0f5f.json',\n",
       " '08826d0596a01a2a482eb6d80edb0e87cddc304e.json',\n",
       " '08911cdc65e71e6398ca79b46806e6c8b2b730ae.json',\n",
       " '08a22278486e12768ce186677a6a89663d24586f.json',\n",
       " '090b6c8b3df30bc248221869f673a2d970caa1b9.json',\n",
       " '091a8e9a61e19e88caeb039f0e3888d111b20439.json',\n",
       " '09892e597bdc1ded9eb5922b4f3d41e041d6634a.json',\n",
       " '09b6706748f0c1ae0da436ac2dfac9052b84e4ea.json',\n",
       " '09c9fcabc66a106e01ef42247cbd86b6d85bd67f.json',\n",
       " '09ec8daa8e32168d92d05b86de1784c639685fb4.json',\n",
       " '09fd48d0e1f60fa69b68ebd54bd5d71fc08dec96.json',\n",
       " '0a27cb2cd52229472fcfc3e49d3a3cb7179867e4.json',\n",
       " '0a2a28cb82e7a03af0a9fad4fd4c68c9fdac2477.json']"
      ]
     },
     "execution_count": 6,
     "metadata": {},
     "output_type": "execute_result"
    }
   ],
   "source": [
    "fnames = client_hdfs.list('/cord19dataset/biorxiv_medrxiv/biorxiv_medrxiv/pdf_json')\n",
    "fnames[0:50]"
   ]
  },
  {
   "cell_type": "code",
   "execution_count": 8,
   "metadata": {},
   "outputs": [],
   "source": [
    "##It is possible to loop through all the folders and sub folders while using \n",
    "##content(<path>,strict=False) != None as a breaking condition`"
   ]
  },
  {
   "cell_type": "code",
   "execution_count": 7,
   "metadata": {},
   "outputs": [
    {
     "data": {
      "text/plain": [
       "59317"
      ]
     },
     "execution_count": 7,
     "metadata": {},
     "output_type": "execute_result"
    }
   ],
   "source": [
    "#There is also this provided snippet to get all files under a given directory\n",
    "# Get all files under a given folder (arbitrary depth).\n",
    "import posixpath as psp\n",
    "fpaths = [\n",
    "  psp.join(dpath, fname)\n",
    "  for dpath, _, fnames in client_hdfs.walk('/cord19dataset')\n",
    "  for fname in fnames\n",
    "]\n",
    "len(fpaths)"
   ]
  },
  {
   "cell_type": "code",
   "execution_count": 9,
   "metadata": {},
   "outputs": [
    {
     "data": {
      "text/plain": [
       "59311"
      ]
     },
     "execution_count": 9,
     "metadata": {},
     "output_type": "execute_result"
    }
   ],
   "source": [
    "fpaths_json = list(filter(lambda x: \".json\" in x,fpaths))\n",
    "\n",
    "len(fpaths_json)"
   ]
  },
  {
   "cell_type": "code",
   "execution_count": 10,
   "metadata": {},
   "outputs": [],
   "source": [
    "_125hdfsjson = fpaths_json[0:12500]"
   ]
  },
  {
   "cell_type": "markdown",
   "metadata": {},
   "source": [
    "## Metadata for the database"
   ]
  },
  {
   "cell_type": "markdown",
   "metadata": {},
   "source": [
    "We are given a metadata file that gives us the filename of each article along with its abstract and some other details such as date published and journal that it was published in."
   ]
  },
  {
   "cell_type": "code",
   "execution_count": 11,
   "metadata": {},
   "outputs": [],
   "source": [
    "root_path = '/cord19dataset'"
   ]
  },
  {
   "cell_type": "code",
   "execution_count": 12,
   "metadata": {},
   "outputs": [
    {
     "data": {
      "text/html": [
       "<div>\n",
       "<style scoped>\n",
       "    .dataframe tbody tr th:only-of-type {\n",
       "        vertical-align: middle;\n",
       "    }\n",
       "\n",
       "    .dataframe tbody tr th {\n",
       "        vertical-align: top;\n",
       "    }\n",
       "\n",
       "    .dataframe thead th {\n",
       "        text-align: right;\n",
       "    }\n",
       "</style>\n",
       "<table border=\"1\" class=\"dataframe\">\n",
       "  <thead>\n",
       "    <tr style=\"text-align: right;\">\n",
       "      <th></th>\n",
       "      <th>cord_uid</th>\n",
       "      <th>sha</th>\n",
       "      <th>source_x</th>\n",
       "      <th>title</th>\n",
       "      <th>doi</th>\n",
       "      <th>pmcid</th>\n",
       "      <th>pubmed_id</th>\n",
       "      <th>license</th>\n",
       "      <th>abstract</th>\n",
       "      <th>publish_time</th>\n",
       "      <th>authors</th>\n",
       "      <th>journal</th>\n",
       "      <th>Microsoft Academic Paper ID</th>\n",
       "      <th>WHO #Covidence</th>\n",
       "      <th>has_pdf_parse</th>\n",
       "      <th>has_pmc_xml_parse</th>\n",
       "      <th>full_text_file</th>\n",
       "      <th>url</th>\n",
       "    </tr>\n",
       "  </thead>\n",
       "  <tbody>\n",
       "    <tr>\n",
       "      <th>0</th>\n",
       "      <td>xqhn0vbp</td>\n",
       "      <td>1e1286db212100993d03cc22374b624f7caee956</td>\n",
       "      <td>PMC</td>\n",
       "      <td>Airborne rhinovirus detection and effect of ul...</td>\n",
       "      <td>10.1186/1471-2458-3-5</td>\n",
       "      <td>PMC140314</td>\n",
       "      <td>12525263.0</td>\n",
       "      <td>no-cc</td>\n",
       "      <td>BACKGROUND: Rhinovirus, the most common cause ...</td>\n",
       "      <td>2003-01-13</td>\n",
       "      <td>Myatt, Theodore A; Johnston, Sebastian L; Rudn...</td>\n",
       "      <td>BMC Public Health</td>\n",
       "      <td>NaN</td>\n",
       "      <td>NaN</td>\n",
       "      <td>True</td>\n",
       "      <td>True</td>\n",
       "      <td>custom_license</td>\n",
       "      <td>https://www.ncbi.nlm.nih.gov/pmc/articles/PMC1...</td>\n",
       "    </tr>\n",
       "    <tr>\n",
       "      <th>1</th>\n",
       "      <td>gi6uaa83</td>\n",
       "      <td>8ae137c8da1607b3a8e4c946c07ca8bda67f88ac</td>\n",
       "      <td>PMC</td>\n",
       "      <td>Discovering human history from stomach bacteria</td>\n",
       "      <td>10.1186/gb-2003-4-5-213</td>\n",
       "      <td>PMC156578</td>\n",
       "      <td>12734001.0</td>\n",
       "      <td>no-cc</td>\n",
       "      <td>Recent analyses of human pathogens have reveal...</td>\n",
       "      <td>2003-04-28</td>\n",
       "      <td>Disotell, Todd R</td>\n",
       "      <td>Genome Biol</td>\n",
       "      <td>NaN</td>\n",
       "      <td>NaN</td>\n",
       "      <td>True</td>\n",
       "      <td>True</td>\n",
       "      <td>custom_license</td>\n",
       "      <td>https://www.ncbi.nlm.nih.gov/pmc/articles/PMC1...</td>\n",
       "    </tr>\n",
       "    <tr>\n",
       "      <th>2</th>\n",
       "      <td>le0ogx1s</td>\n",
       "      <td>NaN</td>\n",
       "      <td>PMC</td>\n",
       "      <td>A new recruit for the army of the men of death</td>\n",
       "      <td>10.1186/gb-2003-4-7-113</td>\n",
       "      <td>PMC193621</td>\n",
       "      <td>12844350.0</td>\n",
       "      <td>no-cc</td>\n",
       "      <td>The army of the men of death, in John Bunyan's...</td>\n",
       "      <td>2003-06-27</td>\n",
       "      <td>Petsko, Gregory A</td>\n",
       "      <td>Genome Biol</td>\n",
       "      <td>NaN</td>\n",
       "      <td>NaN</td>\n",
       "      <td>False</td>\n",
       "      <td>True</td>\n",
       "      <td>custom_license</td>\n",
       "      <td>https://www.ncbi.nlm.nih.gov/pmc/articles/PMC1...</td>\n",
       "    </tr>\n",
       "    <tr>\n",
       "      <th>3</th>\n",
       "      <td>fy4w7xz8</td>\n",
       "      <td>0104f6ceccf92ae8567a0102f89cbb976969a774</td>\n",
       "      <td>PMC</td>\n",
       "      <td>Association of HLA class I with severe acute r...</td>\n",
       "      <td>10.1186/1471-2350-4-9</td>\n",
       "      <td>PMC212558</td>\n",
       "      <td>12969506.0</td>\n",
       "      <td>no-cc</td>\n",
       "      <td>BACKGROUND: The human leukocyte antigen (HLA) ...</td>\n",
       "      <td>2003-09-12</td>\n",
       "      <td>Lin, Marie; Tseng, Hsiang-Kuang; Trejaut, Jean...</td>\n",
       "      <td>BMC Med Genet</td>\n",
       "      <td>NaN</td>\n",
       "      <td>NaN</td>\n",
       "      <td>True</td>\n",
       "      <td>True</td>\n",
       "      <td>custom_license</td>\n",
       "      <td>https://www.ncbi.nlm.nih.gov/pmc/articles/PMC2...</td>\n",
       "    </tr>\n",
       "    <tr>\n",
       "      <th>4</th>\n",
       "      <td>0qaoam29</td>\n",
       "      <td>5b68a553a7cbbea13472721cd1ad617d42b40c26</td>\n",
       "      <td>PMC</td>\n",
       "      <td>A double epidemic model for the SARS propagation</td>\n",
       "      <td>10.1186/1471-2334-3-19</td>\n",
       "      <td>PMC222908</td>\n",
       "      <td>12964944.0</td>\n",
       "      <td>no-cc</td>\n",
       "      <td>BACKGROUND: An epidemic of a Severe Acute Resp...</td>\n",
       "      <td>2003-09-10</td>\n",
       "      <td>Ng, Tuen Wai; Turinici, Gabriel; Danchin, Antoine</td>\n",
       "      <td>BMC Infect Dis</td>\n",
       "      <td>NaN</td>\n",
       "      <td>NaN</td>\n",
       "      <td>True</td>\n",
       "      <td>True</td>\n",
       "      <td>custom_license</td>\n",
       "      <td>https://www.ncbi.nlm.nih.gov/pmc/articles/PMC2...</td>\n",
       "    </tr>\n",
       "  </tbody>\n",
       "</table>\n",
       "</div>"
      ],
      "text/plain": [
       "   cord_uid                                       sha source_x  \\\n",
       "0  xqhn0vbp  1e1286db212100993d03cc22374b624f7caee956      PMC   \n",
       "1  gi6uaa83  8ae137c8da1607b3a8e4c946c07ca8bda67f88ac      PMC   \n",
       "2  le0ogx1s                                       NaN      PMC   \n",
       "3  fy4w7xz8  0104f6ceccf92ae8567a0102f89cbb976969a774      PMC   \n",
       "4  0qaoam29  5b68a553a7cbbea13472721cd1ad617d42b40c26      PMC   \n",
       "\n",
       "                                               title                      doi  \\\n",
       "0  Airborne rhinovirus detection and effect of ul...    10.1186/1471-2458-3-5   \n",
       "1    Discovering human history from stomach bacteria  10.1186/gb-2003-4-5-213   \n",
       "2     A new recruit for the army of the men of death  10.1186/gb-2003-4-7-113   \n",
       "3  Association of HLA class I with severe acute r...    10.1186/1471-2350-4-9   \n",
       "4   A double epidemic model for the SARS propagation   10.1186/1471-2334-3-19   \n",
       "\n",
       "       pmcid   pubmed_id license  \\\n",
       "0  PMC140314  12525263.0   no-cc   \n",
       "1  PMC156578  12734001.0   no-cc   \n",
       "2  PMC193621  12844350.0   no-cc   \n",
       "3  PMC212558  12969506.0   no-cc   \n",
       "4  PMC222908  12964944.0   no-cc   \n",
       "\n",
       "                                            abstract publish_time  \\\n",
       "0  BACKGROUND: Rhinovirus, the most common cause ...   2003-01-13   \n",
       "1  Recent analyses of human pathogens have reveal...   2003-04-28   \n",
       "2  The army of the men of death, in John Bunyan's...   2003-06-27   \n",
       "3  BACKGROUND: The human leukocyte antigen (HLA) ...   2003-09-12   \n",
       "4  BACKGROUND: An epidemic of a Severe Acute Resp...   2003-09-10   \n",
       "\n",
       "                                             authors            journal  \\\n",
       "0  Myatt, Theodore A; Johnston, Sebastian L; Rudn...  BMC Public Health   \n",
       "1                                   Disotell, Todd R        Genome Biol   \n",
       "2                                  Petsko, Gregory A        Genome Biol   \n",
       "3  Lin, Marie; Tseng, Hsiang-Kuang; Trejaut, Jean...      BMC Med Genet   \n",
       "4  Ng, Tuen Wai; Turinici, Gabriel; Danchin, Antoine     BMC Infect Dis   \n",
       "\n",
       "   Microsoft Academic Paper ID WHO #Covidence  has_pdf_parse  \\\n",
       "0                          NaN            NaN           True   \n",
       "1                          NaN            NaN           True   \n",
       "2                          NaN            NaN          False   \n",
       "3                          NaN            NaN           True   \n",
       "4                          NaN            NaN           True   \n",
       "\n",
       "   has_pmc_xml_parse  full_text_file  \\\n",
       "0               True  custom_license   \n",
       "1               True  custom_license   \n",
       "2               True  custom_license   \n",
       "3               True  custom_license   \n",
       "4               True  custom_license   \n",
       "\n",
       "                                                 url  \n",
       "0  https://www.ncbi.nlm.nih.gov/pmc/articles/PMC1...  \n",
       "1  https://www.ncbi.nlm.nih.gov/pmc/articles/PMC1...  \n",
       "2  https://www.ncbi.nlm.nih.gov/pmc/articles/PMC1...  \n",
       "3  https://www.ncbi.nlm.nih.gov/pmc/articles/PMC2...  \n",
       "4  https://www.ncbi.nlm.nih.gov/pmc/articles/PMC2...  "
      ]
     },
     "execution_count": 12,
     "metadata": {},
     "output_type": "execute_result"
    }
   ],
   "source": [
    "with client_hdfs.read(f'{root_path}/metadata.csv', encoding = 'utf-8') as reader:\n",
    "    meta = pd.read_csv(reader)\n",
    "\n",
    "meta.head()"
   ]
  },
  {
   "cell_type": "code",
   "execution_count": 13,
   "metadata": {},
   "outputs": [
    {
     "data": {
      "text/plain": [
       "cord_uid                       51078\n",
       "sha                            38022\n",
       "source_x                       51078\n",
       "title                          50920\n",
       "doi                            47741\n",
       "pmcid                          41082\n",
       "pubmed_id                      37861\n",
       "license                        51078\n",
       "abstract                       42352\n",
       "publish_time                   51070\n",
       "authors                        48891\n",
       "journal                        46368\n",
       "Microsoft Academic Paper ID      964\n",
       "WHO #Covidence                  1768\n",
       "has_pdf_parse                  51078\n",
       "has_pmc_xml_parse              51078\n",
       "full_text_file                 42511\n",
       "url                            50776\n",
       "dtype: int64"
      ]
     },
     "execution_count": 13,
     "metadata": {},
     "output_type": "execute_result"
    }
   ],
   "source": [
    "meta.count()"
   ]
  },
  {
   "cell_type": "code",
   "execution_count": 14,
   "metadata": {},
   "outputs": [
    {
     "name": "stdout",
     "output_type": "stream",
     "text": [
      "<class 'pandas.core.frame.DataFrame'>\n",
      "RangeIndex: 51078 entries, 0 to 51077\n",
      "Data columns (total 18 columns):\n",
      "cord_uid                       51078 non-null object\n",
      "sha                            38022 non-null object\n",
      "source_x                       51078 non-null object\n",
      "title                          50920 non-null object\n",
      "doi                            47741 non-null object\n",
      "pmcid                          41082 non-null object\n",
      "pubmed_id                      37861 non-null float64\n",
      "license                        51078 non-null object\n",
      "abstract                       42352 non-null object\n",
      "publish_time                   51070 non-null object\n",
      "authors                        48891 non-null object\n",
      "journal                        46368 non-null object\n",
      "Microsoft Academic Paper ID    964 non-null float64\n",
      "WHO #Covidence                 1768 non-null object\n",
      "has_pdf_parse                  51078 non-null bool\n",
      "has_pmc_xml_parse              51078 non-null bool\n",
      "full_text_file                 42511 non-null object\n",
      "url                            50776 non-null object\n",
      "dtypes: bool(2), float64(2), object(14)\n",
      "memory usage: 6.3+ MB\n"
     ]
    }
   ],
   "source": [
    "meta.info()"
   ]
  },
  {
   "cell_type": "markdown",
   "metadata": {},
   "source": [
    "Let us look at the column marked \"SHA\". At a closer look, we can see that it seems to be a hash of some kind.\n",
    "\n",
    "But looking into the folders, we see that this unique hash has been ingeniously used to identify each file. i.e. We don't need to refer to a long paper title to find its file contents. Instead we can just scan the home directory for a file with that hash.json."
   ]
  },
  {
   "cell_type": "code",
   "execution_count": 15,
   "metadata": {},
   "outputs": [
    {
     "data": {
      "text/plain": [
       "'1e1286db212100993d03cc22374b624f7caee956'"
      ]
     },
     "execution_count": 15,
     "metadata": {},
     "output_type": "execute_result"
    }
   ],
   "source": [
    "meta[\"sha\"][0]"
   ]
  },
  {
   "cell_type": "code",
   "execution_count": 17,
   "metadata": {},
   "outputs": [
    {
     "data": {
      "text/plain": [
       "'daf32e013d325a6feb80e83d15aabc64a48fae33'"
      ]
     },
     "execution_count": 17,
     "metadata": {},
     "output_type": "execute_result"
    }
   ],
   "source": [
    "bio= meta.loc[meta['source_x'] == 'biorxiv']\n",
    "bio.head()\n",
    "bio.iloc[1]['sha']"
   ]
  },
  {
   "cell_type": "markdown",
   "metadata": {},
   "source": [
    "Now the source_x column is of importance for us as well. It refers to the source journal of each paper. This is important because the papers have been organized into folders, each representing a different source. e.g. a biorxiv folder, a WHO document folder etc."
   ]
  },
  {
   "cell_type": "code",
   "execution_count": 18,
   "metadata": {},
   "outputs": [
    {
     "data": {
      "text/plain": [
       "array(['PMC', 'Elsevier', 'CZI', 'WHO', 'biorxiv', 'medrxiv'],\n",
       "      dtype=object)"
      ]
     },
     "execution_count": 18,
     "metadata": {},
     "output_type": "execute_result"
    }
   ],
   "source": [
    "meta.source_x.unique()"
   ]
  },
  {
   "cell_type": "markdown",
   "metadata": {},
   "source": [
    "Let us read some of the biorxiv files into variables to see the structure as viewed in the screenshot before section 2.1."
   ]
  },
  {
   "cell_type": "code",
   "execution_count": 19,
   "metadata": {},
   "outputs": [
    {
     "name": "stdout",
     "output_type": "stream",
     "text": [
      "{'paper_id': '0015023cc06b5362d332b3baf348d11567ca2fbb', 'metadata': {'title': 'The RNA pseudoknots in foot-and-mouth disease virus are dispensable for genome replication but essential for the production of infectious virus. 2 3', 'authors': [{'first': 'Joseph', 'middle': ['C'], 'last': 'Ward', 'suffix': '', 'affiliation': {}, 'email': ''}, {'first': 'Lidia', 'middle': [], 'last': 'Lasecka-Dykes', 'suffix': '', 'affiliation': {}, 'email': ''}, {'first': 'Chris', 'middle': [], 'last': 'Neil', 'suffix': '', 'affiliation': {}, 'email': ''}, {'first': 'Oluwapelumi', 'middle': [], 'last': 'Adeyemi', 'suffix': '', 'affiliation': {}, 'email': ''}, {'first': 'Sarah', 'middle': [], 'last': '', 'suffix': '', 'affiliation': {}, 'email': ''}, {'first': '', 'middle': [], 'last': 'Gold', 'suffix': '', 'affiliation': {}, 'email': ''}, {'first': 'Niall', 'middle': [], 'last': 'Mclean', 'suffix': '', 'affiliation': {}, 'email': ''}, {'first': 'Caroline', 'middle': [], 'last': 'Wright', 'suffix': '', 'affiliation': {}, 'email': ''}, {'first': 'Morgan', 'middle': ['R'], 'last': 'Herod', 'suffix': '', 'affiliation': {}, 'email': ''}, {'first': 'David', 'middle': [], 'last': 'Kealy', 'suffix': '', 'affiliation': {}, 'email': ''}, {'first': 'Emma', 'middle': [], 'last': '', 'suffix': '', 'affiliation': {}, 'email': ''}, {'first': 'Warner', 'middle': [], 'last': '', 'suffix': '', 'affiliation': {}, 'email': ''}, {'first': 'Donald', 'middle': ['P'], 'last': 'King', 'suffix': '', 'affiliation': {}, 'email': ''}, {'first': 'Tobias', 'middle': ['J'], 'last': 'Tuthill', 'suffix': '', 'affiliation': {}, 'email': ''}, {'first': 'David', 'middle': ['J'], 'last': 'Rowlands', 'suffix': '', 'affiliation': {}, 'email': ''}, {'first': 'Nicola', 'middle': ['J'], 'last': '', 'suffix': '', 'affiliation': {}, 'email': ''}, {'first': 'Stonehouse', 'middle': [], 'last': 'A#', 'suffix': '', 'affiliation': {}, 'email': ''}]}, 'abstract': [{'text': 'word count: 194 22 Text word count: 5168 23 24 25 author/funder. All rights reserved. No reuse allowed without permission. Abstract 27 The positive stranded RNA genomes of picornaviruses comprise a single large open reading 28 frame flanked by 5′ and 3′ untranslated regions (UTRs). Foot-and-mouth disease virus (FMDV) 29 has an unusually large 5′ UTR (1.3 kb) containing five structural domains. These include the 30 internal ribosome entry site (IRES), which facilitates initiation of translation, and the cis-acting 31 replication element (cre). Less well characterised structures are a 5′ terminal 360 nucleotide 32 stem-loop, a variable length poly-C-tract of approximately 100-200 nucleotides and a series of 33 two to four tandemly repeated pseudoknots (PKs). We investigated the structures of the PKs 34 by selective 2′ hydroxyl acetylation analysed by primer extension (SHAPE) analysis and 35 determined their contribution to genome replication by mutation and deletion experiments. 36 SHAPE and mutation experiments confirmed the importance of the previously predicted PK 37 structures for their function. Deletion experiments showed that although PKs are not essential 38', 'cite_spans': [], 'ref_spans': [], 'section': 'Abstract'}, {'text': 'for replication, they provide genomes with a competitive advantage. However, although 39 replicons and full-length genomes lacking all PKs were replication competent, no infectious 40 virus was rescued from genomes containing less than one PK copy. This is consistent with our 41 earlier report describing the presence of putative packaging signals in the PK region. 42 43 author/funder. All rights reserved. No reuse allowed without permission.', 'cite_spans': [], 'ref_spans': [], 'section': 'Abstract'}], 'body_text': [{'text': 'VP3, and VP0 (which is further processed to VP2 and VP4 during virus assembly) (6). The P2 64 and P3 regions encode the non-structural proteins 2B and 2C and 3A, 3B (1-3) (VPg), 3C pro and 4 structural protein-coding region is replaced by reporter genes, allow the study of genome 68 replication without the requirement for high containment (9, 10) ( figure 1A ).', 'cite_spans': [], 'ref_spans': [{'start': 351, 'end': 360, 'text': 'figure 1A', 'ref_id': 'FIGREF50'}], 'section': ''}, {'text': 'The FMDV 5′ UTR is the largest known picornavirus UTR, comprising approximately 1300 71 nucleotides and containing several highly structured regions. The first 360 nucleotides at the 5′ 72 end are predicted to fold into a single large stem loop termed the S-fragment, followed by a The PKs were originally predicted in 1987 and consist of two to four tandem repeats of a ~48 86 nucleotide region containing a small stem loop and downstream interaction site (figure 1B) 87 (12). Due to the sequence similarity between the PKs (figure 1C), it is speculated that they 88 were formed by duplication events during viral replication, probably involving recombination. 89 Between two and four PKs are present in different virus isolates but no strain has been 90 identified with less than two PKs, emphasising their potential importance in the viral life cycle 91 (19, 20) . The presence of PKs has been reported in the 5′ UTR of other picornaviruses such as 92 author/funder. All rights reserved. No reuse allowed without permission. can occur in the absence of PKs at least one is required for wild-type (wt) replication. 104 Furthermore, competition experiments showed that extra copies of PKs conferred a replicative 105 advantage to genomes. Although replicons and full-length genomes lacking PKs were 106 replication-competent, no infectious virus was rescued from genomes containing less than one 107 PK copy. This is consistent with our earlier report describing the presence of putative 108 packaging signals in the PK region (22). 109 110 author/funder. All rights reserved. No reuse allowed without permission. Plasmid construction. 117 The FMDV replicon plasmids, pRep-ptGFP, and the replication-defective polymerase mutant 118 control, 3D-GNN, have already been described (10).', 'cite_spans': [{'start': 469, 'end': 471, 'text': '87', 'ref_id': None}, {'start': 662, 'end': 664, 'text': '89', 'ref_id': None}, {'start': 857, 'end': 861, 'text': '(19,', 'ref_id': None}, {'start': 862, 'end': 865, 'text': '20)', 'ref_id': None}, {'start': 1117, 'end': 1120, 'text': '104', 'ref_id': None}, {'start': 1637, 'end': 1640, 'text': '117', 'ref_id': None}], 'ref_spans': [], 'section': '70'}, {'text': 'To introduce mutations into the PK region, the pRep-ptGFP replicon plasmid was digested 121 with SpeI and KpnI and the resulting fragment inserted into a sub-cloning vector (pBluescript) 122 to create the pBluescript PK. PKs 3 and 4 were removed by digestion with HindIII and AatII 123 before insertion of a synthetic DNA sequence with PK 3 and 4 deleted. PKs 2, 3 and 4 were 124 deleted by PCR amplification using ΔPK 234 Forward primer and FMDV 1331-1311 reverse 125 primer, the resultant product was digested with HindIII and AatII and ligated into the 126 pBluescript PK vector. Complete PK deletion was achieved by introduction of an AflII site at 127 the 3′ end of the poly-C tract by PCR mutagenesis to create the sub-cloning vector, pBluescript 128 C11, which was then used to remove all the PKs by PCR mutagenesis using ΔPK 1234 forward 129 primer and FMDV 1331-1311 reverse primer. The modified PK sequences were removed from 130 the sub-cloning vectors and inserted into the pRep-ptGFP plasmid using NheI-HF and KpnI-131 HF.', 'cite_spans': [], 'ref_spans': [], 'section': '120'}, {'text': '132 133 author/funder. All rights reserved. No reuse allowed without permission.', 'cite_spans': [], 'ref_spans': [], 'section': '120'}, {'text': 'The copyright holder for this preprint (which was not peer-reviewed) is the . https://doi.org/10.1101/2020.01.10.901801 doi: bioRxiv preprint 7 Mutations to disrupt and reform PK structure were introduced using synthetic DNA by 134 digestion with AflII and AatII and ligation into a similarly digested pBluescript PK vector.', 'cite_spans': [], 'ref_spans': [], 'section': '120'}, {'text': 'Mutations were then introduced into the replicon plasmid as described above.', 'cite_spans': [], 'ref_spans': [], 'section': '135'}, {'text': 'To assess the effects of truncation of the poly-C-tract on replication the entire sequence was 137 removed. This was performed by PCR mutagenesis using primers C0 SpeI, and FMDV 1331- In vitro transcription. 143 In vitro transcription reactions for replicon assays were performed as described previously (28).', 'cite_spans': [{'start': 208, 'end': 211, 'text': '143', 'ref_id': None}], 'ref_spans': [], 'section': '136'}, {'text': 'Transcription reactions to produce large amounts of RNA for SHAPE analysis were performed 145 with purified linear DNA as described above, and 1 μg of linearised DNA was then used in a 146 HiScribe T7 synthesis kit (NEB), before DNase treatment and purification using a PureLink FastQ files were quality checked using FastQC with poor quality reads filtered using the 225 Sickle algorithm. Host cell reads were removed using FastQ Screen algorithm and FMDV 226 reads assembled de novo into contigs using IDBA-UD (35). Contigs that matched the FMDV 227 library (identified using Basic Local ALighnment Search Tool (BLAST)) were assembled 228 author/funder. All rights reserved. No reuse allowed without permission.', 'cite_spans': [{'start': 368, 'end': 371, 'text': '225', 'ref_id': None}], 'ref_spans': [], 'section': '144'}, {'text': 'The copyright holder for this preprint (which was not peer-reviewed) is the . https://doi.org/10.1101/2020.01.10.901801 doi: bioRxiv preprint into consensus sequences using SeqMan Pro software in the DNA STAR Lasergene 13 229 package (DNA STAR) (36). The SHAPE data largely agreed with the predicted structures with the stems of PK 1, 2 and 3, interacting nucleotides showed little to no reactivity, suggesting NMIA could not interact with 300 author/funder. All rights reserved. No reuse allowed without permission.', 'cite_spans': [], 'ref_spans': [], 'section': '144'}, {'text': 'The copyright holder for this preprint (which was not peer-reviewed) is the . https://doi.org/10.1101/2020.01.10.901801 doi: bioRxiv preprint 14 these nucleotides either due to the predicted base pairing or steric hindrance (figure 2B). The', 'cite_spans': [], 'ref_spans': [], 'section': '144'}, {'text': 'NMIA reactivity for the interacting nucleotides in the stem-loops with downstream residues of 302 PK 1, 2 and 3 again largely agreed with the predicted structure, although the SHAPE data 303 suggests that there might be fewer interactions than previously predicted. However, differences 304 here could be due to heterogeneity in the formation of PKs in this experiment. The evidence 305 for loop-downstream interaction was weaker for PK4. The copyright holder for this preprint (which was not peer-reviewed) is the . https://doi.org/10.1101/2020.01.10.901801 doi: bioRxiv preprint', 'cite_spans': [{'start': 187, 'end': 190, 'text': '303', 'ref_id': None}], 'ref_spans': [], 'section': '301'}, {'text': 'orientation. 351 Since removal of all four PKs resulted in a significant decrease in replication, the minimal 352 requirements to maintain wt levels of replication were investigated. As near wt level of 353 replication was observed when only one PK was present, all further mutagenesis was 354 performed in a C11 replicon plasmid containing only PK 1. In addition, the orientation of PK 1 was reversed by \"flipping\" the nucleotide sequence to 367 potentially facilitate hybridisation of the loop with upstream rather than downstream sequences.', 'cite_spans': [{'start': 13, 'end': 16, 'text': '351', 'ref_id': None}], 'ref_spans': [], 'section': 'Function of the PKs in replication is dependent on downstream interactions and 350'}, {'text': 'Changing the orientation of the PK reduced replicon replication to a similar level seen in the replication decreased until at passage three there is a 2.5 fold reduction compared to that of 398 author/funder. All rights reserved. No reuse allowed without permission.', 'cite_spans': [], 'ref_spans': [], 'section': '368'}, {'text': 'The copyright holder for this preprint (which was not peer-reviewed) is the . https://doi.org/10.1101/2020.01.10.901801 doi: bioRxiv preprint passage 0 (figure 5B). Therefore, it appears that replicons with a single PK are at a competitive 399 disadvantage compared to those with two or more. The copyright holder for this preprint (which was not peer-reviewed) is the . https://doi.org/10.1101/2020.01.10.901801 doi: bioRxiv preprint 20 of infectious virus despite being able to replicate after transfection into cells, is consistent with 448 a requirement for RNA structure within the PK region being required for virus assembly. The 5′ UTR of FMDV is unique amongst picornaviruses due to its large size and the presence 454 of multiple RNA elements, some of which still have unknown function. One of these features 455 is a series of repeated PKs varying in number from 2-4, depending on virus strain. In this study, 456 we sequentially deleted or mutated the PKs to help understand their role in the viral life cycle. 457 We also confirmed the predicted PK structures by SHAPE mapping, although there may be Although all viruses isolated to date contain at least two PKs, replicons or viruses containing a 464 single PK were still replication competent. However, replicons with more than a single PK 465 were found to have a competitive advantage over replicons with a single PK when sequentially 466 passaged. Replicons lacking all PKs displayed poor passaging potential even when co-467 transfected with yeast tRNA, reinforcing the observation of a significant impact in replication.', 'cite_spans': [{'start': 920, 'end': 923, 'text': '456', 'ref_id': None}, {'start': 1022, 'end': 1025, 'text': '457', 'ref_id': None}], 'ref_spans': [], 'section': '368'}, {'text': 'Moreover, viruses recovered from genomes with reduced numbers of PKs were slower growing 469 and produced smaller plaques. In addition, these differences were more pronounced in more PKs is functionally competent as no differences was seen between replicons congaing a single 472 author/funder. All rights reserved. No reuse allowed without permission.', 'cite_spans': [], 'ref_spans': [], 'section': '468'}, {'text': 'The copyright holder for this preprint (which was not peer-reviewed) is the . https://doi.org/10.1101/2020.01.10.901801 doi: bioRxiv preprint 21 copy of PK1 or PK4. This observation is consistent with a previous report of deletion of PK1, 473 along with the Poly-C-tract, with no adverse effect in viral replication (37). This also supports 474 our findings that the truncation of the Poly-C-tract to create the C11 construct had no effect on 475 replicon replication in the cell lines tested. As has been described with Mengo virus, it is 476 possible that the role of the poly-C-tract is essential in other aspects of the viral lifecycle which 477 cannot be recapitulated in a standard tissue culture system (39).', 'cite_spans': [{'start': 443, 'end': 446, 'text': '475', 'ref_id': None}], 'ref_spans': [], 'section': '468'}, {'text': 'The presence of at least two PKs in all viral isolates sequenced so far suggests that multiple 480 PKs confer a competitive advantage in replication. Here we showed by sequential passage that 481 replicons containing at least two PKs were maintained at a level similar to wt, but replicons 482 containing only one PK showed a persistent decline. It is unclear why some viral isolates 483 contain two, three or four PKs is still unknown, but this may be stochastic variation or may 484 reflect subtle effects of host range or geographical localisation. The copyright holder for this preprint (which was not peer-reviewed) is the . https://doi.org/10.1101/2020.01.10.901801 doi: bioRxiv preprint author/funder. All rights reserved. No reuse allowed without permission.', 'cite_spans': [], 'ref_spans': [], 'section': '479'}, {'text': 'The copyright holder for this preprint (which was not peer-reviewed) is the . https://doi.org/10.1101/2020.01.10.901801 doi: bioRxiv preprint The copyright holder for this preprint (which was not peer-reviewed) is the . https://doi.org/10.1101/2020.01.10.901801 doi: bioRxiv preprint Significance is shown comparing the replication of C11 PK disrupt and C11 PK restore (Aii). Significance shown is compared to wt replicon. Error bars are calculated by SEM, n = 3, * P 673 < 0.05, **** P < 0.0001. 674 author/funder. All rights reserved. No reuse allowed without permission.', 'cite_spans': [], 'ref_spans': [], 'section': '479'}, {'text': 'The copyright holder for this preprint (which was not peer-reviewed) is the . https://doi.org/10.1101/2020.01.10.901801 doi: bioRxiv preprint 33 675 author/funder. All rights reserved. No reuse allowed without permission.', 'cite_spans': [], 'ref_spans': [], 'section': '479'}, {'text': 'The copyright holder for this preprint (which was not peer-reviewed) is the . https://doi.org/10.1101/2020.01.10.901801 doi: bioRxiv preprint ', 'cite_spans': [], 'ref_spans': [], 'section': '479'}], 'bib_entries': {'BIBREF0': {'ref_id': 'b0', 'title': 'Genetic economy in 598 picornaviruses: Foot-and-mouth disease virus replication exploits alternative precursor 599 cleavage pathways', 'authors': [{'first': 'T', 'middle': [], 'last': 'Jackson', 'suffix': ''}, {'first': 'T', 'middle': ['J'], 'last': 'Tuthill', 'suffix': ''}, {'first': 'D', 'middle': ['J'], 'last': 'Rowlands', 'suffix': ''}, {'first': 'N', 'middle': ['J'], 'last': 'Stonehouse', 'suffix': ''}], 'year': 2017, 'venue': 'PLOS Pathog', 'volume': '13', 'issn': '', 'pages': '', 'other_ids': {}}, 'BIBREF2': {'ref_id': 'b2', 'title': 'A universal protocol to 602 generate consensus level genome sequences for foot-and-mouth disease virus and other 603 positive-sense polyadenylated RNA viruses using the Illumina MiSeq', 'authors': [{'first': 'N', 'middle': ['D'], 'last': 'Sanderson', 'suffix': ''}, {'first': 'N', 'middle': ['J'], 'last': 'Knowles', 'suffix': ''}, {'first': 'D', 'middle': ['P'], 'last': 'King', 'suffix': ''}, {'first': 'E', 'middle': ['M'], 'last': 'Cottam', 'suffix': ''}], 'year': 2014, 'venue': 'BMC Genomics', 'volume': '604', 'issn': '', 'pages': '', 'other_ids': {}}, 'BIBREF3': {'ref_id': 'b3', 'title': 'Library preparation for highly accurate population 606 sequencing of RNA viruses', 'authors': [{'first': 'A', 'middle': [], 'last': 'Acevedo', 'suffix': ''}, {'first': 'R', 'middle': [], 'last': 'Andino', 'suffix': ''}], 'year': 2014, 'venue': 'Nat Protoc', 'volume': '9', 'issn': '', 'pages': '1760--1769', 'other_ids': {}}, 'BIBREF4': {'ref_id': 'b4', 'title': 'IDBA-UD: a de novo assembler for 608 single-cell and metagenomic sequencing data with highly uneven depth', 'authors': [{'first': 'Y', 'middle': [], 'last': 'Peng', 'suffix': ''}, {'first': 'Hcm', 'middle': [], 'last': 'Leung', 'suffix': ''}, {'first': 'S', 'middle': ['M'], 'last': 'Yiu', 'suffix': ''}, {'first': 'Fyl', 'middle': [], 'last': 'Chin', 'suffix': ''}], 'year': 2012, 'venue': '', 'volume': '', 'issn': '', 'pages': '', 'other_ids': {}}, 'BIBREF6': {'ref_id': 'b6', 'title': 'Basic local alignment 611 search tool', 'authors': [{'first': 'S', 'middle': ['F'], 'last': 'Altschul', 'suffix': ''}, {'first': 'W', 'middle': [], 'last': 'Gish', 'suffix': ''}, {'first': 'W', 'middle': [], 'last': 'Miller', 'suffix': ''}, {'first': 'E', 'middle': ['W'], 'last': 'Myers', 'suffix': ''}, {'first': 'D', 'middle': ['J'], 'last': 'Lipman', 'suffix': ''}], 'year': 1990, 'venue': 'J Mol Biol', 'volume': '215', 'issn': '', 'pages': '403--410', 'other_ids': {}}, 'BIBREF7': {'ref_id': 'b7', 'title': 'Genetically engineered foot-and-613 mouth disease viruses with poly(C) tracts of two nucleotides are virulent in mice', 'authors': [{'first': 'E', 'middle': [], 'last': 'Rieder', 'suffix': ''}, {'first': 'T', 'middle': [], 'last': 'Bunch', 'suffix': ''}, {'first': 'F', 'middle': [], 'last': 'Brown', 'suffix': ''}, {'first': 'P', 'middle': ['W'], 'last': 'Mason', 'suffix': ''}], 'year': 1993, 'venue': 'J 614 Virol', 'volume': '67', 'issn': '', 'pages': '5139--5184', 'other_ids': {}}, 'BIBREF9': {'ref_id': 'b9', 'title': 'Both cis and trans Activities of Foot-and-Mouth Disease Virus 617 3D Polymerase Are Essential for Viral RNA Replication', 'authors': [{'first': 'N', 'middle': ['J'], 'last': 'Stonehouse', 'suffix': ''}], 'year': 2016, 'venue': 'J Virol', 'volume': '90', 'issn': '', 'pages': '6864--6883', 'other_ids': {}}, 'BIBREF10': {'ref_id': 'b10', 'title': 'Mutational analysis of the 619 mengovirus poly(C) tract and surrounding heteropolymeric sequences', 'authors': [{'first': 'L', 'middle': [], 'last': 'Martin', 'suffix': ''}, {'first': 'G', 'middle': [], 'last': 'Duke', 'suffix': ''}, {'first': 'J', 'middle': [], 'last': 'Osorio', 'suffix': ''}, {'first': 'D', 'middle': [], 'last': 'Hall', 'suffix': ''}, {'first': 'A', 'middle': [], 'last': 'Palmenberg', 'suffix': ''}], 'year': 1996, 'venue': 'J Virol', 'volume': '620', 'issn': '', 'pages': '2027--2031', 'other_ids': {}}, 'BIBREF11': {'ref_id': 'b11', 'title': 'No reuse allowed without permission. The copyright holder for this preprint (which was not peer-reviewed) is the', 'authors': [], 'year': None, 'venue': '', 'volume': '', 'issn': '', 'pages': '', 'other_ids': {'DOI': ['10.1101/2020.01.10.901801']}}, 'BIBREF12': {'ref_id': 'b12', 'title': 'Figure 3. The poly-C-tract is dispensable and only one PK is required for wt replication', 'authors': [], 'year': None, 'venue': '', 'volume': '', 'issn': '', 'pages': '', 'other_ids': {}}, 'BIBREF13': {'ref_id': 'b13', 'title': 'A replicon 650 with entire poly-C-tract removed (C0) was transfected alongside wt, 3D-GNN and C11 651 replicons into BHK-21 cells (B). Replicons with sequentially deleted PKs (ΔPK 34, ΔPK 234 652 and C11 ΔPK 1234) were assayed for replication in BHK', 'authors': [{'first': '3d', 'middle': [], 'last': 'Wt', 'suffix': ''}], 'year': None, 'venue': '', 'volume': '', 'issn': '', 'pages': '', 'other_ids': {}}, 'BIBREF14': {'ref_id': 'b14', 'title': 'All replication assays were measured by counting the number of GFP 655 author/funder. All rights reserved. No reuse allowed without permission. The copyright holder for this preprint (which was not peer-reviewed) is the', 'authors': [], 'year': None, 'venue': 'Replication of replicon with PK 4 as the sole remaining PK (C11 PK 4)', 'volume': '', 'issn': '', 'pages': '', 'other_ids': {'DOI': ['10.1101/2020.01.10.901801']}}, 'BIBREF15': {'ref_id': 'b15', 'title': 'Error bars shown are calculated by SEM, n = 3', 'authors': [], 'year': None, 'venue': '', 'volume': '', 'issn': '', 'pages': '', 'other_ids': {}}, 'BIBREF17': {'ref_id': 'b17', 'title': 'No reuse allowed without permission. The copyright holder for this preprint (which was not peer-reviewed) is the', 'authors': [], 'year': None, 'venue': '', 'volume': '', 'issn': '', 'pages': '', 'other_ids': {'DOI': ['10.1101/2020.01.10.901801']}}}, 'ref_entries': {'FIGREF0': {'text': 'and-mouth disease virus (FMDV) is a single stranded positive sense RNA virus of the 45 genus Aphthovirus in the family Picornaviridae. It occurs as seven, antigenically diverse 46 serotypes; A, O, C, Asia 1, South African Territories (SAT) 1, 2 and 3. It is the causative agent 47 of foot-and-mouth disease (FMD), a highly contagious disease of cloven-hooved animals 48 affecting most notably cattle, pigs, sheep and goats in addition to wild species such as the 49 African buffalo. Disease outbreaks have serious economic implications resulting from trade 50 restrictions, reduced productivity and the slaughter of infected and at-risk animals (1). The 51 2001 outbreak in the UK caused economic losses of over £8 billion to the tourism and 52 agricultural sectors. Inactivated virus vaccines are used in countries in which FMD is endemic, 53 but these are often strain-specific and provide little cross protection between serotypes (2). 54 Antigenic variation together with the relatively short duration of immunity following 55 vaccination combine to complicate control of the disease (3). In addition, the carrier state, in 56 which asymptomatically infected animals continue to shed virus, contributes to the spread of 57 FMDV (4). An improved understanding of the viral life cycle may be important for the 58 development of improved vaccines and other control measures. 59 60 The FMDV genome (approximately 8.4 kb) consists of a single open reading frame flanked by 61 5′ and 3′ untranslated regions (UTRs) (figure 1A) (5). The translated region encodes both 62 structural and non-structural proteins. The P1 region encodes the capsid structural proteins VP1, 63', 'latex': None, 'type': 'figure'}, 'FIGREF1': {'text': '73 large poly-C tract of variable length (which can be up to 200 nt), a region containing two to 74 four tandemly repeated pseudoknots (PKs), the cis acting replication element (cre) and the 75 internal ribosome entry site (IRES) (5, 11, 12). Of these five structural domains, functions have 76 been ascribed to only two, the cre and IRES. The cre region is involved in uridylation of the 77 RNA primer peptide, VPg (also known as 3B), and the IRES determines the initiation of 78 translation of the viral polyprotein (13, 14). The roles of the S-fragment, the poly-C tract and 79 the PKs in viral replication are not fully elucidated, however recent studies have shown that 80 truncations to the S-fragment can play key roles in the innate immune response to viral 81 infection (15-17). It has also recently been reported that viruses containing a deletion within 82 the pseudoknot region showed an attenuated phenotype in bovine cell lines while remaining 83 unchanged in porcine, suggesting a role for the pseudoknots in viral tropism (18).', 'latex': None, 'type': 'figure'}, 'FIGREF3': {'text': '138 1311 as forward and reverse primers respectively. The PCR product was digested with SpeI 139 and KpnI before ligation into a NheI and KpnI digested wt pRep ptGFP replicon. Sequences of 140 all primers are available upon request.141 142', 'latex': None, 'type': 'figure'}, 'FIGREF5': {'text': 'prepared as above and a sample (12 pmol) was heated to 95 o C for 2 minutes before 151 cooling on ice. RNA folding buffer (100 mM HEPES, 66 mM MgCl2 and 100 mM NaCl) and 152 RNase Out (Invitrogen) was added to the RNA and incubated at 37 o C for 30 minutes. Once 153 folded, RNA was treated with NMIA compound at a final concentration of 5 mM or DMSO as 154 a negative control for 50 minutes at 37 o C. Following incubation, labelled RNA was ethanol 155 precipitated and resuspended in 10 μl 0.5 x TE buffer.', 'latex': None, 'type': 'figure'}, 'FIGREF6': {'text': '10 minutes in a thermocycler. A reverse transcription master mix containing 4 μl first 161 strand buffer, 1 μl 100 mM DTT, 0.5 μl RNase Out, 1 μl Supsercript III (Invitrogen), 1 μl 10 162 mM PCR dNTP mix (Promega) and 0.5 μl RNase free water, was then added to the 163 RNA/primer complex and extension carried out by incubation at 52 o C for 30 minutes.', 'latex': None, 'type': 'figure'}, 'FIGREF7': {'text': ', cDNA:RNA hybrids were disassociated by incubation with 1 μl 4M NaOH at 166 95 o C for 3 minutes before neutralisation with 2 μl 2M HCl. Extended cDNA was ethanol 167 precipitated and resuspended in 40 μl deionized formamide (Thermo Fisher). Sequencing 168 ladders were made similarly using 6 pmol of RNA with the inclusion of 1 μl 10 mM ddCTP in 169 the reverse transcription mix and using a differentially labelled fluorescent primer (either Hex 170 or FAM). 20 μl of sequencing ladder was combined with NMIA or DMSO samples and 171 dispatched on dry ice for capillary electrophoresis (Dundee DNA seq).', 'latex': None, 'type': 'figure'}, 'FIGREF8': {'text': 'was analysed using QuShape and reactivity overlaid onto the RNA 174 structure using VARNA (29, 30).', 'latex': None, 'type': 'figure'}, 'FIGREF9': {'text': 'in all cell lines was assessed in 24-well plates with 0.5 µg/cm 2 of RNA 178 using Lipofectin transfection reagent (Life Technologies) as previously described (28). For 179 complementation assays, BHK-21 cells seeded into 24-well plates were allowed to adhere for 180 16 hours before transfection with 1 µg of replicon RNA using Lipofectin. Each transfection 181 was performed in duplicate and experiments were biologically repeated. Replicon replication by live cell imaging using an IncuCyte Zoom Dual colour FLR, an automated 183 phase-contrast and fluorescence microscope within a humidifying incubator. At hourly 184 intervals up to 24 hours post transfection, images of each well were taken and used to count 185 the number of ptGFP positive cells per well.', 'latex': None, 'type': 'figure'}, 'FIGREF10': {'text': 'competition assays was performed by co-transfecting BHK-21 cells with in vitro 188 transcribed replicon RNA and harvesting total cell RNA at 8 hours post transfection using 189 TRIzol reagent (Thermo Fisher Scientific). The harvested RNA was then purified using the 190 Direct-zol RNA MiniPrep kit (Zymo Research) with on-column DNase I treatment and eluted 191 in DEPC treated water. The purified passaged RNA (1 µg) was transfected onto the naïve BHKhere are based on plasmid T7S3 which encodes a full length infectious copy 196 of FMDV O1 Kaufbeuren (31). The reporter was removed from replicons by digestion with 197 PsiI and XmaI restriction enzymes and replaced with the corresponding fragment from pT7S3 198 encoding the capsid proteins. Full length viral RNA was transcribed using a T7 MEGAscript 199 kit (Thermo Fisher Scientific), DNase treated using TurboDNase (Thermo Fisher Scientific) 200 and purified using a MEGAclear Transcription Clean-Up kit (Thermo Fisher Scientific). 201 RNA quality and concentration were determined by denaturing agarose gel electrophoresis 202 and Qubit RNA BR Assay Kit (Thermo Fisher Scientific).', 'latex': None, 'type': 'figure'}, 'FIGREF11': {'text': '-transfection cell lysates were freeze-thawed and clarified by centrifugation.208    Clarified lysate was blind passaged onto naïve BHK-21 cells, this was continued for five 209 rounds of passaging.210 211 Sequencing of recovered virus. 212 Recovered viruses at passage 4, were sequenced using an Illumina Miseq (illumine) using a 213 modified version of a previously described PCR-free protocol ((32, 33)). Total RNA was 214 extracted from clarified passage 4 lysates using TRizol reagent (Thermo Fisher Scientific) 215 and residual genomic DNA removed using DNA-free DNA removal Kit (Thermo Fisher 216 Scientific). RNA was precipitated using 3 M sodium acetate and ethanol, 10 ul of purified 217 RNA (containing 1 pg to 5 µg) of RNA was used in a reverse transcription reaction as 218 previously described (33, 34). Following reverse transcription cDNA was purified and 219 quantified using a Qubit ds DNA HS Assay kit (Thermo Fisher Scientific) and a cDNA 220 library prepared using Nextera XT DNA Sample Preparation Kit (Illumina). Sequencing was 221 carried out on the MiSeq platform using MiSeq Reagent Kit v2 (300 cycles) chemistry 222 (Illumina).', 'latex': None, 'type': 'figure'}, 'FIGREF13': {'text': 'of recovered virus. 232 Confluent BHK-21 cell monolayers were infected with 10-fold serial dilutions of virus stock, 233 overlaid with Eagle overlay media supplemented with 5 % tryptose phosphate broth solution 234 (Sigma Aldrich), penicillin (100 units/ml and streptomycin (100 µg/ml) (Sigma Aldrich) and 235 0.6 % Indubiose (MP Biomedicals) and incubated for 48 hours at 37 o C. Cells were fixed and 236 stained with 1 % (w/v) methylene blue in 10 % (v/v) ethanol and 4 % formaldehyde in PBS. 237 238 Fixed plaques were scanned and images measured using a GNU Image Manipulation 239 Program IMP (GIMP, available at https://www.gimp.org). For each plaque, horizontal and 240 vertical diameter in pixels was taken and an average of these two values was calculated. All 241 plaques per well were measured. 242 243 Cell killing assays. 244 Virus titre was determined by plaque assays. BHK-21 cells were seeded with 3 x10 4 245 cells/well in 96 well plates and allowed to settle overnight. Cell monolayers were inoculated 246 with each rescued virus at MOI of 0.01 PFU for 1 hour, inoculum was removed and 150 µl of 247 fresh GMEM (supplemented with 1 % FCS) was added to each well. Appearance of CPE was 248 monitored every 30 minutes using the IncuCyte S3.', 'latex': None, 'type': 'figure'}, 'FIGREF14': {'text': 'protein 3A, and a goat anti-Mouse IgG (H+L) highly cross-adsorbed 254 secondary antibody, Alexa Fluor 488 (Life Technologies). Each transcript was transfected in 255 triplicate and the experiment biologically repeated three times. BHK-21 cells were seeded 256 into T25 flasks 16 hours prior to transfection with 10 µg RNA. The transfection mix was left 257 on the cells for 1 hour before the media was changed to VGM (Glasgow Minimum Essential 258 Medium (Sigma-Aldrich), 1% Foetal Bovine Serum -Brazil origin (Life Science Production) 259 and 5% Tryptose Phosphate Broth (Sigma-Aldrich).', 'latex': None, 'type': 'figure'}, 'FIGREF15': {'text': 'After a further 3 hours, cells were dissociated using trypsin-EDTA 0.05% phenol red (Life261 Technologies), pelleted at 200 g for 3 minutes and fixed in 4% paraformaldehyde for 40 262 minutes. Cells were then transferred to a 96-well u-bottom plate and pelleted; this and all 263 subsequent pelleting steps were done at 300 xg for 5 minutes. Cells were resuspended in 0.5% 264 BSA in PBS blocking buffer (Melford), pelleted and resuspended in 1/1000 2C2 antibody and 265 left shaking at 500 rpm at 4 o C for 14 hours in an Eppendorf Thermomixer C plate shaker. The 266 cells were pelleted and subsequently resuspended in blocking buffer three times to wash, 267 resuspended in 1/200 anti-mouse fluorescent secondary antibody and rotated at 500 rpm at 268 24 o C for 1 hour before washing a final three times. Cells were then resuspended in 500 µl PBS 269 and data were collected on the LSR Fortessa (BD Biosciences) using BD FACSDivaTM 270 software. Data were exported as flow cytometry standard (FCS) files, and were analysed in 271 FlowJo 10 using the gating strategy shown in Figure 7.', 'latex': None, 'type': 'figure'}, 'FIGREF16': {'text': 'of PKs was initially predicted in 1987 by computational and visual analysis of 279 the 5′ UTR sequence (12). The prediction of the presence of multiple PKs was strengthened by 280 the observation that variation in the length of this region between different virus isolates 281 equated to the gain or loss of PK-length sequence units. However, the definitive demonstration 282 of PK structure remains a challenge. Here, we used selective 2′ hydroxyl acylation analysed by 283 primer extension (SHAPE) to investigate the secondary structure of the PK region.', 'latex': None, 'type': 'figure'}, 'FIGREF17': {'text': 'representing FMDV UTRs were folded prior to treatment with NMIA, a 286 compound that forms 2′-O-adducts when interacting with non-paired nucleotides, or DMSO as 287 a negative control. Labelled RNAs were purified and used as templates in reverse transcription 288 reactions using fluorescently labelled primers. Elongation of the reverse transcription products 289 terminates at adducts, resulting in cDNA fragments of different lengths, which were analysed 290 by gel electrophoresis alongside a sequencing ladder to identify sites of NMIA interaction. The 291 whole PK region was surprisingly reactive suggesting that it was largely single stranded or 292 highly flexible (figure 2A). To investigate if the SHAPE data agreed with the predicted 293structure, the NMIA reactivity was overlaid onto the previous PK structure prediction (12).', 'latex': None, 'type': 'figure'}, 'FIGREF19': {'text': '296 being unreactive, suggestive of base-pairing. Formation of the stem of PK4 was less convincing, 297 although the stem nucleotides still had relatively low reactivity in agreement with the other PK 298 models. For all the PKs, the nucleotides in the loop regions and the predicted downstream299', 'latex': None, 'type': 'figure'}, 'FIGREF20': {'text': 'the NMIA reactivities with the original predicted structure the SHAPE data were 308 compatible to the PK models and potentially shed new light on the requirements of the loop 309 interactions.', 'latex': None, 'type': 'figure'}, 'FIGREF21': {'text': 'PK is sufficient for efficient replication.312    The replicon system was based on the O1K FMDV sequence which includes four similar but 313 non-identical PKs (figure 1). The PKs were sequentially deleted from the 3′ side (i.e. PK 4-PK 314 1), and replication of the resulting modified replicons assessed.', 'latex': None, 'type': 'figure'}, 'FIGREF22': {'text': 'complete removal of all PKs, an AflII site was inserted into the ptGFP replicon 317 plasmid which resulted in reduction of the poly-C-tract to 11 cytosine residues. This C11 318 replicon was investigated alongside a wt replicon and one with lethal polymerase mutations 319 (3D-GNN). These controls were used to confirm that truncation of the poly-C tract had no 320 measurable effect on replication the two cell lines tested, as previously reported (37) (figure 321 3A). For completeness, we further removed the entire poly-C-tract (C0) and showed that this 322 had no observable negative effect on replication of the replicon (figure 3B). The C11 construct 323 was then used as the \"backbone\" for removal of all four PKs.', 'latex': None, 'type': 'figure'}, 'FIGREF23': {'text': 'measuring ptGFP reporter expression, in parallel with transfection of a wt and 327 3D-GNN replicon, where the 3D-GNN replicon is used to monitor ptGFP expression resulting 328 from translation of input RNA in the absence of replication. Reporter expression was recorded 329 using an IncuCyte Zoom automatic fluorescent microscope and is shown at 8 hours post-', 'latex': None, 'type': 'figure'}, 'FIGREF25': {'text': '∆PK 234 respectively) replicated at similar levels to the wt replicon (figure 3C-D). 334 However, a replicon containing no PKs (C11 ∆PK 1234) showed a significant (~ 4 fold) 335 reduction in replication in BHK-21 cells compared to the wt C11 replicon. A larger reduction 336 in replication (28 fold) was seen in the MDBK cell line, supporting previous publications on 337 the potential role in host cell tropism (18). Replication of the C11 ∆PK 1234 replicon in MDBK 338 cells was however still significantly above that of the 3D-GNN negative control. These data 339 suggest that although the PKs are not essential for replication at least one PK is required for wt 340 levels of replication. 341 342In the experiments above PK1 was the sole remaining PK and we therefore investigated 343 whether other PKs could similarly support wt replication. We deleted all the PKs to create the 344 C11 construct and re-inserted PK4 as the only PK (C11 PK4). Near wt levels of replication 345 were observed following transfection into both cell types suggesting that there is no functional 346 difference between PK1 and PK4 (figure 3E).', 'latex': None, 'type': 'figure'}, 'FIGREF27': {'text': 'to interrupt base pairing and abrogate formation of the PK structure were 357 made in the loop of PK 1 and the corresponding downstream nucleotides. The substitutions 358 (shown in red) created a GAGA motif both in the loop and downstream regions and reduced 359 the replication of the mutated replicon (C11 PK disrupt) equivalent to that of the replicon 360 containing no PKs, thereby supporting the predicted structure (figure 4A). Base pairing 361 potential was then restored by mutation of the relevant nucleotides in the loop and downstream 362 region to GGGG and CCCC respectively. Restoring the interaction using an alternate sequence 363 increased replication significantly compared to the disrupted PK replicon (~ 4 fold), although 364 this was still slightly below that of the wt (~ 0.7 fold decrease) (figure 4A).', 'latex': None, 'type': 'figure'}, 'FIGREF29': {'text': '369absence of PKs (figure 4B). This suggests that the role of the PKs in genome replication is 370 dependent on both sequence, structure and orientation.', 'latex': None, 'type': 'figure'}, 'FIGREF30': {'text': 'studies above suggested that removal of up to three of the four PKs present in the 375 wt sequence had no clear effect on replicon replication, although deletion of all four was 376 significantly detrimental. To investigate whether multiple PKs conferred more subtle 377 advantages for replication than were evident from single round transfection experiments we 378 carried out sequential passages of replicon RNA following transfection of the PK deleted forms 379 in competition with a wt replicon. Different reporter genes (ptGFP or mCherry) were used to 380 distinguish the competing replicons.', 'latex': None, 'type': 'figure'}, 'FIGREF31': {'text': 'ptGFP; wt, ∆PK 34, ∆PK 234 and C11 ∆PK 1234 were co-transfected into 383 BHK-21 cells together with either a wt mCherry replicon or yeast tRNA as a control. The 384 replication of each of the co-transfected replicons was compared by observing ptGFP and 385 mCherry expression over three sequential passages. Passaging was achieved by harvesting total 386 RNA using Trizol-reagent 8 hours post-transfection. Harvested RNA was purified and then re-387 transfected into naïve BHK-21 cells.', 'latex': None, 'type': 'figure'}, 'FIGREF32': {'text': 'transfection of the wt, ∆PK 34 or ∆PK 234 with yeast tRNA as controls showed no 390 differences in replication as expected (Figure 5A). Likewise, when PK mutants were co-391 transfected with a wt replicon after three passages, the number of green fluorescent cells 392 produced by the ∆PK 34 replicon was comparable to that of the wt, suggesting no competitive 393 advantage of four PKs over two. For both, there was a reduction in replication after the first 394 passage but recovery to near that of the original transfection by the third passage. However, 395 when co-transfected with the wt replicon, the ∆PK 234 replicon showed a similar drop in 396 replication in passage two, but showed no subsequent recovery following each passage and397', 'latex': None, 'type': 'figure'}, 'FIGREF33': {'text': 'transfection with the wt mCherry replicon reduced the replication of the C11 ∆PK 1234 402 replicon to background levels as seen when comparing to the yeast tRNA control. By passage 403 two the ptGFP signal of the C11 ∆PK 1234 was no longer detectable, suggesting that this 404 replicon has been out competed (figure 5C). Although the initial replication of C11 ∆PK 1234 405 was greater when co-transfected with yeast tRNA than when in competition with wt mCherry 406 replicon, the ptGFP signal was reduced at passage two and was at background level by passage 407 three (figure 5C). Replication of the mCherry wt replicon was not influenced by co-transfection 408 with the ptGFP constructs (figure 5D), as expected. Together these data suggest that the minor 409 replicative advantage conferred by multiple PKs are quickly compounded over multiple 410 replication cycles to provide a replicative advantage.', 'latex': None, 'type': 'figure'}, 'FIGREF34': {'text': 'a PK is essential for the production of infectious virus413    As replicons lacking all PKs could replicate and replicons with reduced numbers of PKs414 appeared to be at a competitive disadvantage compared to the wt construct, we investigated the 415 consequences of PK manipulation on the complete viral life cycle. The ∆PK 34, ∆PK 234 and 416 C11 ∆PK 1234 mutations were introduced into an FMDV infectious clone by replacement of 417 sequence encoding ptGFP with that encoding the O1K structural proteins. RNA transcripts 418 were transfected into BHK-21 cells alongside a wt O1K viral transcript and blind passaged 5 419 times by transferring the cell supernatant at 24 hours post transfection onto naïve BHK-21 cells.', 'latex': None, 'type': 'figure'}, 'FIGREF36': {'text': '427 rate of CPE (figure 6A) and plaque size (figure 6B-C) of ∆PK 34 and ∆PK 234 when compared 428 to the wt O1K virus. Rate of CPE was monitored by infecting BHK-21 cells with a known MOI 429 (0.01) of recovered virus, cells were then monitored for signs of CPE (shown as a decrease in 430 cell confluency) as measured by an automated imaging platform (Incucyte Zoom). Both ∆PK 431 34 and ∆PK 234 showed delayed onset of CPE with ∆PK 34 being the slowest, initial CPE 432 occurring at approximately 39 hours and 29 hours post infection respectively, compared to the 433 22 hours seen in the wt control. This mirrored plaque assay data where ∆PK 34 displayed a 434 significantly smaller plaque phenotype when compared to the wt control (average of 13.8 pixels 435 compared to 37.4), the slower rate of CPE seen in ∆PK 234 made a small, but not significant 436 difference (average 31.9 pixels).', 'latex': None, 'type': 'figure'}, 'FIGREF37': {'text': '∆PK 1234 produced no infectious virus the ability of the full-length genome lacking 439 PKs to replicate was investigated. BHK-21 cells were transfected with the same RNA 440 transcripts as above alongside additional controls, mock-transfected and transfected with wt 441 and treated with 3 mM GuHCl (a replication inhibitor) as negative controls. Six hours post-442 transfection, cells were harvested, fixed and labelled with an anti-3A antibody and fluorescent 443 secondary antibody. Cells were then analysed using flow cytometry and anti-3A antibody 444 signal used as an indirect measure of genome replication (figure 7). The results were similar to 445 those of the replicon experiments and showed that all the modified virus genomes were able to 446 undergo robust replication. The inability of the C11 ∆PK 1234 genome to support production 447 author/funder. All rights reserved. No reuse allowed without permission.', 'latex': None, 'type': 'figure'}, 'FIGREF39': {'text': '458fewer strong interactions maintaining the PKs than was previously predicted. This may indicate 459 high conformational flexibility of this region of the genome. SHAPE mapping was also 460 supported by mutation of predicted key interactions between nucleotides in the loop and 461 downstream, disruption of which reduced replication to that of the C11 ∆PK 1234 replicon.', 'latex': None, 'type': 'figure'}, 'FIGREF41': {'text': '470 relevant cells lines (i.e. in MDBK cells compared to BHK 21 cells). It is likely that each of the 471', 'latex': None, 'type': 'figure'}, 'FIGREF42': {'text': 'although removal of all four PKs resulted in a significant decrease in replicon and 487 viral genome replication, replication was not abolished, showing that PKs are not essential to 488 support genome replication. However, deletion of all PKs from an infectious clone completely 489 abolished the ability to recover infectious virus. This suggests that the genome lacking all PKs 490 is defective in a function associated with virion assembly and is compatible with our evidence 491 for the presence of a packaging signal in a similar location on the genome to PK1 (22). It is 492 possible that structural flexibility at this site in the genome allows the RNA to adopt alternate 493 conformations with different roles in genome replication and virion assembly. A functional 494 requirement for multiple RNA conformations may explain the relatively weak interactions 495 between nucleotides involved in stabilising the PK motif as observed by SHAPE analysis or 496 by structural prediction.', 'latex': None, 'type': 'figure'}, 'FIGREF43': {'text': 'was supported by funding from the Biotechnology and Biological Sciences Research 503 Council (BBSRC) of the United Kingdom (research grant BB/K003801/1). Additionally, the 504 Pirbright Institute receives grant-aided support from the BBSRC (projects BB/E/I/00007035, 505 BB/E/I/00007036 and BBS/E/I/00007037).', 'latex': None, 'type': 'figure'}, 'FIGREF44': {'text': 'Jones TJD, Rushton J. 2013. The economic impacts of foot and mouth disease 511 -What are they, how big are they and where do they occur? Prev Vet Med 112:161-M, Parida S. 2018. Foot and mouth disease vaccine strain selection: current 514 approaches and future perspectives. Expert Rev Vaccines 17:577-591.', 'latex': None, 'type': 'figure'}, 'FIGREF45': {'text': 'J-H. 2013. Requirements for improved vaccines against foot-and-mouth disease 516 epidemics. Clin Exp Vaccine Res 2:8-18.', 'latex': None, 'type': 'figure'}, 'FIGREF46': {'text': 'C, Eschbaumer M, Rekant SI, Pacheco JM, Smoliga GR, Hartwig EJ, 518 Rodriguez LL, Arzt J. 2016. The Foot-and-Mouth Disease Carrier State Divergence in 519 Cattle. J Virol 90:6344-64.', 'latex': None, 'type': 'figure'}, 'FIGREF47': {'text': \"C, Tulman ER, Delhon G, Lu Z, Carreno A, Vagnozzi A, Kutish GF, Rock 521 DL. 2005. Comparative genomics of foot-and-mouth disease virus. J Virol 79:6487-D. 1997. Dissecting the roles of VP0 cleavage and RNA packaging in 525 picornavirus capsid stabilization: the structure of empty capsids of foot-and-mouth 526 disease virus. J Virol 71:9743-52. 527 7. Gao Y, Sun S-Q, Guo H-C. 2016. Biological function of Foot-and-mouth disease virus 528 non-structural proteins and non-coding elements. Virol J 13:107. 529 8. Herod MR, Gold S, LaseckaDykes L, Wright C, Ward JC, McLean TC, Forrest S, 530 Jackson T, Tuthill TJ, Rowlands DJ, Stonehouse NJ. 2017. Genetic economy in 531 picornaviruses: Foot-and-mouth disease virus replication exploits alternative precursor 532 cleavage pathway. PLOS Pathog 13:e1006666. 533 9. Tulloch F, Pathania U, Luke GA, Nicholson J, Stonehouse NJ, Rowlands DJ, Jackson 534 T, Tuthill T, Haas J, Lamond AI, Ryan MD. 2014. FMDV replicons encoding green 535 fluorescent protein are replication competent. J Virol Methods 209:35-40. 536 10. Herod MR, Tulloch F, Loundras E-A, Ward JC, Rowlands DJ, Stonehouse NJ. 2015. 537 Employing transposon mutagenesis to investigate foot-and-mouth disease virus 538 replication. J Gen Virol 96:3507-3518. 539 11. Mellor EJC, Brown F, Harris TJR. 1985. Analysis of the Secondary Structure of the 540 Poly(C) Tract in Foot-and-Mouth Disease Virus RNAs. J Gen Virol 66:1919-1929. 541 12. Clarke BE, Brown AL, Currey KM, Newton SE, Rowlands DJ, Carroll AR. 1987. 542 Potential secondary and tertiary structure in the genomic RNA of foot and mouth 543 disease virus. Nucleic Acids Res 15:7067-7079. 544 13. Nayak A, Goodfellow IG, Woolaway KE, Birtley J, Curry S, Belsham GJ. 2006. Role 545 of RNA structure and RNA binding activity of foot-and-mouth disease virus 3C 546 protein in VPg uridylylation and virus replication. J Virol 80:9865-75. Kloc A, Diaz-San Segundo F, Schafer EA, Rai DK, Kenney M, de los Santos T, 555 Rieder E. 2017. Foot-and-mouth disease virus 5'-terminal S fragment is required for 556 replication and modulation of the innate immune response in host cells. Virology 557 512:132-143. 558 17. Kloc A, Rai DK, Rieder E. 2018. The roles of picornavirus untranslated regions in 559 infection and innate immunity. Front Microbiol. Frontiers Media S.A. 560 18. Zhu Z, Yang F, Cao W, Liu H, Zhang K, Tian H, Dang W, He J, Guo J, Liu X, Zheng 561 H. 2019. The Pseudoknot Region of the 5' Untranslated Region Is a Determinant of 562 Viral Tropism and Virulence of Foot-and-Mouth Disease Virus. J Virol 93. 563 19. Mohapatra JK, Pawar SS, Tosh C, Subramaniam S, Palsamy R, Sanyal A, Hemadri D, 564 Pattnaik B. 2011. Genetic characterization of vaccine and field strains of serotype A 565 foot-andmouth disease virus from India. Acta Virol 55:349-352. 566 20. Escarmís C, Dopazo J, Dávila M, Palma EL, Domingo E. 1995. Large deletions in the 567 5'-untranslated region of foot-and-mouth disease virus of serotype C. Virus Res 568 35:155-67.\", 'latex': None, 'type': 'figure'}, 'FIGREF48': {'text': 'Carocci M, Bakkali-Kassimi L. 2012. The encephalomyocarditis virus. Virulence', 'latex': None, 'type': 'figure'}, 'FIGREF49': {'text': \". Wutz G, Auer H, Nowotny N, Grosse B, Skern T, Kuechler E. 1996. Equine rhinovirus Xrn1 produce a pathogenic Dengue virus RNA. Elife 3. 576 24. Kieft JS, Rabe JL, Chapman EG. 2015. New hypotheses derived from the structure of 577 a flaviviral Xrn1-resistant RNA: Conservation, folding, and host adaptation. RNA Biol 578 12:1169-77.579 25. Gultyaev AP, Olsthoorn RCL. 2010. A family of non-classical pseudoknots in 580 influenza A and B viruses. RNA Biol 7:125-9. 581 26. Moss WN, Dela-Moss LI, Priore SF, Turner DH. 2012. The influenza A segment 7 582 mRNA 3' splice site pseudoknot/hairpin family. RNA Biol 9:1305-10. 583 27. Plant EP, Dinman JD. 2008. The role of programmed-1 ribosomal frameshifting in 584 coronavirus propagation. Front Biosci 13:4873-81. 585 28. Herod MR, Ferrer-Orta C, Loundras E-A, Ward JC, Verdaguer N, Rowlands DJ, 586 Stonehouse NJ. 2016. Both cis and trans Activities of Foot-and-Mouth Disease Virus 587 3D Polymerase Are Essential for Viral RNA Replication. J Virol 90:6864-6883. 588 29. Karabiber F, McGinnis JL, Favorov O V., Weeks KM. 2013. QuShape: Rapid, 589 accurate, and best-practices quantification of nucleic acid probing information, 590 resolved by capillary electrophoresis. RNA 19:63-73. 591 30. Darty K, Denise A, Ponty Y. 2009. VARNA: Interactive drawing and editing of the 592 RNA secondary structure. Bioinformatics 25:1974-1975. 593 31. King AMQ, Blakemore WE, Ellard FM, Drew J, Stuart DI. 1999. Evidence for the role 594 of His-142 of protein 1C in the acid-induced disassembly of foot-and-mouth disease 595 virus capsids. J Gen Virol 80:1911-1918. 596 32. Herod MR, Gold S, Lasecka-Dykes L, Wright C, Ward JC, McLean TC, Forrest S, 597 author/funder. All rights reserved. No reuse allowed without permission.\", 'latex': None, 'type': 'figure'}, 'FIGREF50': {'text': \"Replicon and PK schematic. Schematic of the FMDV O1K sub-genomic replicon, 627 showing both 5' and 3' untranslated regions (UTRs) together with the RNA structures present 628 in these regions. IRES-driven translation produces a single polyprotein. Here, the structural 629 proteins have been replaced with a green fluorescent reporter, upstream of the non-structural 630 proteins 2A-3D (A). Predicted PK structures, with putative interactions highlighted in hot-pink 631 are shown. Numbers indicate nucleotide positions after the poly-C-tract (B). Sequence 632 alignment of the 4 PKs, with the interacting regions shown in hot-pink and invariant 633 nucleotides represented by asterisk (C).\", 'latex': None, 'type': 'figure'}, 'FIGREF51': {'text': 'SHAPE NMIA reactivity of the PK region. NMIA reactivity at nucleotides 640 following the poly-C-tract (PCT). High reactivity indicates increased chance of the nucleotide 641 being non base-paired at that position (A). NMIA reactivity of each PK overlaid onto the 642 predicted PK structure using VARNA (30). Loop and downstream interactions represent those 643 supported by SHAPE data (B). NMIA reactivity is represented on a colour scale from low 644 (white) to high (red) (n = 4). 645 646 author/funder. All rights reserved. No reuse allowed without permission.', 'latex': None, 'type': 'figure'}, 'FIGREF52': {'text': \"Disrupting the PK structure and reversing the orientation of a PK reduces 663 replication. Cartoon representations of disrupting and restoring mutations made to PK 1, 664 where nucleotides in the bulge of the stem loop and interacting region downstream were 665 mutated to disrupt structure formation 'PK disrupt', or mutated to maintain bulge and 666 downstream interaction but with different nucleotides 'PK restore' (Ai). Replication of PK 667 disrupt and restore mutants were measured by transfection of RNA into BHK-21 cells and 668 shown here at 8 hours post-transfection alongside wt, 3D-GNN and C11 ΔPK 1234 controls.\", 'latex': None, 'type': 'figure'}, 'FIGREF54': {'text': 'Visual representation of the reversing of the nucleotide sequence of PK1 creating the C11 PK 671 Rvs construct (Bi). Replication of PK Rvs at 8 hours post transfection of BHK-21 cells (Bii).', 'latex': None, 'type': 'figure'}, 'FIGREF56': {'text': 'More than 2 PKs provides a replicative advantage in co-transfection', 'latex': None, 'type': 'figure'}, 'TABREF0': {'text': 'encephalomyocarditis virus (EMCV) and equine rhinitis A virus (ERAV) (21, 22). However, in both cases the PKs are located at the 5′ side of the poly-C-tract, making their location in the FMDV genome unique. PKs have been reported to have roles in several aspects of viral replication including splicing 97 (e.g. HIV and influenza), ribosomal frameshifting (e.g. coronaviruses) and RNase protection 98 (e.g. Dengue virus) (23-27). In the work reported here, the role of the PKs in the FMDV life cycle was investigated, together with biochemical probing of PK structures. The combination of both virus and replicon systems allowed us to distinguish effects on genome replication and 101 other aspects of the viral life cycle. Selective mutation within the PK domain and sequential 102 deletion of PKs confirmed the importance of PK structure and that although genome replication', 'latex': None, 'type': 'table'}, 'TABREF1': {'text': \"Materials and MethodsCells lines.BHK-21 cells obtained from the ATCC (LGC Standard) were maintained in Dulbecco's modified Eagle's Medium with glutamine (Sigma-Aldrich) supplemented with 10 % foetal calf serum (FCS), 50 U/ml penicillin and 50 µg/ml streptomycin.\", 'latex': None, 'type': 'table'}, 'TABREF2': {'text': 'Wt, C11, ∆PK 34 and ∆PK 234 constructs all resulted in the production of infectious virus as was expected from the replicon experiments, with no alteration to input sequence. However, the C11 ∆PK 1234, which replicated (albeit to a lesser degree) as a replicon, produced no recoverable infectious virus(Table 1). Interestingly, there were differences noted in both the', 'latex': None, 'type': 'table'}}, 'back_matter': [{'text': 'author/funder. All rights reserved. No reuse allowed without permission.The copyright holder for this preprint (which was not peer-reviewed) is the The copyright holder for this preprint (which was not peer-reviewed) is the . https://doi.org/10.1101/2020.01.10.901801 doi: bioRxiv preprint', 'cite_spans': [], 'ref_spans': [], 'section': 'annex'}]}\n"
     ]
    }
   ],
   "source": [
    "for i in range(1):\n",
    "    with client_hdfs.read(fpaths_json[i]) as reader:\n",
    "        from json import load\n",
    "        print(load(reader))"
   ]
  },
  {
   "cell_type": "code",
   "execution_count": 20,
   "metadata": {},
   "outputs": [
    {
     "data": {
      "text/plain": [
       "dict_keys(['paper_id', 'metadata', 'abstract', 'body_text', 'bib_entries', 'ref_entries', 'back_matter'])"
      ]
     },
     "execution_count": 20,
     "metadata": {},
     "output_type": "execute_result"
    }
   ],
   "source": [
    "articles = {}\n",
    "for i in range(1):\n",
    "    with client_hdfs.read(fpaths_json[i]) as reader:\n",
    "        from json import load\n",
    "        articles[i] = load(reader)\n",
    "\n",
    "articles[0].keys()"
   ]
  },
  {
   "cell_type": "markdown",
   "metadata": {},
   "source": [
    "From above, we can see that there are keys that describe each paper of the biorxiv journal. Of these, Our paritcular interest lies in the abstract and the body_text. The title is useful too, and to get it, we have to look inside the metadata part of the file. "
   ]
  },
  {
   "cell_type": "code",
   "execution_count": 21,
   "metadata": {},
   "outputs": [
    {
     "data": {
      "text/plain": [
       "dict_keys(['title', 'authors'])"
      ]
     },
     "execution_count": 21,
     "metadata": {},
     "output_type": "execute_result"
    }
   ],
   "source": [
    "articles[0]['metadata'].keys()"
   ]
  },
  {
   "cell_type": "markdown",
   "metadata": {},
   "source": [
    "If printed as a whole, each file would look like the below output:"
   ]
  },
  {
   "cell_type": "code",
   "execution_count": 22,
   "metadata": {},
   "outputs": [
    {
     "name": "stdout",
     "output_type": "stream",
     "text": [
      "<class 'dict'> {'title': 'The RNA pseudoknots in foot-and-mouth disease virus are dispensable for genome replication but essential for the production of infectious virus. 2 3', 'authors': [{'first': 'Joseph', 'middle': ['C'], 'last': 'Ward', 'suffix': '', 'affiliation': {}, 'email': ''}, {'first': 'Lidia', 'middle': [], 'last': 'Lasecka-Dykes', 'suffix': '', 'affiliation': {}, 'email': ''}, {'first': 'Chris', 'middle': [], 'last': 'Neil', 'suffix': '', 'affiliation': {}, 'email': ''}, {'first': 'Oluwapelumi', 'middle': [], 'last': 'Adeyemi', 'suffix': '', 'affiliation': {}, 'email': ''}, {'first': 'Sarah', 'middle': [], 'last': '', 'suffix': '', 'affiliation': {}, 'email': ''}, {'first': '', 'middle': [], 'last': 'Gold', 'suffix': '', 'affiliation': {}, 'email': ''}, {'first': 'Niall', 'middle': [], 'last': 'Mclean', 'suffix': '', 'affiliation': {}, 'email': ''}, {'first': 'Caroline', 'middle': [], 'last': 'Wright', 'suffix': '', 'affiliation': {}, 'email': ''}, {'first': 'Morgan', 'middle': ['R'], 'last': 'Herod', 'suffix': '', 'affiliation': {}, 'email': ''}, {'first': 'David', 'middle': [], 'last': 'Kealy', 'suffix': '', 'affiliation': {}, 'email': ''}, {'first': 'Emma', 'middle': [], 'last': '', 'suffix': '', 'affiliation': {}, 'email': ''}, {'first': 'Warner', 'middle': [], 'last': '', 'suffix': '', 'affiliation': {}, 'email': ''}, {'first': 'Donald', 'middle': ['P'], 'last': 'King', 'suffix': '', 'affiliation': {}, 'email': ''}, {'first': 'Tobias', 'middle': ['J'], 'last': 'Tuthill', 'suffix': '', 'affiliation': {}, 'email': ''}, {'first': 'David', 'middle': ['J'], 'last': 'Rowlands', 'suffix': '', 'affiliation': {}, 'email': ''}, {'first': 'Nicola', 'middle': ['J'], 'last': '', 'suffix': '', 'affiliation': {}, 'email': ''}, {'first': 'Stonehouse', 'middle': [], 'last': 'A#', 'suffix': '', 'affiliation': {}, 'email': ''}]}\n"
     ]
    }
   ],
   "source": [
    "with client_hdfs.read(f'{fpaths_json[0]}', encoding = 'utf-8') as reader:\n",
    "    f = json.load(reader)\n",
    "    print(type(f),f['metadata'])"
   ]
  },
  {
   "cell_type": "code",
   "execution_count": 23,
   "metadata": {},
   "outputs": [
    {
     "name": "stdout",
     "output_type": "stream",
     "text": [
      "paper_id\n",
      "metadata\n",
      "abstract\n",
      "body_text\n",
      "bib_entries\n",
      "ref_entries\n",
      "back_matter\n"
     ]
    }
   ],
   "source": [
    "with client_hdfs.read(f'{fpaths_json[0]}', encoding = 'utf-8') as reader:\n",
    "    f = json.load(reader)\n",
    "    for line in f:\n",
    "        print(line)"
   ]
  },
  {
   "cell_type": "markdown",
   "metadata": {},
   "source": [
    "## How to load and read a json file"
   ]
  },
  {
   "cell_type": "code",
   "execution_count": 24,
   "metadata": {},
   "outputs": [],
   "source": [
    "def load_json(filename):\n",
    "    with open(filename +  \".json\") as f:\n",
    "        data = json.load(f)\n",
    "    return data"
   ]
  },
  {
   "cell_type": "markdown",
   "metadata": {},
   "source": [
    "## Reading all files from local disk"
   ]
  },
  {
   "cell_type": "markdown",
   "metadata": {},
   "source": [
    "Since our dataset is not prohibitively large(7-8GB) it is easilty possible to reado it from disk as shown below"
   ]
  },
  {
   "cell_type": "markdown",
   "metadata": {},
   "source": [
    "Code to read all json files in the directory in one go (Cite: [Kernel on Kaggle](https://www.kaggle.com/maksimeren/covid-19-literature-clustering))"
   ]
  },
  {
   "cell_type": "code",
   "execution_count": null,
   "metadata": {},
   "outputs": [],
   "source": [
    "start_time = datetime.now()\n",
    "all_json = glob.glob(f'/s/chopin/b/grad/sanketm/cord19dataset/**/*.json', recursive=True)\n",
    "end_time = datetime.now()\n",
    "print(f'Loaded the paths of {len(all_json)} files from disk. Took {end_time-start_time}')"
   ]
  },
  {
   "cell_type": "code",
   "execution_count": null,
   "metadata": {},
   "outputs": [],
   "source": [
    "all_json[0]"
   ]
  },
  {
   "cell_type": "code",
   "execution_count": null,
   "metadata": {},
   "outputs": [],
   "source": [
    "_125json = all_json[0:12500]\n",
    "_125json[0]"
   ]
  },
  {
   "cell_type": "code",
   "execution_count": null,
   "metadata": {},
   "outputs": [],
   "source": [
    "fpaths_json[0]"
   ]
  },
  {
   "cell_type": "markdown",
   "metadata": {},
   "source": [
    "Let's make a class so that we could refer to the loaded articles easily"
   ]
  },
  {
   "cell_type": "code",
   "execution_count": 16,
   "metadata": {},
   "outputs": [],
   "source": [
    "class Article:\n",
    "    \n",
    "    def __init__(self,filepath):\n",
    "        with client_hdfs.read(filepath,encoding='utf=8') as f:\n",
    "            metadata = json.load(f)\n",
    "            self.paper_id = metadata['paper_id']\n",
    "            self.title = metadata['metadata']['title']\n",
    "            self.abstract = \"\"\n",
    "            self.body_text = \"\"\n",
    "            \n",
    "            #Abstract\n",
    "            try:\n",
    "                for entry in metadata['abstract']:\n",
    "                    self.abstract += str(entry['text'])\n",
    "            except:\n",
    "                pass\n",
    "                \n",
    "            \n",
    "\n",
    "            #body_text\n",
    "            for entry in metadata['body_text']:\n",
    "                self.body_text += str(entry['text'])\n",
    "\n",
    "\n",
    "            \n",
    "    def __repr__(self):\n",
    "        return f'Article Object with id: {self.paper_id} \\n title:{self.title} \\n abstract:{self.abstract}'\n",
    "            \n",
    "                       "
   ]
  },
  {
   "cell_type": "code",
   "execution_count": 26,
   "metadata": {},
   "outputs": [
    {
     "name": "stdout",
     "output_type": "stream",
     "text": [
      "Article Object with id: 0015023cc06b5362d332b3baf348d11567ca2fbb \n",
      " title:The RNA pseudoknots in foot-and-mouth disease virus are dispensable for genome replication but essential for the production of infectious virus. 2 3 \n",
      " abstract:word count: 194 22 Text word count: 5168 23 24 25 author/funder. All rights reserved. No reuse allowed without permission. Abstract 27 The positive stranded RNA genomes of picornaviruses comprise a single large open reading 28 frame flanked by 5′ and 3′ untranslated regions (UTRs). Foot-and-mouth disease virus (FMDV) 29 has an unusually large 5′ UTR (1.3 kb) containing five structural domains. These include the 30 internal ribosome entry site (IRES), which facilitates initiation of translation, and the cis-acting 31 replication element (cre). Less well characterised structures are a 5′ terminal 360 nucleotide 32 stem-loop, a variable length poly-C-tract of approximately 100-200 nucleotides and a series of 33 two to four tandemly repeated pseudoknots (PKs). We investigated the structures of the PKs 34 by selective 2′ hydroxyl acetylation analysed by primer extension (SHAPE) analysis and 35 determined their contribution to genome replication by mutation and deletion experiments. 36 SHAPE and mutation experiments confirmed the importance of the previously predicted PK 37 structures for their function. Deletion experiments showed that although PKs are not essential 38for replication, they provide genomes with a competitive advantage. However, although 39 replicons and full-length genomes lacking all PKs were replication competent, no infectious 40 virus was rescued from genomes containing less than one PK copy. This is consistent with our 41 earlier report describing the presence of putative packaging signals in the PK region. 42 43 author/funder. All rights reserved. No reuse allowed without permission. \n",
      "\n",
      "\n",
      "\n",
      "\n",
      "Article Object with id: 00340eea543336d54adda18236424de6a5e91c9d \n",
      " title:Analysis Title: Regaining perspective on SARS-CoV-2 molecular tracing and its implications \n",
      " abstract:During the past three months, a new coronavirus (SARS-CoV-2) epidemic has been growing exponentially, affecting over 100 thousand people worldwide, and causing enormous distress to economies and societies of affected countries. A plethora of analyses based on viral sequences has already been published, in scientific journals as well as through non-peer reviewed channels, to investigate SARS-CoV-2 genetic heterogeneity and spatiotemporal dissemination. We examined all full genome sequences currently available to assess the presence of sufficient information for reliable phylogenetic and phylogeographic studies. Our analysis clearly shows severe limitations in the present data, in light of which any finding should be considered, at the very best, preliminary and hypothesis-generating. Hence the need for avoiding stigmatization based on partial information, and for continuing concerted efforts to increase number and quality of the sequences required for robust tracing of the epidemic.. CC-BY-NC-ND 4.0 International license It is made available under a author/funder, who has granted medRxiv a license to display the preprint in perpetuity.is the (which was not peer-reviewed) The copyright holder for this preprint . \n",
      "\n",
      "\n",
      "\n",
      "\n"
     ]
    }
   ],
   "source": [
    "articles = {}\n",
    "for i in range(2):\n",
    "        print(Article(fpaths_json[i]),\"\\n\\n\\n\\n\")"
   ]
  },
  {
   "cell_type": "code",
   "execution_count": 27,
   "metadata": {},
   "outputs": [],
   "source": [
    "articles = {}\n",
    "for i in range(2):\n",
    "        articles[i] = Article(fpaths_json[i])"
   ]
  },
  {
   "cell_type": "code",
   "execution_count": 28,
   "metadata": {},
   "outputs": [
    {
     "data": {
      "text/plain": [
       "'word count: 194 22 Text word count: 5168 23 24 25 author/funder. All rights reserved. No reuse allowed without permission. Abstract 27 The positive stranded RNA genomes of picornaviruses comprise a single large open reading 28 frame flanked by 5′ and 3′ untranslated regions (UTRs). Foot-and-mouth disease virus (FMDV) 29 has an unusually large 5′ UTR (1.3 kb) containing five structural domains. These include the 30 internal ribosome entry site (IRES), which facilitates initiation of translation, and the cis-acting 31 replication element (cre). Less well characterised structures are a 5′ terminal 360 nucleotide 32 stem-loop, a variable length poly-C-tract of approximately 100-200 nucleotides and a series of 33 two to four tandemly repeated pseudoknots (PKs). We investigated the structures of the PKs 34 by selective 2′ hydroxyl acetylation analysed by primer extension (SHAPE) analysis and 35 determined their contribution to genome replication by mutation and deletion experiments. 36 SHAPE and mutation experiments confirmed the importance of the previously predicted PK 37 structures for their function. Deletion experiments showed that although PKs are not essential 38for replication, they provide genomes with a competitive advantage. However, although 39 replicons and full-length genomes lacking all PKs were replication competent, no infectious 40 virus was rescued from genomes containing less than one PK copy. This is consistent with our 41 earlier report describing the presence of putative packaging signals in the PK region. 42 43 author/funder. All rights reserved. No reuse allowed without permission.'"
      ]
     },
     "execution_count": 28,
     "metadata": {},
     "output_type": "execute_result"
    }
   ],
   "source": [
    "articles[0].abstract"
   ]
  },
  {
   "cell_type": "code",
   "execution_count": 29,
   "metadata": {
    "scrolled": true
   },
   "outputs": [
    {
     "data": {
      "text/plain": [
       "Article Object with id: 00340eea543336d54adda18236424de6a5e91c9d \n",
       " title:Analysis Title: Regaining perspective on SARS-CoV-2 molecular tracing and its implications \n",
       " abstract:During the past three months, a new coronavirus (SARS-CoV-2) epidemic has been growing exponentially, affecting over 100 thousand people worldwide, and causing enormous distress to economies and societies of affected countries. A plethora of analyses based on viral sequences has already been published, in scientific journals as well as through non-peer reviewed channels, to investigate SARS-CoV-2 genetic heterogeneity and spatiotemporal dissemination. We examined all full genome sequences currently available to assess the presence of sufficient information for reliable phylogenetic and phylogeographic studies. Our analysis clearly shows severe limitations in the present data, in light of which any finding should be considered, at the very best, preliminary and hypothesis-generating. Hence the need for avoiding stigmatization based on partial information, and for continuing concerted efforts to increase number and quality of the sequences required for robust tracing of the epidemic.. CC-BY-NC-ND 4.0 International license It is made available under a author/funder, who has granted medRxiv a license to display the preprint in perpetuity.is the (which was not peer-reviewed) The copyright holder for this preprint ."
      ]
     },
     "execution_count": 29,
     "metadata": {},
     "output_type": "execute_result"
    }
   ],
   "source": [
    "articles[1]"
   ]
  },
  {
   "cell_type": "markdown",
   "metadata": {},
   "source": [
    "# Data Cleaning"
   ]
  },
  {
   "cell_type": "markdown",
   "metadata": {},
   "source": [
    "Now that we have explored the structure of the dataset, let us focus on our areas of interest as mentioned earlier: namely the Title, Abstract and the body of the text.\\\n",
    "We know that we can access these for a given paper by scanning the metadata for a paper of choice for its title and abstract, and if we need it, using its `sha` column value to get the full text of the paper."
   ]
  },
  {
   "cell_type": "markdown",
   "metadata": {},
   "source": [
    "First let us clean the metadata by dropping all NA valued rows for the title, sha and abstract columns.\n",
    "\n",
    "[Pandas filter rows](https://stackoverflow.com/questions/17071871/how-to-select-rows-from-a-dataframe-based-on-column-values)"
   ]
  },
  {
   "cell_type": "code",
   "execution_count": null,
   "metadata": {},
   "outputs": [],
   "source": [
    "bio= meta.loc[meta['source_x'] == 'biorxiv']\n",
    "\n",
    "print(f'Meta count:{len(meta)} biorxiv papers count: {len(bio)}')\n",
    "\n",
    "bio_clean = bio.drop_duplicates().dropna()\n",
    "\n",
    "len(bio_clean)"
   ]
  },
  {
   "cell_type": "markdown",
   "metadata": {},
   "source": [
    "Using the above dropna condition doesn't work out,  number of rows in the resulting dataframe is zero.\n",
    "We found a solution Cite: [stack overflow post](https://stackoverflow.com/questions/39241346/pandas-dropna-on-specify-attribute)"
   ]
  },
  {
   "cell_type": "code",
   "execution_count": null,
   "metadata": {},
   "outputs": [],
   "source": [
    "bio_clean = bio.loc[~(bio.sha.isnull())]\n",
    "\n",
    "len(bio_clean)\n",
    "\n",
    "bio_clean.head()"
   ]
  },
  {
   "cell_type": "markdown",
   "metadata": {},
   "source": [
    "Now we can remove columns that are unneeded or have only nan values"
   ]
  },
  {
   "cell_type": "code",
   "execution_count": null,
   "metadata": {},
   "outputs": [],
   "source": [
    "print(bio_clean['source_x'].unique(),\n",
    "bio_clean['pmcid'].unique(),\n",
    "bio_clean['pubmed_id'].unique(),\n",
    "bio_clean['Microsoft Academic Paper ID'].unique(),\n",
    "bio_clean['WHO #Covidence'].unique())"
   ]
  },
  {
   "cell_type": "code",
   "execution_count": null,
   "metadata": {},
   "outputs": [],
   "source": [
    "bio_slim = bio_clean.drop(['Microsoft Academic Paper ID','WHO #Covidence','pubmed_id','pmcid'], axis = 1)\n",
    "\n",
    "bio_slim = bio_slim.drop(['url','doi','license','full_text_file'],axis =1 )\n",
    "\n",
    "bio_slim = bio_slim[~bio_slim.has_pdf_parse.isin(['False'])]\n",
    "\n",
    "bio_slim =bio_slim.loc[~(bio_slim.abstract.isnull())]"
   ]
  },
  {
   "cell_type": "markdown",
   "metadata": {},
   "source": [
    "As we had seen at the send of section 2.3, `fpaths_json` contains the paths of all the json files(i.e. the articles) in it.\n",
    "Now we should load this into a dataframe for it to be queryable"
   ]
  },
  {
   "cell_type": "code",
   "execution_count": 27,
   "metadata": {},
   "outputs": [
    {
     "name": "stdout",
     "output_type": "stream",
     "text": [
      "Processing index: 0 of 12500\n",
      "Processing index: 1250 of 12500\n",
      "Processing index: 2500 of 12500\n",
      "Processing index: 3750 of 12500\n",
      "Processing index: 5000 of 12500\n",
      "Processing index: 6250 of 12500\n",
      "Processing index: 7500 of 12500\n",
      "Processing index: 8750 of 12500\n",
      "Processing index: 10000 of 12500\n",
      "Processing index: 11250 of 12500\n",
      " time taken : 0:07:19.230393\n"
     ]
    }
   ],
   "source": [
    "start_time = datetime.now()\n",
    "dict_ = {'paper_id': [], 'abstract': [], 'body_text': [], 'authors': [], 'title': []}\n",
    "for idx, entry in enumerate(_125hdfsjson):\n",
    "    if idx % (len(_125hdfsjson) // 10) == 0:\n",
    "        print(f'Processing index: {idx} of {len(_125hdfsjson)}')\n",
    "    content = Article(entry)\n",
    "    \n",
    "    # get metadata information\n",
    "    meta_data = meta.loc[meta['sha'] == content.paper_id]\n",
    "    # no metadata, skip this paper\n",
    "    if len(meta_data) == 0:\n",
    "        continue\n",
    "    \n",
    "\n",
    "    dict_['body_text'].append(content.body_text)\n",
    "    \n",
    "       \n",
    "    # get metadata information\n",
    "    meta_data = meta.loc[meta['sha'] == content.paper_id]\n",
    "    \n",
    "    try:\n",
    "        # if more than one author\n",
    "        authors = meta_data['authors'].values[0].split(';')\n",
    "        if len(authors) > 2:\n",
    "            # more than 2 authors, may be problem when plotting, so take first 2 append with ...\n",
    "            dict_['authors'].append(\". \".join(authors[:2]) + \"...\")\n",
    "        else:\n",
    "            # authors will fit in plot\n",
    "            dict_['authors'].append(\". \".join(authors))\n",
    "    except Exception as e:\n",
    "        # if only one author - or Null valie\n",
    "        dict_['authors'].append(meta_data['authors'].values[0])\n",
    "    \n",
    "    # add the title information, add breaks when needed\n",
    "    try:\n",
    "        title = meta_data['title'].values[0], 40\n",
    "        dict_['title'].append(title)\n",
    "    # if title was not provided\n",
    "    except Exception as e:\n",
    "        dict_['title'].append(meta_data['title'].values[0])\n",
    "    \n",
    "       \n",
    "    dict_['paper_id'].append(meta_data['sha'].values[0])\n",
    "    dict_['abstract'].append(meta_data['abstract'].values[0])\n",
    "    \n",
    "df_covid = pd.DataFrame(dict_, columns=['paper_id', 'abstract', 'body_text', 'authors', 'title'])\n",
    "df_covid.head()\n",
    "end_time = datetime.now()\n",
    "print(f' time taken : {(end_time  - start_time)}')"
   ]
  },
  {
   "cell_type": "code",
   "execution_count": 28,
   "metadata": {
    "scrolled": true
   },
   "outputs": [
    {
     "name": "stdout",
     "output_type": "stream",
     "text": [
      "10298 10298 10298 10298 10298\n"
     ]
    },
    {
     "data": {
      "text/plain": [
       "194"
      ]
     },
     "execution_count": 28,
     "metadata": {},
     "output_type": "execute_result"
    }
   ],
   "source": [
    "print(len(dict_['paper_id']),len(dict_['abstract']),len(dict_['body_text']),len(dict_['authors']),len(dict_['title']))\n",
    "\n",
    "len(df_covid['abstract'][0].strip().split())"
   ]
  },
  {
   "cell_type": "code",
   "execution_count": 29,
   "metadata": {},
   "outputs": [
    {
     "data": {
      "text/html": [
       "<div>\n",
       "<style scoped>\n",
       "    .dataframe tbody tr th:only-of-type {\n",
       "        vertical-align: middle;\n",
       "    }\n",
       "\n",
       "    .dataframe tbody tr th {\n",
       "        vertical-align: top;\n",
       "    }\n",
       "\n",
       "    .dataframe thead th {\n",
       "        text-align: right;\n",
       "    }\n",
       "</style>\n",
       "<table border=\"1\" class=\"dataframe\">\n",
       "  <thead>\n",
       "    <tr style=\"text-align: right;\">\n",
       "      <th></th>\n",
       "      <th>paper_id</th>\n",
       "      <th>abstract</th>\n",
       "      <th>body_text</th>\n",
       "      <th>authors</th>\n",
       "      <th>title</th>\n",
       "      <th>abstract_word_count</th>\n",
       "      <th>body_word_count</th>\n",
       "      <th>body_unique_words</th>\n",
       "    </tr>\n",
       "  </thead>\n",
       "  <tbody>\n",
       "    <tr>\n",
       "      <th>0</th>\n",
       "      <td>0015023cc06b5362d332b3baf348d11567ca2fbb</td>\n",
       "      <td>AbstractThe positive stranded RNA genomes of p...</td>\n",
       "      <td>VP3, and VP0 (which is further processed to VP...</td>\n",
       "      <td>Joseph C. Ward.  Lidia Lasecka-Dykes...</td>\n",
       "      <td>(The RNA pseudoknots in foot-and-mouth disease...</td>\n",
       "      <td>194</td>\n",
       "      <td>1709</td>\n",
       "      <td>704</td>\n",
       "    </tr>\n",
       "    <tr>\n",
       "      <th>1</th>\n",
       "      <td>00340eea543336d54adda18236424de6a5e91c9d</td>\n",
       "      <td>During the past three months, a new coronaviru...</td>\n",
       "      <td>In December 2019, a novel coronavirus, SARS-Co...</td>\n",
       "      <td>Carla Mavian.  Simone Marini...</td>\n",
       "      <td>(Regaining perspective on SARS-CoV-2 molecular...</td>\n",
       "      <td>138</td>\n",
       "      <td>2487</td>\n",
       "      <td>1032</td>\n",
       "    </tr>\n",
       "    <tr>\n",
       "      <th>2</th>\n",
       "      <td>004f0f8bb66cf446678dc13cf2701feec4f36d76</td>\n",
       "      <td>We integrate the human movement and healthcare...</td>\n",
       "      <td>The 2019-nCoV epidemic has spread across China...</td>\n",
       "      <td>Hanchu Zhou.  Jianan Yang...</td>\n",
       "      <td>(Healthcare-resource-adjusted vulnerabilities ...</td>\n",
       "      <td>34</td>\n",
       "      <td>749</td>\n",
       "      <td>378</td>\n",
       "    </tr>\n",
       "    <tr>\n",
       "      <th>3</th>\n",
       "      <td>00911cf4f99a3d5ae5e5b787675646a743574496</td>\n",
       "      <td>ABSTRARCTThe fast accumulation of viral metage...</td>\n",
       "      <td>Metagenomic sequencing, which allows us to dir...</td>\n",
       "      <td>Jiayu Shang.  Yanni Sun</td>\n",
       "      <td>(CHEER: hierarCHical taxonomic classification ...</td>\n",
       "      <td>139</td>\n",
       "      <td>5153</td>\n",
       "      <td>1371</td>\n",
       "    </tr>\n",
       "    <tr>\n",
       "      <th>4</th>\n",
       "      <td>00d16927588fb04d4be0e6b269fc02f0d3c2aa7b</td>\n",
       "      <td>AbstractInfectious bronchitis (IB) causes sign...</td>\n",
       "      <td>Infectious bronchitis (IB), which is caused by...</td>\n",
       "      <td>Salman L. Butt.  Eric C. Erwood...</td>\n",
       "      <td>(Real-time, MinION-based, amplicon sequencing ...</td>\n",
       "      <td>248</td>\n",
       "      <td>3958</td>\n",
       "      <td>1199</td>\n",
       "    </tr>\n",
       "    <tr>\n",
       "      <th>5</th>\n",
       "      <td>00eb9220dc8cd351393b6b035323d350f103f8c6</td>\n",
       "      <td>Importance: As with other traumatic events, pa...</td>\n",
       "      <td>Evidence from prior pandemics suggests that, a...</td>\n",
       "      <td>Victor M. Castro.  Roy H Perlis</td>\n",
       "      <td>(Impact of COVID-19 on psychiatric assessment ...</td>\n",
       "      <td>246</td>\n",
       "      <td>2103</td>\n",
       "      <td>759</td>\n",
       "    </tr>\n",
       "    <tr>\n",
       "      <th>6</th>\n",
       "      <td>0139ea4ca580af99b602c6435368e7fdbefacb03</td>\n",
       "      <td>AbstractBackgroundNipah Virus (NiV) came into ...</td>\n",
       "      <td>Nipah is an infectious negative-sense single-s...</td>\n",
       "      <td>Nishi Kumari.  Ayush Upadhyay...</td>\n",
       "      <td>(A Combined Evidence Approach to Prioritize Ni...</td>\n",
       "      <td>326</td>\n",
       "      <td>2382</td>\n",
       "      <td>1034</td>\n",
       "    </tr>\n",
       "    <tr>\n",
       "      <th>7</th>\n",
       "      <td>013d9d1cba8a54d5d3718c229b812d7cf91b6c89</td>\n",
       "      <td>Background: A novel coronavirus (2019-nCoV) em...</td>\n",
       "      <td>In December 2019, a cluster of patients with p...</td>\n",
       "      <td>Shengjie Lai.  Isaac Bogoch...</td>\n",
       "      <td>(Assessing spread risk of Wuhan novel coronavi...</td>\n",
       "      <td>292</td>\n",
       "      <td>4596</td>\n",
       "      <td>1205</td>\n",
       "    </tr>\n",
       "    <tr>\n",
       "      <th>8</th>\n",
       "      <td>018fb5e62fbbcae07d57d94d29ac630dcc4dccf9</td>\n",
       "      <td>Introduction: Recent events highlight how emer...</td>\n",
       "      <td>Recent events highlight how emerging and re-em...</td>\n",
       "      <td>DAVIDE GORI.  Erik Boetto...</td>\n",
       "      <td>(Analysis of the scientific literature in the ...</td>\n",
       "      <td>200</td>\n",
       "      <td>2906</td>\n",
       "      <td>1131</td>\n",
       "    </tr>\n",
       "    <tr>\n",
       "      <th>9</th>\n",
       "      <td>01d162d7fae6aaba8e6e60e563ef4c2fca7b0e18</td>\n",
       "      <td>Faced with the current large-scale public heal...</td>\n",
       "      <td>The sudden outbreak of the new coronavirus (SA...</td>\n",
       "      <td>Xiaoyang Ji.  Chunming Zhang...</td>\n",
       "      <td>(TWIRLS, an automated topic-wise inference met...</td>\n",
       "      <td>223</td>\n",
       "      <td>4386</td>\n",
       "      <td>1309</td>\n",
       "    </tr>\n",
       "  </tbody>\n",
       "</table>\n",
       "</div>"
      ],
      "text/plain": [
       "                                   paper_id  \\\n",
       "0  0015023cc06b5362d332b3baf348d11567ca2fbb   \n",
       "1  00340eea543336d54adda18236424de6a5e91c9d   \n",
       "2  004f0f8bb66cf446678dc13cf2701feec4f36d76   \n",
       "3  00911cf4f99a3d5ae5e5b787675646a743574496   \n",
       "4  00d16927588fb04d4be0e6b269fc02f0d3c2aa7b   \n",
       "5  00eb9220dc8cd351393b6b035323d350f103f8c6   \n",
       "6  0139ea4ca580af99b602c6435368e7fdbefacb03   \n",
       "7  013d9d1cba8a54d5d3718c229b812d7cf91b6c89   \n",
       "8  018fb5e62fbbcae07d57d94d29ac630dcc4dccf9   \n",
       "9  01d162d7fae6aaba8e6e60e563ef4c2fca7b0e18   \n",
       "\n",
       "                                            abstract  \\\n",
       "0  AbstractThe positive stranded RNA genomes of p...   \n",
       "1  During the past three months, a new coronaviru...   \n",
       "2  We integrate the human movement and healthcare...   \n",
       "3  ABSTRARCTThe fast accumulation of viral metage...   \n",
       "4  AbstractInfectious bronchitis (IB) causes sign...   \n",
       "5  Importance: As with other traumatic events, pa...   \n",
       "6  AbstractBackgroundNipah Virus (NiV) came into ...   \n",
       "7  Background: A novel coronavirus (2019-nCoV) em...   \n",
       "8  Introduction: Recent events highlight how emer...   \n",
       "9  Faced with the current large-scale public heal...   \n",
       "\n",
       "                                           body_text  \\\n",
       "0  VP3, and VP0 (which is further processed to VP...   \n",
       "1  In December 2019, a novel coronavirus, SARS-Co...   \n",
       "2  The 2019-nCoV epidemic has spread across China...   \n",
       "3  Metagenomic sequencing, which allows us to dir...   \n",
       "4  Infectious bronchitis (IB), which is caused by...   \n",
       "5  Evidence from prior pandemics suggests that, a...   \n",
       "6  Nipah is an infectious negative-sense single-s...   \n",
       "7  In December 2019, a cluster of patients with p...   \n",
       "8  Recent events highlight how emerging and re-em...   \n",
       "9  The sudden outbreak of the new coronavirus (SA...   \n",
       "\n",
       "                                   authors  \\\n",
       "0  Joseph C. Ward.  Lidia Lasecka-Dykes...   \n",
       "1          Carla Mavian.  Simone Marini...   \n",
       "2             Hanchu Zhou.  Jianan Yang...   \n",
       "3                  Jiayu Shang.  Yanni Sun   \n",
       "4       Salman L. Butt.  Eric C. Erwood...   \n",
       "5          Victor M. Castro.  Roy H Perlis   \n",
       "6         Nishi Kumari.  Ayush Upadhyay...   \n",
       "7           Shengjie Lai.  Isaac Bogoch...   \n",
       "8             DAVIDE GORI.  Erik Boetto...   \n",
       "9          Xiaoyang Ji.  Chunming Zhang...   \n",
       "\n",
       "                                               title  abstract_word_count  \\\n",
       "0  (The RNA pseudoknots in foot-and-mouth disease...                  194   \n",
       "1  (Regaining perspective on SARS-CoV-2 molecular...                  138   \n",
       "2  (Healthcare-resource-adjusted vulnerabilities ...                   34   \n",
       "3  (CHEER: hierarCHical taxonomic classification ...                  139   \n",
       "4  (Real-time, MinION-based, amplicon sequencing ...                  248   \n",
       "5  (Impact of COVID-19 on psychiatric assessment ...                  246   \n",
       "6  (A Combined Evidence Approach to Prioritize Ni...                  326   \n",
       "7  (Assessing spread risk of Wuhan novel coronavi...                  292   \n",
       "8  (Analysis of the scientific literature in the ...                  200   \n",
       "9  (TWIRLS, an automated topic-wise inference met...                  223   \n",
       "\n",
       "   body_word_count  body_unique_words  \n",
       "0             1709                704  \n",
       "1             2487               1032  \n",
       "2              749                378  \n",
       "3             5153               1371  \n",
       "4             3958               1199  \n",
       "5             2103                759  \n",
       "6             2382               1034  \n",
       "7             4596               1205  \n",
       "8             2906               1131  \n",
       "9             4386               1309  "
      ]
     },
     "execution_count": 29,
     "metadata": {},
     "output_type": "execute_result"
    }
   ],
   "source": [
    "df_covid['abstract_word_count'] = df_covid['abstract'].apply(lambda x: len(str(x).strip().split()))\n",
    "df_covid['body_word_count'] = df_covid['body_text'].apply(lambda x: len(str(x).strip().split()))\n",
    "df_covid['body_unique_words']=df_covid['body_text'].apply(lambda x:len(set(str(x).split())))  # number of unique words in body\n",
    "df_covid.head(10)"
   ]
  },
  {
   "cell_type": "markdown",
   "metadata": {},
   "source": [
    "# Checkpoint!!"
   ]
  },
  {
   "cell_type": "code",
   "execution_count": 50,
   "metadata": {},
   "outputs": [],
   "source": [
    "df_covid.to_csv(\"./df_covid.csv\",index=False)"
   ]
  },
  {
   "cell_type": "markdown",
   "metadata": {},
   "source": [
    "## Dataset statistics <a id='Statistics'></a>"
   ]
  },
  {
   "cell_type": "code",
   "execution_count": null,
   "metadata": {},
   "outputs": [],
   "source": [
    "totalnumberofwords_abstract=df_covid['abstract_word_count'].sum()\n",
    "avg_abstract_len = totalnumberofwords_abstract/len(df_covid['abstract_word_count'])\n",
    "print(f'Total number of words across all abstracts = {totalnumberofwords_abstract}. Average abstract length = {avg_abstract_len}')"
   ]
  },
  {
   "cell_type": "code",
   "execution_count": null,
   "metadata": {},
   "outputs": [],
   "source": [
    "totalnumberofwords_body=df_covid['body_word_count'].sum()\n",
    "avg_body_len = totalnumberofwords_body/len(df_covid['body_word_count'])\n",
    "print(f'Total number of words across all body texts = {totalnumberofwords_body}. Average body length = {avg_body_len}')"
   ]
  },
  {
   "cell_type": "code",
   "execution_count": null,
   "metadata": {},
   "outputs": [],
   "source": [
    "uniqwords = df_covid['body_unique_words'].sum()\n",
    "avg_uniq_words = uniqwords/len(df_covid['body_unique_words'])\n",
    "print(f'Total number of unique words across all body texts: {uniqwords}.')"
   ]
  },
  {
   "cell_type": "code",
   "execution_count": null,
   "metadata": {},
   "outputs": [],
   "source": [
    "#plot = plt.figure(figsize=(80,80))\n",
    "ax1 = plt.subplot(2,1,1)\n",
    "ax1.plot(df_covid['abstract_word_count'])\n",
    "#plt.xlim(right=2500)\n",
    "ax1.set_title(\"Abstract word-count\")"
   ]
  },
  {
   "cell_type": "code",
   "execution_count": null,
   "metadata": {},
   "outputs": [],
   "source": [
    "#plot = plt.figure(figsize=(100,108))\n",
    "ax2 = plt.subplot(2,1,2)\n",
    "ax2.plot(df_covid['body_word_count'])\n",
    "ax2.set_title(\"Article body-text word-count\")"
   ]
  },
  {
   "cell_type": "code",
   "execution_count": null,
   "metadata": {},
   "outputs": [],
   "source": [
    "import seaborn as sns\n",
    "sns.distplot(df_covid['body_word_count'])\n",
    "df_covid['body_word_count'].describe()"
   ]
  },
  {
   "cell_type": "code",
   "execution_count": null,
   "metadata": {},
   "outputs": [],
   "source": [
    "sns.distplot(df_covid['body_unique_words'])\n",
    "df_covid['body_unique_words'].describe()"
   ]
  },
  {
   "cell_type": "code",
   "execution_count": null,
   "metadata": {},
   "outputs": [],
   "source": [
    "sns.distplot(df_covid['abstract_word_count'])\n",
    "df_covid['abstract_word_count'].describe()"
   ]
  },
  {
   "cell_type": "code",
   "execution_count": null,
   "metadata": {},
   "outputs": [],
   "source": [
    "df_covid.info()"
   ]
  },
  {
   "cell_type": "code",
   "execution_count": null,
   "metadata": {},
   "outputs": [],
   "source": [
    "df_covid['abstract'].describe(include='all')"
   ]
  },
  {
   "cell_type": "markdown",
   "metadata": {},
   "source": [
    "The difference between the unique count and the total count means that either there are some duplicate abstracts or there are blank abstracts that are being counted as the same. "
   ]
  },
  {
   "cell_type": "code",
   "execution_count": null,
   "metadata": {},
   "outputs": [],
   "source": [
    "df_covid['body_text'].describe(include='all')"
   ]
  },
  {
   "cell_type": "markdown",
   "metadata": {},
   "source": [
    "The difference between the unique count and the total count means that there are some duplicate articles present in the dataset. This coulde be possible if the authors had sent their papers to different journals."
   ]
  },
  {
   "cell_type": "code",
   "execution_count": null,
   "metadata": {},
   "outputs": [],
   "source": [
    "df_covid.drop_duplicates(['abstract'],inplace=True)\n",
    "\n",
    "df_covid['abstract'].describe(include='all')"
   ]
  },
  {
   "cell_type": "code",
   "execution_count": null,
   "metadata": {},
   "outputs": [],
   "source": [
    "df_covid.drop_duplicates(['body_text'],inplace=True)\n",
    "\n",
    "df_covid['body_text'].describe(include='all')"
   ]
  },
  {
   "cell_type": "code",
   "execution_count": null,
   "metadata": {},
   "outputs": [],
   "source": [
    "df_covid.info()"
   ]
  },
  {
   "cell_type": "code",
   "execution_count": null,
   "metadata": {},
   "outputs": [],
   "source": [
    "df_covid.describe()"
   ]
  },
  {
   "cell_type": "markdown",
   "metadata": {},
   "source": [
    "# Data Preprocessing"
   ]
  },
  {
   "cell_type": "markdown",
   "metadata": {},
   "source": [
    "We now clean the text data so that our key words are clear and we do not have to worry about details we are not concerned about. [ref1](https://towardsdatascience.com/nlp-text-preprocessing-a-practical-guide-and-template-d80874676e79)  [ref2](https://www.geeksforgeeks.org/text-preprocessing-in-python-set-1/)"
   ]
  },
  {
   "cell_type": "markdown",
   "metadata": {},
   "source": [
    "Firstly By now looking at the abstract columns, we must notice that the text scraped from these articles is not perfect.\n",
    "\n",
    "For example, many of the abstracts start with the word *Abstract* glued to the beginning of the first word of the real abstract body. "
   ]
  },
  {
   "cell_type": "markdown",
   "metadata": {},
   "source": [
    "## Cleaning dirty abstracts"
   ]
  },
  {
   "cell_type": "code",
   "execution_count": 30,
   "metadata": {},
   "outputs": [
    {
     "data": {
      "text/html": [
       "<div>\n",
       "<style scoped>\n",
       "    .dataframe tbody tr th:only-of-type {\n",
       "        vertical-align: middle;\n",
       "    }\n",
       "\n",
       "    .dataframe tbody tr th {\n",
       "        vertical-align: top;\n",
       "    }\n",
       "\n",
       "    .dataframe thead th {\n",
       "        text-align: right;\n",
       "    }\n",
       "</style>\n",
       "<table border=\"1\" class=\"dataframe\">\n",
       "  <thead>\n",
       "    <tr style=\"text-align: right;\">\n",
       "      <th></th>\n",
       "      <th>paper_id</th>\n",
       "      <th>abstract</th>\n",
       "      <th>body_text</th>\n",
       "      <th>authors</th>\n",
       "      <th>title</th>\n",
       "      <th>abstract_word_count</th>\n",
       "      <th>body_word_count</th>\n",
       "      <th>body_unique_words</th>\n",
       "    </tr>\n",
       "  </thead>\n",
       "  <tbody>\n",
       "    <tr>\n",
       "      <th>0</th>\n",
       "      <td>0015023cc06b5362d332b3baf348d11567ca2fbb</td>\n",
       "      <td>The positive stranded RNA genomes of picornavi...</td>\n",
       "      <td>VP3, and VP0 (which is further processed to VP...</td>\n",
       "      <td>Joseph C. Ward.  Lidia Lasecka-Dykes...</td>\n",
       "      <td>(The RNA pseudoknots in foot-and-mouth disease...</td>\n",
       "      <td>194</td>\n",
       "      <td>1709</td>\n",
       "      <td>704</td>\n",
       "    </tr>\n",
       "    <tr>\n",
       "      <th>1</th>\n",
       "      <td>00340eea543336d54adda18236424de6a5e91c9d</td>\n",
       "      <td>During the past three months, a new coronaviru...</td>\n",
       "      <td>In December 2019, a novel coronavirus, SARS-Co...</td>\n",
       "      <td>Carla Mavian.  Simone Marini...</td>\n",
       "      <td>(Regaining perspective on SARS-CoV-2 molecular...</td>\n",
       "      <td>138</td>\n",
       "      <td>2487</td>\n",
       "      <td>1032</td>\n",
       "    </tr>\n",
       "    <tr>\n",
       "      <th>2</th>\n",
       "      <td>004f0f8bb66cf446678dc13cf2701feec4f36d76</td>\n",
       "      <td>We integrate the human movement and healthcare...</td>\n",
       "      <td>The 2019-nCoV epidemic has spread across China...</td>\n",
       "      <td>Hanchu Zhou.  Jianan Yang...</td>\n",
       "      <td>(Healthcare-resource-adjusted vulnerabilities ...</td>\n",
       "      <td>34</td>\n",
       "      <td>749</td>\n",
       "      <td>378</td>\n",
       "    </tr>\n",
       "    <tr>\n",
       "      <th>3</th>\n",
       "      <td>00911cf4f99a3d5ae5e5b787675646a743574496</td>\n",
       "      <td>The fast accumulation of viral metagenomic dat...</td>\n",
       "      <td>Metagenomic sequencing, which allows us to dir...</td>\n",
       "      <td>Jiayu Shang.  Yanni Sun</td>\n",
       "      <td>(CHEER: hierarCHical taxonomic classification ...</td>\n",
       "      <td>139</td>\n",
       "      <td>5153</td>\n",
       "      <td>1371</td>\n",
       "    </tr>\n",
       "    <tr>\n",
       "      <th>4</th>\n",
       "      <td>00d16927588fb04d4be0e6b269fc02f0d3c2aa7b</td>\n",
       "      <td>Infectious bronchitis (IB) causes significant ...</td>\n",
       "      <td>Infectious bronchitis (IB), which is caused by...</td>\n",
       "      <td>Salman L. Butt.  Eric C. Erwood...</td>\n",
       "      <td>(Real-time, MinION-based, amplicon sequencing ...</td>\n",
       "      <td>248</td>\n",
       "      <td>3958</td>\n",
       "      <td>1199</td>\n",
       "    </tr>\n",
       "    <tr>\n",
       "      <th>5</th>\n",
       "      <td>00eb9220dc8cd351393b6b035323d350f103f8c6</td>\n",
       "      <td>Importance: As with other traumatic events, pa...</td>\n",
       "      <td>Evidence from prior pandemics suggests that, a...</td>\n",
       "      <td>Victor M. Castro.  Roy H Perlis</td>\n",
       "      <td>(Impact of COVID-19 on psychiatric assessment ...</td>\n",
       "      <td>246</td>\n",
       "      <td>2103</td>\n",
       "      <td>759</td>\n",
       "    </tr>\n",
       "    <tr>\n",
       "      <th>6</th>\n",
       "      <td>0139ea4ca580af99b602c6435368e7fdbefacb03</td>\n",
       "      <td>Nipah Virus (NiV) came into limelight recently...</td>\n",
       "      <td>Nipah is an infectious negative-sense single-s...</td>\n",
       "      <td>Nishi Kumari.  Ayush Upadhyay...</td>\n",
       "      <td>(A Combined Evidence Approach to Prioritize Ni...</td>\n",
       "      <td>326</td>\n",
       "      <td>2382</td>\n",
       "      <td>1034</td>\n",
       "    </tr>\n",
       "    <tr>\n",
       "      <th>7</th>\n",
       "      <td>013d9d1cba8a54d5d3718c229b812d7cf91b6c89</td>\n",
       "      <td>: A novel coronavirus (2019-nCoV) emerged in W...</td>\n",
       "      <td>In December 2019, a cluster of patients with p...</td>\n",
       "      <td>Shengjie Lai.  Isaac Bogoch...</td>\n",
       "      <td>(Assessing spread risk of Wuhan novel coronavi...</td>\n",
       "      <td>292</td>\n",
       "      <td>4596</td>\n",
       "      <td>1205</td>\n",
       "    </tr>\n",
       "    <tr>\n",
       "      <th>8</th>\n",
       "      <td>018fb5e62fbbcae07d57d94d29ac630dcc4dccf9</td>\n",
       "      <td>Introduction: Recent events highlight how emer...</td>\n",
       "      <td>Recent events highlight how emerging and re-em...</td>\n",
       "      <td>DAVIDE GORI.  Erik Boetto...</td>\n",
       "      <td>(Analysis of the scientific literature in the ...</td>\n",
       "      <td>200</td>\n",
       "      <td>2906</td>\n",
       "      <td>1131</td>\n",
       "    </tr>\n",
       "    <tr>\n",
       "      <th>9</th>\n",
       "      <td>01d162d7fae6aaba8e6e60e563ef4c2fca7b0e18</td>\n",
       "      <td>Faced with the current large-scale public heal...</td>\n",
       "      <td>The sudden outbreak of the new coronavirus (SA...</td>\n",
       "      <td>Xiaoyang Ji.  Chunming Zhang...</td>\n",
       "      <td>(TWIRLS, an automated topic-wise inference met...</td>\n",
       "      <td>223</td>\n",
       "      <td>4386</td>\n",
       "      <td>1309</td>\n",
       "    </tr>\n",
       "  </tbody>\n",
       "</table>\n",
       "</div>"
      ],
      "text/plain": [
       "                                   paper_id  \\\n",
       "0  0015023cc06b5362d332b3baf348d11567ca2fbb   \n",
       "1  00340eea543336d54adda18236424de6a5e91c9d   \n",
       "2  004f0f8bb66cf446678dc13cf2701feec4f36d76   \n",
       "3  00911cf4f99a3d5ae5e5b787675646a743574496   \n",
       "4  00d16927588fb04d4be0e6b269fc02f0d3c2aa7b   \n",
       "5  00eb9220dc8cd351393b6b035323d350f103f8c6   \n",
       "6  0139ea4ca580af99b602c6435368e7fdbefacb03   \n",
       "7  013d9d1cba8a54d5d3718c229b812d7cf91b6c89   \n",
       "8  018fb5e62fbbcae07d57d94d29ac630dcc4dccf9   \n",
       "9  01d162d7fae6aaba8e6e60e563ef4c2fca7b0e18   \n",
       "\n",
       "                                            abstract  \\\n",
       "0  The positive stranded RNA genomes of picornavi...   \n",
       "1  During the past three months, a new coronaviru...   \n",
       "2  We integrate the human movement and healthcare...   \n",
       "3  The fast accumulation of viral metagenomic dat...   \n",
       "4  Infectious bronchitis (IB) causes significant ...   \n",
       "5  Importance: As with other traumatic events, pa...   \n",
       "6  Nipah Virus (NiV) came into limelight recently...   \n",
       "7  : A novel coronavirus (2019-nCoV) emerged in W...   \n",
       "8  Introduction: Recent events highlight how emer...   \n",
       "9  Faced with the current large-scale public heal...   \n",
       "\n",
       "                                           body_text  \\\n",
       "0  VP3, and VP0 (which is further processed to VP...   \n",
       "1  In December 2019, a novel coronavirus, SARS-Co...   \n",
       "2  The 2019-nCoV epidemic has spread across China...   \n",
       "3  Metagenomic sequencing, which allows us to dir...   \n",
       "4  Infectious bronchitis (IB), which is caused by...   \n",
       "5  Evidence from prior pandemics suggests that, a...   \n",
       "6  Nipah is an infectious negative-sense single-s...   \n",
       "7  In December 2019, a cluster of patients with p...   \n",
       "8  Recent events highlight how emerging and re-em...   \n",
       "9  The sudden outbreak of the new coronavirus (SA...   \n",
       "\n",
       "                                   authors  \\\n",
       "0  Joseph C. Ward.  Lidia Lasecka-Dykes...   \n",
       "1          Carla Mavian.  Simone Marini...   \n",
       "2             Hanchu Zhou.  Jianan Yang...   \n",
       "3                  Jiayu Shang.  Yanni Sun   \n",
       "4       Salman L. Butt.  Eric C. Erwood...   \n",
       "5          Victor M. Castro.  Roy H Perlis   \n",
       "6         Nishi Kumari.  Ayush Upadhyay...   \n",
       "7           Shengjie Lai.  Isaac Bogoch...   \n",
       "8             DAVIDE GORI.  Erik Boetto...   \n",
       "9          Xiaoyang Ji.  Chunming Zhang...   \n",
       "\n",
       "                                               title  abstract_word_count  \\\n",
       "0  (The RNA pseudoknots in foot-and-mouth disease...                  194   \n",
       "1  (Regaining perspective on SARS-CoV-2 molecular...                  138   \n",
       "2  (Healthcare-resource-adjusted vulnerabilities ...                   34   \n",
       "3  (CHEER: hierarCHical taxonomic classification ...                  139   \n",
       "4  (Real-time, MinION-based, amplicon sequencing ...                  248   \n",
       "5  (Impact of COVID-19 on psychiatric assessment ...                  246   \n",
       "6  (A Combined Evidence Approach to Prioritize Ni...                  326   \n",
       "7  (Assessing spread risk of Wuhan novel coronavi...                  292   \n",
       "8  (Analysis of the scientific literature in the ...                  200   \n",
       "9  (TWIRLS, an automated topic-wise inference met...                  223   \n",
       "\n",
       "   body_word_count  body_unique_words  \n",
       "0             1709                704  \n",
       "1             2487               1032  \n",
       "2              749                378  \n",
       "3             5153               1371  \n",
       "4             3958               1199  \n",
       "5             2103                759  \n",
       "6             2382               1034  \n",
       "7             4596               1205  \n",
       "8             2906               1131  \n",
       "9             4386               1309  "
      ]
     },
     "execution_count": 30,
     "metadata": {},
     "output_type": "execute_result"
    }
   ],
   "source": [
    "df_covid['abstract'] = df_covid['abstract'].apply(lambda x: str(x).replace('Abstract',''))\n",
    "df_covid['abstract'] = df_covid['abstract'].apply(lambda x: str(x).replace('abstract',''))\n",
    "df_covid['abstract'] = df_covid['abstract'].apply(lambda x: str(x).replace('ABSTRACT',''))\n",
    "df_covid['abstract'] = df_covid['abstract'].apply(lambda x: str(x).replace('ABSTRARCT',''))\n",
    "df_covid['abstract'] = df_covid['abstract'].apply(lambda x: str(x).replace('Background',''))\n",
    "df_covid.head(10)"
   ]
  },
  {
   "cell_type": "markdown",
   "metadata": {},
   "source": [
    "Now let us remove all punctuation from text and change it to lowercase"
   ]
  },
  {
   "cell_type": "code",
   "execution_count": 31,
   "metadata": {},
   "outputs": [
    {
     "name": "stdout",
     "output_type": "stream",
     "text": [
      "imported text preprocessing libraries, time taken:0:00:00.000157\n"
     ]
    }
   ],
   "source": [
    "start_time = datetime.now()\n",
    "# import nltk \n",
    "import string \n",
    "import re \n",
    "end_time = datetime.now()\n",
    "print(f'imported text preprocessing libraries, time taken:{end_time-start_time}')"
   ]
  },
  {
   "cell_type": "markdown",
   "metadata": {},
   "source": [
    "## Lower Case conversion"
   ]
  },
  {
   "cell_type": "code",
   "execution_count": 32,
   "metadata": {},
   "outputs": [
    {
     "data": {
      "text/html": [
       "<div>\n",
       "<style scoped>\n",
       "    .dataframe tbody tr th:only-of-type {\n",
       "        vertical-align: middle;\n",
       "    }\n",
       "\n",
       "    .dataframe tbody tr th {\n",
       "        vertical-align: top;\n",
       "    }\n",
       "\n",
       "    .dataframe thead th {\n",
       "        text-align: right;\n",
       "    }\n",
       "</style>\n",
       "<table border=\"1\" class=\"dataframe\">\n",
       "  <thead>\n",
       "    <tr style=\"text-align: right;\">\n",
       "      <th></th>\n",
       "      <th>paper_id</th>\n",
       "      <th>abstract</th>\n",
       "      <th>body_text</th>\n",
       "      <th>authors</th>\n",
       "      <th>title</th>\n",
       "      <th>abstract_word_count</th>\n",
       "      <th>body_word_count</th>\n",
       "      <th>body_unique_words</th>\n",
       "    </tr>\n",
       "  </thead>\n",
       "  <tbody>\n",
       "    <tr>\n",
       "      <th>0</th>\n",
       "      <td>0015023cc06b5362d332b3baf348d11567ca2fbb</td>\n",
       "      <td>the positive stranded rna genomes of picornavi...</td>\n",
       "      <td>VP3, and VP0 (which is further processed to VP...</td>\n",
       "      <td>Joseph C. Ward.  Lidia Lasecka-Dykes...</td>\n",
       "      <td>(The RNA pseudoknots in foot-and-mouth disease...</td>\n",
       "      <td>194</td>\n",
       "      <td>1709</td>\n",
       "      <td>704</td>\n",
       "    </tr>\n",
       "    <tr>\n",
       "      <th>1</th>\n",
       "      <td>00340eea543336d54adda18236424de6a5e91c9d</td>\n",
       "      <td>during the past three months, a new coronaviru...</td>\n",
       "      <td>In December 2019, a novel coronavirus, SARS-Co...</td>\n",
       "      <td>Carla Mavian.  Simone Marini...</td>\n",
       "      <td>(Regaining perspective on SARS-CoV-2 molecular...</td>\n",
       "      <td>138</td>\n",
       "      <td>2487</td>\n",
       "      <td>1032</td>\n",
       "    </tr>\n",
       "    <tr>\n",
       "      <th>2</th>\n",
       "      <td>004f0f8bb66cf446678dc13cf2701feec4f36d76</td>\n",
       "      <td>we integrate the human movement and healthcare...</td>\n",
       "      <td>The 2019-nCoV epidemic has spread across China...</td>\n",
       "      <td>Hanchu Zhou.  Jianan Yang...</td>\n",
       "      <td>(Healthcare-resource-adjusted vulnerabilities ...</td>\n",
       "      <td>34</td>\n",
       "      <td>749</td>\n",
       "      <td>378</td>\n",
       "    </tr>\n",
       "    <tr>\n",
       "      <th>3</th>\n",
       "      <td>00911cf4f99a3d5ae5e5b787675646a743574496</td>\n",
       "      <td>the fast accumulation of viral metagenomic dat...</td>\n",
       "      <td>Metagenomic sequencing, which allows us to dir...</td>\n",
       "      <td>Jiayu Shang.  Yanni Sun</td>\n",
       "      <td>(CHEER: hierarCHical taxonomic classification ...</td>\n",
       "      <td>139</td>\n",
       "      <td>5153</td>\n",
       "      <td>1371</td>\n",
       "    </tr>\n",
       "    <tr>\n",
       "      <th>4</th>\n",
       "      <td>00d16927588fb04d4be0e6b269fc02f0d3c2aa7b</td>\n",
       "      <td>infectious bronchitis (ib) causes significant ...</td>\n",
       "      <td>Infectious bronchitis (IB), which is caused by...</td>\n",
       "      <td>Salman L. Butt.  Eric C. Erwood...</td>\n",
       "      <td>(Real-time, MinION-based, amplicon sequencing ...</td>\n",
       "      <td>248</td>\n",
       "      <td>3958</td>\n",
       "      <td>1199</td>\n",
       "    </tr>\n",
       "  </tbody>\n",
       "</table>\n",
       "</div>"
      ],
      "text/plain": [
       "                                   paper_id  \\\n",
       "0  0015023cc06b5362d332b3baf348d11567ca2fbb   \n",
       "1  00340eea543336d54adda18236424de6a5e91c9d   \n",
       "2  004f0f8bb66cf446678dc13cf2701feec4f36d76   \n",
       "3  00911cf4f99a3d5ae5e5b787675646a743574496   \n",
       "4  00d16927588fb04d4be0e6b269fc02f0d3c2aa7b   \n",
       "\n",
       "                                            abstract  \\\n",
       "0  the positive stranded rna genomes of picornavi...   \n",
       "1  during the past three months, a new coronaviru...   \n",
       "2  we integrate the human movement and healthcare...   \n",
       "3  the fast accumulation of viral metagenomic dat...   \n",
       "4  infectious bronchitis (ib) causes significant ...   \n",
       "\n",
       "                                           body_text  \\\n",
       "0  VP3, and VP0 (which is further processed to VP...   \n",
       "1  In December 2019, a novel coronavirus, SARS-Co...   \n",
       "2  The 2019-nCoV epidemic has spread across China...   \n",
       "3  Metagenomic sequencing, which allows us to dir...   \n",
       "4  Infectious bronchitis (IB), which is caused by...   \n",
       "\n",
       "                                   authors  \\\n",
       "0  Joseph C. Ward.  Lidia Lasecka-Dykes...   \n",
       "1          Carla Mavian.  Simone Marini...   \n",
       "2             Hanchu Zhou.  Jianan Yang...   \n",
       "3                  Jiayu Shang.  Yanni Sun   \n",
       "4       Salman L. Butt.  Eric C. Erwood...   \n",
       "\n",
       "                                               title  abstract_word_count  \\\n",
       "0  (The RNA pseudoknots in foot-and-mouth disease...                  194   \n",
       "1  (Regaining perspective on SARS-CoV-2 molecular...                  138   \n",
       "2  (Healthcare-resource-adjusted vulnerabilities ...                   34   \n",
       "3  (CHEER: hierarCHical taxonomic classification ...                  139   \n",
       "4  (Real-time, MinION-based, amplicon sequencing ...                  248   \n",
       "\n",
       "   body_word_count  body_unique_words  \n",
       "0             1709                704  \n",
       "1             2487               1032  \n",
       "2              749                378  \n",
       "3             5153               1371  \n",
       "4             3958               1199  "
      ]
     },
     "execution_count": 32,
     "metadata": {},
     "output_type": "execute_result"
    }
   ],
   "source": [
    "df_covid['abstract'] = df_covid['abstract'].apply(lambda x: str(x).lower())\n",
    "df_covid.head()"
   ]
  },
  {
   "cell_type": "code",
   "execution_count": 33,
   "metadata": {},
   "outputs": [
    {
     "data": {
      "text/html": [
       "<div>\n",
       "<style scoped>\n",
       "    .dataframe tbody tr th:only-of-type {\n",
       "        vertical-align: middle;\n",
       "    }\n",
       "\n",
       "    .dataframe tbody tr th {\n",
       "        vertical-align: top;\n",
       "    }\n",
       "\n",
       "    .dataframe thead th {\n",
       "        text-align: right;\n",
       "    }\n",
       "</style>\n",
       "<table border=\"1\" class=\"dataframe\">\n",
       "  <thead>\n",
       "    <tr style=\"text-align: right;\">\n",
       "      <th></th>\n",
       "      <th>paper_id</th>\n",
       "      <th>abstract</th>\n",
       "      <th>body_text</th>\n",
       "      <th>authors</th>\n",
       "      <th>title</th>\n",
       "      <th>abstract_word_count</th>\n",
       "      <th>body_word_count</th>\n",
       "      <th>body_unique_words</th>\n",
       "    </tr>\n",
       "  </thead>\n",
       "  <tbody>\n",
       "    <tr>\n",
       "      <th>0</th>\n",
       "      <td>0015023cc06b5362d332b3baf348d11567ca2fbb</td>\n",
       "      <td>the positive stranded rna genomes of picornavi...</td>\n",
       "      <td>vp3, and vp0 (which is further processed to vp...</td>\n",
       "      <td>Joseph C. Ward.  Lidia Lasecka-Dykes...</td>\n",
       "      <td>(The RNA pseudoknots in foot-and-mouth disease...</td>\n",
       "      <td>194</td>\n",
       "      <td>1709</td>\n",
       "      <td>704</td>\n",
       "    </tr>\n",
       "    <tr>\n",
       "      <th>1</th>\n",
       "      <td>00340eea543336d54adda18236424de6a5e91c9d</td>\n",
       "      <td>during the past three months, a new coronaviru...</td>\n",
       "      <td>in december 2019, a novel coronavirus, sars-co...</td>\n",
       "      <td>Carla Mavian.  Simone Marini...</td>\n",
       "      <td>(Regaining perspective on SARS-CoV-2 molecular...</td>\n",
       "      <td>138</td>\n",
       "      <td>2487</td>\n",
       "      <td>1032</td>\n",
       "    </tr>\n",
       "    <tr>\n",
       "      <th>2</th>\n",
       "      <td>004f0f8bb66cf446678dc13cf2701feec4f36d76</td>\n",
       "      <td>we integrate the human movement and healthcare...</td>\n",
       "      <td>the 2019-ncov epidemic has spread across china...</td>\n",
       "      <td>Hanchu Zhou.  Jianan Yang...</td>\n",
       "      <td>(Healthcare-resource-adjusted vulnerabilities ...</td>\n",
       "      <td>34</td>\n",
       "      <td>749</td>\n",
       "      <td>378</td>\n",
       "    </tr>\n",
       "    <tr>\n",
       "      <th>3</th>\n",
       "      <td>00911cf4f99a3d5ae5e5b787675646a743574496</td>\n",
       "      <td>the fast accumulation of viral metagenomic dat...</td>\n",
       "      <td>metagenomic sequencing, which allows us to dir...</td>\n",
       "      <td>Jiayu Shang.  Yanni Sun</td>\n",
       "      <td>(CHEER: hierarCHical taxonomic classification ...</td>\n",
       "      <td>139</td>\n",
       "      <td>5153</td>\n",
       "      <td>1371</td>\n",
       "    </tr>\n",
       "    <tr>\n",
       "      <th>4</th>\n",
       "      <td>00d16927588fb04d4be0e6b269fc02f0d3c2aa7b</td>\n",
       "      <td>infectious bronchitis (ib) causes significant ...</td>\n",
       "      <td>infectious bronchitis (ib), which is caused by...</td>\n",
       "      <td>Salman L. Butt.  Eric C. Erwood...</td>\n",
       "      <td>(Real-time, MinION-based, amplicon sequencing ...</td>\n",
       "      <td>248</td>\n",
       "      <td>3958</td>\n",
       "      <td>1199</td>\n",
       "    </tr>\n",
       "  </tbody>\n",
       "</table>\n",
       "</div>"
      ],
      "text/plain": [
       "                                   paper_id  \\\n",
       "0  0015023cc06b5362d332b3baf348d11567ca2fbb   \n",
       "1  00340eea543336d54adda18236424de6a5e91c9d   \n",
       "2  004f0f8bb66cf446678dc13cf2701feec4f36d76   \n",
       "3  00911cf4f99a3d5ae5e5b787675646a743574496   \n",
       "4  00d16927588fb04d4be0e6b269fc02f0d3c2aa7b   \n",
       "\n",
       "                                            abstract  \\\n",
       "0  the positive stranded rna genomes of picornavi...   \n",
       "1  during the past three months, a new coronaviru...   \n",
       "2  we integrate the human movement and healthcare...   \n",
       "3  the fast accumulation of viral metagenomic dat...   \n",
       "4  infectious bronchitis (ib) causes significant ...   \n",
       "\n",
       "                                           body_text  \\\n",
       "0  vp3, and vp0 (which is further processed to vp...   \n",
       "1  in december 2019, a novel coronavirus, sars-co...   \n",
       "2  the 2019-ncov epidemic has spread across china...   \n",
       "3  metagenomic sequencing, which allows us to dir...   \n",
       "4  infectious bronchitis (ib), which is caused by...   \n",
       "\n",
       "                                   authors  \\\n",
       "0  Joseph C. Ward.  Lidia Lasecka-Dykes...   \n",
       "1          Carla Mavian.  Simone Marini...   \n",
       "2             Hanchu Zhou.  Jianan Yang...   \n",
       "3                  Jiayu Shang.  Yanni Sun   \n",
       "4       Salman L. Butt.  Eric C. Erwood...   \n",
       "\n",
       "                                               title  abstract_word_count  \\\n",
       "0  (The RNA pseudoknots in foot-and-mouth disease...                  194   \n",
       "1  (Regaining perspective on SARS-CoV-2 molecular...                  138   \n",
       "2  (Healthcare-resource-adjusted vulnerabilities ...                   34   \n",
       "3  (CHEER: hierarCHical taxonomic classification ...                  139   \n",
       "4  (Real-time, MinION-based, amplicon sequencing ...                  248   \n",
       "\n",
       "   body_word_count  body_unique_words  \n",
       "0             1709                704  \n",
       "1             2487               1032  \n",
       "2              749                378  \n",
       "3             5153               1371  \n",
       "4             3958               1199  "
      ]
     },
     "execution_count": 33,
     "metadata": {},
     "output_type": "execute_result"
    }
   ],
   "source": [
    "df_covid['body_text'] = df_covid['body_text'].apply(lambda x: str(x).lower())\n",
    "df_covid.head()"
   ]
  },
  {
   "cell_type": "markdown",
   "metadata": {},
   "source": [
    "## Removing Punctuation"
   ]
  },
  {
   "cell_type": "code",
   "execution_count": 34,
   "metadata": {},
   "outputs": [
    {
     "name": "stdout",
     "output_type": "stream",
     "text": [
      "Punctuated:\n",
      " during the past three months, a new coronavirus (sars-cov-2) epidemic has been growing exponentially, affecting over 100 thousand people worldwide, and causing enormous distress to economies and societies of affected countries. a plethora of analyses based on viral sequences has already been published, in scientific journals as well as through non-peer reviewed channels, to investigate sars-cov-2 genetic heterogeneity and spatiotemporal dissemination. we examined all full genome sequences currently available to assess the presence of sufficient information for reliable phylogenetic and phylogeographic studies. our analysis clearly shows severe limitations in the present data, in light of which any finding should be considered, at the very best, preliminary and hypothesis-generating. hence the need for avoiding stigmatization based on partial information, and for continuing concerted efforts to increase number and quality of the sequences required for robust tracing of the epidemic. \n",
      "\n",
      "\n",
      "\n",
      "Cleaned:\n",
      " during the past three months a new coronavirus sarscov2 epidemic has been growing exponentially affecting over 100 thousand people worldwide and causing enormous distress to economies and societies of affected countries a plethora of analyses based on viral sequences has already been published in scientific journals as well as through nonpeer reviewed channels to investigate sarscov2 genetic heterogeneity and spatiotemporal dissemination we examined all full genome sequences currently available to assess the presence of sufficient information for reliable phylogenetic and phylogeographic studies our analysis clearly shows severe limitations in the present data in light of which any finding should be considered at the very best preliminary and hypothesisgenerating hence the need for avoiding stigmatization based on partial information and for continuing concerted efforts to increase number and quality of the sequences required for robust tracing of the epidemic\n"
     ]
    }
   ],
   "source": [
    "print(\"Punctuated:\\n\",df_covid['abstract'][1],'\\n\\n\\n')\n",
    "translator = str.maketrans(' ',' ',string.punctuation)\n",
    "print(\"Cleaned:\\n\",df_covid['abstract'][1].translate(translator))"
   ]
  },
  {
   "cell_type": "code",
   "execution_count": 38,
   "metadata": {},
   "outputs": [
    {
     "data": {
      "text/plain": [
       "'!\"#$%&\\'()*+,-./:;<=>?@[\\\\]^_`{|}~'"
      ]
     },
     "execution_count": 38,
     "metadata": {},
     "output_type": "execute_result"
    }
   ],
   "source": [
    "string.punctuation"
   ]
  },
  {
   "cell_type": "code",
   "execution_count": 35,
   "metadata": {},
   "outputs": [
    {
     "name": "stdout",
     "output_type": "stream",
     "text": [
      "removed all punctuation from all abstracts. time taken:0:00:00.919442\n"
     ]
    }
   ],
   "source": [
    "start_time= datetime.now()\n",
    "df_covid['abstract'] = df_covid['abstract'].apply(lambda x: str(x).translate(translator))\n",
    "df_covid.head()\n",
    "end_time=datetime.now()\n",
    "print(f'removed all punctuation from all abstracts. time taken:{end_time-start_time}')"
   ]
  },
  {
   "cell_type": "code",
   "execution_count": 40,
   "metadata": {},
   "outputs": [
    {
     "name": "stdout",
     "output_type": "stream",
     "text": [
      "removed all punctuation from all body_texts. time taken:0:00:27.529968\n"
     ]
    }
   ],
   "source": [
    "start_time= datetime.now()\n",
    "df_covid['body_text'] = df_covid['body_text'].apply(lambda x: str(x).translate(translator))\n",
    "df_covid.head()\n",
    "end_time=datetime.now()\n",
    "print(f'removed all punctuation from all body_texts. time taken:{end_time-start_time}')"
   ]
  },
  {
   "cell_type": "markdown",
   "metadata": {},
   "source": [
    "## Dropping unrelated columns"
   ]
  },
  {
   "cell_type": "code",
   "execution_count": 36,
   "metadata": {},
   "outputs": [
    {
     "data": {
      "text/html": [
       "<div>\n",
       "<style scoped>\n",
       "    .dataframe tbody tr th:only-of-type {\n",
       "        vertical-align: middle;\n",
       "    }\n",
       "\n",
       "    .dataframe tbody tr th {\n",
       "        vertical-align: top;\n",
       "    }\n",
       "\n",
       "    .dataframe thead th {\n",
       "        text-align: right;\n",
       "    }\n",
       "</style>\n",
       "<table border=\"1\" class=\"dataframe\">\n",
       "  <thead>\n",
       "    <tr style=\"text-align: right;\">\n",
       "      <th></th>\n",
       "      <th>abstract</th>\n",
       "    </tr>\n",
       "  </thead>\n",
       "  <tbody>\n",
       "    <tr>\n",
       "      <th>0</th>\n",
       "      <td>the positive stranded rna genomes of picornavi...</td>\n",
       "    </tr>\n",
       "    <tr>\n",
       "      <th>1</th>\n",
       "      <td>during the past three months a new coronavirus...</td>\n",
       "    </tr>\n",
       "    <tr>\n",
       "      <th>2</th>\n",
       "      <td>we integrate the human movement and healthcare...</td>\n",
       "    </tr>\n",
       "    <tr>\n",
       "      <th>3</th>\n",
       "      <td>the fast accumulation of viral metagenomic dat...</td>\n",
       "    </tr>\n",
       "    <tr>\n",
       "      <th>4</th>\n",
       "      <td>infectious bronchitis ib causes significant ec...</td>\n",
       "    </tr>\n",
       "  </tbody>\n",
       "</table>\n",
       "</div>"
      ],
      "text/plain": [
       "                                            abstract\n",
       "0  the positive stranded rna genomes of picornavi...\n",
       "1  during the past three months a new coronavirus...\n",
       "2  we integrate the human movement and healthcare...\n",
       "3  the fast accumulation of viral metagenomic dat...\n",
       "4  infectious bronchitis ib causes significant ec..."
      ]
     },
     "execution_count": 36,
     "metadata": {},
     "output_type": "execute_result"
    }
   ],
   "source": [
    "abstracts = df_covid.drop([\"paper_id\",\"body_text\", \"abstract_word_count\", \"body_word_count\",\"body_unique_words\", \"authors\", \"title\"], axis=1)\n",
    "abstracts.head()"
   ]
  },
  {
   "cell_type": "code",
   "execution_count": 37,
   "metadata": {},
   "outputs": [
    {
     "data": {
      "text/html": [
       "<div>\n",
       "<style scoped>\n",
       "    .dataframe tbody tr th:only-of-type {\n",
       "        vertical-align: middle;\n",
       "    }\n",
       "\n",
       "    .dataframe tbody tr th {\n",
       "        vertical-align: top;\n",
       "    }\n",
       "\n",
       "    .dataframe thead th {\n",
       "        text-align: right;\n",
       "    }\n",
       "</style>\n",
       "<table border=\"1\" class=\"dataframe\">\n",
       "  <thead>\n",
       "    <tr style=\"text-align: right;\">\n",
       "      <th></th>\n",
       "      <th>body_text</th>\n",
       "    </tr>\n",
       "  </thead>\n",
       "  <tbody>\n",
       "    <tr>\n",
       "      <th>0</th>\n",
       "      <td>vp3, and vp0 (which is further processed to vp...</td>\n",
       "    </tr>\n",
       "    <tr>\n",
       "      <th>1</th>\n",
       "      <td>in december 2019, a novel coronavirus, sars-co...</td>\n",
       "    </tr>\n",
       "    <tr>\n",
       "      <th>2</th>\n",
       "      <td>the 2019-ncov epidemic has spread across china...</td>\n",
       "    </tr>\n",
       "    <tr>\n",
       "      <th>3</th>\n",
       "      <td>metagenomic sequencing, which allows us to dir...</td>\n",
       "    </tr>\n",
       "    <tr>\n",
       "      <th>4</th>\n",
       "      <td>infectious bronchitis (ib), which is caused by...</td>\n",
       "    </tr>\n",
       "  </tbody>\n",
       "</table>\n",
       "</div>"
      ],
      "text/plain": [
       "                                           body_text\n",
       "0  vp3, and vp0 (which is further processed to vp...\n",
       "1  in december 2019, a novel coronavirus, sars-co...\n",
       "2  the 2019-ncov epidemic has spread across china...\n",
       "3  metagenomic sequencing, which allows us to dir...\n",
       "4  infectious bronchitis (ib), which is caused by..."
      ]
     },
     "execution_count": 37,
     "metadata": {},
     "output_type": "execute_result"
    }
   ],
   "source": [
    "bodytexts = df_covid.drop([\"paper_id\",\"abstract\", \"abstract_word_count\", \"body_word_count\",\"body_unique_words\", \"authors\", \"title\"], axis=1)\n",
    "bodytexts.head()"
   ]
  },
  {
   "cell_type": "markdown",
   "metadata": {},
   "source": [
    "## Tokenization and removal of stop words"
   ]
  },
  {
   "cell_type": "code",
   "execution_count": 39,
   "metadata": {},
   "outputs": [],
   "source": [
    "import nltk\n",
    "#nltk.download('stopwords') ##Stopword corpora\n",
    "#nltk.download('punkt')  ##Tokenizer\n",
    "from nltk.tokenize import word_tokenize \n",
    "from nltk.corpus import stopwords\n",
    "\n",
    "#stopwords = nltk.corpus.stopwords.words('english')\n",
    "\n",
    "def normalize_document(doc):\n",
    "\n",
    "    # lower case and remove special characters\\whitespaces\n",
    "\n",
    "    doc = str(doc).strip()\n",
    "    doc = str(doc).lower()\n",
    "    \n",
    "    translator = str.maketrans(' ',' ',string.punctuation)  #where string.punctuation = '!\"#$%&\\'()*+,-./:;<=>?@[\\\\]^_`{|}~'\n",
    "    doc = str(doc).translate(translator)\n",
    "\n",
    "    # tokenize document\n",
    "\n",
    "    stop_words = set(stopwords.words('english')) \n",
    "    word_tokens = word_tokenize(doc) \n",
    "    filtered_text = [word for word in word_tokens if word not in stop_words] \n",
    "    return filtered_text"
   ]
  },
  {
   "cell_type": "code",
   "execution_count": 46,
   "metadata": {},
   "outputs": [
    {
     "data": {
      "text/plain": [
       "{'a',\n",
       " 'about',\n",
       " 'above',\n",
       " 'after',\n",
       " 'again',\n",
       " 'against',\n",
       " 'ain',\n",
       " 'all',\n",
       " 'am',\n",
       " 'an',\n",
       " 'and',\n",
       " 'any',\n",
       " 'are',\n",
       " 'aren',\n",
       " \"aren't\",\n",
       " 'as',\n",
       " 'at',\n",
       " 'be',\n",
       " 'because',\n",
       " 'been',\n",
       " 'before',\n",
       " 'being',\n",
       " 'below',\n",
       " 'between',\n",
       " 'both',\n",
       " 'but',\n",
       " 'by',\n",
       " 'can',\n",
       " 'couldn',\n",
       " \"couldn't\",\n",
       " 'd',\n",
       " 'did',\n",
       " 'didn',\n",
       " \"didn't\",\n",
       " 'do',\n",
       " 'does',\n",
       " 'doesn',\n",
       " \"doesn't\",\n",
       " 'doing',\n",
       " 'don',\n",
       " \"don't\",\n",
       " 'down',\n",
       " 'during',\n",
       " 'each',\n",
       " 'few',\n",
       " 'for',\n",
       " 'from',\n",
       " 'further',\n",
       " 'had',\n",
       " 'hadn',\n",
       " \"hadn't\",\n",
       " 'has',\n",
       " 'hasn',\n",
       " \"hasn't\",\n",
       " 'have',\n",
       " 'haven',\n",
       " \"haven't\",\n",
       " 'having',\n",
       " 'he',\n",
       " 'her',\n",
       " 'here',\n",
       " 'hers',\n",
       " 'herself',\n",
       " 'him',\n",
       " 'himself',\n",
       " 'his',\n",
       " 'how',\n",
       " 'i',\n",
       " 'if',\n",
       " 'in',\n",
       " 'into',\n",
       " 'is',\n",
       " 'isn',\n",
       " \"isn't\",\n",
       " 'it',\n",
       " \"it's\",\n",
       " 'its',\n",
       " 'itself',\n",
       " 'just',\n",
       " 'll',\n",
       " 'm',\n",
       " 'ma',\n",
       " 'me',\n",
       " 'mightn',\n",
       " \"mightn't\",\n",
       " 'more',\n",
       " 'most',\n",
       " 'mustn',\n",
       " \"mustn't\",\n",
       " 'my',\n",
       " 'myself',\n",
       " 'needn',\n",
       " \"needn't\",\n",
       " 'no',\n",
       " 'nor',\n",
       " 'not',\n",
       " 'now',\n",
       " 'o',\n",
       " 'of',\n",
       " 'off',\n",
       " 'on',\n",
       " 'once',\n",
       " 'only',\n",
       " 'or',\n",
       " 'other',\n",
       " 'our',\n",
       " 'ours',\n",
       " 'ourselves',\n",
       " 'out',\n",
       " 'over',\n",
       " 'own',\n",
       " 're',\n",
       " 's',\n",
       " 'same',\n",
       " 'shan',\n",
       " \"shan't\",\n",
       " 'she',\n",
       " \"she's\",\n",
       " 'should',\n",
       " \"should've\",\n",
       " 'shouldn',\n",
       " \"shouldn't\",\n",
       " 'so',\n",
       " 'some',\n",
       " 'such',\n",
       " 't',\n",
       " 'than',\n",
       " 'that',\n",
       " \"that'll\",\n",
       " 'the',\n",
       " 'their',\n",
       " 'theirs',\n",
       " 'them',\n",
       " 'themselves',\n",
       " 'then',\n",
       " 'there',\n",
       " 'these',\n",
       " 'they',\n",
       " 'this',\n",
       " 'those',\n",
       " 'through',\n",
       " 'to',\n",
       " 'too',\n",
       " 'under',\n",
       " 'until',\n",
       " 'up',\n",
       " 've',\n",
       " 'very',\n",
       " 'was',\n",
       " 'wasn',\n",
       " \"wasn't\",\n",
       " 'we',\n",
       " 'were',\n",
       " 'weren',\n",
       " \"weren't\",\n",
       " 'what',\n",
       " 'when',\n",
       " 'where',\n",
       " 'which',\n",
       " 'while',\n",
       " 'who',\n",
       " 'whom',\n",
       " 'why',\n",
       " 'will',\n",
       " 'with',\n",
       " 'won',\n",
       " \"won't\",\n",
       " 'wouldn',\n",
       " \"wouldn't\",\n",
       " 'y',\n",
       " 'you',\n",
       " \"you'd\",\n",
       " \"you'll\",\n",
       " \"you're\",\n",
       " \"you've\",\n",
       " 'your',\n",
       " 'yours',\n",
       " 'yourself',\n",
       " 'yourselves'}"
      ]
     },
     "execution_count": 46,
     "metadata": {},
     "output_type": "execute_result"
    }
   ],
   "source": [
    "stop_words = set(stopwords.words('english')) \n",
    "stop_words"
   ]
  },
  {
   "cell_type": "code",
   "execution_count": 47,
   "metadata": {},
   "outputs": [
    {
     "name": "stdout",
     "output_type": "stream",
     "text": [
      "Tokenized and removed stopwords from 10298 abstracts. Time Taken:0:00:22.063956\n"
     ]
    }
   ],
   "source": [
    "start_time= datetime.now()\n",
    "abstract_tokens = abstracts['abstract'].apply(lambda x: normalize_document(x))\n",
    "end_time= datetime.now()\n",
    "print(f'Tokenized and removed stopwords from {len(abstracts)} abstracts. Time Taken:{end_time - start_time}')"
   ]
  },
  {
   "cell_type": "code",
   "execution_count": 48,
   "metadata": {},
   "outputs": [
    {
     "data": {
      "text/plain": [
       "0    [positive, stranded, rna, genomes, picornaviru...\n",
       "1    [past, three, months, new, coronavirus, sarsco...\n",
       "2    [integrate, human, movement, healthcare, resou...\n",
       "3    [fast, accumulation, viral, metagenomic, data,...\n",
       "4    [infectious, bronchitis, ib, causes, significa...\n",
       "Name: abstract, dtype: object"
      ]
     },
     "execution_count": 48,
     "metadata": {},
     "output_type": "execute_result"
    }
   ],
   "source": [
    "abstract_tokens.head()"
   ]
  },
  {
   "cell_type": "markdown",
   "metadata": {},
   "source": [
    "### Tokenizing and removing stopwords from body texts"
   ]
  },
  {
   "cell_type": "code",
   "execution_count": null,
   "metadata": {},
   "outputs": [],
   "source": [
    "# start_time= datetime.now()\n",
    "# body_tokens = bodytexts['body_text'].apply(lambda x: normalize_document(x))\n",
    "# end_time= datetime.now()\n",
    "# print(f'Tokenized and removed stopwords from {len(bodytexts)} body texts. Time Taken:{end_time - start_time}')"
   ]
  },
  {
   "cell_type": "code",
   "execution_count": null,
   "metadata": {},
   "outputs": [],
   "source": [
    "# body_tokens.head()"
   ]
  },
  {
   "cell_type": "markdown",
   "metadata": {},
   "source": [
    "## Forming n-grams"
   ]
  },
  {
   "cell_type": "markdown",
   "metadata": {},
   "source": [
    "Here we form bigrams of our text, both abstracts and body text, in order to be able to use it for better modelling than the frequency based tf-idf vectorizing that we explore in the coming sections.\n",
    "\n",
    "Though TF-IDF is a proven algorithm for topic feature extraction, sometimes we can provide more context to texts by providing sequences of n words at a time. This may allow us to find relationships in a denser feature space."
   ]
  },
  {
   "cell_type": "markdown",
   "metadata": {},
   "source": [
    "[ref](https://stackoverflow.com/questions/21844546/forming-bigrams-of-words-in-list-of-sentences-with-python)"
   ]
  },
  {
   "cell_type": "code",
   "execution_count": null,
   "metadata": {},
   "outputs": [],
   "source": [
    "from nltk.util import ngrams"
   ]
  },
  {
   "cell_type": "code",
   "execution_count": null,
   "metadata": {},
   "outputs": [],
   "source": [
    "for i in ngrams(abstracts['abstract'][0].split(\" \"),2):\n",
    "    print(i)"
   ]
  },
  {
   "cell_type": "code",
   "execution_count": null,
   "metadata": {},
   "outputs": [],
   "source": [
    "for i in ngrams(abstract_tokens[0],2):\n",
    "    print(i)"
   ]
  },
  {
   "cell_type": "markdown",
   "metadata": {},
   "source": [
    "# Word Cloud of Abstracts"
   ]
  },
  {
   "cell_type": "markdown",
   "metadata": {},
   "source": [
    "In this section we visualize the more important terms in the text file by creating a word cloud of the abstracts we have got. [ref](https://www.datacamp.com/community/tutorials/wordcloud-python)"
   ]
  },
  {
   "cell_type": "code",
   "execution_count": null,
   "metadata": {},
   "outputs": [],
   "source": [
    "import wordcloud as wc"
   ]
  },
  {
   "cell_type": "code",
   "execution_count": null,
   "metadata": {},
   "outputs": [],
   "source": [
    "# Start with one review:\n",
    "\n",
    "text = abstracts['abstract'][0]\n",
    "\n",
    "# Create and generate a word cloud image:\n",
    "wordcloud = wc.WordCloud().generate(text)\n",
    "\n",
    "# Display the generated image:\n",
    "plt.imshow(wordcloud, interpolation='bilinear')\n",
    "plt.axis(\"off\")\n",
    "plt.show()"
   ]
  },
  {
   "cell_type": "code",
   "execution_count": null,
   "metadata": {},
   "outputs": [],
   "source": [
    "print(f\"Total number of abstracts: {len(abstracts['abstract'])}\")\n",
    "print(f\"Number of nan abstracts: {abstracts['abstract'].value_counts()['nan']}\")"
   ]
  },
  {
   "cell_type": "code",
   "execution_count": null,
   "metadata": {},
   "outputs": [],
   "source": [
    "abstracts = abstracts.loc[~(abstracts['abstract'] == 'nan')]"
   ]
  },
  {
   "cell_type": "code",
   "execution_count": null,
   "metadata": {},
   "outputs": [],
   "source": [
    "print(f\"Total number of abstracts: {len(abstracts['abstract'])}\")"
   ]
  },
  {
   "cell_type": "code",
   "execution_count": null,
   "metadata": {},
   "outputs": [],
   "source": [
    "start_time = datetime.now()\n",
    "wordcloud2 = wc.WordCloud(width=1920,height=1080,colormap='cool').generate(' '.join(abstracts['abstract'])) #joining all the abstracts into one huge text block and passing it as input to the wordcloud generator\n",
    "end_time=datetime.now()\n",
    "print(f'generated wordclouds from all {len(abstracts)} abstracts. time taken:{end_time-start_time}')"
   ]
  },
  {
   "cell_type": "code",
   "execution_count": null,
   "metadata": {},
   "outputs": [],
   "source": [
    "plot = plt.figure(figsize=(60, 60))\n",
    "plt.imshow(wordcloud2)\n",
    "plt.axis(\"off\")\n",
    "plt.show()"
   ]
  },
  {
   "cell_type": "markdown",
   "metadata": {},
   "source": [
    "# Forming Word Vectors for Dimensionality Reduction"
   ]
  },
  {
   "cell_type": "markdown",
   "metadata": {},
   "source": [
    "In this section, we form word vectors of our abstracts and body texts in order to be able to modify the resulting vectors to find similar meaning words.\n",
    "We are using the *Term Frequency- Inverse Document Frequency* calculation to form word vectors. It gives us an idea as to which terms are more frequent/common in the text and which are rarer and seemingly more representative terms in the body text/abstract.\n",
    "\n",
    "Doing this also reduces our feature list to something more reasonable, given that if we look over the entire dataset, there will be upto [13 million](#Statistics) unique features."
   ]
  },
  {
   "cell_type": "code",
   "execution_count": null,
   "metadata": {},
   "outputs": [],
   "source": [
    "abstract_tokens.describe()"
   ]
  },
  {
   "cell_type": "markdown",
   "metadata": {},
   "source": [
    "Though we have cleaned the abstracts and body texts and also tokenized them, the TDIDFVectorizer present in SciKit Learn does not need tokenized input, rather the whole collection of abstract texts. We provide the earlier cleaned and processed *abstract* and *bodytexts* DataTables for this purpose"
   ]
  },
  {
   "cell_type": "code",
   "execution_count": null,
   "metadata": {},
   "outputs": [],
   "source": [
    "abstracts[0:20]"
   ]
  },
  {
   "cell_type": "code",
   "execution_count": null,
   "metadata": {},
   "outputs": [],
   "source": [
    "bodytexts[0:20]"
   ]
  },
  {
   "cell_type": "markdown",
   "metadata": {},
   "source": [
    "# Checkpoint!!"
   ]
  },
  {
   "cell_type": "code",
   "execution_count": 49,
   "metadata": {},
   "outputs": [],
   "source": [
    "abstracts.to_csv(\"./abstracts.csv\", index=False)\n",
    "bodytexts.to_csv(\"./bodytexts.csv\", index=False)"
   ]
  },
  {
   "cell_type": "markdown",
   "metadata": {},
   "source": [
    "# Restore Point"
   ]
  },
  {
   "cell_type": "code",
   "execution_count": 21,
   "metadata": {},
   "outputs": [],
   "source": [
    "abstracts = pd.read_csv(\"./abstracts.csv\")\n",
    "bodytexts = pd.read_csv(\"./bodytexts.csv\")"
   ]
  },
  {
   "cell_type": "code",
   "execution_count": 22,
   "metadata": {},
   "outputs": [
    {
     "data": {
      "text/html": [
       "<div>\n",
       "<style scoped>\n",
       "    .dataframe tbody tr th:only-of-type {\n",
       "        vertical-align: middle;\n",
       "    }\n",
       "\n",
       "    .dataframe tbody tr th {\n",
       "        vertical-align: top;\n",
       "    }\n",
       "\n",
       "    .dataframe thead th {\n",
       "        text-align: right;\n",
       "    }\n",
       "</style>\n",
       "<table border=\"1\" class=\"dataframe\">\n",
       "  <thead>\n",
       "    <tr style=\"text-align: right;\">\n",
       "      <th></th>\n",
       "      <th>abstract</th>\n",
       "    </tr>\n",
       "  </thead>\n",
       "  <tbody>\n",
       "    <tr>\n",
       "      <th>0</th>\n",
       "      <td>the positive stranded rna genomes of picornavi...</td>\n",
       "    </tr>\n",
       "    <tr>\n",
       "      <th>1</th>\n",
       "      <td>during the past three months a new coronavirus...</td>\n",
       "    </tr>\n",
       "    <tr>\n",
       "      <th>2</th>\n",
       "      <td>we integrate the human movement and healthcare...</td>\n",
       "    </tr>\n",
       "    <tr>\n",
       "      <th>3</th>\n",
       "      <td>the fast accumulation of viral metagenomic dat...</td>\n",
       "    </tr>\n",
       "    <tr>\n",
       "      <th>4</th>\n",
       "      <td>infectious bronchitis ib causes significant ec...</td>\n",
       "    </tr>\n",
       "    <tr>\n",
       "      <th>5</th>\n",
       "      <td>importance as with other traumatic events pand...</td>\n",
       "    </tr>\n",
       "    <tr>\n",
       "      <th>6</th>\n",
       "      <td>nipah virus niv came into limelight recently d...</td>\n",
       "    </tr>\n",
       "    <tr>\n",
       "      <th>7</th>\n",
       "      <td>a novel coronavirus 2019ncov emerged in wuhan...</td>\n",
       "    </tr>\n",
       "    <tr>\n",
       "      <th>8</th>\n",
       "      <td>introduction recent events highlight how emerg...</td>\n",
       "    </tr>\n",
       "    <tr>\n",
       "      <th>9</th>\n",
       "      <td>faced with the current largescale public healt...</td>\n",
       "    </tr>\n",
       "    <tr>\n",
       "      <th>10</th>\n",
       "      <td>viruses interact with hundreds to thousands of...</td>\n",
       "    </tr>\n",
       "    <tr>\n",
       "      <th>11</th>\n",
       "      <td>school closure is often considered as an optio...</td>\n",
       "    </tr>\n",
       "    <tr>\n",
       "      <th>12</th>\n",
       "      <td>posttranscriptional gene silencing ptgs is a p...</td>\n",
       "    </tr>\n",
       "    <tr>\n",
       "      <th>13</th>\n",
       "      <td>during outbreaks of emerging infections the la...</td>\n",
       "    </tr>\n",
       "    <tr>\n",
       "      <th>14</th>\n",
       "      <td>recent outbreak of coronavirus disease 2019 co...</td>\n",
       "    </tr>\n",
       "    <tr>\n",
       "      <th>15</th>\n",
       "      <td>quantitative reverse transcription polymerase ...</td>\n",
       "    </tr>\n",
       "    <tr>\n",
       "      <th>16</th>\n",
       "      <td>the spread of covid19 engulfs almost all the c...</td>\n",
       "    </tr>\n",
       "    <tr>\n",
       "      <th>17</th>\n",
       "      <td>human astroviruses are small nonenveloped viru...</td>\n",
       "    </tr>\n",
       "    <tr>\n",
       "      <th>18</th>\n",
       "      <td>ribosomal frameshifting during the translation...</td>\n",
       "    </tr>\n",
       "    <tr>\n",
       "      <th>19</th>\n",
       "      <td>since the introduction of the novel corona vir...</td>\n",
       "    </tr>\n",
       "    <tr>\n",
       "      <th>20</th>\n",
       "      <td>the recent outbreak of infections by the 2019...</td>\n",
       "    </tr>\n",
       "    <tr>\n",
       "      <th>21</th>\n",
       "      <td>in the note the logistic growth regression mod...</td>\n",
       "    </tr>\n",
       "    <tr>\n",
       "      <th>22</th>\n",
       "      <td>summarythe kinetochore is a dynamic multiprote...</td>\n",
       "    </tr>\n",
       "    <tr>\n",
       "      <th>23</th>\n",
       "      <td>herewith we present a computational model for ...</td>\n",
       "    </tr>\n",
       "    <tr>\n",
       "      <th>24</th>\n",
       "      <td>the paper evaluates total inclusive costs of t...</td>\n",
       "    </tr>\n",
       "    <tr>\n",
       "      <th>25</th>\n",
       "      <td>the outbreak of the coronavirus disease 2019 c...</td>\n",
       "    </tr>\n",
       "    <tr>\n",
       "      <th>26</th>\n",
       "      <td>an outbreak of a novel coronavirus named covi...</td>\n",
       "    </tr>\n",
       "    <tr>\n",
       "      <th>27</th>\n",
       "      <td>if covid19 containment policies fail and socia...</td>\n",
       "    </tr>\n",
       "    <tr>\n",
       "      <th>28</th>\n",
       "      <td>coronavirus disease 2019 covid19 is a newly r...</td>\n",
       "    </tr>\n",
       "    <tr>\n",
       "      <th>29</th>\n",
       "      <td>motivationlongread sequencing technologies are...</td>\n",
       "    </tr>\n",
       "    <tr>\n",
       "      <th>...</th>\n",
       "      <td>...</td>\n",
       "    </tr>\n",
       "    <tr>\n",
       "      <th>10268</th>\n",
       "      <td>there is an urgent need for potent inhibitors ...</td>\n",
       "    </tr>\n",
       "    <tr>\n",
       "      <th>10269</th>\n",
       "      <td>background the effect of corticosteroids on cl...</td>\n",
       "    </tr>\n",
       "    <tr>\n",
       "      <th>10270</th>\n",
       "      <td>introduction mathematical models and field dat...</td>\n",
       "    </tr>\n",
       "    <tr>\n",
       "      <th>10271</th>\n",
       "      <td>pseudorabies virus prv is one of the most impo...</td>\n",
       "    </tr>\n",
       "    <tr>\n",
       "      <th>10272</th>\n",
       "      <td>background pneumonia is among the main causes ...</td>\n",
       "    </tr>\n",
       "    <tr>\n",
       "      <th>10273</th>\n",
       "      <td>memory b cells that are generated during an in...</td>\n",
       "    </tr>\n",
       "    <tr>\n",
       "      <th>10274</th>\n",
       "      <td>background we describe human rhinovirus hrv de...</td>\n",
       "    </tr>\n",
       "    <tr>\n",
       "      <th>10275</th>\n",
       "      <td>listeria monocytogenes is an environmental sap...</td>\n",
       "    </tr>\n",
       "    <tr>\n",
       "      <th>10276</th>\n",
       "      <td>in 2003 the uk national blood service introduc...</td>\n",
       "    </tr>\n",
       "    <tr>\n",
       "      <th>10277</th>\n",
       "      <td>NaN</td>\n",
       "    </tr>\n",
       "    <tr>\n",
       "      <th>10278</th>\n",
       "      <td>to determine the prevalence epidemiology and g...</td>\n",
       "    </tr>\n",
       "    <tr>\n",
       "      <th>10279</th>\n",
       "      <td>sudan virus sudv outbreaks in africa are highl...</td>\n",
       "    </tr>\n",
       "    <tr>\n",
       "      <th>10280</th>\n",
       "      <td>in the recent years it has been demonstrated t...</td>\n",
       "    </tr>\n",
       "    <tr>\n",
       "      <th>10281</th>\n",
       "      <td>novel primaquine pq and halogenaniline asymmet...</td>\n",
       "    </tr>\n",
       "    <tr>\n",
       "      <th>10282</th>\n",
       "      <td>background singapore remains vulnerable to wor...</td>\n",
       "    </tr>\n",
       "    <tr>\n",
       "      <th>10283</th>\n",
       "      <td>background a highly pathogenic human coronavir...</td>\n",
       "    </tr>\n",
       "    <tr>\n",
       "      <th>10284</th>\n",
       "      <td>NaN</td>\n",
       "    </tr>\n",
       "    <tr>\n",
       "      <th>10285</th>\n",
       "      <td>feline coronaviruses fcovs are found throughou...</td>\n",
       "    </tr>\n",
       "    <tr>\n",
       "      <th>10286</th>\n",
       "      <td>we have isolated a novel lectin named hrl40 fr...</td>\n",
       "    </tr>\n",
       "    <tr>\n",
       "      <th>10287</th>\n",
       "      <td>background clustering dna sequences into funct...</td>\n",
       "    </tr>\n",
       "    <tr>\n",
       "      <th>10288</th>\n",
       "      <td>bats are reservoir hosts of many important vir...</td>\n",
       "    </tr>\n",
       "    <tr>\n",
       "      <th>10289</th>\n",
       "      <td>an infectious disease that is transmitted from...</td>\n",
       "    </tr>\n",
       "    <tr>\n",
       "      <th>10290</th>\n",
       "      <td>background only a minority of probable sars ca...</td>\n",
       "    </tr>\n",
       "    <tr>\n",
       "      <th>10291</th>\n",
       "      <td>background zoonotic transmission events play a...</td>\n",
       "    </tr>\n",
       "    <tr>\n",
       "      <th>10292</th>\n",
       "      <td>purpose to determine how patient healthcare sy...</td>\n",
       "    </tr>\n",
       "    <tr>\n",
       "      <th>10293</th>\n",
       "      <td>background some studies have shown that nasall...</td>\n",
       "    </tr>\n",
       "    <tr>\n",
       "      <th>10294</th>\n",
       "      <td>background the cytotoxic tlymphocyte immune re...</td>\n",
       "    </tr>\n",
       "    <tr>\n",
       "      <th>10295</th>\n",
       "      <td>kawasaki disease kd is an acute systemic vasc...</td>\n",
       "    </tr>\n",
       "    <tr>\n",
       "      <th>10296</th>\n",
       "      <td>tp53 gene is known as the “guardian of the gen...</td>\n",
       "    </tr>\n",
       "    <tr>\n",
       "      <th>10297</th>\n",
       "      <td>in many infectious diseases caused by either v...</td>\n",
       "    </tr>\n",
       "  </tbody>\n",
       "</table>\n",
       "<p>10298 rows × 1 columns</p>\n",
       "</div>"
      ],
      "text/plain": [
       "                                                abstract\n",
       "0      the positive stranded rna genomes of picornavi...\n",
       "1      during the past three months a new coronavirus...\n",
       "2      we integrate the human movement and healthcare...\n",
       "3      the fast accumulation of viral metagenomic dat...\n",
       "4      infectious bronchitis ib causes significant ec...\n",
       "5      importance as with other traumatic events pand...\n",
       "6      nipah virus niv came into limelight recently d...\n",
       "7       a novel coronavirus 2019ncov emerged in wuhan...\n",
       "8      introduction recent events highlight how emerg...\n",
       "9      faced with the current largescale public healt...\n",
       "10     viruses interact with hundreds to thousands of...\n",
       "11     school closure is often considered as an optio...\n",
       "12     posttranscriptional gene silencing ptgs is a p...\n",
       "13     during outbreaks of emerging infections the la...\n",
       "14     recent outbreak of coronavirus disease 2019 co...\n",
       "15     quantitative reverse transcription polymerase ...\n",
       "16     the spread of covid19 engulfs almost all the c...\n",
       "17     human astroviruses are small nonenveloped viru...\n",
       "18     ribosomal frameshifting during the translation...\n",
       "19     since the introduction of the novel corona vir...\n",
       "20      the recent outbreak of infections by the 2019...\n",
       "21     in the note the logistic growth regression mod...\n",
       "22     summarythe kinetochore is a dynamic multiprote...\n",
       "23     herewith we present a computational model for ...\n",
       "24     the paper evaluates total inclusive costs of t...\n",
       "25     the outbreak of the coronavirus disease 2019 c...\n",
       "26      an outbreak of a novel coronavirus named covi...\n",
       "27     if covid19 containment policies fail and socia...\n",
       "28      coronavirus disease 2019 covid19 is a newly r...\n",
       "29     motivationlongread sequencing technologies are...\n",
       "...                                                  ...\n",
       "10268  there is an urgent need for potent inhibitors ...\n",
       "10269  background the effect of corticosteroids on cl...\n",
       "10270  introduction mathematical models and field dat...\n",
       "10271  pseudorabies virus prv is one of the most impo...\n",
       "10272  background pneumonia is among the main causes ...\n",
       "10273  memory b cells that are generated during an in...\n",
       "10274  background we describe human rhinovirus hrv de...\n",
       "10275  listeria monocytogenes is an environmental sap...\n",
       "10276  in 2003 the uk national blood service introduc...\n",
       "10277                                                NaN\n",
       "10278  to determine the prevalence epidemiology and g...\n",
       "10279  sudan virus sudv outbreaks in africa are highl...\n",
       "10280  in the recent years it has been demonstrated t...\n",
       "10281  novel primaquine pq and halogenaniline asymmet...\n",
       "10282  background singapore remains vulnerable to wor...\n",
       "10283  background a highly pathogenic human coronavir...\n",
       "10284                                                NaN\n",
       "10285  feline coronaviruses fcovs are found throughou...\n",
       "10286  we have isolated a novel lectin named hrl40 fr...\n",
       "10287  background clustering dna sequences into funct...\n",
       "10288  bats are reservoir hosts of many important vir...\n",
       "10289  an infectious disease that is transmitted from...\n",
       "10290  background only a minority of probable sars ca...\n",
       "10291  background zoonotic transmission events play a...\n",
       "10292  purpose to determine how patient healthcare sy...\n",
       "10293  background some studies have shown that nasall...\n",
       "10294  background the cytotoxic tlymphocyte immune re...\n",
       "10295   kawasaki disease kd is an acute systemic vasc...\n",
       "10296  tp53 gene is known as the “guardian of the gen...\n",
       "10297  in many infectious diseases caused by either v...\n",
       "\n",
       "[10298 rows x 1 columns]"
      ]
     },
     "execution_count": 22,
     "metadata": {},
     "output_type": "execute_result"
    }
   ],
   "source": [
    "abstracts"
   ]
  },
  {
   "cell_type": "markdown",
   "metadata": {},
   "source": [
    "## TD-IDF - SciKitLearn"
   ]
  },
  {
   "cell_type": "code",
   "execution_count": 42,
   "metadata": {},
   "outputs": [],
   "source": [
    "#Non Parallel implementation\n",
    "from sklearn.feature_extraction.text import TfidfVectorizer\n",
    "def vectorize(text, max_features):\n",
    "    \n",
    "    vectorizer = TfidfVectorizer(max_features=max_features)\n",
    "    X = vectorizer.fit_transform(text)\n",
    "    return X\n"
   ]
  },
  {
   "cell_type": "code",
   "execution_count": 43,
   "metadata": {},
   "outputs": [
    {
     "name": "stdout",
     "output_type": "stream",
     "text": [
      "(10298, 4096) <class 'scipy.sparse.csr.csr_matrix'>\n"
     ]
    }
   ],
   "source": [
    "text = abstracts['abstract'].values\n",
    "X = vectorize(text, 2 ** 12)\n",
    "print(X.shape,type(X))"
   ]
  },
  {
   "cell_type": "code",
   "execution_count": 44,
   "metadata": {},
   "outputs": [
    {
     "name": "stdout",
     "output_type": "stream",
     "text": [
      "  (0, 3154)\t0.0663037013816915\n",
      "  (0, 1905)\t0.01830551760193681\n",
      "  (0, 3454)\t0.09676221933595329\n",
      "  (0, 2691)\t0.12066359485327187\n",
      "  (0, 3052)\t0.08749307595622605\n",
      "  (0, 2915)\t0.06382250515143108\n",
      "  (0, 1061)\t0.09969480326093505\n",
      "  (0, 3206)\t0.06221244913660665\n",
      "  (0, 1210)\t0.09111298675133345\n",
      "  (0, 2667)\t0.039873444596741914\n",
      "  (0, 847)\t0.07917816337008543\n",
      "  (0, 2074)\t0.02301517672171394\n",
      "  (0, 3751)\t0.025002007737436393\n",
      "  (0, 2627)\t0.04711287465504985\n",
      "  (0, 3731)\t0.04414069819711706\n",
      "  (0, 1588)\t0.02749229192514992\n",
      "  (0, 4020)\t0.028021071007556703\n",
      "  (0, 1956)\t0.050913869843953116\n",
      "  (0, 2548)\t0.04952097627200816\n",
      "  (0, 4035)\t0.029027014019528324\n",
      "  (0, 292)\t0.04487429681492721\n",
      "  (0, 2133)\t0.08597314005501845\n",
      "  (0, 1592)\t0.09099844048332192\n",
      "  (0, 1790)\t0.042171087899497396\n",
      "  (0, 246)\t0.09692174778056876\n",
      "  :\t:\n",
      "  (0, 3590)\t0.07254609218100817\n",
      "  (0, 1531)\t0.07084513659482568\n",
      "  (0, 865)\t0.15732702682977648\n",
      "  (0, 2106)\t0.11316979525088942\n",
      "  (0, 34)\t0.0772566409716851\n",
      "  (0, 3936)\t0.10919081013162345\n",
      "  (0, 327)\t0.029765597037270733\n",
      "  (0, 1703)\t0.03674067362528182\n",
      "  (0, 1543)\t0.12264324789858913\n",
      "  (0, 3992)\t0.06494297750543465\n",
      "  (0, 1132)\t0.037826858740037154\n",
      "  (0, 3156)\t0.06605552958401116\n",
      "  (0, 3903)\t0.11053518432111657\n",
      "  (0, 336)\t0.1262966657491057\n",
      "  (0, 580)\t0.10028007341691698\n",
      "  (0, 1577)\t0.09724524301224355\n",
      "  (0, 3109)\t0.09384407794447551\n",
      "  (0, 2635)\t0.08357647748640812\n",
      "  (0, 2136)\t0.12347123769123915\n",
      "  (0, 3476)\t0.06441055203736602\n",
      "  (0, 2617)\t0.1259780744999723\n",
      "  (0, 1635)\t0.2991525671904245\n",
      "  (0, 3286)\t0.05382468987479048\n",
      "  (0, 2865)\t0.05757034919210347\n",
      "  (0, 3733)\t0.1617359769512632 (1, 4096)\n"
     ]
    }
   ],
   "source": [
    "print(X[0],X[0].shape)"
   ]
  },
  {
   "cell_type": "code",
   "execution_count": null,
   "metadata": {},
   "outputs": [],
   "source": [
    "# start_time = datetime.now()\n",
    "# bodytext = bodytexts['body_text'].values\n",
    "# Xbody = vectorize(bodytext, 2 ** 12)\n",
    "# end_time = datetime.now()\n",
    "# print(f'Generated TF-IDF Calculated DTM for all {len(bodytext)} body texts. time taken:{end_time-start_time}')\n",
    "# print(Xbody.shape,type(Xbody))"
   ]
  },
  {
   "cell_type": "markdown",
   "metadata": {},
   "source": [
    "TODO: Plot this"
   ]
  },
  {
   "cell_type": "markdown",
   "metadata": {},
   "source": [
    "## Spark Paralleizable implementation"
   ]
  },
  {
   "cell_type": "markdown",
   "metadata": {},
   "source": [
    "[Spark Documentation Reference](https://spark.apache.org/docs/2.2.0/mllib-feature-extraction.html)\n",
    "\n",
    "[Spark implementation reference](https://medium.com/@rezandry/find-most-relevance-text-data-using-pyspark-with-tf-idf-a4269a13e59)"
   ]
  },
  {
   "cell_type": "markdown",
   "metadata": {},
   "source": [
    "Big Deal ? Spark.ml vs Spark.mllib [link](https://stackoverflow.com/questions/38835829/whats-the-difference-between-spark-ml-and-mllib-packages)"
   ]
  },
  {
   "cell_type": "code",
   "execution_count": 70,
   "metadata": {},
   "outputs": [],
   "source": [
    "sc.stop()"
   ]
  },
  {
   "cell_type": "markdown",
   "metadata": {},
   "source": [
    "## Creating Spark Session"
   ]
  },
  {
   "cell_type": "code",
   "execution_count": 71,
   "metadata": {},
   "outputs": [],
   "source": [
    "from pyspark import SparkConf, SparkContext\n",
    "from pyspark.ml import Pipeline\n",
    "from pyspark.ml.feature import HashingTF\n",
    "from pyspark.ml.feature import IDF\n",
    "from pyspark.ml.feature import Tokenizer"
   ]
  },
  {
   "cell_type": "code",
   "execution_count": 72,
   "metadata": {},
   "outputs": [],
   "source": [
    "# Create Spark session\n",
    "spark = SparkSession.builder \\\n",
    "                    .appName(appName) \\\n",
    "                    .config(\"spark.driver.memory\", \"15g\") \\\n",
    "                    .master(master) \\\n",
    "                    .getOrCreate()\n",
    "\n",
    "conf = SparkConf().setAppName(\"SparkTFIDF\")\n",
    "conf.set(\"spark.kryoserializer.buffer.max\", \"2047\")\n",
    "sc = SparkContext(conf=conf)\n"
   ]
  },
  {
   "cell_type": "code",
   "execution_count": 73,
   "metadata": {},
   "outputs": [
    {
     "name": "stdout",
     "output_type": "stream",
     "text": [
      "10298\n"
     ]
    },
    {
     "data": {
      "text/html": [
       "<div>\n",
       "<style scoped>\n",
       "    .dataframe tbody tr th:only-of-type {\n",
       "        vertical-align: middle;\n",
       "    }\n",
       "\n",
       "    .dataframe tbody tr th {\n",
       "        vertical-align: top;\n",
       "    }\n",
       "\n",
       "    .dataframe thead th {\n",
       "        text-align: right;\n",
       "    }\n",
       "</style>\n",
       "<table border=\"1\" class=\"dataframe\">\n",
       "  <thead>\n",
       "    <tr style=\"text-align: right;\">\n",
       "      <th></th>\n",
       "      <th>abstract</th>\n",
       "    </tr>\n",
       "  </thead>\n",
       "  <tbody>\n",
       "    <tr>\n",
       "      <th>0</th>\n",
       "      <td>the positive stranded rna genomes of picornavi...</td>\n",
       "    </tr>\n",
       "    <tr>\n",
       "      <th>1</th>\n",
       "      <td>during the past three months a new coronavirus...</td>\n",
       "    </tr>\n",
       "    <tr>\n",
       "      <th>2</th>\n",
       "      <td>we integrate the human movement and healthcare...</td>\n",
       "    </tr>\n",
       "    <tr>\n",
       "      <th>3</th>\n",
       "      <td>the fast accumulation of viral metagenomic dat...</td>\n",
       "    </tr>\n",
       "    <tr>\n",
       "      <th>4</th>\n",
       "      <td>infectious bronchitis ib causes significant ec...</td>\n",
       "    </tr>\n",
       "    <tr>\n",
       "      <th>5</th>\n",
       "      <td>importance as with other traumatic events pand...</td>\n",
       "    </tr>\n",
       "    <tr>\n",
       "      <th>6</th>\n",
       "      <td>nipah virus niv came into limelight recently d...</td>\n",
       "    </tr>\n",
       "    <tr>\n",
       "      <th>7</th>\n",
       "      <td>a novel coronavirus 2019ncov emerged in wuhan...</td>\n",
       "    </tr>\n",
       "    <tr>\n",
       "      <th>8</th>\n",
       "      <td>introduction recent events highlight how emerg...</td>\n",
       "    </tr>\n",
       "    <tr>\n",
       "      <th>9</th>\n",
       "      <td>faced with the current largescale public healt...</td>\n",
       "    </tr>\n",
       "  </tbody>\n",
       "</table>\n",
       "</div>"
      ],
      "text/plain": [
       "                                            abstract\n",
       "0  the positive stranded rna genomes of picornavi...\n",
       "1  during the past three months a new coronavirus...\n",
       "2  we integrate the human movement and healthcare...\n",
       "3  the fast accumulation of viral metagenomic dat...\n",
       "4  infectious bronchitis ib causes significant ec...\n",
       "5  importance as with other traumatic events pand...\n",
       "6  nipah virus niv came into limelight recently d...\n",
       "7   a novel coronavirus 2019ncov emerged in wuhan...\n",
       "8  introduction recent events highlight how emerg...\n",
       "9  faced with the current largescale public healt..."
      ]
     },
     "execution_count": 73,
     "metadata": {},
     "output_type": "execute_result"
    }
   ],
   "source": [
    "print(len(abstracts))\n",
    "abstracts[0:10]"
   ]
  },
  {
   "cell_type": "markdown",
   "metadata": {},
   "source": [
    "to work with pyspark and spark APIs, it would be better if we transformed our pandas dataframes to datastructures that it is more comfortable with, such as the SQLcontext Dataframe. This will hopefully make desigining the rest of the tf-idf parallelizable pipeline easier."
   ]
  },
  {
   "cell_type": "code",
   "execution_count": 74,
   "metadata": {},
   "outputs": [],
   "source": [
    "from pyspark import sql"
   ]
  },
  {
   "cell_type": "code",
   "execution_count": 75,
   "metadata": {},
   "outputs": [],
   "source": [
    "spdf = sql.SQLContext(sc).createDataFrame(abstracts[:500])"
   ]
  },
  {
   "cell_type": "code",
   "execution_count": 76,
   "metadata": {},
   "outputs": [
    {
     "data": {
      "text/plain": [
       "DataFrame[abstract: string]"
      ]
     },
     "execution_count": 76,
     "metadata": {},
     "output_type": "execute_result"
    }
   ],
   "source": [
    "spdf"
   ]
  },
  {
   "cell_type": "code",
   "execution_count": 77,
   "metadata": {},
   "outputs": [
    {
     "data": {
      "text/plain": [
       "[Row(abstract='the positive stranded rna genomes of picornaviruses comprise a single large open reading frame flanked by 5′ and 3′ untranslated regions utrs footandmouth disease virus fmdv has an unusually large 5′ utr 13 kb containing five structural domains these include the internal ribosome entry site ires which facilitates initiation of translation and the cisacting replication element cre less well characterised structures are a 5′ terminal 360 nucleotide stemloop a variable length polyctract of approximately 100200 nucleotides and a series of two to four tandemly repeated pseudoknots pks we investigated the structures of the pks by selective 2′ hydroxyl acetylation analysed by primer extension shape analysis and determined their contribution to genome replication by mutation and deletion experiments shape and mutation experiments confirmed the importance of the previously predicted pk structures for their function deletion experiments showed that although pks are not essential for replication they provide genomes with a competitive advantage however although replicons and fulllength genomes lacking all pks were replication competent no infectious virus was rescued from genomes containing less than one pk copy this is consistent with our earlier report describing the presence of putative packaging signals in the pk region'),\n",
       " Row(abstract='during the past three months a new coronavirus sarscov2 epidemic has been growing exponentially affecting over 100 thousand people worldwide and causing enormous distress to economies and societies of affected countries a plethora of analyses based on viral sequences has already been published in scientific journals as well as through nonpeer reviewed channels to investigate sarscov2 genetic heterogeneity and spatiotemporal dissemination we examined all full genome sequences currently available to assess the presence of sufficient information for reliable phylogenetic and phylogeographic studies our analysis clearly shows severe limitations in the present data in light of which any finding should be considered at the very best preliminary and hypothesisgenerating hence the need for avoiding stigmatization based on partial information and for continuing concerted efforts to increase number and quality of the sequences required for robust tracing of the epidemic'),\n",
       " Row(abstract='we integrate the human movement and healthcare resource data to identify cities with high vulnerability towards the 2019ncov epidemic with respect to available health resources the results inform public health responses in multiple ways'),\n",
       " Row(abstract='the fast accumulation of viral metagenomic data has contributed significantly to new rna virus discovery however the short read size complex composition and large data size can all make taxonomic analysis difficult in particular commonly used alignmentbased methods are not ideal choices for detecting new viral species in this work we present a novel hierarchical classification model named cheer which can conduct readlevel taxonomic classification from order to genus for new species by combining kmer embeddingbased encoding hierarchically organized cnns and carefully trained rejection layer cheer is able to assign correct taxonomic labels for reads from new species we tested cheer on both simulated and real sequencing data the results show that cheer can achieve higher accuracy than popular alignmentbased and alignmentfree taxonomic assignment tools the source code scripts and pretrained parameters for cheer are available via github httpsgithubcomkennthshangcheer'),\n",
       " Row(abstract='infectious bronchitis ib causes significant economic losses in the global poultry industry control of infectious bronchitis is hindered by the genetic diversity of the causative agent infectious bronchitis virus ibv which has led to the emergence of several serotypes that lack complete serologic crossprotection while serotyping by definition requires immunologic characterization genotyping is an efficient means to identify ibvs detected in samples sanger sequencing of the s1 subunit of the spike gene is currently used to genotype ibv however the universal s1 pcr was created to work from cultured ibv and it is inefficient at detecting mixed isolates this paper describes a minionbased ampseq method that genetically typed ibv from clinical samples including samples with multiple isolates total rna was extracted from fifteen tracheal scrapings and choanal cleft swab samples randomly reverse transcribed and pcr amplified using modified s1targeted primers amplicons were barcoded to allow for pooling of samples processed per manufacturer’s instructions into a 1d minion sequencing library and sequenced on the minion the ampseq method detected ibv in 13 of 14 ibvpositive samples ampseq accurately detected and genotyped both ibv lineages in three of five samples containing two ibv lineages additionally one sample contained three ibv lineages and ampseq accurately detected two of the three strain identification including detection of different strains from the same lineage was also possible with this ampseq method the results demonstrate the feasibility of using minionbased ampseq for rapid and accurate identification and lineage typing of ibv from oral swab samples'),\n",
       " Row(abstract='importance as with other traumatic events pandemics such as coronavirus19 covid19 may precipitate or exacerbate psychiatric symptoms such as anxiety and depression while potentially interfering with health systems capacity to treat such symptoms objective to quantify the impact of increasing covid19 infection on extent of psychiatric assessment across 5 eastern massachusetts hospitals design in silico cohort using narrative clinical notes generated between 122020 and 3252020 setting emergency department and outpatient settings from 2 academic medical centers and 3 community hospitals participants all individuals age 13 and older presenting to emergency department or outpatient clinics main outcome or measure documentation of psychiatric symptoms reflecting depression anxiety psychosis or suicide and documentation of violence was drawn from previouslyvalidated term lists results a total of 2483159 outpatient and 205957 emergency department visit notes were analyzed instances of notes referencing depression or anxiety decreased 7581 in outpatient settings with onset of coronavirus in march 2019 and by 4445 in emergency departments in adjusted logistic regression presence of individual psychiatric symptoms in outpatient notes was associated with significant decreases in likelihood of coronavirus testing for depression or0636 95 ci 06060667 conversely presence of violence in an emergency department note was associated with greater likelihood of testing or1487 95 ci 12491761 conclusions and relevance documentation of psychiatric symptoms in both outpatient and emergency department settings diminished sharply in the context of increasing coronavirus infection in massachusetts suggesting that efforts to provide additional resources to manage psychiatric symptoms will be needed funding none'),\n",
       " Row(abstract='nipah virus niv came into limelight recently due to an outbreak in kerala india niv causes severe disease and death in people with over 75 case fatality rate it is a public health concern and has the potential to become a global pandemic lack of treatment has forced the containment methods to be restricted to isolation and surveillance who’s ‘rd blueprint list of priority diseases’ 2018 indicates that there is an urgent need for accelerated research  development for addressing nivmaterials  methodsin the quest for druglike niv inhibitors nvis a thorough literature search followed by systematic data curation was conducted rigorous data analysis was done with curated nvis for prioritizing druglike compounds for the same more than 1800 descriptors of nvis were computed and comparative analysis was performed with the fda approved small molecules and antivirals these compounds were further evaluated through pains filter to study their toxicity profile simultaneously compounds were also prioritized based on the robustness of the assays through which they were identifiedresultsour efforts lead to the creation of a wellcurated structured knowledgebase of 182 nvis with 98 small molecule inhibitors the reported ic50ec50 values for some of these inhibitors are in the nanomolar range – as low as 047 nm in order to prioritize these inhibitors we performed several tests and applied filters to identify druglike nontoxic compounds of 98 a few compounds passed drulito  pains filters exhibiting druglike properties and were also prioritized in an independent screen based only the assay robustness the nvis have diverse structural features and offer a wide spectrum of ways in which they can be developed further as druglike moleculesconclusionwe report a knowledgebase for furthering the development of nvis the platform has a diverse set of 98 nvis of which a few have been prioritized based on a combined evidence strategy the platform has the provision to submit new inhibitors as and when reported by the community for further enhancement of niv inhibitor landscape'),\n",
       " Row(abstract=' a novel coronavirus 2019ncov emerged in wuhan city china at the end of 2019 and has caused an outbreak of humantohuman transmission with a public health emergency of international concern declared by the world health organization on january 30 2020 aim we aimed to estimate the potential risk and geographic range of wuhan novel coronavirus 2019ncov spread within and beyond china from january through to april 2020 methods a series of domestic and international travel networkbased connectivity and risk analyses were performed by using deidentified and aggregated mobile phone data air passenger itinerary data and case reports results the cordon sanitaire of wuhan is likely to have occurred during the latter stages of peak population numbers leaving the city before lunar new year lny with travellers departing into neighbouring cities and other megacities in china we estimated that 59912 air passengers of which 834 95 ui 478  1349 had 2019ncov infection travelled from wuhan to 382 cities outside of mainland china during the two weeks prior to the lockdown of wuhan the majority of these cities were in asia but major hubs in europe the us and australia were also prominent with strong correlation seen between predicted importation risks and reported cases because significant spread has already occurred a large number of airline travellers 33 million under the scenario of 75 travel reduction from normal volumes may be required to be screened at origin highrisk cities in china and destinations across the globe for the following three months of february to april 2020 to effectively limit spread beyond its current extent conclusion further spread of 2019ncov within china and international exportation is likely to occur all countries especially vulnerable regions should be prepared for efforts to contain the 2019ncov infection'),\n",
       " Row(abstract='introduction recent events highlight how emerging and reemerging pathogens are becoming global challenges for public health in december 2019 a novel coronavirus has emerged this has suddenly turned out into global health concern objectives aim of this research is to focus on the bibliometric aspects in order to measure what is published in the first 30days of a global epidemic outbreak methods we searched pubmed database in order to find all relevant studies in the first 30days from the first publication results from the initial 442 identified articles 234 were read inextenso the majority of papers come from china uk and usa 637 of the papers were commentaries editorials and reported data and only 175 of the sources used data directly collected on the field topics mainly addressed were epidemiology preparedness and generic discussion nnr showed a reduction for both the objectives assessed from january to february conclusions diagnosis and effective preventive and therapeutic measures were the fields in which more research is still needed the vast majority of scientific literature in the first 30days of an epidemic outbreak is based on reported data rather than primary data nevertheless the scientific statements and public health decisions rely on these data'),\n",
       " Row(abstract='faced with the current largescale public health emergency collecting sorting and analyzing biomedical information related to the coronavirus should be done as quickly as possible to gain a global perspective which is a basic requirement for strengthening epidemic control capacity however for human researchers studying the viruses and the hosts the vast amount of information available cannot be processed effectively and in a timely manner particularly when the scientific understanding may be limited which can further lower the information processing efficiency we present twirls a method that can automatically acquire organize and classify information additionally independent functional data sources can be added to build an inference system using a machinebased approach which can provide relevant knowledge to help human researchers quickly establish subject cognition and to make more effective decisions twirls can automatically analyze more than three million words in more than 14000 literature articles in only 4 hours combining with generalized gene interaction databases creates a data interface that can help researchers to further analyze the information using the twirls system we found that an important regulatory factor angiotensinconverting enzyme 2 ace2 may be involved in the host pathological changes on binding to the coronavirus after infection after triggering functional changes in ace2at2r an imbalance in the steadystate cytokine regulatory axis involving the reninangiotensin system and ip10 leads to a cytokine storm'),\n",
       " Row(abstract='viruses interact with hundreds to thousands of proteins in mammals yet adaptation against viruses has only been studied in a few proteins specialized in antiviral defense whether adaptation to viruses typically involves only specialized antiviral proteins or affects a broad array of proteins is unknown here we analyze adaptation in 1300 virusinteracting proteins manually curated from a set of 9900 proteins conserved across mammals we show that viruses i use the more evolutionarily constrained proteins from the cellular functions they hijack and that ii despite this high constraint virusinteracting proteins account for a high proportion of all protein adaptation in humans and other mammals adaptation is elevated in virusinteracting proteins across all functional categories including both immune and nonimmune functions our results demonstrate that viruses are one of the most dominant drivers of evolutionary change across mammalian and human proteomes'),\n",
       " Row(abstract='school closure is often considered as an option to mitigate influenza epidemics because of its potential to reduce transmission in children and then in the community the policy is still however highly debated because of controversial evidence moreover the specific mechanisms leading to mitigation are not clearly identifiedwe introduced a stochastic spatial agespecific metapopulation model to assess the role of holidayassociated behavioral changes and how they affect seasonal influenza dynamics the model is applied to belgium parameterized with countryspecific data on social mixing and travel and calibrated to the 20082009 influenza season it includes behavioral changes occurring during weekend vs weekday and holiday vs schoolterm several experimental scenarios are explored to identify the relevant social and behavioral mechanismsstochastic numerical simulations show that holidays considerably delay the peak of the season and mitigate its impact changes in mixing patterns are responsible for the observed effects whereas changes in travel behavior do not alter the epidemic weekends are important in slowing down the season by periodically dampening transmission christmas holidays have the largest impact on the epidemic however later school breaks may help in reducing the epidemic size stressing the importance of considering the full calendar an extension of the christmas holiday of 1 week may further mitigate the epidemicchanges in the way individuals establish contacts during holidays are the key ingredient explaining the mitigating effect of regular school closure our findings highlight the need to quantify these changes in different demographic and epidemic contexts in order to provide accurate and reliable evaluations of closure effectiveness they also suggest strategic policies in the distribution of holiday periods to minimize the epidemic impact'),\n",
       " Row(abstract='posttranscriptional gene silencing ptgs is a powerful tool to understand and control plant metabolic pathways which is central to plant biotechnology ptgs is commonly accomplished through delivery of small interfering rna sirna into cells while sirna delivery has been optimized for mammalian systems it remains a significant challenge for plants due to the plant cell wall standard plant sirna delivery methods agrobacterium and viruses involve coding sirna into dna vectors and are only tractable for certain plant species herein we develop a nanotubebased platform for direct delivery of sirna and show high silencing efficiency in intact plant cells we demonstrate that nanotubes successfully deliver sirna and silence endogenous genes owing to effective intracellular delivery and nanotubeinduced protection of sirna from nuclease degradation this study establishes that nanotubes which are below the size exclusion limit of the plant cell wall could enable a myriad of plant biotechnology applications that rely on rna delivery'),\n",
       " Row(abstract='during outbreaks of emerging infections the lack of effective drugs and vaccines increases reliance on nonpharmacologic public health interventions and behavior change to limit humantohuman transmission interventions that increase the speed with which infected individuals remove themselves from the susceptible population are paramount particularly isolation and hospitalization ebola virus disease evd severe acute respiratory syndrome sars and middle east respiratory syndrome mers are zoonotic viruses that have caused significant recent outbreaks with sustained humantohuman transmission this investigation quantified changing mean removal rates mrr and days from symptom onset to hospitalization dsoh of infected individuals from the population in seven different outbreaks of evd sars and mers to test for statistically significant differences in these metrics between outbreaks we found that epidemic week and viral serial interval were correlated with the speed with which populations developed and maintained health behaviors in each outbreak'),\n",
       " Row(abstract='recent outbreak of coronavirus disease 2019 covid19 in china has lead a global pandemic around the world for controlling covid19 outbreaks most countries take two typical intervention strategies suppression approach like immediately lockdowning cities at epicentre of and mitigation or mitigation approach that slows down but not stopping epidemic of covid19 for reducing peak healthcare demand both strategies have their apparent merits and limitations it becomes extremely hard to conduct one intervention strategy as the most feasible way to certain country targeting at this problem this paper conducts a feasibility study by defining a mathematical model named semcr that access the effectiveness of mitigation suppression and hybrid interventions for controlling covid19 outbreaks in london and wuhan the model first extends traditional seir susceptibleexposedinfectiousrecovered model by considering one key fact there is a direct link between exposed and recovered population then it defines threshold and parameters to classify two stages of covid control active contain by isolation of cases and contacts passive contain by suppression or mitigation the model was fitted and evaluated with public dataset containing daily number of confirmed active cases including wuhan london hubei province and the uk during january 2020 and march 2020 the simulated results show that 1 suppression taken in wuhan significantly reduces total exposed and infectious populations but it has to be consistently maintained at least a period of 90 days by the middle of april 2020 where its success relies on sufficient support from other parts of china 2 in london it is possible to take a hybrid intervention of suppression and mitigation for every 2 or 3 weeks over a longer period while the total infectious populations will be doubled the economic performance of london will be less affected due to limited mobility constraints 3 both in wuhan and london cases one important issue of fitting practical data is that there are a large portion like 425 in wuhan of selfrecovered population who are asymptomatic or mild symptomatic these people might think they have been healthy at home because they did not go to hospital for covid19 tests early release of intervention intensity might increase a risk of the second breakout one limitation of our model is that its prediction of infections and deaths depends on a parameter estimation of intervention intensity that presented by averagenumber contacts with susceptible individuals as infectious individuals in a certain region we assume that each intervention has the same effect on the reproduction number in different regions over time the practical effectiveness of implementing intervention intensity might be varied with respect to cultures or other issues of certain county'),\n",
       " Row(abstract='quantitative reverse transcription polymerase chain reaction rtqpcr assay is the gold standard recommended to test for acute sarscov2 infection it has been used by the centers for disease control and prevention cdc and several other companies in their emergency use authorization eua assays with many pcrbased molecular assays an extraction step is routinely used as part of the protocol this step can take up a significant amount of time and labor especially if the extraction is performed manually long assay time partly caused by slow sample preparation steps has created a large backlog when testing patient samples suspected of covid19 using flu and rsv clinical specimens we have collected evidence that the rtqpcr assay can be performed directly on patient sample material from a nasal swab immersed in virus transport medium vtm without an rna extraction step we have also used this approach to test for the direct detection of sarscov2 reference materials spiked in vtm our data while preliminary suggest that using a few microliters of these untreated samples still can lead to sensitive test results if rna extraction steps can be omitted without significantly affecting clinical sensitivity the turnaround time of covid19 tests and the backlog we currently experience can be reduced drastically next we will confirm our findings using patient samples'),\n",
       " Row(abstract='the spread of covid19 engulfs almost all the countries and territories of the planet and infections and fatality are increasing rapidly the first epicenter of its massive spread was in wuhan hubei province china having a temperate weather but the spread has got an unprecedented momentum in european temperate countries mainly in italy and spain as of march 30 2020 however malaysia and singapore and the neighboring tropical countries of china got relatively low spread and fatality that created a research interest on whether there are potential impacts of weather condition on covid19 spread adopting the sir susceptible infected removed deviated model to predict potential cases and death in the coming days from covid19 was done using the secondary and official sources of data this study shows that covid19 spread and fatality tend to be high across the world but compared to tropical countries it is going to be incredibly high in the temperate countries having lower temperature 716°c and humidity 8090 in last march however some literature predicted that this might not to be true rather irrespective of weather conditions there might be a continuous spread and death moreover a large number of asymptotic covid19 carrier in both temperate and tropical countries may reoutbreak in the coming winter therefore a comprehensive global program with the leadership of who for testing of entire population of the world is required which will be very useful for the individual states to take proper political action social movement and medical services'),\n",
       " Row(abstract='human astroviruses are small nonenveloped viruses with positivesense singlestranded rna genomes that contain three main open reading frames orf1a orf1b and orf2 astroviruses cause acute gastroenteritis in children worldwide and have been associated with encephalitis and meningitis in immunocompromised individuals through comparative genomic analysis of 400 astrovirus sequences we identified a conserved “orfx” overlapping the capsidencoding orf2 in genogroup i iii and iv astroviruses orfx appears to be subject to purifying selection consistent with it encoding a functional protein product termed xp using ribosome profiling of cells infected with human astrovirus 1 we confirm initiation at the orfx aug xpknockout astroviruses are strongly attenuated and after passaging can partly restore viral titer via pseudoreversions thus demonstrating that xp plays an important role in virus growth to further investigate xp we developed an astrovirus replicon system we demonstrate that xp has only minor effects on rna replication and structural protein production instead xp associates with the plasma membrane with an extracellular nterminus topology and promotes efficient virus release using two different assays we show that expression of human or related astrovirus xps leads to cell permeabilization suggesting a viroporinlike activity the discovery of xp advances our knowledge of these important human viruses and opens a new direction of research into astrovirus replication and pathogenesis'),\n",
       " Row(abstract='ribosomal frameshifting during the translation of rna is implicated in both human disease and viral infection while previous work has uncovered many mechanistic details about single rna frameshifting kinetics in vitro very little is known about how single rna frameshift in living systems to confront this problem we have developed technology to quantify livecell single rna translation dynamics in frameshifted open reading frames applying this technology to rna encoding the hiv1 frameshift sequence reveals a small subset 8 of the translating pool robustly frameshift in living cells frameshifting rna are preferentially in multirna “translation factories” are translated at about the same rate as nonframeshifting rna 2 aasec and can continuously frameshift for more than four rounds of translation fits to a bursty model of frameshifting constrain frameshifting kinetic rates and demonstrate how ribosomal traffic jams contribute to the persistence of the frameshifting state these data provide novel insight into retroviral frameshifting and could lead to new strategies to perturb the process in living cells'),\n",
       " Row(abstract='since the introduction of the novel corona virus the covid 19 to the chinese city wuhan in the hubei province during the late december 2019 the effectiveness of the deadly disease its human infection spreading severity and the mortality rate of the infection has been an issue of debate the outbreak of the virus along the time has become a massive threat to the global public health security and has been declared as a pandemic accounting the radical number of increases in the infected cases and the death due to covid 19 infections around the globe there is a need to predict the infections among the people by making proper optimization and using various infectious disease modelling idm methods in order to challenge the outcome in comparison with previous diseases like sars and ebola viruses the new corona virus covid 19 infections are infectious during the incubation period in addition to that naturally produced droplets from humans eg droplets produced by breathing talking sneezing coughing and persontoperson contact transmission are reported to be the foremost ways of transmission of novel corona virus by considering the above two factors a modified seir susceptibility exposure infection recovery method have been used for predicting the spread of the infections in the state of tamil nadu which is located in the southern part of india further we have utilized the current surveillance data from health and family welfare department government of tamil nadu to accurately predict the spreading trend of the infection on a state level')]"
      ]
     },
     "execution_count": 77,
     "metadata": {},
     "output_type": "execute_result"
    }
   ],
   "source": [
    "spdf.head(20)"
   ]
  },
  {
   "cell_type": "markdown",
   "metadata": {},
   "source": [
    "again here, the HashingTF(term frequency hashing class) requires a string input, so we will again use the *abstracts* and the *bodytexts* datatables."
   ]
  },
  {
   "cell_type": "markdown",
   "metadata": {},
   "source": [
    "Pipeline reference:[link](https://spark.apache.org/docs/latest/ml-pipeline.html#example-pipeline)"
   ]
  },
  {
   "cell_type": "code",
   "execution_count": 78,
   "metadata": {},
   "outputs": [],
   "source": [
    "# Configure an ML pipeline, which consists of three stages: tokenizer, hashingTF, and lr.\n",
    "tokenizer = Tokenizer(inputCol=\"abstract\", outputCol=\"words\")\n",
    "hashingTF = HashingTF(inputCol=tokenizer.getOutputCol(), outputCol=\"rawFeatures\")\n",
    "idf = IDF(inputCol=\"rawFeatures\", outputCol=\"features\",minDocFreq=2)\n",
    "pipeline = Pipeline(stages=[tokenizer, hashingTF, idf])"
   ]
  },
  {
   "cell_type": "code",
   "execution_count": 80,
   "metadata": {},
   "outputs": [
    {
     "name": "stdout",
     "output_type": "stream",
     "text": [
      "<class 'pyspark.ml.pipeline.PipelineModel'> <class 'pyspark.sql.dataframe.DataFrame'> \n",
      "TFIDF computed. Time taken: 0:00:03.791125\n"
     ]
    }
   ],
   "source": [
    "starttime = datetime.now()\n",
    "pipelinemodel = pipeline.fit(spdf)\n",
    "training_transform = pipelinemodel.transform(spdf)\n",
    "endtime = datetime.now()\n",
    "print(type(pipelinemodel),type(training_transform),f'\\nTFIDF computed. Time taken: {endtime-starttime}')"
   ]
  },
  {
   "cell_type": "code",
   "execution_count": 81,
   "metadata": {},
   "outputs": [
    {
     "data": {
      "text/plain": [
       "DataFrame[abstract: string, words: array<string>, rawFeatures: vector, features: vector]"
      ]
     },
     "execution_count": 81,
     "metadata": {},
     "output_type": "execute_result"
    }
   ],
   "source": [
    "training_transform"
   ]
  },
  {
   "cell_type": "markdown",
   "metadata": {},
   "source": [
    "# PCA  & Clustering"
   ]
  },
  {
   "cell_type": "code",
   "execution_count": 82,
   "metadata": {},
   "outputs": [],
   "source": [
    "from pyspark.mllib.feature import HashingTF, IDF\n",
    "\n",
    "# Load documents (one per line).\n",
    "documents = sc.parallelize(abstracts['abstract'][:1000]).map(lambda line: line.split(\" \"))\n",
    "\n",
    "hashingTF = HashingTF(numFeatures = 2 ** 12)\n",
    "tf = hashingTF.transform(documents)\n",
    "\n",
    "# While applying HashingTF only needs a single pass to the data, applying IDF needs two passes:\n",
    "# First to compute the IDF vector and second to scale the term frequencies by IDF.\n",
    "tf.cache()\n",
    "idf = IDF().fit(tf)\n",
    "tfidf = idf.transform(tf)\n",
    "\n",
    "# spark.mllib's IDF implementation provides an option for ignoring terms\n",
    "# which occur in less than a minimum number of documents.\n",
    "# In such cases, the IDF for these terms is set to 0.\n",
    "# This feature can be used by passing the minDocFreq value to the IDF constructor.\n",
    "idfIgnore = IDF(minDocFreq=2).fit(tf)\n",
    "tfidfIgnore = idfIgnore.transform(tf)"
   ]
  },
  {
   "cell_type": "code",
   "execution_count": 83,
   "metadata": {},
   "outputs": [
    {
     "name": "stdout",
     "output_type": "stream",
     "text": [
      "Collected the RDDs to caclulate shape of TF-IDF matrix. Shape(500, 4096):. time taken:0:01:32.634786\n"
     ]
    }
   ],
   "source": [
    "start_time = datetime.now()\n",
    "import numpy as np\n",
    "tempnparray = np.array(tfidfIgnore.collect())\n",
    "end_time = datetime.now()\n",
    "print(f'Collected the RDDs to caclulate shape of TF-IDF matrix. Shape{tempnparray.shape}:. time taken:{end_time - start_time}')"
   ]
  },
  {
   "cell_type": "code",
   "execution_count": null,
   "metadata": {},
   "outputs": [],
   "source": [
    "# #Reqwriting using pysparks ml library, \n",
    "# from pyspark.ml.feature import PCA as PCAml\n",
    "# from pyspark.ml.linalg import Vectors\n",
    "# pca = PCAml(k=2, inputCol=\"features\", outputCol=\"pca\")\n",
    "# model = pca.fit(training_transform)\n",
    "# pcatransformed = model.transform(training_transform)"
   ]
  },
  {
   "cell_type": "code",
   "execution_count": 84,
   "metadata": {},
   "outputs": [
    {
     "ename": "Py4JJavaError",
     "evalue": "An error occurred while calling o854.computePrincipalComponents.\n: org.apache.spark.SparkException: Job aborted due to stage failure: Task 0 in stage 9.0 failed 4 times, most recent failure: Lost task 0.3 in stage 9.0 (TID 58, 129.82.44.160, executor 1): org.apache.spark.api.python.PythonException: Traceback (most recent call last):\n  File \"/s/chopin/b/grad/sanketm/spark-2.4.4-bin-hadoop2.7/python/lib/pyspark.zip/pyspark/worker.py\", line 377, in main\n    process()\n  File \"/s/chopin/b/grad/sanketm/spark-2.4.4-bin-hadoop2.7/python/lib/pyspark.zip/pyspark/worker.py\", line 372, in process\n    serializer.dump_stream(func(split_index, iterator), outfile)\n  File \"/s/chopin/b/grad/sanketm/spark-2.4.4-bin-hadoop2.7/python/lib/pyspark.zip/pyspark/serializers.py\", line 393, in dump_stream\n    vs = list(itertools.islice(iterator, batch))\n  File \"/s/chopin/b/grad/sanketm/spark-2.4.4-bin-hadoop2.7/python/lib/pyspark.zip/pyspark/util.py\", line 99, in wrapper\n    return f(*args, **kwargs)\n  File \"/s/chopin/b/grad/sanketm/spark-2.4.4-bin-hadoop2.7/python/lib/pyspark.zip/pyspark/mllib/linalg/__init__.py\", line 83, in _convert_to_vector\n    raise TypeError(\"Cannot convert type %s into Vector\" % type(l))\nTypeError: Cannot convert type <class 'pyspark.sql.types.Row'> into Vector\n\n\tat org.apache.spark.api.python.BasePythonRunner$ReaderIterator.handlePythonException(PythonRunner.scala:456)\n\tat org.apache.spark.api.python.PythonRunner$$anon$1.read(PythonRunner.scala:592)\n\tat org.apache.spark.api.python.PythonRunner$$anon$1.read(PythonRunner.scala:575)\n\tat org.apache.spark.api.python.BasePythonRunner$ReaderIterator.hasNext(PythonRunner.scala:410)\n\tat org.apache.spark.InterruptibleIterator.hasNext(InterruptibleIterator.scala:37)\n\tat scala.collection.Iterator$$anon$12.hasNext(Iterator.scala:440)\n\tat scala.collection.Iterator$$anon$10.hasNext(Iterator.scala:390)\n\tat scala.collection.Iterator$class.foreach(Iterator.scala:891)\n\tat scala.collection.AbstractIterator.foreach(Iterator.scala:1334)\n\tat scala.collection.generic.Growable$class.$plus$plus$eq(Growable.scala:59)\n\tat scala.collection.mutable.ArrayBuffer.$plus$plus$eq(ArrayBuffer.scala:104)\n\tat scala.collection.mutable.ArrayBuffer.$plus$plus$eq(ArrayBuffer.scala:48)\n\tat scala.collection.TraversableOnce$class.to(TraversableOnce.scala:310)\n\tat scala.collection.AbstractIterator.to(Iterator.scala:1334)\n\tat scala.collection.TraversableOnce$class.toBuffer(TraversableOnce.scala:302)\n\tat scala.collection.AbstractIterator.toBuffer(Iterator.scala:1334)\n\tat scala.collection.TraversableOnce$class.toArray(TraversableOnce.scala:289)\n\tat scala.collection.AbstractIterator.toArray(Iterator.scala:1334)\n\tat org.apache.spark.rdd.RDD$$anonfun$take$1$$anonfun$29.apply(RDD.scala:1364)\n\tat org.apache.spark.rdd.RDD$$anonfun$take$1$$anonfun$29.apply(RDD.scala:1364)\n\tat org.apache.spark.SparkContext$$anonfun$runJob$5.apply(SparkContext.scala:2101)\n\tat org.apache.spark.SparkContext$$anonfun$runJob$5.apply(SparkContext.scala:2101)\n\tat org.apache.spark.scheduler.ResultTask.runTask(ResultTask.scala:90)\n\tat org.apache.spark.scheduler.Task.run(Task.scala:123)\n\tat org.apache.spark.executor.Executor$TaskRunner$$anonfun$10.apply(Executor.scala:408)\n\tat org.apache.spark.util.Utils$.tryWithSafeFinally(Utils.scala:1360)\n\tat org.apache.spark.executor.Executor$TaskRunner.run(Executor.scala:414)\n\tat java.util.concurrent.ThreadPoolExecutor.runWorker(ThreadPoolExecutor.java:1142)\n\tat java.util.concurrent.ThreadPoolExecutor$Worker.run(ThreadPoolExecutor.java:617)\n\tat java.lang.Thread.run(Thread.java:745)\n\nDriver stacktrace:\n\tat org.apache.spark.scheduler.DAGScheduler.org$apache$spark$scheduler$DAGScheduler$$failJobAndIndependentStages(DAGScheduler.scala:1889)\n\tat org.apache.spark.scheduler.DAGScheduler$$anonfun$abortStage$1.apply(DAGScheduler.scala:1877)\n\tat org.apache.spark.scheduler.DAGScheduler$$anonfun$abortStage$1.apply(DAGScheduler.scala:1876)\n\tat scala.collection.mutable.ResizableArray$class.foreach(ResizableArray.scala:59)\n\tat scala.collection.mutable.ArrayBuffer.foreach(ArrayBuffer.scala:48)\n\tat org.apache.spark.scheduler.DAGScheduler.abortStage(DAGScheduler.scala:1876)\n\tat org.apache.spark.scheduler.DAGScheduler$$anonfun$handleTaskSetFailed$1.apply(DAGScheduler.scala:926)\n\tat org.apache.spark.scheduler.DAGScheduler$$anonfun$handleTaskSetFailed$1.apply(DAGScheduler.scala:926)\n\tat scala.Option.foreach(Option.scala:257)\n\tat org.apache.spark.scheduler.DAGScheduler.handleTaskSetFailed(DAGScheduler.scala:926)\n\tat org.apache.spark.scheduler.DAGSchedulerEventProcessLoop.doOnReceive(DAGScheduler.scala:2110)\n\tat org.apache.spark.scheduler.DAGSchedulerEventProcessLoop.onReceive(DAGScheduler.scala:2059)\n\tat org.apache.spark.scheduler.DAGSchedulerEventProcessLoop.onReceive(DAGScheduler.scala:2048)\n\tat org.apache.spark.util.EventLoop$$anon$1.run(EventLoop.scala:49)\n\tat org.apache.spark.scheduler.DAGScheduler.runJob(DAGScheduler.scala:737)\n\tat org.apache.spark.SparkContext.runJob(SparkContext.scala:2061)\n\tat org.apache.spark.SparkContext.runJob(SparkContext.scala:2082)\n\tat org.apache.spark.SparkContext.runJob(SparkContext.scala:2101)\n\tat org.apache.spark.rdd.RDD$$anonfun$take$1.apply(RDD.scala:1364)\n\tat org.apache.spark.rdd.RDDOperationScope$.withScope(RDDOperationScope.scala:151)\n\tat org.apache.spark.rdd.RDDOperationScope$.withScope(RDDOperationScope.scala:112)\n\tat org.apache.spark.rdd.RDD.withScope(RDD.scala:363)\n\tat org.apache.spark.rdd.RDD.take(RDD.scala:1337)\n\tat org.apache.spark.rdd.RDD$$anonfun$first$1.apply(RDD.scala:1378)\n\tat org.apache.spark.rdd.RDDOperationScope$.withScope(RDDOperationScope.scala:151)\n\tat org.apache.spark.rdd.RDDOperationScope$.withScope(RDDOperationScope.scala:112)\n\tat org.apache.spark.rdd.RDD.withScope(RDD.scala:363)\n\tat org.apache.spark.rdd.RDD.first(RDD.scala:1377)\n\tat org.apache.spark.mllib.linalg.distributed.RowMatrix.numCols(RowMatrix.scala:61)\n\tat org.apache.spark.mllib.linalg.distributed.RowMatrix.computePrincipalComponentsAndExplainedVariance(RowMatrix.scala:398)\n\tat org.apache.spark.mllib.linalg.distributed.RowMatrix.computePrincipalComponents(RowMatrix.scala:425)\n\tat sun.reflect.NativeMethodAccessorImpl.invoke0(Native Method)\n\tat sun.reflect.NativeMethodAccessorImpl.invoke(NativeMethodAccessorImpl.java:62)\n\tat sun.reflect.DelegatingMethodAccessorImpl.invoke(DelegatingMethodAccessorImpl.java:43)\n\tat java.lang.reflect.Method.invoke(Method.java:497)\n\tat py4j.reflection.MethodInvoker.invoke(MethodInvoker.java:244)\n\tat py4j.reflection.ReflectionEngine.invoke(ReflectionEngine.java:357)\n\tat py4j.Gateway.invoke(Gateway.java:282)\n\tat py4j.commands.AbstractCommand.invokeMethod(AbstractCommand.java:132)\n\tat py4j.commands.CallCommand.execute(CallCommand.java:79)\n\tat py4j.GatewayConnection.run(GatewayConnection.java:238)\n\tat java.lang.Thread.run(Thread.java:745)\nCaused by: org.apache.spark.api.python.PythonException: Traceback (most recent call last):\n  File \"/s/chopin/b/grad/sanketm/spark-2.4.4-bin-hadoop2.7/python/lib/pyspark.zip/pyspark/worker.py\", line 377, in main\n    process()\n  File \"/s/chopin/b/grad/sanketm/spark-2.4.4-bin-hadoop2.7/python/lib/pyspark.zip/pyspark/worker.py\", line 372, in process\n    serializer.dump_stream(func(split_index, iterator), outfile)\n  File \"/s/chopin/b/grad/sanketm/spark-2.4.4-bin-hadoop2.7/python/lib/pyspark.zip/pyspark/serializers.py\", line 393, in dump_stream\n    vs = list(itertools.islice(iterator, batch))\n  File \"/s/chopin/b/grad/sanketm/spark-2.4.4-bin-hadoop2.7/python/lib/pyspark.zip/pyspark/util.py\", line 99, in wrapper\n    return f(*args, **kwargs)\n  File \"/s/chopin/b/grad/sanketm/spark-2.4.4-bin-hadoop2.7/python/lib/pyspark.zip/pyspark/mllib/linalg/__init__.py\", line 83, in _convert_to_vector\n    raise TypeError(\"Cannot convert type %s into Vector\" % type(l))\nTypeError: Cannot convert type <class 'pyspark.sql.types.Row'> into Vector\n\n\tat org.apache.spark.api.python.BasePythonRunner$ReaderIterator.handlePythonException(PythonRunner.scala:456)\n\tat org.apache.spark.api.python.PythonRunner$$anon$1.read(PythonRunner.scala:592)\n\tat org.apache.spark.api.python.PythonRunner$$anon$1.read(PythonRunner.scala:575)\n\tat org.apache.spark.api.python.BasePythonRunner$ReaderIterator.hasNext(PythonRunner.scala:410)\n\tat org.apache.spark.InterruptibleIterator.hasNext(InterruptibleIterator.scala:37)\n\tat scala.collection.Iterator$$anon$12.hasNext(Iterator.scala:440)\n\tat scala.collection.Iterator$$anon$10.hasNext(Iterator.scala:390)\n\tat scala.collection.Iterator$class.foreach(Iterator.scala:891)\n\tat scala.collection.AbstractIterator.foreach(Iterator.scala:1334)\n\tat scala.collection.generic.Growable$class.$plus$plus$eq(Growable.scala:59)\n\tat scala.collection.mutable.ArrayBuffer.$plus$plus$eq(ArrayBuffer.scala:104)\n\tat scala.collection.mutable.ArrayBuffer.$plus$plus$eq(ArrayBuffer.scala:48)\n\tat scala.collection.TraversableOnce$class.to(TraversableOnce.scala:310)\n\tat scala.collection.AbstractIterator.to(Iterator.scala:1334)\n\tat scala.collection.TraversableOnce$class.toBuffer(TraversableOnce.scala:302)\n\tat scala.collection.AbstractIterator.toBuffer(Iterator.scala:1334)\n\tat scala.collection.TraversableOnce$class.toArray(TraversableOnce.scala:289)\n\tat scala.collection.AbstractIterator.toArray(Iterator.scala:1334)\n\tat org.apache.spark.rdd.RDD$$anonfun$take$1$$anonfun$29.apply(RDD.scala:1364)\n\tat org.apache.spark.rdd.RDD$$anonfun$take$1$$anonfun$29.apply(RDD.scala:1364)\n\tat org.apache.spark.SparkContext$$anonfun$runJob$5.apply(SparkContext.scala:2101)\n\tat org.apache.spark.SparkContext$$anonfun$runJob$5.apply(SparkContext.scala:2101)\n\tat org.apache.spark.scheduler.ResultTask.runTask(ResultTask.scala:90)\n\tat org.apache.spark.scheduler.Task.run(Task.scala:123)\n\tat org.apache.spark.executor.Executor$TaskRunner$$anonfun$10.apply(Executor.scala:408)\n\tat org.apache.spark.util.Utils$.tryWithSafeFinally(Utils.scala:1360)\n\tat org.apache.spark.executor.Executor$TaskRunner.run(Executor.scala:414)\n\tat java.util.concurrent.ThreadPoolExecutor.runWorker(ThreadPoolExecutor.java:1142)\n\tat java.util.concurrent.ThreadPoolExecutor$Worker.run(ThreadPoolExecutor.java:617)\n\t... 1 more\n",
     "output_type": "error",
     "traceback": [
      "\u001b[0;31m---------------------------------------------------------------------------\u001b[0m",
      "\u001b[0;31mPy4JJavaError\u001b[0m                             Traceback (most recent call last)",
      "\u001b[0;32m<ipython-input-84-793d1e1abd9e>\u001b[0m in \u001b[0;36m<module>\u001b[0;34m\u001b[0m\n\u001b[1;32m      8\u001b[0m \u001b[0;31m# Compute the top (9 principal components.\u001b[0m\u001b[0;34m\u001b[0m\u001b[0;34m\u001b[0m\u001b[0;34m\u001b[0m\u001b[0m\n\u001b[1;32m      9\u001b[0m \u001b[0;31m# Principal components are stored in a local dense matrix.\u001b[0m\u001b[0;34m\u001b[0m\u001b[0;34m\u001b[0m\u001b[0;34m\u001b[0m\u001b[0m\n\u001b[0;32m---> 10\u001b[0;31m \u001b[0mpc\u001b[0m \u001b[0;34m=\u001b[0m \u001b[0mmat\u001b[0m\u001b[0;34m.\u001b[0m\u001b[0mcomputePrincipalComponents\u001b[0m\u001b[0;34m(\u001b[0m\u001b[0;36m9\u001b[0m\u001b[0;34m)\u001b[0m\u001b[0;34m\u001b[0m\u001b[0;34m\u001b[0m\u001b[0m\n\u001b[0m\u001b[1;32m     11\u001b[0m \u001b[0;34m\u001b[0m\u001b[0m\n\u001b[1;32m     12\u001b[0m \u001b[0;31m# Project the rows to the linear space spanned by the top (9 principal components.\u001b[0m\u001b[0;34m\u001b[0m\u001b[0;34m\u001b[0m\u001b[0;34m\u001b[0m\u001b[0m\n",
      "\u001b[0;32m~/spark-2.4.4-bin-hadoop2.7/python/pyspark/mllib/linalg/distributed.py\u001b[0m in \u001b[0;36mcomputePrincipalComponents\u001b[0;34m(self, k)\u001b[0m\n\u001b[1;32m    368\u001b[0m         DenseVector([-4.6102, -4.9745])]\n\u001b[1;32m    369\u001b[0m         \"\"\"\n\u001b[0;32m--> 370\u001b[0;31m         \u001b[0;32mreturn\u001b[0m \u001b[0mself\u001b[0m\u001b[0;34m.\u001b[0m\u001b[0m_java_matrix_wrapper\u001b[0m\u001b[0;34m.\u001b[0m\u001b[0mcall\u001b[0m\u001b[0;34m(\u001b[0m\u001b[0;34m\"computePrincipalComponents\"\u001b[0m\u001b[0;34m,\u001b[0m \u001b[0mk\u001b[0m\u001b[0;34m)\u001b[0m\u001b[0;34m\u001b[0m\u001b[0;34m\u001b[0m\u001b[0m\n\u001b[0m\u001b[1;32m    371\u001b[0m \u001b[0;34m\u001b[0m\u001b[0m\n\u001b[1;32m    372\u001b[0m     \u001b[0;34m@\u001b[0m\u001b[0msince\u001b[0m\u001b[0;34m(\u001b[0m\u001b[0;34m'2.2.0'\u001b[0m\u001b[0;34m)\u001b[0m\u001b[0;34m\u001b[0m\u001b[0;34m\u001b[0m\u001b[0m\n",
      "\u001b[0;32m~/spark-2.4.4-bin-hadoop2.7/python/pyspark/mllib/common.py\u001b[0m in \u001b[0;36mcall\u001b[0;34m(self, name, *a)\u001b[0m\n\u001b[1;32m    144\u001b[0m     \u001b[0;32mdef\u001b[0m \u001b[0mcall\u001b[0m\u001b[0;34m(\u001b[0m\u001b[0mself\u001b[0m\u001b[0;34m,\u001b[0m \u001b[0mname\u001b[0m\u001b[0;34m,\u001b[0m \u001b[0;34m*\u001b[0m\u001b[0ma\u001b[0m\u001b[0;34m)\u001b[0m\u001b[0;34m:\u001b[0m\u001b[0;34m\u001b[0m\u001b[0;34m\u001b[0m\u001b[0m\n\u001b[1;32m    145\u001b[0m         \u001b[0;34m\"\"\"Call method of java_model\"\"\"\u001b[0m\u001b[0;34m\u001b[0m\u001b[0;34m\u001b[0m\u001b[0m\n\u001b[0;32m--> 146\u001b[0;31m         \u001b[0;32mreturn\u001b[0m \u001b[0mcallJavaFunc\u001b[0m\u001b[0;34m(\u001b[0m\u001b[0mself\u001b[0m\u001b[0;34m.\u001b[0m\u001b[0m_sc\u001b[0m\u001b[0;34m,\u001b[0m \u001b[0mgetattr\u001b[0m\u001b[0;34m(\u001b[0m\u001b[0mself\u001b[0m\u001b[0;34m.\u001b[0m\u001b[0m_java_model\u001b[0m\u001b[0;34m,\u001b[0m \u001b[0mname\u001b[0m\u001b[0;34m)\u001b[0m\u001b[0;34m,\u001b[0m \u001b[0;34m*\u001b[0m\u001b[0ma\u001b[0m\u001b[0;34m)\u001b[0m\u001b[0;34m\u001b[0m\u001b[0;34m\u001b[0m\u001b[0m\n\u001b[0m\u001b[1;32m    147\u001b[0m \u001b[0;34m\u001b[0m\u001b[0m\n\u001b[1;32m    148\u001b[0m \u001b[0;34m\u001b[0m\u001b[0m\n",
      "\u001b[0;32m~/spark-2.4.4-bin-hadoop2.7/python/pyspark/mllib/common.py\u001b[0m in \u001b[0;36mcallJavaFunc\u001b[0;34m(sc, func, *args)\u001b[0m\n\u001b[1;32m    121\u001b[0m     \u001b[0;34m\"\"\" Call Java Function \"\"\"\u001b[0m\u001b[0;34m\u001b[0m\u001b[0;34m\u001b[0m\u001b[0m\n\u001b[1;32m    122\u001b[0m     \u001b[0margs\u001b[0m \u001b[0;34m=\u001b[0m \u001b[0;34m[\u001b[0m\u001b[0m_py2java\u001b[0m\u001b[0;34m(\u001b[0m\u001b[0msc\u001b[0m\u001b[0;34m,\u001b[0m \u001b[0ma\u001b[0m\u001b[0;34m)\u001b[0m \u001b[0;32mfor\u001b[0m \u001b[0ma\u001b[0m \u001b[0;32min\u001b[0m \u001b[0margs\u001b[0m\u001b[0;34m]\u001b[0m\u001b[0;34m\u001b[0m\u001b[0;34m\u001b[0m\u001b[0m\n\u001b[0;32m--> 123\u001b[0;31m     \u001b[0;32mreturn\u001b[0m \u001b[0m_java2py\u001b[0m\u001b[0;34m(\u001b[0m\u001b[0msc\u001b[0m\u001b[0;34m,\u001b[0m \u001b[0mfunc\u001b[0m\u001b[0;34m(\u001b[0m\u001b[0;34m*\u001b[0m\u001b[0margs\u001b[0m\u001b[0;34m)\u001b[0m\u001b[0;34m)\u001b[0m\u001b[0;34m\u001b[0m\u001b[0;34m\u001b[0m\u001b[0m\n\u001b[0m\u001b[1;32m    124\u001b[0m \u001b[0;34m\u001b[0m\u001b[0m\n\u001b[1;32m    125\u001b[0m \u001b[0;34m\u001b[0m\u001b[0m\n",
      "\u001b[0;32m~/.local/lib/python3.7/site-packages/py4j/java_gateway.py\u001b[0m in \u001b[0;36m__call__\u001b[0;34m(self, *args)\u001b[0m\n\u001b[1;32m   1255\u001b[0m         \u001b[0manswer\u001b[0m \u001b[0;34m=\u001b[0m \u001b[0mself\u001b[0m\u001b[0;34m.\u001b[0m\u001b[0mgateway_client\u001b[0m\u001b[0;34m.\u001b[0m\u001b[0msend_command\u001b[0m\u001b[0;34m(\u001b[0m\u001b[0mcommand\u001b[0m\u001b[0;34m)\u001b[0m\u001b[0;34m\u001b[0m\u001b[0;34m\u001b[0m\u001b[0m\n\u001b[1;32m   1256\u001b[0m         return_value = get_return_value(\n\u001b[0;32m-> 1257\u001b[0;31m             answer, self.gateway_client, self.target_id, self.name)\n\u001b[0m\u001b[1;32m   1258\u001b[0m \u001b[0;34m\u001b[0m\u001b[0m\n\u001b[1;32m   1259\u001b[0m         \u001b[0;32mfor\u001b[0m \u001b[0mtemp_arg\u001b[0m \u001b[0;32min\u001b[0m \u001b[0mtemp_args\u001b[0m\u001b[0;34m:\u001b[0m\u001b[0;34m\u001b[0m\u001b[0;34m\u001b[0m\u001b[0m\n",
      "\u001b[0;32m~/spark-2.4.4-bin-hadoop2.7/python/pyspark/sql/utils.py\u001b[0m in \u001b[0;36mdeco\u001b[0;34m(*a, **kw)\u001b[0m\n\u001b[1;32m     61\u001b[0m     \u001b[0;32mdef\u001b[0m \u001b[0mdeco\u001b[0m\u001b[0;34m(\u001b[0m\u001b[0;34m*\u001b[0m\u001b[0ma\u001b[0m\u001b[0;34m,\u001b[0m \u001b[0;34m**\u001b[0m\u001b[0mkw\u001b[0m\u001b[0;34m)\u001b[0m\u001b[0;34m:\u001b[0m\u001b[0;34m\u001b[0m\u001b[0;34m\u001b[0m\u001b[0m\n\u001b[1;32m     62\u001b[0m         \u001b[0;32mtry\u001b[0m\u001b[0;34m:\u001b[0m\u001b[0;34m\u001b[0m\u001b[0;34m\u001b[0m\u001b[0m\n\u001b[0;32m---> 63\u001b[0;31m             \u001b[0;32mreturn\u001b[0m \u001b[0mf\u001b[0m\u001b[0;34m(\u001b[0m\u001b[0;34m*\u001b[0m\u001b[0ma\u001b[0m\u001b[0;34m,\u001b[0m \u001b[0;34m**\u001b[0m\u001b[0mkw\u001b[0m\u001b[0;34m)\u001b[0m\u001b[0;34m\u001b[0m\u001b[0;34m\u001b[0m\u001b[0m\n\u001b[0m\u001b[1;32m     64\u001b[0m         \u001b[0;32mexcept\u001b[0m \u001b[0mpy4j\u001b[0m\u001b[0;34m.\u001b[0m\u001b[0mprotocol\u001b[0m\u001b[0;34m.\u001b[0m\u001b[0mPy4JJavaError\u001b[0m \u001b[0;32mas\u001b[0m \u001b[0me\u001b[0m\u001b[0;34m:\u001b[0m\u001b[0;34m\u001b[0m\u001b[0;34m\u001b[0m\u001b[0m\n\u001b[1;32m     65\u001b[0m             \u001b[0ms\u001b[0m \u001b[0;34m=\u001b[0m \u001b[0me\u001b[0m\u001b[0;34m.\u001b[0m\u001b[0mjava_exception\u001b[0m\u001b[0;34m.\u001b[0m\u001b[0mtoString\u001b[0m\u001b[0;34m(\u001b[0m\u001b[0;34m)\u001b[0m\u001b[0;34m\u001b[0m\u001b[0;34m\u001b[0m\u001b[0m\n",
      "\u001b[0;32m~/.local/lib/python3.7/site-packages/py4j/protocol.py\u001b[0m in \u001b[0;36mget_return_value\u001b[0;34m(answer, gateway_client, target_id, name)\u001b[0m\n\u001b[1;32m    326\u001b[0m                 raise Py4JJavaError(\n\u001b[1;32m    327\u001b[0m                     \u001b[0;34m\"An error occurred while calling {0}{1}{2}.\\n\"\u001b[0m\u001b[0;34m.\u001b[0m\u001b[0;34m\u001b[0m\u001b[0;34m\u001b[0m\u001b[0m\n\u001b[0;32m--> 328\u001b[0;31m                     format(target_id, \".\", name), value)\n\u001b[0m\u001b[1;32m    329\u001b[0m             \u001b[0;32melse\u001b[0m\u001b[0;34m:\u001b[0m\u001b[0;34m\u001b[0m\u001b[0;34m\u001b[0m\u001b[0m\n\u001b[1;32m    330\u001b[0m                 raise Py4JError(\n",
      "\u001b[0;31mPy4JJavaError\u001b[0m: An error occurred while calling o854.computePrincipalComponents.\n: org.apache.spark.SparkException: Job aborted due to stage failure: Task 0 in stage 9.0 failed 4 times, most recent failure: Lost task 0.3 in stage 9.0 (TID 58, 129.82.44.160, executor 1): org.apache.spark.api.python.PythonException: Traceback (most recent call last):\n  File \"/s/chopin/b/grad/sanketm/spark-2.4.4-bin-hadoop2.7/python/lib/pyspark.zip/pyspark/worker.py\", line 377, in main\n    process()\n  File \"/s/chopin/b/grad/sanketm/spark-2.4.4-bin-hadoop2.7/python/lib/pyspark.zip/pyspark/worker.py\", line 372, in process\n    serializer.dump_stream(func(split_index, iterator), outfile)\n  File \"/s/chopin/b/grad/sanketm/spark-2.4.4-bin-hadoop2.7/python/lib/pyspark.zip/pyspark/serializers.py\", line 393, in dump_stream\n    vs = list(itertools.islice(iterator, batch))\n  File \"/s/chopin/b/grad/sanketm/spark-2.4.4-bin-hadoop2.7/python/lib/pyspark.zip/pyspark/util.py\", line 99, in wrapper\n    return f(*args, **kwargs)\n  File \"/s/chopin/b/grad/sanketm/spark-2.4.4-bin-hadoop2.7/python/lib/pyspark.zip/pyspark/mllib/linalg/__init__.py\", line 83, in _convert_to_vector\n    raise TypeError(\"Cannot convert type %s into Vector\" % type(l))\nTypeError: Cannot convert type <class 'pyspark.sql.types.Row'> into Vector\n\n\tat org.apache.spark.api.python.BasePythonRunner$ReaderIterator.handlePythonException(PythonRunner.scala:456)\n\tat org.apache.spark.api.python.PythonRunner$$anon$1.read(PythonRunner.scala:592)\n\tat org.apache.spark.api.python.PythonRunner$$anon$1.read(PythonRunner.scala:575)\n\tat org.apache.spark.api.python.BasePythonRunner$ReaderIterator.hasNext(PythonRunner.scala:410)\n\tat org.apache.spark.InterruptibleIterator.hasNext(InterruptibleIterator.scala:37)\n\tat scala.collection.Iterator$$anon$12.hasNext(Iterator.scala:440)\n\tat scala.collection.Iterator$$anon$10.hasNext(Iterator.scala:390)\n\tat scala.collection.Iterator$class.foreach(Iterator.scala:891)\n\tat scala.collection.AbstractIterator.foreach(Iterator.scala:1334)\n\tat scala.collection.generic.Growable$class.$plus$plus$eq(Growable.scala:59)\n\tat scala.collection.mutable.ArrayBuffer.$plus$plus$eq(ArrayBuffer.scala:104)\n\tat scala.collection.mutable.ArrayBuffer.$plus$plus$eq(ArrayBuffer.scala:48)\n\tat scala.collection.TraversableOnce$class.to(TraversableOnce.scala:310)\n\tat scala.collection.AbstractIterator.to(Iterator.scala:1334)\n\tat scala.collection.TraversableOnce$class.toBuffer(TraversableOnce.scala:302)\n\tat scala.collection.AbstractIterator.toBuffer(Iterator.scala:1334)\n\tat scala.collection.TraversableOnce$class.toArray(TraversableOnce.scala:289)\n\tat scala.collection.AbstractIterator.toArray(Iterator.scala:1334)\n\tat org.apache.spark.rdd.RDD$$anonfun$take$1$$anonfun$29.apply(RDD.scala:1364)\n\tat org.apache.spark.rdd.RDD$$anonfun$take$1$$anonfun$29.apply(RDD.scala:1364)\n\tat org.apache.spark.SparkContext$$anonfun$runJob$5.apply(SparkContext.scala:2101)\n\tat org.apache.spark.SparkContext$$anonfun$runJob$5.apply(SparkContext.scala:2101)\n\tat org.apache.spark.scheduler.ResultTask.runTask(ResultTask.scala:90)\n\tat org.apache.spark.scheduler.Task.run(Task.scala:123)\n\tat org.apache.spark.executor.Executor$TaskRunner$$anonfun$10.apply(Executor.scala:408)\n\tat org.apache.spark.util.Utils$.tryWithSafeFinally(Utils.scala:1360)\n\tat org.apache.spark.executor.Executor$TaskRunner.run(Executor.scala:414)\n\tat java.util.concurrent.ThreadPoolExecutor.runWorker(ThreadPoolExecutor.java:1142)\n\tat java.util.concurrent.ThreadPoolExecutor$Worker.run(ThreadPoolExecutor.java:617)\n\tat java.lang.Thread.run(Thread.java:745)\n\nDriver stacktrace:\n\tat org.apache.spark.scheduler.DAGScheduler.org$apache$spark$scheduler$DAGScheduler$$failJobAndIndependentStages(DAGScheduler.scala:1889)\n\tat org.apache.spark.scheduler.DAGScheduler$$anonfun$abortStage$1.apply(DAGScheduler.scala:1877)\n\tat org.apache.spark.scheduler.DAGScheduler$$anonfun$abortStage$1.apply(DAGScheduler.scala:1876)\n\tat scala.collection.mutable.ResizableArray$class.foreach(ResizableArray.scala:59)\n\tat scala.collection.mutable.ArrayBuffer.foreach(ArrayBuffer.scala:48)\n\tat org.apache.spark.scheduler.DAGScheduler.abortStage(DAGScheduler.scala:1876)\n\tat org.apache.spark.scheduler.DAGScheduler$$anonfun$handleTaskSetFailed$1.apply(DAGScheduler.scala:926)\n\tat org.apache.spark.scheduler.DAGScheduler$$anonfun$handleTaskSetFailed$1.apply(DAGScheduler.scala:926)\n\tat scala.Option.foreach(Option.scala:257)\n\tat org.apache.spark.scheduler.DAGScheduler.handleTaskSetFailed(DAGScheduler.scala:926)\n\tat org.apache.spark.scheduler.DAGSchedulerEventProcessLoop.doOnReceive(DAGScheduler.scala:2110)\n\tat org.apache.spark.scheduler.DAGSchedulerEventProcessLoop.onReceive(DAGScheduler.scala:2059)\n\tat org.apache.spark.scheduler.DAGSchedulerEventProcessLoop.onReceive(DAGScheduler.scala:2048)\n\tat org.apache.spark.util.EventLoop$$anon$1.run(EventLoop.scala:49)\n\tat org.apache.spark.scheduler.DAGScheduler.runJob(DAGScheduler.scala:737)\n\tat org.apache.spark.SparkContext.runJob(SparkContext.scala:2061)\n\tat org.apache.spark.SparkContext.runJob(SparkContext.scala:2082)\n\tat org.apache.spark.SparkContext.runJob(SparkContext.scala:2101)\n\tat org.apache.spark.rdd.RDD$$anonfun$take$1.apply(RDD.scala:1364)\n\tat org.apache.spark.rdd.RDDOperationScope$.withScope(RDDOperationScope.scala:151)\n\tat org.apache.spark.rdd.RDDOperationScope$.withScope(RDDOperationScope.scala:112)\n\tat org.apache.spark.rdd.RDD.withScope(RDD.scala:363)\n\tat org.apache.spark.rdd.RDD.take(RDD.scala:1337)\n\tat org.apache.spark.rdd.RDD$$anonfun$first$1.apply(RDD.scala:1378)\n\tat org.apache.spark.rdd.RDDOperationScope$.withScope(RDDOperationScope.scala:151)\n\tat org.apache.spark.rdd.RDDOperationScope$.withScope(RDDOperationScope.scala:112)\n\tat org.apache.spark.rdd.RDD.withScope(RDD.scala:363)\n\tat org.apache.spark.rdd.RDD.first(RDD.scala:1377)\n\tat org.apache.spark.mllib.linalg.distributed.RowMatrix.numCols(RowMatrix.scala:61)\n\tat org.apache.spark.mllib.linalg.distributed.RowMatrix.computePrincipalComponentsAndExplainedVariance(RowMatrix.scala:398)\n\tat org.apache.spark.mllib.linalg.distributed.RowMatrix.computePrincipalComponents(RowMatrix.scala:425)\n\tat sun.reflect.NativeMethodAccessorImpl.invoke0(Native Method)\n\tat sun.reflect.NativeMethodAccessorImpl.invoke(NativeMethodAccessorImpl.java:62)\n\tat sun.reflect.DelegatingMethodAccessorImpl.invoke(DelegatingMethodAccessorImpl.java:43)\n\tat java.lang.reflect.Method.invoke(Method.java:497)\n\tat py4j.reflection.MethodInvoker.invoke(MethodInvoker.java:244)\n\tat py4j.reflection.ReflectionEngine.invoke(ReflectionEngine.java:357)\n\tat py4j.Gateway.invoke(Gateway.java:282)\n\tat py4j.commands.AbstractCommand.invokeMethod(AbstractCommand.java:132)\n\tat py4j.commands.CallCommand.execute(CallCommand.java:79)\n\tat py4j.GatewayConnection.run(GatewayConnection.java:238)\n\tat java.lang.Thread.run(Thread.java:745)\nCaused by: org.apache.spark.api.python.PythonException: Traceback (most recent call last):\n  File \"/s/chopin/b/grad/sanketm/spark-2.4.4-bin-hadoop2.7/python/lib/pyspark.zip/pyspark/worker.py\", line 377, in main\n    process()\n  File \"/s/chopin/b/grad/sanketm/spark-2.4.4-bin-hadoop2.7/python/lib/pyspark.zip/pyspark/worker.py\", line 372, in process\n    serializer.dump_stream(func(split_index, iterator), outfile)\n  File \"/s/chopin/b/grad/sanketm/spark-2.4.4-bin-hadoop2.7/python/lib/pyspark.zip/pyspark/serializers.py\", line 393, in dump_stream\n    vs = list(itertools.islice(iterator, batch))\n  File \"/s/chopin/b/grad/sanketm/spark-2.4.4-bin-hadoop2.7/python/lib/pyspark.zip/pyspark/util.py\", line 99, in wrapper\n    return f(*args, **kwargs)\n  File \"/s/chopin/b/grad/sanketm/spark-2.4.4-bin-hadoop2.7/python/lib/pyspark.zip/pyspark/mllib/linalg/__init__.py\", line 83, in _convert_to_vector\n    raise TypeError(\"Cannot convert type %s into Vector\" % type(l))\nTypeError: Cannot convert type <class 'pyspark.sql.types.Row'> into Vector\n\n\tat org.apache.spark.api.python.BasePythonRunner$ReaderIterator.handlePythonException(PythonRunner.scala:456)\n\tat org.apache.spark.api.python.PythonRunner$$anon$1.read(PythonRunner.scala:592)\n\tat org.apache.spark.api.python.PythonRunner$$anon$1.read(PythonRunner.scala:575)\n\tat org.apache.spark.api.python.BasePythonRunner$ReaderIterator.hasNext(PythonRunner.scala:410)\n\tat org.apache.spark.InterruptibleIterator.hasNext(InterruptibleIterator.scala:37)\n\tat scala.collection.Iterator$$anon$12.hasNext(Iterator.scala:440)\n\tat scala.collection.Iterator$$anon$10.hasNext(Iterator.scala:390)\n\tat scala.collection.Iterator$class.foreach(Iterator.scala:891)\n\tat scala.collection.AbstractIterator.foreach(Iterator.scala:1334)\n\tat scala.collection.generic.Growable$class.$plus$plus$eq(Growable.scala:59)\n\tat scala.collection.mutable.ArrayBuffer.$plus$plus$eq(ArrayBuffer.scala:104)\n\tat scala.collection.mutable.ArrayBuffer.$plus$plus$eq(ArrayBuffer.scala:48)\n\tat scala.collection.TraversableOnce$class.to(TraversableOnce.scala:310)\n\tat scala.collection.AbstractIterator.to(Iterator.scala:1334)\n\tat scala.collection.TraversableOnce$class.toBuffer(TraversableOnce.scala:302)\n\tat scala.collection.AbstractIterator.toBuffer(Iterator.scala:1334)\n\tat scala.collection.TraversableOnce$class.toArray(TraversableOnce.scala:289)\n\tat scala.collection.AbstractIterator.toArray(Iterator.scala:1334)\n\tat org.apache.spark.rdd.RDD$$anonfun$take$1$$anonfun$29.apply(RDD.scala:1364)\n\tat org.apache.spark.rdd.RDD$$anonfun$take$1$$anonfun$29.apply(RDD.scala:1364)\n\tat org.apache.spark.SparkContext$$anonfun$runJob$5.apply(SparkContext.scala:2101)\n\tat org.apache.spark.SparkContext$$anonfun$runJob$5.apply(SparkContext.scala:2101)\n\tat org.apache.spark.scheduler.ResultTask.runTask(ResultTask.scala:90)\n\tat org.apache.spark.scheduler.Task.run(Task.scala:123)\n\tat org.apache.spark.executor.Executor$TaskRunner$$anonfun$10.apply(Executor.scala:408)\n\tat org.apache.spark.util.Utils$.tryWithSafeFinally(Utils.scala:1360)\n\tat org.apache.spark.executor.Executor$TaskRunner.run(Executor.scala:414)\n\tat java.util.concurrent.ThreadPoolExecutor.runWorker(ThreadPoolExecutor.java:1142)\n\tat java.util.concurrent.ThreadPoolExecutor$Worker.run(ThreadPoolExecutor.java:617)\n\t... 1 more\n"
     ]
    }
   ],
   "source": [
    "from pyspark.mllib.linalg import Vectors\n",
    "from pyspark.mllib.linalg.distributed import RowMatrix\n",
    "\n",
    "rows = sc.parallelize(training_transform.collect())\n",
    "\n",
    "mat = RowMatrix(rows)\n",
    "\n",
    "# Compute the top (9 principal components.\n",
    "# Principal components are stored in a local dense matrix.\n",
    "pc = mat.computePrincipalComponents(9)\n",
    "\n",
    "# Project the rows to the linear space spanned by the top (9 principal components.\n",
    "projected = mat.multiply(pc)"
   ]
  },
  {
   "cell_type": "code",
   "execution_count": 85,
   "metadata": {},
   "outputs": [],
   "source": [
    "from pyspark.mllib.linalg import Vectors\n",
    "from pyspark.mllib.linalg.distributed import RowMatrix\n",
    "\n",
    "rows = sc.parallelize(tfidfIgnore.collect())\n",
    "\n",
    "mat = RowMatrix(rows)\n",
    "\n",
    "# Compute the top (9 principal components.\n",
    "# Principal components are stored in a local dense matrix.\n",
    "pc = mat.computePrincipalComponents(9)\n",
    "\n",
    "# Project the rows to the linear space spanned by the top (9 principal components.\n",
    "projected = mat.multiply(pc)"
   ]
  },
  {
   "cell_type": "code",
   "execution_count": 86,
   "metadata": {},
   "outputs": [
    {
     "data": {
      "text/plain": [
       "(500, 9)"
      ]
     },
     "execution_count": 86,
     "metadata": {},
     "output_type": "execute_result"
    }
   ],
   "source": [
    "projected.numRows(), projected.numCols()"
   ]
  },
  {
   "cell_type": "markdown",
   "metadata": {},
   "source": [
    "To separate the literature, k-means will be run on the vectorized text. Given the number of clusters, k, k-means will categorize each vector by taking the mean distance to a randomly initialized centroid. The centroids are updated iteratively."
   ]
  },
  {
   "cell_type": "markdown",
   "metadata": {},
   "source": [
    "# Elbow method to determine the optimal number of clusters for k-means clustering"
   ]
  },
  {
   "cell_type": "code",
   "execution_count": 87,
   "metadata": {},
   "outputs": [],
   "source": [
    "from pyspark.mllib.clustering import KMeans\n",
    "\n",
    "cost = np.zeros(20)\n",
    "for k in range(2, 20):\n",
    "    model = KMeans.train(projected.rows,\n",
    "                         k,\n",
    "                         maxIterations=10,\n",
    "                         initializationMode=\"random\",\n",
    "                         seed=50,\n",
    "                         initializationSteps=5,\n",
    "                         epsilon=1e-4)\n",
    "\n",
    "    cost[k] = model.computeCost(projected.rows)"
   ]
  },
  {
   "cell_type": "code",
   "execution_count": 88,
   "metadata": {},
   "outputs": [
    {
     "data": {
      "image/png": "[encoded data removed]",
      "text/plain": [
       "<Figure size 576x432 with 1 Axes>"
      ]
     },
     "metadata": {
      "needs_background": "light"
     },
     "output_type": "display_data"
    }
   ],
   "source": [
    "import matplotlib.mlab as mlab\n",
    "import matplotlib.pyplot as plt\n",
    "import seaborn as sbs\n",
    "from matplotlib.ticker import MaxNLocator\n",
    "\n",
    "fig, ax = plt.subplots(1,1, figsize =(8,6))\n",
    "ax.plot(range(2,20), cost[2:20])\n",
    "ax.set_xlabel('k')\n",
    "ax.set_ylabel('cost')\n",
    "ax.xaxis.set_major_locator(MaxNLocator(integer=True))\n",
    "plt.show()"
   ]
  },
  {
   "cell_type": "code",
   "execution_count": 99,
   "metadata": {},
   "outputs": [
    {
     "name": "stdout",
     "output_type": "stream",
     "text": [
      "The cluster 2 has Within Set Sum of Squared Error 4823.021274247219\n",
      "The cluster 3 has Within Set Sum of Squared Error 4387.998345685931\n",
      "The cluster 4 has Within Set Sum of Squared Error 4256.13825006285\n",
      "The cluster 5 has Within Set Sum of Squared Error 4080.281104223183\n",
      "The cluster 6 has Within Set Sum of Squared Error 3988.230350846497\n",
      "The cluster 7 has Within Set Sum of Squared Error 3873.991759078907\n",
      "The cluster 8 has Within Set Sum of Squared Error 3705.6236035097413\n",
      "The cluster 9 has Within Set Sum of Squared Error 3540.0673188317414\n",
      "The cluster 10 has Within Set Sum of Squared Error 3476.484337574137\n",
      "The cluster 11 has Within Set Sum of Squared Error 3449.453609030289\n",
      "The cluster 12 has Within Set Sum of Squared Error 3295.1710501640355\n",
      "The cluster 13 has Within Set Sum of Squared Error 3222.591555734098\n",
      "The cluster 14 has Within Set Sum of Squared Error 3226.8994041174474\n",
      "The cluster 15 has Within Set Sum of Squared Error 3092.400575789525\n",
      "The cluster 16 has Within Set Sum of Squared Error 2949.3189089616876\n",
      "The cluster 17 has Within Set Sum of Squared Error 2895.1485250042197\n",
      "The cluster 18 has Within Set Sum of Squared Error 2845.4076845992763\n",
      "The cluster 19 has Within Set Sum of Squared Error 2774.5293968347323\n"
     ]
    }
   ],
   "source": [
    "from pyspark.mllib.clustering import KMeans, KMeansModel\n",
    "\n",
    "cluster_centers = []\n",
    "\n",
    "# Build the model (cluster the data)\n",
    "for k in range(2, 20):\n",
    "    clusters = KMeans.train(projected.rows,\n",
    "                            k,\n",
    "                            maxIterations=10,\n",
    "                            initializationMode=\"random\",\n",
    "                            seed=50,\n",
    "                            initializationSteps=5,\n",
    "                            epsilon=1e-4)\n",
    "    \n",
    "    # Evaluate clustering by computing Within Set Sum of Squared Errors\n",
    "    def error(point):\n",
    "        center = clusters.centers[clusters.predict(point)]\n",
    "        return np.sqrt(sum([x**2 for x in (point - center)]))\n",
    "\n",
    "    WSSSE = projected.rows.map(lambda point: error(point)).reduce(lambda x, y: x + y)\n",
    "    print(\"The cluster {} has Within Set Sum of Squared Error {}\".format(k, WSSSE))\n",
    "    \n",
    "    centers = clusters.clusterCenters\n",
    "    \n",
    "    cluster_centers.append(centers)"
   ]
  },
  {
   "cell_type": "code",
   "execution_count": 102,
   "metadata": {},
   "outputs": [
    {
     "name": "stdout",
     "output_type": "stream",
     "text": [
      "Cluster Centers: \n",
      "[array([-0.35066664, -2.14881781,  2.58578343, -3.15835085,  3.5016041 ,\n",
      "       -1.00266557,  2.04976117, -0.16971094, -1.17573206]), array([ -0.16818695, -18.46616551,  -0.59886053,  -5.12680615,\n",
      "         2.00493016,  -1.07937699,   1.94545477,  -0.49787848,\n",
      "        -1.18441366])]\n",
      "[array([  2.31059817, -18.77503416,  -1.79188034,  -4.07715722,\n",
      "         2.75395415,  -1.15332057,   2.18339472,  -0.63847296,\n",
      "        -0.95701754]), array([ 1.20094414, -4.89940732, 10.62167216, -2.16464957,  5.11170978,\n",
      "       -0.98906816,  1.96475451, -0.10449745, -1.32175217]), array([-1.25622583, -1.50531037,  0.32542046, -3.67367258,  2.86061124,\n",
      "       -0.99477764,  2.03163322, -0.1692877 , -1.17216142])]\n",
      "[array([-0.31926739, -1.91629655,  1.3855612 , -2.60478996,  2.19398374,\n",
      "       -0.87252989,  1.48125484, -0.20778464, -1.19023181]), array([ 1.65619692, -6.12490644, 14.83156545, -3.02734973,  6.72330146,\n",
      "       -1.1617165 ,  2.27270386, -0.19090936, -1.91260468]), array([ -8.03629849,  -0.46702798,  -1.61415845, -11.27647978,\n",
      "        10.78024683,  -2.0036512 ,   7.21598885,   0.45946891,\n",
      "        -0.32159266]), array([  2.31059817, -18.77503416,  -1.79188034,  -4.07715722,\n",
      "         2.75395415,  -1.15332057,   2.18339472,  -0.63847296,\n",
      "        -0.95701754])]\n",
      "[array([-16.53105939,  -1.80232952,  -2.11672758, -16.29016287,\n",
      "        18.59559138,   1.23972285,   3.57656409,   3.53607622,\n",
      "         4.23826703]), array([-0.90242397, -1.13123842, -0.31046484, -3.62206061,  2.29798234,\n",
      "       -1.17380863,  2.09117385, -0.33355078, -1.71385331]), array([  2.31962852, -18.88647398,  -1.92197695,  -3.96866725,\n",
      "         2.77388159,  -1.11728137,   2.18519828,  -0.74670859,\n",
      "        -0.99820588]), array([ 1.99572955, -7.36439843, 17.92872872, -4.02185015,  7.92746927,\n",
      "       -1.12667947,  2.2339419 , -0.21086887, -2.89835657]), array([ 0.65864468, -3.51181806,  5.62024392, -1.42473147,  2.99648959,\n",
      "       -0.8492802 ,  1.67783946, -0.10742134, -0.36764415])]\n",
      "[array([ 1.34571603, -5.23843263, 11.29180944, -0.54794921,  6.72003079,\n",
      "       -1.09477143,  1.94588865,  0.1099991 , -0.86109449]), array([-1.61238222, -0.59569716, -1.27091475, -4.80128609,  3.24102783,\n",
      "       -1.19303324,  0.51465232, -1.30240665, -1.75208316]), array([-17.75932919,  -2.20139672,  -2.38568532, -16.67221425,\n",
      "        18.98440844,   1.94909027,   3.06754632,   3.82150392,\n",
      "         4.37915704]), array([ 0.0951771 , -2.28706093,  2.16849395, -2.04138493,  1.76096432,\n",
      "       -1.02716797,  2.89489124,  0.32838342, -1.0906716 ]), array([  2.56255044,  -7.78980497,  28.36277245, -26.68199304,\n",
      "        -3.69695591,   0.12805818,   1.37027771,  -4.17940071,\n",
      "        -9.96971726]), array([  2.31059817, -18.77503416,  -1.79188034,  -4.07715722,\n",
      "         2.75395415,  -1.15332057,   2.18339472,  -0.63847296,\n",
      "        -0.95701754])]\n",
      "[array([-1.23438111, -0.73984819, -0.83323928, -4.03343837,  2.60515545,\n",
      "       -1.1404354 ,  1.43705145, -0.59557711, -1.78878271]), array([  1.78958152, -14.66561851,  -0.45117666,  -3.65579454,\n",
      "         2.42389969,  -1.6441045 ,   1.67687017,  -3.59539845,\n",
      "         1.12692206]), array([ 0.46633004, -2.83818057,  3.99913275, -1.4184638 ,  2.19206376,\n",
      "       -0.73879784,  1.75061549,  0.24164858, -0.68445652]), array([-1.97875059, -7.36058602, 16.43086749, -2.61055406,  6.87108859,\n",
      "       -1.35579226,  1.76189805,  0.4661218 , -1.57456094]), array([ -2.83763048,   0.14682211,  -0.5681743 , -12.95239172,\n",
      "         9.41983662,   2.70254982,  15.58741563,  -1.04165431,\n",
      "        -1.43136224]), array([  3.24262806, -23.55897183,  -3.01004979,  -4.05895505,\n",
      "         3.20803174,  -1.20098806,   3.82565385,   5.18392668,\n",
      "        -1.89858964]), array([ -5.96457711,  -3.0745974 ,  -5.62488869, -17.707809  ,\n",
      "        24.72814935,  -8.15078203, -11.17406501,  -0.24880098,\n",
      "        -6.84085915])]\n",
      "[array([ -6.16233539,   0.03044472,  -5.43390195, -19.28705109,\n",
      "        27.78931265, -12.24389221, -10.92611255,   2.51620436,\n",
      "        -2.67188079]), array([ 0.4068516 , -2.55448761,  3.77240957, -1.3930514 ,  2.2032714 ,\n",
      "       -0.73185096,  1.71141267, -0.07766694, -0.52534224]), array([-2.56526469, -0.89608899, -0.95608549, -4.01094782,  2.65898044,\n",
      "       -0.66117948,  0.08334407, -1.15512251, -1.79472133]), array([ -5.87077915,  -0.55471146,  -2.87435338, -18.94420318,\n",
      "        20.76737968,  53.40049531,  14.98894894,   6.66246762,\n",
      "        13.96811858]), array([-1.55013041,  0.01374792, -0.69792864, -7.13429045,  4.53371827,\n",
      "       -3.9340282 ,  9.20495108,  0.51758813, -1.47181829]), array([  1.61647041, -13.02360646,  -0.91124842,  -3.45456677,\n",
      "         1.82983684,  -1.40435238,   2.80443184,   2.24890558,\n",
      "        -1.33188673]), array([  2.91746145, -24.98700347,  -3.15137559,  -4.95568677,\n",
      "         3.75452907,  -0.8081168 ,   1.82530389,  -3.93019613,\n",
      "        -0.989842  ]), array([ 1.77928517, -6.70530301, 16.22516936, -3.25159566,  7.09492173,\n",
      "       -1.1569287 ,  2.17497469, -0.16595627, -2.3485946 ])]\n",
      "[array([ 1.06371508, -4.37498196,  9.1611442 , -0.79993864,  5.23411725,\n",
      "       -0.91604512,  1.78081878,  0.279469  , -0.91178881]), array([-1.28004967, -0.67043366, -0.47471303, -6.79199135,  4.21926833,\n",
      "       -3.86135633,  9.12142434,  0.95025149, -1.30278298]), array([-3.84475611e-04, -1.84943509e+00,  1.62889731e+00, -1.69908018e+00,\n",
      "        1.40107068e+00, -7.38377181e-01,  1.66644397e+00,  1.02359303e-01,\n",
      "       -7.79349416e-01]), array([ -5.70287747,  -0.21647575,  -3.17920029, -17.97931496,\n",
      "        19.57987262,  43.32059514,   9.94200173,   6.4879102 ,\n",
      "         8.01444902]), array([-151.30319945,  -30.33814725,   16.18213805,    6.26272436,\n",
      "         -4.66556293,   -2.90512431,    3.98955906,    1.0475218 ,\n",
      "         -0.71421309]), array([  2.03177263, -15.5187231 ,  -0.6930097 ,  -3.77788155,\n",
      "         2.02212092,  -1.99928019,   1.84864116,  -6.12476661,\n",
      "         3.44033771]), array([  2.46511756,  -8.84900107,  26.57052774, -13.82319517,\n",
      "         5.85230563,  -1.13923658,   3.23863309,  -3.04042116,\n",
      "        -6.58687282]), array([-2.04511747, -0.99276919, -1.80774204, -5.69979774,  4.68036619,\n",
      "       -1.3829685 , -1.21675817, -1.48100437, -2.32041246]), array([  2.43934942, -20.30227146,  -2.17433848,  -4.18637546,\n",
      "         3.24774928,  -0.71062425,   2.28326626,   2.95349527,\n",
      "        -3.37282132])]\n",
      "[array([ -4.6294805 ,   1.47286343,  -2.70108375, -18.65203167,\n",
      "        11.5974277 , -14.14937229,  19.20851813,   4.25525762,\n",
      "        14.19338483]), array([-151.30319945,  -30.33814725,   16.18213805,    6.26272436,\n",
      "         -4.66556293,   -2.90512431,    3.98955906,    1.0475218 ,\n",
      "         -0.71421309]), array([-0.68348049, -1.7770253 , -0.52984901, -4.78997204,  2.39087353,\n",
      "       -2.51462363,  7.03946141,  2.18655952, -2.96532939]), array([  2.29642518, -15.99417456,   3.9886405 ,  -3.95495709,\n",
      "         3.94010931,  -3.46471394,   2.37417352, -14.26200441,\n",
      "         8.40651637]), array([ -5.70287747,  -0.21647575,  -3.17920029, -17.97931496,\n",
      "        19.57987262,  43.32059514,   9.94200173,   6.4879102 ,\n",
      "         8.01444902]), array([ -5.38689368,   0.57148517,  -4.35887803, -16.89000808,\n",
      "        23.23797654, -10.54506458,  -6.41342362,   1.67592353,\n",
      "        -1.35423009]), array([ 0.505949  , -2.96708281,  4.39528237, -1.30299197,  2.53642454,\n",
      "       -0.73151438,  1.59963002, -0.22727633, -0.43001095]), array([ 1.74079098, -6.50565464, 16.17557388, -3.26568103,  6.91750284,\n",
      "       -0.94493814,  1.86790006,  0.42296372, -2.73161743]), array([  2.29941479, -18.75245624,  -2.03799041,  -4.08049241,\n",
      "         2.77504314,  -0.99861028,   2.2545486 ,   1.12137073,\n",
      "        -1.97726436]), array([-1.20548603, -0.71727536, -0.67514062, -3.6752418 ,  2.4250757 ,\n",
      "       -0.74340722,  0.34885314, -1.25015809, -1.56270684])]\n",
      "[array([  3.78365992,  -9.65460776,  49.10938601, -78.28953469,\n",
      "       -43.26349413,  -2.08252829, -14.56800768,   5.63218715,\n",
      "         5.225172  ]), array([-1.65864098,  0.15313199, -0.1158307 , -8.64043729,  5.95943727,\n",
      "       -2.96770054,  9.59632453, -2.05199462, -2.61361094]), array([ 1.68212929, -6.14688917, 14.35693969, -1.00118777,  7.91710802,\n",
      "       -1.34900991,  2.27879513,  0.28057592, -1.51961016]), array([ -5.52110453,  -4.81230882,  -4.02935581, -15.93738587,\n",
      "        17.04048768,  35.56913857,   4.35304448,   1.34747573,\n",
      "        -0.91060097]), array([ -2.99895786,   1.6707351 ,  -1.44226573, -14.5988759 ,\n",
      "         8.15056751, -12.15853615,  25.59303754,  -1.79780022,\n",
      "        -0.77665129]), array([-2.91134128, -1.06687907, -2.45783272, -7.57502021,  7.54086678,\n",
      "       -2.26686107, -2.66553783, -1.8334406 , -2.91582178]), array([-151.30319945,  -30.33814725,   16.18213805,    6.26272436,\n",
      "         -4.66556293,   -2.90512431,    3.98955906,    1.0475218 ,\n",
      "         -0.71421309]), array([-0.57963918, -1.77841735, -0.51888353, -3.63018186,  1.60517824,\n",
      "       -1.46245888,  3.08405559,  1.37119725, -2.02378786]), array([  3.36400592, -25.22156866,  -3.68562332,  -4.63347183,\n",
      "         3.41817597,  -1.39122844,   4.12079839,   6.18714173,\n",
      "        -2.38364452]), array([ 0.082982  , -1.87078638,  3.06821254, -1.50816761,  2.10107209,\n",
      "       -0.52415108,  1.0945045 , -0.57514737, -0.51774396]), array([  1.85694303, -15.20836398,  -0.40056881,  -3.51980518,\n",
      "         2.42969209,  -1.48829569,   1.71817342,  -3.0086221 ,\n",
      "         0.67587096])]\n",
      "[array([  3.27206008,  -8.19728629,  32.0595744 , -28.80254543,\n",
      "        -6.76890069,  -1.19160382,  -3.0394917 ,   1.18008478,\n",
      "        -4.86071234]), array([  2.4548178 , -18.89974211,  -1.54810164,  -3.96227754,\n",
      "         2.78599623,  -1.45827406,   2.4487218 ,  -0.85883876,\n",
      "         0.04411637]), array([-0.90646976, -0.27065482, -0.27281357, -3.16046129,  1.94863894,\n",
      "       -0.98979404,  1.67064768, -0.69467567, -0.97989895]), array([-2.75636891,  0.22434006, -1.29746646, -9.18555402,  7.0578916 ,\n",
      "       -6.05183191,  9.11479852,  0.88918048,  2.82093973]), array([ 0.4369335 , -2.88156806,  3.94235347, -1.34306166,  2.21159595,\n",
      "       -0.76361625,  1.46797098, -0.35104699, -0.2049758 ]), array([-151.30319945,  -30.33814725,   16.18213805,    6.26272436,\n",
      "         -4.66556293,   -2.90512431,    3.98955906,    1.0475218 ,\n",
      "         -0.71421309]), array([ 1.50020138, -5.66087524, 12.88937801, -0.41528364,  7.72512314,\n",
      "       -1.1310649 ,  2.24952867,  0.34881759, -1.13583751]), array([ -3.26977947, -10.55419603,  -0.35868289, -12.19660484,\n",
      "         9.95982305,   6.44809635,  -0.97807917, -12.27752795,\n",
      "       -19.81235267]), array([-1.78030396, -1.94136311, -1.87507272, -5.36899452,  4.02224476,\n",
      "       -0.38383591, -2.15646093, -2.7040139 , -3.82577378]), array([ -5.70287747,  -0.21647575,  -3.17920029, -17.97931496,\n",
      "        19.57987262,  43.32059514,   9.94200173,   6.4879102 ,\n",
      "         8.01444902]), array([ 0.14877852, -4.18488475, -0.55387706, -3.81914112,  0.63068191,\n",
      "       -1.79573275,  6.71319089,  4.69658028, -5.37717734]), array([ -6.24499657,   0.15505662,  -7.4523436 , -19.57211622,\n",
      "        29.86916278, -16.19269188, -13.00298546,   4.35463885,\n",
      "        -0.86108908])]\n",
      "[array([-151.30319945,  -30.33814725,   16.18213805,    6.26272436,\n",
      "         -4.66556293,   -2.90512431,    3.98955906,    1.0475218 ,\n",
      "         -0.71421309]), array([ 0.62781791, -2.60477839,  6.09874072, -1.21336975,  3.11508533,\n",
      "       -0.72620873,  1.6308545 ,  0.04668339, -0.93040814]), array([  3.02815541, -22.90899028,   0.3125059 ,  -4.84221208,\n",
      "         3.17608563,  -2.5559042 ,   0.49411716, -20.39548988,\n",
      "         8.27850099]), array([ -2.58712185,   0.36547514,  -0.44641889, -11.5998364 ,\n",
      "         8.38641217,   0.48084361,  14.92289212,  -1.18429682,\n",
      "        -1.01970083]), array([  3.78365992,  -9.65460776,  49.10938601, -78.28953469,\n",
      "       -43.26349413,  -2.08252829, -14.56800768,   5.63218715,\n",
      "         5.225172  ]), array([-0.73821551, -0.49166792,  0.33756783, -2.84157114,  1.88682773,\n",
      "       -0.97609899,  1.74069945, -0.55017472, -0.832271  ]), array([  2.06128796, -16.11544591,  -1.55125181,  -3.68628933,\n",
      "         2.40090976,  -0.86680823,   1.72327754,   0.72764123,\n",
      "        -2.08271084]), array([-2.42000592, -1.8626126 , -2.1432679 , -6.53950561,  5.32178568,\n",
      "        0.50685206, -2.30608818, -2.78851622, -4.39607968]), array([ 0.21177954, -4.57486304, -0.53465287, -3.08818641, -0.04144125,\n",
      "       -1.64719257,  4.50905497,  6.12662806, -3.89422299]), array([ 0.79322465, -7.65969497,  1.62226133, -2.5375079 ,  2.4335786 ,\n",
      "       -1.74789162,  2.19213746, -2.05600443,  2.34182245]), array([ 1.83654088, -6.85892412, 16.0210698 , -0.68512215,  9.11171394,\n",
      "       -1.26251549,  1.97824257,  0.40231758, -1.88741044]), array([ -6.24499657,   0.15505662,  -7.4523436 , -19.57211622,\n",
      "        29.86916278, -16.19269188, -13.00298546,   4.35463885,\n",
      "        -0.86108908]), array([  3.95402419, -29.49684123,  -3.86992841,  -4.92575401,\n",
      "         4.24715046,  -1.72185622,   4.61731762,   3.20574971,\n",
      "        -0.60567121])]\n",
      "[array([-151.30319945,  -30.33814725,   16.18213805,    6.26272436,\n",
      "         -4.66556293,   -2.90512431,    3.98955906,    1.0475218 ,\n",
      "         -0.71421309]), array([-1.65913992, -0.03125247, -0.48591895, -5.61777701,  4.11593206,\n",
      "       -2.66149769,  5.04903083, -0.56900703, -0.97047569]), array([ -5.70287747,  -0.21647575,  -3.17920029, -17.97931496,\n",
      "        19.57987262,  43.32059514,   9.94200173,   6.4879102 ,\n",
      "         8.01444902]), array([  3.39706601,  -9.50727634,  30.2173783 , -16.50130933,\n",
      "         4.32674776,  -2.16741146,   0.90266503,  -1.34990704,\n",
      "        -3.55386132]), array([ 1.00839089, -8.46738777,  2.18023124, -2.65040999,  2.63807958,\n",
      "       -2.38565552,  2.69896214, -2.95794977,  4.40271251]), array([  3.40980306, -24.32870958,  -1.41716488,  -4.59808732,\n",
      "         2.67886304,  -1.40819049,   2.80772918, -14.65858466,\n",
      "         7.32394841]), array([  2.0251114 , -15.64452526,  -1.19953211,  -3.54830626,\n",
      "         2.30008381,  -1.03384204,   1.78300371,   0.24400213,\n",
      "        -1.41394724]), array([ -4.89858263,   1.27348772,  -3.8093581 , -17.87604351,\n",
      "        16.97327515, -14.32994252,   8.21072207,   4.52030252,\n",
      "         8.04136414]), array([ 0.15045107, -4.26310205, -0.03655818, -3.04589578,  0.28885156,\n",
      "       -1.50696913,  4.02134468,  4.98791181, -3.47767087]), array([-0.46232025, -1.14456218,  0.86698074, -2.31733222,  1.81061814,\n",
      "       -0.42061839,  0.39072801, -0.79412436, -1.1119081 ]), array([  3.50894111, -26.8977936 ,  -3.4051348 ,  -4.90572262,\n",
      "         3.77749604,  -2.15628715,   4.29613474,   7.64666442,\n",
      "        -3.3682929 ]), array([ -0.46061198,  -0.74159817,   4.82249576, -11.74602264,\n",
      "         4.85045921,  -4.31261922,  29.78299623, -15.79070554,\n",
      "       -25.62304929]), array([ -4.19863508,  -6.90869208,  -4.91456398, -12.44099728,\n",
      "        15.42386122,   0.50788567,  -8.19041842,  -6.09245912,\n",
      "       -11.57103931]), array([ 1.02053977, -4.26342984,  9.38963775, -0.72327643,  5.31194696,\n",
      "       -0.91289693,  1.73078614,  0.42153055, -1.15488207])]\n",
      "[array([ -5.70287747,  -0.21647575,  -3.17920029, -17.97931496,\n",
      "        19.57987262,  43.32059514,   9.94200173,   6.4879102 ,\n",
      "         8.01444902]), array([ 0.91525375, -8.11747618, 14.58717173, -0.98259743,  9.06011656,\n",
      "       -3.16740621,  4.81230372, -7.89395981,  4.08705161]), array([ 0.65435225, -2.7004699 ,  6.23335271, -1.25342095,  3.19636818,\n",
      "       -0.72075023,  1.67454064,  0.02813936, -0.92775136]), array([-0.4319281 , -0.80931167,  0.73118707, -2.13429598,  1.4529033 ,\n",
      "       -0.63589413,  1.2872773 , -0.53113454, -0.86366472]), array([ 1.99946663, -6.88516183, 16.1407986 , -0.70375201,  9.09827298,\n",
      "       -1.08199463,  1.62421891,  1.41449751, -2.56826337]), array([  3.02815541, -22.90899028,   0.3125059 ,  -4.84221208,\n",
      "         3.17608563,  -2.5559042 ,   0.49411716, -20.39548988,\n",
      "         8.27850099]), array([  1.92204832, -17.21403873,  -2.3385594 ,  -3.81192109,\n",
      "         2.78648575,  -0.08737206,   1.2110255 ,   0.57089774,\n",
      "        -3.47630092]), array([ -2.24117899,   0.47098336,   0.34255931, -12.3052608 ,\n",
      "         7.76886669,  -7.90349289,  19.01763221,  -3.39830366,\n",
      "        -2.92133361]), array([  3.90330129, -28.50158588,  -3.6611336 ,  -4.85883787,\n",
      "         3.49156378,  -1.93877576,   5.08740502,   4.76929211,\n",
      "        -1.32849502]), array([-0.02692075, -3.54076479, -0.56919739, -3.1299188 ,  0.49882864,\n",
      "       -1.44918462,  4.6072955 ,  4.99381316, -3.8245818 ]), array([-151.30319945,  -30.33814725,   16.18213805,    6.26272436,\n",
      "         -4.66556293,   -2.90512431,    3.98955906,    1.0475218 ,\n",
      "         -0.71421309]), array([  3.78365992,  -9.65460776,  49.10938601, -78.28953469,\n",
      "       -43.26349413,  -2.08252829, -14.56800768,   5.63218715,\n",
      "         5.225172  ]), array([-2.15129084, -0.4997466 , -1.51340709, -6.14791907,  4.54701999,\n",
      "       -1.36946458,  0.93673669, -1.83527193, -2.09170353]), array([ 1.01917947, -9.29724045,  1.26890155, -3.11878411,  2.33017064,\n",
      "       -1.9488209 ,  2.27932857, -1.50972833,  1.89379781]), array([ -6.24499657,   0.15505662,  -7.4523436 , -19.57211622,\n",
      "        29.86916278, -16.19269188, -13.00298546,   4.35463885,\n",
      "        -0.86108908])]\n",
      "[array([ 1.3768399 , -5.16138025, 11.63047934, -0.26143316,  6.75978319,\n",
      "       -1.20241282,  1.75023874,  0.46552789, -0.66880062]), array([ -6.24499657,   0.15505662,  -7.4523436 , -19.57211622,\n",
      "        29.86916278, -16.19269188, -13.00298546,   4.35463885,\n",
      "        -0.86108908]), array([-0.1039554 , -1.17140377,  1.43805074, -1.47162483,  1.1568459 ,\n",
      "       -0.50477918,  1.22090816, -0.37335411, -0.43696781]), array([ 0.16142644, -4.60138161, -0.66739114, -3.03434328,  0.09091663,\n",
      "       -1.50464704,  4.06914811,  5.87149444, -3.87874146]), array([ 0.59067071, -3.17260906,  5.47968787, -1.43958405,  2.97672718,\n",
      "       -0.71887694,  1.67940987, -0.11929402, -0.85654021]), array([  3.60382072, -26.93641568,  -3.61533075,  -4.79202479,\n",
      "         3.47848487,  -1.72149799,   4.74453738,   6.09931604,\n",
      "        -2.11355916]), array([ -2.6526328 ,  -3.58801022,  14.45355975, -38.72598035,\n",
      "        -0.57624492,  34.90615411,   5.13663007,   6.31904079,\n",
      "        11.05380305]), array([ -3.95534299,  -7.88484403,  -4.16567059, -10.98338166,\n",
      "        10.60523976,   7.96225651,  -4.52989963,  -6.53919064,\n",
      "       -12.84234354]), array([ -0.46061198,  -0.74159817,   4.82249576, -11.74602264,\n",
      "         4.85045921,  -4.31261922,  29.78299623, -15.79070554,\n",
      "       -25.62304929]), array([-1.56733549, -0.21984853, -0.45063819, -5.87373329,  4.43197738,\n",
      "       -2.91825708,  6.15523092, -0.42001067, -0.22222013]), array([ -4.6294805 ,   1.47286343,  -2.70108375, -18.65203167,\n",
      "        11.5974277 , -14.14937229,  19.20851813,   4.25525762,\n",
      "        14.19338483]), array([ 2.6780921 , -9.2018872 , 23.61054916, -3.65069619, 11.59501117,\n",
      "       -0.94338591,  2.86062223,  1.87942843, -6.08320577]), array([-151.30319945,  -30.33814725,   16.18213805,    6.26272436,\n",
      "         -4.66556293,   -2.90512431,    3.98955906,    1.0475218 ,\n",
      "         -0.71421309]), array([  1.952011  , -15.35503853,  -0.9619477 ,  -3.53903436,\n",
      "         2.41294611,  -1.25619824,   1.90878721,  -0.36178433,\n",
      "        -0.65579461]), array([  2.29642518, -15.99417456,   3.9886405 ,  -3.95495709,\n",
      "         3.94010931,  -3.46471394,   2.37417352, -14.26200441,\n",
      "         8.40651637]), array([-1.41948118, -0.92893935, -1.32843364, -4.32923465,  2.89204413,\n",
      "       -0.71855402, -0.74990656, -1.61231131, -2.23267059])]\n",
      "[array([ 1.4117108 , -5.21093494, 11.74137996, -0.20076372,  6.87499272,\n",
      "       -1.20410942,  1.74877553,  0.53790892, -0.69135088]), array([  1.94108627, -15.31682765,  -1.02699139,  -3.58953742,\n",
      "         2.39231409,  -1.22183014,   1.90901037,  -0.35449274,\n",
      "        -0.80196724]), array([ -2.2454465 ,   1.27393769,  -0.87079264, -11.0160105 ,\n",
      "         7.52075686,  -8.62343293,  17.20764203,  -1.09833101,\n",
      "        -0.15333451]), array([-0.24418983, -2.96434178,  0.36453287, -3.48089674,  1.12527166,\n",
      "       -1.56900163,  4.80645364,  3.01990735, -2.6565371 ]), array([  3.78365992,  -9.65460776,  49.10938601, -78.28953469,\n",
      "       -43.26349413,  -2.08252829, -14.56800768,   5.63218715,\n",
      "         5.225172  ]), array([  3.95402419, -29.49684123,  -3.86992841,  -4.92575401,\n",
      "         4.24715046,  -1.72185622,   4.61731762,   3.20574971,\n",
      "        -0.60567121]), array([ -6.24499657,   0.15505662,  -7.4523436 , -19.57211622,\n",
      "        29.86916278, -16.19269188, -13.00298546,   4.35463885,\n",
      "        -0.86108908]), array([ -3.22797356,  -8.83054052,  -1.68503362, -11.29055951,\n",
      "         9.37466329,   5.42595814,  -1.79257848, -11.07578179,\n",
      "       -16.62989309]), array([ 0.80595516, -6.23250089,  2.68160021, -2.30058074,  2.42200492,\n",
      "       -1.64142223,  2.37464381, -2.34887707,  2.42540994]), array([ 2.66639409, -9.45917712, 24.5535548 , -4.37770128, 11.62336702,\n",
      "       -0.90252453,  3.00673624,  1.69426086, -6.64725513]), array([ -5.70287747,  -0.21647575,  -3.17920029, -17.97931496,\n",
      "        19.57987262,  43.32059514,   9.94200173,   6.4879102 ,\n",
      "         8.01444902]), array([  1.22908193, -11.03245719,  -2.87268035,  -3.50265602,\n",
      "        -0.60061253,  -1.34782656,   3.56657084,  12.75640466,\n",
      "        -7.39382996]), array([-151.30319945,  -30.33814725,   16.18213805,    6.26272436,\n",
      "         -4.66556293,   -2.90512431,    3.98955906,    1.0475218 ,\n",
      "         -0.71421309]), array([-0.60110102, -0.2891079 ,  0.22258451, -2.4030416 ,  1.42497362,\n",
      "       -0.70319044,  1.23734343, -0.65030051, -0.89171576]), array([  3.00147943, -20.63119652,   5.16415232,  -4.6843746 ,\n",
      "         5.75769092,  -3.89137688,   2.97109441, -20.22980862,\n",
      "         8.06773115]), array([-1.92640445, -0.7164684 , -1.5494645 , -5.67082417,  4.04503544,\n",
      "       -1.36788608,  0.50890618, -1.51494718, -1.88956848]), array([ 0.38925623, -1.99894229,  4.7723872 , -0.93550561,  2.51147441,\n",
      "       -0.46694759,  1.29319141,  0.01959321, -0.82674354])]\n",
      "[array([ 1.29700225, -4.64188586, 11.01799069, -0.34153841,  6.25940509,\n",
      "       -0.98176813,  1.68363719,  0.533371  , -0.69708897]), array([  2.13804248, -16.22777145,  -1.43306646,  -3.40056561,\n",
      "         2.39596127,  -0.93508874,   1.89251924,   0.129818  ,\n",
      "        -1.50689067]), array([ 0.26927077, -5.23338483, -1.31119696, -2.81996709, -0.23099619,\n",
      "       -1.47302937,  3.97619057,  6.98337066, -4.76011112]), array([ -0.46061198,  -0.74159817,   4.82249576, -11.74602264,\n",
      "         4.85045921,  -4.31261922,  29.78299623, -15.79070554,\n",
      "       -25.62304929]), array([  3.78365992,  -9.65460776,  49.10938601, -78.28953469,\n",
      "       -43.26349413,  -2.08252829, -14.56800768,   5.63218715,\n",
      "         5.225172  ]), array([  3.95402419, -29.49684123,  -3.86992841,  -4.92575401,\n",
      "         4.24715046,  -1.72185622,   4.61731762,   3.20574971,\n",
      "        -0.60567121]), array([-1.71156508,  0.16056233, -0.51328513, -6.09156432,  4.45769422,\n",
      "       -2.9234467 ,  6.07871513, -0.26492126, -0.74779939]), array([ -5.70287747,  -0.21647575,  -3.17920029, -17.97931496,\n",
      "        19.57987262,  43.32059514,   9.94200173,   6.4879102 ,\n",
      "         8.01444902]), array([ 0.58014227, -6.24832136,  1.58576394, -2.39993715,  2.45788112,\n",
      "       -1.3440716 ,  2.18304846, -1.45455257,  1.01769953]), array([ 2.69176981, -9.68815983, 24.55546405, -4.3416261 , 12.11900536,\n",
      "       -1.82816265,  4.10365481, -0.66811074, -5.10593213]), array([ -5.55263254,   0.71983097,  -5.41608938, -19.17779427,\n",
      "        22.03841918, -15.31698349,   0.80194465,   4.31204689,\n",
      "         5.59082831]), array([ 1.01875482, -7.12254697,  4.76480435, -5.11845619,  1.88165667,\n",
      "       -1.90341781,  3.58852694,  3.06957572, -1.01411325]), array([  3.67999481, -25.6625631 ,  -1.99209285,  -4.13280922,\n",
      "         3.77549933,  -2.97828924,   1.43760822, -29.24543699,\n",
      "        11.89134313]), array([-1.33407233, -0.41207487, -1.07753515, -3.83175621,  2.41765486,\n",
      "       -0.65814004, -0.46519735, -1.44078447, -1.80192898]), array([-151.30319945,  -30.33814725,   16.18213805,    6.26272436,\n",
      "         -4.66556293,   -2.90512431,    3.98955906,    1.0475218 ,\n",
      "         -0.71421309]), array([ -3.72005447,  -9.27565065,  -4.22846667, -10.13902219,\n",
      "         9.5053033 ,   5.4291668 ,  -5.25956745,  -8.65218831,\n",
      "       -14.33391911]), array([ 0.19281096, -1.57342608,  3.35945533, -1.14005137,  1.94121462,\n",
      "       -0.51483178,  1.42242194, -0.11598951, -0.78485158]), array([  1.59874309, -13.41436413,   1.63563608,  -3.9362126 ,\n",
      "         2.12472594,  -2.89203127,   1.47104296,  -6.72823412,\n",
      "         6.73885967])]\n",
      "[array([ -6.24499657,   0.15505662,  -7.4523436 , -19.57211622,\n",
      "        29.86916278, -16.19269188, -13.00298546,   4.35463885,\n",
      "        -0.86108908]), array([ 2.66639409, -9.45917712, 24.5535548 , -4.37770128, 11.62336702,\n",
      "       -0.90252453,  3.00673624,  1.69426086, -6.64725513]), array([ -5.70287747,  -0.21647575,  -3.17920029, -17.97931496,\n",
      "        19.57987262,  43.32059514,   9.94200173,   6.4879102 ,\n",
      "         8.01444902]), array([-1.31914826, -2.7981163 ,  0.55272223, -4.84582539,  2.63392211,\n",
      "       -1.80078016,  2.41861193, -3.27342929,  1.8827685 ]), array([  3.95027006, -29.84775273,  -3.84082331,  -4.91209375,\n",
      "         4.47477629,  -2.09341372,   4.34143054,   3.63699314,\n",
      "        -1.61588857]), array([  3.78365992,  -9.65460776,  49.10938601, -78.28953469,\n",
      "       -43.26349413,  -2.08252829, -14.56800768,   5.63218715,\n",
      "         5.225172  ]), array([-1.4163063 ,  0.20683613, -0.42886036, -5.67009044,  3.97624559,\n",
      "       -2.59810577,  6.14033894, -0.00725744, -1.30560696]), array([ 1.61474118, -6.10074916, 13.70996158,  0.93244878,  8.7425815 ,\n",
      "       -1.51309061,  1.54363426, -0.34963123,  0.20189955]), array([ -3.22797356,  -8.83054052,  -1.68503362, -11.29055951,\n",
      "         9.37466329,   5.42595814,  -1.79257848, -11.07578179,\n",
      "       -16.62989309]), array([-151.30319945,  -30.33814725,   16.18213805,    6.26272436,\n",
      "         -4.66556293,   -2.90512431,    3.98955906,    1.0475218 ,\n",
      "         -0.71421309]), array([ -2.32933737,   1.16809811,  -0.92953828, -12.6088539 ,\n",
      "         8.34854254, -10.13236691,  20.86914342,  -1.40140744,\n",
      "        -0.18175675]), array([-0.65486159, -0.16276399, -0.02807307, -2.35150203,  1.43253483,\n",
      "       -0.6834587 ,  1.03264823, -0.63820918, -0.94309647]), array([ 0.30493626, -2.05680964,  3.09144696, -1.04099328,  1.5916109 ,\n",
      "       -0.44396925,  1.22640423, -0.08631804, -0.47012113]), array([ 0.81939682, -3.48495454,  7.74216749, -1.50758335,  3.96382457,\n",
      "       -0.83789252,  1.89732161,  0.14460391, -1.25281365]), array([ 0.09701754, -4.26988077, -0.4683841 , -3.03169364,  0.11578569,\n",
      "       -1.5426631 ,  4.23029508,  5.66984221, -3.76394065]), array([  1.36925536, -12.13825746,   0.63213786,  -3.38779209,\n",
      "         2.46769136,  -2.07605846,   2.01749509,  -2.03588644,\n",
      "         1.4635044 ]), array([  3.07231094, -22.96824736,  -1.19573866,  -4.81407665,\n",
      "         2.61013826,  -1.64552747,   1.6994081 , -14.82817512,\n",
      "         7.37733634]), array([  2.45150497, -17.58680931,  -1.94921275,  -3.31398965,\n",
      "         2.288804  ,  -0.6146811 ,   2.69697537,   4.13025675,\n",
      "        -2.70206367]), array([-1.68122515, -1.14360044, -1.79495122, -4.97814708,  3.67750949,\n",
      "       -0.71710146, -1.53087428, -1.64220205, -2.73619862])]\n"
     ]
    }
   ],
   "source": [
    "print(\"Cluster Centers: \")\n",
    "for center in cluster_centers:\n",
    "    print(center)\n",
    "    pass"
   ]
  },
  {
   "cell_type": "code",
   "execution_count": 101,
   "metadata": {},
   "outputs": [
    {
     "data": {
      "text/plain": [
       "[DenseVector([-0.798, 0.4959, -1.4349, -5.8544, 4.749, -4.4458, 5.7203, 1.0836, -1.2232]),\n",
       " DenseVector([-0.0212, -1.2159, 2.0378, -1.6511, 1.7159, -1.5295, 1.9018, -0.2918, -0.7212]),\n",
       " DenseVector([0.049, 0.001, 1.0498, -0.5103, -0.1063, -0.0014, -0.2126, -0.0804, -0.5095]),\n",
       " DenseVector([-0.562, 0.505, -0.7182, -2.3413, 1.5599, -1.5734, 6.3541, 0.4712, -1.2868]),\n",
       " DenseVector([-0.1648, -1.0457, 1.2865, -4.185, 4.6254, -0.4807, 8.0099, 1.2758, -4.1528]),\n",
       " DenseVector([0.6391, -5.0292, 2.2091, -6.4161, 3.1272, -5.0861, -2.2482, -2.013, 3.1563]),\n",
       " DenseVector([-0.6199, -1.6062, 0.7704, -6.8163, 1.7418, -2.4822, 2.8575, -4.2479, 0.2148]),\n",
       " DenseVector([1.18, -4.2722, 10.3202, 1.92, 9.368, -2.5622, -0.8421, 1.6117, 1.2408]),\n",
       " DenseVector([0.3606, -1.7759, 2.6772, -0.9527, 2.6091, -0.0246, 2.1886, 0.0954, 0.715]),\n",
       " DenseVector([-0.2765, -0.4404, 1.5702, -2.5804, 2.6432, 0.0584, 2.7393, -2.0724, -1.2797]),\n",
       " DenseVector([-2.3301, 1.6381, -2.1775, -3.9694, 3.0728, -1.3514, 0.9249, -0.9751, -0.2305]),\n",
       " DenseVector([-0.0779, -0.9366, 10.6378, -8.9956, 2.9344, 3.0151, 3.3948, -0.8538, -1.4473]),\n",
       " DenseVector([-1.817, 0.9432, -0.9234, -2.7047, 0.7973, -0.4073, 1.5404, -0.5753, -0.0993]),\n",
       " DenseVector([-0.1637, -1.184, 4.7613, -2.0857, 2.295, -0.8685, 0.9203, -0.5038, -0.8073]),\n",
       " DenseVector([2.3569, -7.0127, 18.9087, -4.4212, 9.9494, -1.1704, 4.414, 2.3428, -6.8922]),\n",
       " DenseVector([-1.1843, -1.3084, 0.5821, -4.4594, 0.5677, -2.9269, 6.323, 3.8677, -3.2084]),\n",
       " DenseVector([-1.7375, -3.1676, 6.1169, 0.4817, 2.8005, -1.2115, 1.7121, 0.275, -0.4569]),\n",
       " DenseVector([-4.7083, 1.4386, -2.4443, -7.1477, 6.845, -4.3931, 1.1494, -2.4554, -0.8685]),\n",
       " DenseVector([-2.1014, 1.1095, -0.4466, -4.8836, 3.6126, -3.3401, 3.1383, -0.4835, 1.6099]),\n",
       " DenseVector([0.5673, -3.1651, 5.5367, -1.9602, 6.1792, -1.9525, 0.3444, 1.2157, -0.732]),\n",
       " DenseVector([-0.0521, -1.327, 0.1144, -1.6923, 2.026, -1.4254, 3.6191, 1.4102, -1.1531]),\n",
       " DenseVector([0.2467, -0.2351, 1.2566, 0.3321, 0.5588, -0.2053, 0.4014, -0.0391, -0.126]),\n",
       " DenseVector([-2.803, 0.1624, -0.6732, -4.7009, 5.2605, 0.3546, -0.9998, -0.7742, -0.2005]),\n",
       " DenseVector([0.2453, -0.4857, 2.6744, -0.3778, 1.0771, -0.432, 1.5865, 0.2132, -0.7704]),\n",
       " DenseVector([0.2666, -0.9185, 3.1338, -1.8666, 0.4977, -0.8469, -0.0505, 0.02, -0.6472]),\n",
       " DenseVector([-1.3414, -1.7953, -1.1884, -3.7305, 3.9055, 0.7002, 1.1468, 0.3423, -1.7936]),\n",
       " DenseVector([0.9624, -3.8555, 11.9576, -0.152, 5.6347, 0.8557, 2.7313, -0.913, -0.4562]),\n",
       " DenseVector([0.3302, -0.8474, 2.5476, -1.9989, -0.2528, -0.1926, -0.1809, -0.4159, -0.3388]),\n",
       " DenseVector([1.875, -15.3065, -2.4966, -3.1725, 2.162, -0.4875, 0.5993, -2.634, -2.3146]),\n",
       " DenseVector([-1.5389, 0.5879, -0.7487, -2.3975, 0.8801, -1.3276, 3.4513, -0.3528, -0.7494]),\n",
       " DenseVector([-0.065, -3.0567, 2.5317, -2.6078, 2.0805, -1.8589, 2.6143, -0.8535, -1.6897]),\n",
       " DenseVector([-0.3316, -0.4481, 0.6715, -0.8979, 1.7657, -0.9564, -0.44, -1.5868, -0.7328]),\n",
       " DenseVector([0.4954, -1.9595, 3.6842, -1.9606, 2.6897, -1.5462, 2.2201, 1.7421, -0.1897]),\n",
       " DenseVector([0.63, -0.7081, 7.725, -3.2514, 4.9884, 0.198, 1.7819, -0.0854, -2.5909]),\n",
       " DenseVector([-3.143, 0.5756, -3.7832, -6.2006, 2.2253, -3.7737, -1.2714, -1.6645, -3.8129]),\n",
       " DenseVector([0.6563, -1.3902, 8.4808, -4.3185, 2.4597, -1.6462, 3.2257, 0.9089, -1.4872]),\n",
       " DenseVector([-1.4211, 0.8364, -1.7757, -3.3625, 1.5455, -0.3717, -0.8846, -0.2744, -1.7008]),\n",
       " DenseVector([-2.0083, -1.0187, 6.9244, -1.8044, 5.2872, -1.0032, 0.8057, -0.1635, 0.0421]),\n",
       " DenseVector([0.9369, -3.6075, 7.5769, -0.5026, 2.6885, -1.1948, 4.376, -1.7251, -4.2548]),\n",
       " DenseVector([-0.4997, -3.4262, -2.8628, -4.8173, 3.0126, -1.1924, -1.8373, -0.1387, -2.4547]),\n",
       " DenseVector([-0.369, 0.2488, 0.0715, -1.9871, 0.661, -0.4147, 1.491, -0.1852, -0.7209]),\n",
       " DenseVector([0.556, 0.0231, 4.5412, -0.8611, 2.0058, -0.6402, 1.9451, -1.5977, -1.3551]),\n",
       " DenseVector([0.9644, -7.4983, 1.6144, -0.619, 2.0649, -0.5278, 0.6939, 0.586, -0.9299]),\n",
       " DenseVector([-0.8261, 0.6888, -0.4531, -2.2294, 1.2132, -0.9891, 0.3058, -1.2944, -1.9353]),\n",
       " DenseVector([-0.5373, 1.2388, -1.249, -3.9378, 1.6171, -0.2037, -0.449, -1.5374, -2.0571]),\n",
       " DenseVector([-7.7435, -0.4383, -7.9696, -23.7683, 31.5574, -23.622, -13.8225, 11.927, 1.2908]),\n",
       " DenseVector([-1.95, 0.9132, -2.2128, -4.0016, 4.1764, -2.1004, 0.8938, -1.1667, 0.1028]),\n",
       " DenseVector([0.2563, -0.8319, 0.8359, -0.4005, -0.2228, -0.021, 0.2184, 0.3552, -0.1676]),\n",
       " DenseVector([0.9623, -3.0228, 7.5712, -1.8953, 2.2244, -0.135, -0.0543, 0.4589, -0.5233]),\n",
       " DenseVector([-0.2952, -1.3691, -2.0555, -3.193, 0.8715, -1.4303, 2.814, -1.2513, -3.2973]),\n",
       " DenseVector([-1.6788, -2.4395, -1.6692, -4.699, 2.5816, -0.2652, -4.181, -4.7123, -4.1321]),\n",
       " DenseVector([-1.6785, -1.7031, -3.7893, -15.1793, 11.1928, -10.5229, 18.7313, 7.7287, 12.1198]),\n",
       " DenseVector([1.0489, -5.6257, 4.3883, -2.1393, 2.8237, -1.793, 2.4596, -4.0491, -2.9932]),\n",
       " DenseVector([1.9282, -16.0761, 0.0235, -3.4816, 5.0157, 2.6998, 2.337, 1.1349, 0.0257]),\n",
       " DenseVector([-0.5725, 0.9932, -0.7063, -1.6706, 0.6303, 0.2852, 1.1109, -0.8727, -0.0427]),\n",
       " DenseVector([-0.6136, 0.5029, 0.5226, -1.7411, 1.1968, -1.5953, -2.5699, -1.8981, 0.5211]),\n",
       " DenseVector([0.3813, -1.0091, 4.291, -0.3913, 3.6125, -0.5542, 1.6426, -0.0339, -0.4833]),\n",
       " DenseVector([2.5527, -18.6111, -3.4488, -3.6081, 3.2254, 1.5046, 2.3435, 12.562, -7.1923]),\n",
       " DenseVector([-0.9316, 0.6129, 0.2758, -3.7821, 0.4156, -0.9684, 0.196, -4.3203, -1.9309]),\n",
       " DenseVector([0.8788, -7.8687, 12.3031, 1.3565, 8.5508, -0.1827, 1.2021, 3.2892, 0.4314]),\n",
       " DenseVector([-0.5937, 0.5482, 0.7646, -2.9359, 2.6497, -3.2656, 4.2913, -0.4732, -0.91]),\n",
       " DenseVector([0.7337, -1.8772, 2.8574, 0.9399, 1.402, -0.261, 0.4295, 0.8218, -0.73]),\n",
       " DenseVector([-0.0323, -0.5473, 1.2857, -0.234, 0.5999, -0.4443, 1.6736, 0.0518, -0.7116]),\n",
       " DenseVector([0.5837, -0.612, 4.8407, 0.2072, 2.1691, -0.2622, 0.7042, -0.3595, -1.4175]),\n",
       " DenseVector([-1.0169, -0.9157, -0.2821, -2.6034, 2.5264, 1.2917, 0.9061, -2.5294, -1.887]),\n",
       " DenseVector([0.1442, -2.3312, 4.9517, -1.489, 1.2159, -0.8534, 0.4258, 0.2572, -0.6926]),\n",
       " DenseVector([-1.1176, -0.1321, -0.8899, -4.4286, 5.3728, -3.4342, -2.8276, -1.7872, -0.366]),\n",
       " DenseVector([-7.7159, 1.3787, 0.6219, -23.1829, 7.1264, -10.0269, 13.8215, 0.5567, 15.3898]),\n",
       " DenseVector([0.2641, -1.3256, 0.8189, -2.8126, 2.4938, -0.9825, 4.9808, -3.0761, -2.1075]),\n",
       " DenseVector([1.0845, -5.5519, 5.1675, -2.4613, 2.1973, -0.4523, 2.1832, 0.9056, -2.4753]),\n",
       " DenseVector([-1.5592, 2.32, -1.0398, -7.3471, 6.6409, -6.7195, 7.1351, -0.9824, 2.9845]),\n",
       " DenseVector([-0.1578, -1.1166, 2.5021, -1.014, 0.9658, -0.1352, 0.9327, -0.7666, -0.1785]),\n",
       " DenseVector([0.5988, -1.8601, 4.4517, -0.9815, 0.9203, -0.7063, 0.1969, -0.335, -0.1913]),\n",
       " DenseVector([1.1536, -4.1433, 9.0591, -0.7311, 6.6841, -1.7229, 2.2401, 1.8207, 1.8104]),\n",
       " DenseVector([0.4419, 0.4505, 4.6905, -0.9052, 1.3072, -0.5119, 2.5834, -0.44, -1.654]),\n",
       " DenseVector([3.3212, -17.9113, 0.734, -1.6164, 4.3118, -0.8165, 3.5511, 3.1346, -3.0892]),\n",
       " DenseVector([-0.0603, -0.1342, 1.6124, -1.7969, 1.4531, -0.4818, 1.8, -1.5168, 0.3815]),\n",
       " DenseVector([4.6292, -27.8918, -4.4484, -4.4898, 2.2311, -2.8901, -0.695, -33.1488, 20.9155]),\n",
       " DenseVector([-1.2097, -8.7665, 21.6994, -0.1018, 9.6956, -0.4568, 2.6443, 2.3196, -3.6938]),\n",
       " DenseVector([-1.6169, 1.6893, -2.2751, -4.4057, 2.0878, 0.515, 4.3142, -3.2083, -4.4216]),\n",
       " DenseVector([-0.6476, -2.4599, 0.0555, -1.8358, 1.3849, -1.8073, 3.1252, 2.5614, -1.1273]),\n",
       " DenseVector([0.2148, -1.4576, 3.5769, 0.3448, 2.1387, -0.543, 1.3132, 0.0178, -1.0468]),\n",
       " DenseVector([0.5576, -0.5865, 4.2232, 0.114, 2.2446, -0.0234, 1.7061, -0.435, -0.2628]),\n",
       " DenseVector([0.87, -1.5525, 6.1728, 0.8506, 3.6768, -0.2882, 0.8083, 0.2603, -1.2201]),\n",
       " DenseVector([0.5989, -1.2481, 3.839, 0.3783, 1.23, -0.8546, 0.1865, -0.9051, 0.6006]),\n",
       " DenseVector([-0.6225, -1.413, 1.9633, -6.0953, 6.0441, 1.0626, 5.4491, -0.6612, -0.36]),\n",
       " DenseVector([0.182, -0.6074, 3.0186, -0.0206, 1.7712, -0.6698, 1.6006, -0.5546, -1.6204]),\n",
       " DenseVector([-1.7214, -0.0021, -1.8396, -7.984, 5.0724, -6.9913, 5.5925, 0.7885, -2.7351]),\n",
       " DenseVector([-0.1373, -0.8603, -1.0074, -5.1632, 3.733, -1.139, 7.2148, -0.1034, -0.3806]),\n",
       " DenseVector([-0.0248, -0.6899, 0.5927, -3.4103, 1.9415, -1.0428, 5.2347, -0.8148, -1.3421]),\n",
       " DenseVector([1.8058, -6.2651, 14.2074, -1.927, 9.7318, -4.296, 6.6906, 3.2476, -1.9353]),\n",
       " DenseVector([-0.362, 0.0765, 0.0719, -2.142, 1.6851, -1.2371, 4.7339, 0.7216, -1.4752]),\n",
       " DenseVector([-5.3178, -1.4241, -6.053, -9.6392, 7.8736, 4.054, -4.4312, -7.3229, -8.9411]),\n",
       " DenseVector([-2.2918, 0.29, -0.4001, -1.5891, 1.7084, 0.7911, -0.3786, -0.6726, -1.2029]),\n",
       " DenseVector([1.0612, -16.4797, -3.2322, -5.1742, 3.5746, -2.3403, 3.0312, 15.597, -6.4556]),\n",
       " DenseVector([2.1651, -9.6769, 9.8138, -1.9008, 5.0251, -1.3482, 3.4469, -3.7327, 3.016]),\n",
       " DenseVector([2.3297, -20.1858, -4.2635, -4.4533, 0.9856, -1.6433, 0.8438, -6.2804, 1.6535]),\n",
       " DenseVector([-0.14, -0.7163, -0.3786, -5.6941, 0.7041, -3.4845, 8.0689, 4.8357, -6.031]),\n",
       " DenseVector([-0.6203, 0.7171, 0.6194, -1.2262, 1.539, 0.3229, -1.8673, -1.0761, -0.7577]),\n",
       " DenseVector([-0.4732, -0.2739, 0.3041, -1.8096, 1.1189, -2.0003, 3.8067, 4.2821, -1.807]),\n",
       " DenseVector([0.4837, -1.9079, 4.6437, -7.0361, 0.3236, -0.9706, 1.4071, 3.5143, -0.3498]),\n",
       " DenseVector([1.6746, -4.3619, 11.7344, 1.6184, 7.9803, -0.8788, 0.8635, 2.1606, -1.4486]),\n",
       " DenseVector([0.5335, -3.7804, 13.1793, -2.4039, 1.4735, -3.1403, 1.7616, 3.4862, -0.2074]),\n",
       " DenseVector([-1.0271, -2.4348, 6.7799, -2.3393, 4.2992, 0.0298, 2.8213, 0.719, -3.2082]),\n",
       " DenseVector([-1.2877, -1.492, -0.2814, -5.2677, 1.4752, 0.406, 0.0879, -6.9267, -1.2183]),\n",
       " DenseVector([-1.845, -0.4024, -1.0527, -4.658, 2.3383, 1.2997, -3.9451, -1.345, -5.6358]),\n",
       " DenseVector([-2.6927, 1.0431, -1.0698, -5.6388, 6.0328, -3.6899, 2.618, -0.2304, 1.4013]),\n",
       " DenseVector([0.3397, -2.0316, 1.9963, -3.3509, 3.0216, -0.0151, 5.6044, -1.041, 2.7626]),\n",
       " DenseVector([-4.494, 4.743, -4.9359, -17.5939, 16.4731, -21.8983, 25.0728, 4.4804, 15.0706]),\n",
       " DenseVector([0.6078, -2.1601, 2.6826, 1.0758, 2.2026, -0.2078, 0.5507, -0.147, 0.2934]),\n",
       " DenseVector([0.7125, -2.7742, 7.4803, 0.9121, 4.477, -1.7509, 0.4093, 2.4918, -0.1027]),\n",
       " DenseVector([0.6566, -1.6857, 6.9941, -0.9251, 3.9093, -0.6337, 1.0037, -0.0234, -0.4105]),\n",
       " DenseVector([0.3569, -1.1553, 1.8434, -2.3409, -0.0935, -0.4609, 2.5212, 1.7917, -1.9506]),\n",
       " DenseVector([3.9916, -25.9877, -4.161, -5.0624, 1.9709, 1.9937, 7.3762, -1.1067, 9.4965]),\n",
       " DenseVector([1.3241, -18.5196, -3.0512, -5.8676, 3.6031, -0.2821, -3.3953, -6.8408, -4.8646]),\n",
       " DenseVector([-0.4007, -0.31, 0.1248, -2.4361, 2.7943, -1.9315, -0.1036, -0.0318, -0.0148]),\n",
       " DenseVector([-5.161, -0.7658, -2.8721, -17.1427, 18.6571, 43.8744, 11.1746, 3.6078, 8.677]),\n",
       " DenseVector([0.6634, -2.1401, 3.8086, -0.0634, 1.3898, -0.8853, 1.2386, 2.2297, -0.991]),\n",
       " DenseVector([3.7837, -9.6546, 49.1094, -78.2895, -43.2635, -2.0825, -14.568, 5.6322, 5.2252]),\n",
       " DenseVector([1.3484, -10.6273, 1.0499, -2.3192, 4.4272, -2.6598, 8.2179, -9.6905, 7.7385]),\n",
       " DenseVector([1.2794, -5.3944, 5.7685, 0.7827, 4.1045, -0.3406, 0.3737, 0.9229, 0.1018]),\n",
       " DenseVector([-0.4694, -4.5973, 0.6318, -4.1524, 2.9335, 0.0764, 1.4581, -2.881, -2.1834]),\n",
       " DenseVector([0.4403, -1.0369, 3.1602, 0.3423, 2.1786, -0.426, 0.2609, 0.8591, -0.1897]),\n",
       " DenseVector([-0.056, -0.8666, 4.1925, -7.1314, -2.3099, 1.4986, -0.4638, -0.0483, -0.6053]),\n",
       " DenseVector([-0.9229, -2.3425, -0.3986, -4.0814, 0.3145, -1.1979, 5.9214, 4.1396, -5.7924]),\n",
       " DenseVector([0.8317, -18.0795, -6.6353, -5.699, 5.2244, 4.9144, -3.5263, -9.6256, -15.8331]),\n",
       " DenseVector([-0.3008, -1.2976, 2.9423, -0.5985, 2.2532, 0.9342, 1.406, -0.9961, -0.6123]),\n",
       " DenseVector([-0.8289, 0.7294, 0.0493, -2.8083, 1.8341, -0.0654, -1.3128, -0.5783, -2.4509]),\n",
       " DenseVector([0.8485, -3.8418, 4.1252, -2.7911, 0.9211, -0.3766, 0.7909, -0.8307, -0.3754]),\n",
       " DenseVector([1.1122, -2.7229, 13.8127, 0.4807, 7.316, -0.827, 0.8039, 2.0154, -2.7256]),\n",
       " DenseVector([1.3905, -3.0923, 8.9072, 0.5725, 4.826, -0.2805, 2.5659, -0.3397, -1.3969]),\n",
       " DenseVector([-6.0976, -9.4638, -4.7937, -9.1259, 7.0916, 6.0533, -5.341, -7.2333, -15.2221]),\n",
       " DenseVector([2.0406, -17.5451, -3.6195, -2.9689, 1.6668, -1.8621, 1.9131, 0.6071, -1.6623]),\n",
       " DenseVector([1.4864, -12.6556, 1.0306, -2.0691, 3.6518, -1.46, 0.3434, 1.5155, -1.5936]),\n",
       " DenseVector([1.073, -4.6723, 10.6038, -4.4308, 2.7919, -1.5142, 3.6782, 1.2158, -3.6184]),\n",
       " DenseVector([0.8061, -4.5233, 2.0961, -0.8089, 1.7778, -1.1511, 0.6213, -1.3803, 1.427]),\n",
       " DenseVector([-0.3601, 0.03, -1.0503, -3.388, 1.5308, -1.5172, -1.4172, 0.4477, -1.9998]),\n",
       " DenseVector([-0.2829, -5.0945, -2.4315, -3.424, 2.3349, 0.8167, -1.8498, 0.6019, -4.7593]),\n",
       " DenseVector([2.7308, -23.4333, 0.4642, -3.7759, 5.3199, -3.0665, 3.5702, -25.342, 2.8672]),\n",
       " DenseVector([-1.2174, 1.4174, 0.5378, -7.5, 5.3664, -5.5523, 15.3474, -5.8842, 3.4299]),\n",
       " DenseVector([1.1616, -14.1351, -4.6042, -4.791, 0.9714, -1.7533, 3.1898, 2.4382, -2.214]),\n",
       " DenseVector([0.8286, -7.8205, 1.9933, -4.6554, 2.7276, -2.6638, 5.964, 1.3221, -1.8932]),\n",
       " DenseVector([-0.9418, -0.4622, -1.8204, -3.7537, 3.2306, -0.5626, 0.1544, 0.1133, -1.7138]),\n",
       " DenseVector([-1.0027, -0.6325, -1.5244, -5.2279, 0.8434, 0.1372, -1.6578, -2.4275, -8.1888]),\n",
       " DenseVector([0.1601, -0.7358, 2.3457, -1.1833, 3.0035, -1.6915, 0.3729, 0.118, 0.322]),\n",
       " DenseVector([0.6518, -2.7391, 3.8356, -2.0278, 4.2156, -1.2551, 2.4023, 3.2997, -0.7295]),\n",
       " DenseVector([1.2338, -8.1445, -0.4695, -2.122, 0.5996, -1.1624, 3.7012, 8.3229, -5.4995]),\n",
       " DenseVector([0.7318, -3.1096, 1.1269, -2.2492, 5.3964, -1.8021, 6.8563, -3.2011, 1.4282]),\n",
       " DenseVector([1.1616, -3.7989, 12.4313, -5.9887, 2.3746, -0.7232, 5.3579, -1.1886, -3.3823]),\n",
       " DenseVector([-1.4765, 0.4935, -3.0323, -4.7218, 4.0303, -0.9074, -1.6033, -1.7308, -0.126]),\n",
       " DenseVector([-1.4957, -3.4001, -1.7322, -5.3019, 2.8976, -1.0005, -0.1901, -4.7493, -3.3015]),\n",
       " DenseVector([2.4429, -13.9255, 1.5896, -2.1046, 4.6599, -2.3633, 1.304, -2.0303, -0.1395]),\n",
       " DenseVector([0.7036, -8.0822, -2.3461, -3.2528, 2.6874, -1.0255, 2.3203, -1.436, -2.8542]),\n",
       " DenseVector([0.9574, -5.3546, 1.4622, -0.6379, 0.2603, -0.2939, 2.2876, -0.9158, 2.4733]),\n",
       " DenseVector([1.5663, -13.0497, 0.05, -2.6191, 1.4506, -2.4164, 1.2936, -3.999, 2.1871]),\n",
       " DenseVector([-6.5806, -0.3436, -2.8766, -20.7457, 22.8776, 62.9266, 18.8033, 9.7172, 19.2593]),\n",
       " DenseVector([-0.1448, -1.7155, 1.6254, -1.2174, 0.0315, -1.1533, 4.5237, 1.5423, -3.2407]),\n",
       " DenseVector([2.6704, -17.1079, 0.1331, -1.34, 2.6813, -0.8457, 2.2745, 5.2737, -2.6668]),\n",
       " DenseVector([1.5997, -12.655, -1.0965, -2.4863, 2.5008, -1.76, 2.6376, -0.807, -0.6391]),\n",
       " DenseVector([0.5418, -1.4508, 5.6433, -2.0387, 4.7269, -3.7711, 3.3288, 0.9751, 2.882]),\n",
       " DenseVector([-1.9869, 0.7224, -3.2661, -6.3424, 2.0468, -2.7755, 0.303, -0.6883, -3.9725]),\n",
       " DenseVector([1.0003, -2.9332, 7.8678, 0.8031, 3.6109, -0.5324, -0.8919, 0.7379, 0.1994]),\n",
       " DenseVector([-2.0406, 0.0507, -3.2975, -6.2168, 1.8266, 1.0841, -2.7514, -6.834, -7.1055]),\n",
       " DenseVector([0.695, -4.7912, -0.1127, -2.3473, 0.8432, -2.7009, 3.8022, 3.4888, -2.177]),\n",
       " DenseVector([0.871, -3.7129, 9.1427, -4.3007, 4.3012, -0.0356, 5.0239, -3.9722, -6.1957]),\n",
       " DenseVector([1.4022, -8.0161, 10.4394, 2.8161, 9.4354, -0.7402, 0.6309, -0.2644, 2.4299]),\n",
       " DenseVector([-1.4463, 1.2026, -1.8048, -2.7018, 1.7979, -0.7644, 0.4534, -1.5141, -0.6366]),\n",
       " DenseVector([-0.3727, 0.2121, -1.3305, -2.3986, 0.9717, -0.1866, -0.1876, 0.1285, -0.808]),\n",
       " DenseVector([0.4121, -0.9141, 2.1143, 0.1782, 1.0288, -0.1412, 0.3337, 0.1616, -0.477]),\n",
       " DenseVector([-1.8879, 0.574, -1.9744, -5.0605, 4.9832, -3.9406, 1.9887, -2.8656, 0.7758]),\n",
       " DenseVector([0.2971, -0.3938, 5.0576, -1.668, 1.533, -0.0589, 1.713, -0.9213, -0.5647]),\n",
       " DenseVector([-0.3608, -1.757, -0.4326, -2.2161, 2.0117, -1.1904, 1.879, 0.9868, -0.4553]),\n",
       " DenseVector([1.2996, -3.7975, 6.6753, -1.224, 4.4899, -2.0747, 2.7036, -3.9602, 2.3798]),\n",
       " DenseVector([-2.1055, -2.6704, -1.7062, -4.0545, 4.4245, 0.1025, -3.3269, -1.0319, -5.5154]),\n",
       " DenseVector([0.3018, -1.4076, 2.907, -1.1904, 2.031, -0.2026, 2.0577, -2.289, -0.3236]),\n",
       " DenseVector([-0.4899, -0.5124, -2.1705, -3.8999, 2.6414, -1.0451, 1.671, -1.0809, -1.2334]),\n",
       " DenseVector([-0.0128, -1.2454, 1.6278, -2.193, 1.3646, 0.3201, 1.1286, -0.9394, -2.4362]),\n",
       " DenseVector([2.0209, -18.3514, -3.1973, -5.1613, 3.4423, -1.9343, 1.4075, 5.5133, -2.3151]),\n",
       " DenseVector([1.3633, -8.9699, 5.2296, -8.3604, 0.1209, -3.3343, 7.5408, 5.2953, 1.2118]),\n",
       " DenseVector([-2.2305, -2.2349, -1.379, -1.998, 0.1515, -1.3088, 1.0615, 3.3853, -3.5883]),\n",
       " DenseVector([-0.8551, 1.3056, -0.6994, -3.2139, 0.3059, -0.9715, 2.2338, -1.4289, -1.2711]),\n",
       " DenseVector([3.2929, -21.1925, -1.7603, -3.3372, 3.5717, -1.0995, 0.0879, -2.7315, -1.5905]),\n",
       " DenseVector([2.8769, -26.0176, -5.8455, -7.9194, 5.9557, -2.1789, 7.7451, 7.5813, -6.232]),\n",
       " DenseVector([1.4653, -15.2745, 0.8435, -4.8439, 4.7828, -4.4792, 1.3961, 1.7994, 1.1231]),\n",
       " DenseVector([0.1883, -1.0304, 3.5255, -1.2733, 0.0758, -0.2446, 0.6139, -0.1396, -1.0559]),\n",
       " DenseVector([-0.9403, 3.1324, 1.2865, -10.6717, 3.3968, -11.441, 43.9316, -14.1931, -28.2723]),\n",
       " DenseVector([0.1849, -0.8737, 1.7251, -0.196, 1.0825, 0.149, 0.1473, 0.5085, -0.3615]),\n",
       " DenseVector([-0.417, -1.718, -0.5507, -7.7075, 3.8185, -0.1783, 11.1346, 1.0819, -4.2137]),\n",
       " DenseVector([3.0829, -14.5179, 17.9788, 2.668, 15.8753, -1.7369, 8.9879, 4.4061, -5.2652]),\n",
       " DenseVector([-1.1212, -0.8533, 0.1956, -3.0035, 1.9334, -0.6835, 5.6856, -1.6884, -0.9671]),\n",
       " DenseVector([-1.1704, 0.4606, -2.3026, -4.4738, 3.0402, 1.2858, -2.0686, -0.6954, -1.3635]),\n",
       " DenseVector([2.8726, -22.9787, 1.3357, -7.6124, 2.3292, -1.1599, -2.4741, -12.3806, 5.0917]),\n",
       " DenseVector([-0.7475, -1.1996, 0.7584, -2.5283, 2.2738, -1.1605, 3.7461, 0.0523, -1.8358]),\n",
       " DenseVector([0.1559, -1.7698, 1.5252, -0.4681, 1.0494, -0.1806, 0.1588, 0.5517, -0.8058]),\n",
       " DenseVector([-3.4814, 1.3885, -2.7109, -7.3663, 5.3944, -6.9332, 3.5435, 1.8771, 2.2907]),\n",
       " DenseVector([-0.8823, -0.859, -0.4488, -1.5484, 1.5436, 0.3715, -1.006, 0.7605, -2.5918]),\n",
       " DenseVector([-0.728, -0.1786, 0.5263, -7.1813, 3.7565, -4.4623, 12.2761, -1.9015, -1.6659]),\n",
       " DenseVector([-2.3079, -0.0217, -3.0764, -5.114, 1.0442, -1.9281, -0.2493, -3.8065, -3.6944]),\n",
       " DenseVector([1.0701, -6.5195, 5.5309, -3.5255, 1.5874, -1.4598, 2.7221, 2.1971, -4.5968]),\n",
       " DenseVector([1.1203, -5.3705, 0.8465, -0.8726, 0.0456, -1.0884, 3.4095, 2.3478, -2.9177]),\n",
       " DenseVector([-0.547, -1.4075, -1.2489, -1.5399, -0.0021, -0.0705, -1.2208, -1.2246, 1.7545]),\n",
       " DenseVector([0.6228, -9.6791, 0.0083, -4.0706, 3.516, -0.7245, 1.0453, -0.7705, -1.9098]),\n",
       " DenseVector([0.4861, -1.0003, 4.1584, -0.8254, 1.026, -0.5537, 0.1915, -0.6942, -0.7538]),\n",
       " DenseVector([2.8255, -18.069, 0.4882, -4.2598, 3.6679, -0.0531, 2.7321, -0.7513, -0.1854]),\n",
       " DenseVector([-0.6307, -3.4127, -1.8736, -8.6709, 6.7393, -7.4413, 13.9558, 3.551, -3.5483]),\n",
       " DenseVector([-3.8666, 0.4985, -3.482, -6.0569, 4.9953, 1.371, -0.9736, -2.555, -4.594]),\n",
       " DenseVector([1.2274, -2.8658, 7.461, -1.0707, 4.1071, -1.0734, 2.6087, 2.5401, -3.7217]),\n",
       " DenseVector([-0.8044, -0.7627, 2.4151, -1.8855, 2.5503, -0.9394, 0.8712, -1.5518, -0.6763]),\n",
       " DenseVector([3.0359, -23.5596, -1.8426, -5.1049, 4.5294, -2.8537, 4.3771, 6.0829, -3.665]),\n",
       " DenseVector([-0.7928, 1.1582, -0.956, -6.5154, 5.4965, -3.821, 7.6231, -0.1038, 1.1145]),\n",
       " DenseVector([1.9135, -5.3568, 14.0188, 2.5756, 13.4221, -1.5943, -4.6636, 4.5741, 0.2278]),\n",
       " DenseVector([-0.683, -0.4594, 4.3665, -2.9088, 5.0593, -1.5047, 4.4917, -0.2905, -0.8421]),\n",
       " DenseVector([2.067, -3.9711, 11.8024, 1.1923, 4.1012, -1.1068, 3.2277, -0.2785, -2.7478]),\n",
       " DenseVector([-0.1661, 0.8027, -0.3946, -6.3666, 2.5638, -6.9035, 26.408, -7.5617, -18.1911]),\n",
       " DenseVector([-1.7649, -0.0272, -1.1092, -2.5412, 0.2552, -0.082, 1.7881, -1.5841, -1.7739]),\n",
       " DenseVector([0.2723, -2.2228, 1.7698, -1.5915, 1.5945, -0.6054, 1.429, -1.0626, -0.8774]),\n",
       " DenseVector([-2.9554, -0.9315, -1.8904, -7.1053, 6.6957, 3.2209, -4.69, -2.4694, -3.5046]),\n",
       " DenseVector([0.6475, -4.7024, 4.4487, -1.9162, 4.7903, -2.4523, 1.4199, 0.6623, -1.5916]),\n",
       " DenseVector([-0.5584, -1.8186, -0.7168, -2.651, 1.9203, -1.0882, -0.8603, -0.7381, -1.7014]),\n",
       " DenseVector([0.4957, -0.6564, 3.7782, -0.6103, 1.0789, 0.2812, 0.8067, 0.3825, -0.7806]),\n",
       " DenseVector([0.6187, -1.9076, 3.8399, -0.8349, 1.6605, 0.7411, 0.3863, -0.2147, -1.9088]),\n",
       " DenseVector([0.8499, -2.9371, 2.3157, -0.8369, 0.549, -0.591, 2.6478, 1.8417, -1.5015]),\n",
       " DenseVector([2.139, -18.29, -4.244, -2.7215, 1.4683, 3.5797, 3.499, 3.6765, 1.8423]),\n",
       " DenseVector([0.0563, -0.4586, 1.8225, -0.6971, 0.9119, -0.5119, 0.6087, -1.0887, 0.6609]),\n",
       " DenseVector([0.1167, -2.1939, 3.143, -1.8867, 0.7215, -0.3343, 1.3203, -0.7807, -0.9429]),\n",
       " DenseVector([0.9258, -14.7762, -0.9161, -2.2218, 2.2707, -0.1353, 0.0566, -2.3459, -4.5402]),\n",
       " DenseVector([1.2413, -4.497, 11.4366, -1.9382, 6.8078, -0.3748, 3.9902, 1.244, -5.8133]),\n",
       " DenseVector([1.0729, -2.0506, 8.1075, 1.416, 4.9351, -0.4426, -1.4494, -0.2319, -0.6449]),\n",
       " DenseVector([0.6695, -1.2288, 4.6737, -0.7649, 2.3004, -0.0662, 0.9292, 0.235, -0.5813]),\n",
       " DenseVector([1.7778, -12.2001, 5.8838, -10.4781, 1.5782, -3.2796, 2.077, 5.7474, 1.4731]),\n",
       " DenseVector([-2.7055, -1.0084, -0.9946, -2.431, 1.5731, 1.6175, -3.6323, -2.7266, -1.3907]),\n",
       " DenseVector([-0.3779, -0.3464, 0.4155, -1.2931, 0.9476, -0.254, 0.0092, -0.3251, -0.6571]),\n",
       " DenseVector([2.2005, -14.3977, -2.3343, -5.218, -0.518, -0.7893, 1.1239, -2.7511, -2.104]),\n",
       " DenseVector([3.3278, -9.7559, 25.5115, -8.4022, 8.4884, -1.773, 2.1196, -0.3725, -11.6462]),\n",
       " DenseVector([0.3285, -1.9683, -0.8307, -1.0442, -0.5286, -1.2364, 4.145, 6.8946, -3.863]),\n",
       " DenseVector([0.9035, -7.4526, 3.9122, -4.0288, 5.0388, 0.4071, 1.9262, 0.5325, 1.0373]),\n",
       " DenseVector([-1.1225, -0.8277, -1.1406, -3.3319, 2.0322, 0.3278, -0.8376, -2.2272, -1.2308]),\n",
       " DenseVector([-0.3769, -3.0938, -2.0166, -2.4519, 1.5571, -0.5938, -1.8016, -0.5233, -2.5932]),\n",
       " DenseVector([1.7939, -9.5557, 4.9819, -1.6983, 2.2954, -3.9307, 0.6388, -3.897, 12.9012]),\n",
       " DenseVector([0.2233, -6.3985, -2.3909, -5.1118, 2.9305, 0.7533, 2.8512, 2.0637, -3.3534]),\n",
       " DenseVector([1.1406, -9.6107, 0.2557, -1.2326, 3.5127, -2.4003, 2.3113, -1.7277, 2.9927]),\n",
       " DenseVector([0.8834, -6.7514, 7.7068, -5.4447, 0.1043, -0.6646, 0.9302, -1.7002, -2.6566]),\n",
       " DenseVector([0.0281, -0.0471, 0.3017, -0.2664, 0.4607, 0.2694, 1.0686, 0.4914, -0.3943]),\n",
       " DenseVector([-0.5868, -2.0007, -1.2236, -4.2961, 3.376, -0.8057, -0.7588, 2.2099, -2.9262]),\n",
       " DenseVector([-0.0626, -0.078, 0.7247, -1.3855, 0.2397, -1.3285, 2.8762, -0.6493, -0.5824]),\n",
       " DenseVector([1.5248, -5.3151, 2.6291, -0.3753, 3.1454, -1.6004, 2.8054, -0.5162, 2.8063]),\n",
       " DenseVector([-1.422, -1.091, -3.0732, -3.5573, -0.3434, -1.3018, 1.5083, 6.2975, -5.0221]),\n",
       " DenseVector([-1.4556, -5.7824, -2.8179, -6.4663, 2.5817, 1.6432, -1.0443, -4.0611, -1.426]),\n",
       " DenseVector([1.4411, -3.8645, 7.1098, 0.2303, 3.5787, -1.3103, 1.6785, 0.198, 0.2427]),\n",
       " DenseVector([-1.4353, 0.3978, -2.2493, -4.848, 2.1136, -1.5493, 0.5014, -0.7817, -1.2319]),\n",
       " DenseVector([-1.18, 0.3551, -2.4891, -7.9538, 2.1804, 0.7007, 6.271, -6.2779, 1.4101]),\n",
       " DenseVector([1.0065, -11.6062, 0.2387, -2.5948, -1.7466, -2.3909, -0.9363, -7.59, 8.4988]),\n",
       " DenseVector([1.9679, -6.1532, 14.5544, 3.1093, 9.9857, -0.4325, 2.577, 3.2863, -1.1358]),\n",
       " DenseVector([0.8655, -4.2875, 2.3691, -0.1097, 1.3707, -0.4203, 1.4833, 0.6564, -0.5467]),\n",
       " DenseVector([-1.7918, 2.9865, 1.1108, -11.7055, 13.9298, -7.2727, 9.6848, 0.1109, 2.5476]),\n",
       " DenseVector([-2.0341, 1.5197, -2.9471, -4.1524, 1.9463, -0.9566, 0.4143, -0.1862, -0.3697]),\n",
       " DenseVector([-0.3918, -4.8471, 1.2701, -5.6978, 5.0698, -2.6163, 6.043, 7.8468, 1.2841]),\n",
       " DenseVector([2.7717, -7.1436, 16.0665, 2.1653, 11.3682, -1.2703, 1.6917, 3.3608, -1.5708]),\n",
       " DenseVector([0.0175, -4.5347, 2.9584, -2.4402, -0.2901, -1.9138, 4.3899, 4.8233, -0.2984]),\n",
       " DenseVector([0.1506, -5.1521, -1.6345, -2.6952, -0.5156, 0.3522, 2.6, 6.4425, -5.2148]),\n",
       " DenseVector([-1.7753, -7.9464, -1.5093, -2.8148, 2.373, 0.958, -0.9959, -0.4312, -3.2894]),\n",
       " DenseVector([0.7986, -6.2887, 11.8575, 2.6804, 5.5284, -1.0379, 0.4856, -4.895, 1.8418]),\n",
       " DenseVector([-0.1709, -2.5609, 0.8557, -4.0409, 2.8062, -2.0572, 1.1626, -1.0389, -1.9663]),\n",
       " DenseVector([1.3979, -4.6944, 6.7371, -1.9294, 6.3967, 3.8816, 3.4483, -0.4286, -2.0387]),\n",
       " DenseVector([-0.2235, -0.5457, -0.5225, -1.886, 0.449, -0.6772, 0.3443, 2.2222, -2.4674]),\n",
       " DenseVector([-0.4703, -0.4272, -0.7698, -1.6, 0.5889, 0.8327, -0.5582, -0.2141, -0.3671]),\n",
       " DenseVector([-1.7032, 0.2555, -0.7505, -3.3689, 1.269, -1.8684, 3.3683, 1.7878, -1.5642]),\n",
       " DenseVector([3.3628, -7.2002, 29.6184, -11.3921, 6.3446, -0.2515, -0.9511, 2.6777, -6.4629]),\n",
       " DenseVector([-1.1642, -2.6637, 4.49, -1.2078, 3.5129, -1.3776, 1.9192, -0.6734, 1.7082]),\n",
       " DenseVector([0.7448, -3.573, 11.9821, 0.6226, 6.4284, -0.7667, -1.6259, 1.8224, -1.0508]),\n",
       " DenseVector([-1.5807, -0.3195, 0.1112, -4.7255, 0.9087, 0.4479, 1.7083, -2.0707, -2.323]),\n",
       " DenseVector([-0.0995, -7.3796, -1.7001, -4.4482, 3.5374, -0.6937, -0.0341, -0.4696, -3.0941]),\n",
       " DenseVector([-0.2315, -0.6299, 0.5245, -0.3567, 0.9238, -0.0887, -0.0476, -0.0983, -0.2052]),\n",
       " DenseVector([-1.1238, -0.0411, 0.5604, -6.5115, 6.8565, -4.6485, -0.5696, -1.647, -2.8051]),\n",
       " DenseVector([0.6139, -2.2049, 5.8752, -2.1414, 2.9054, -0.9175, 0.2424, -0.2749, -1.1614]),\n",
       " DenseVector([-2.5946, 1.2721, -1.8714, -8.8725, 7.1411, 4.1452, 7.9845, -1.0041, -11.0241]),\n",
       " DenseVector([2.7488, -19.4221, -2.604, -3.4109, 6.5733, 2.8246, 2.6655, 2.7599, -1.5238]),\n",
       " DenseVector([2.0909, -12.8169, -2.1735, -3.0809, 0.5975, -0.0624, 0.3826, -1.4801, 3.5434]),\n",
       " DenseVector([1.9649, -13.8834, -6.2396, -3.1085, -0.6054, -0.4402, -0.443, 11.5178, -7.0932]),\n",
       " DenseVector([2.8948, -11.52, 24.5707, -4.053, 16.0841, -9.2333, 12.879, -19.5671, 7.2247]),\n",
       " DenseVector([-0.2755, -6.1599, 13.5756, -18.1998, 8.5908, 5.4067, 19.0094, -25.6173, -30.4057]),\n",
       " DenseVector([-1.1133, -0.0621, -0.8774, -3.6851, 2.3309, -1.7109, -0.2116, -1.1696, -1.2479]),\n",
       " DenseVector([-0.0119, -0.0213, 0.6643, -0.8061, 0.8479, -1.1677, 2.0026, -0.0303, 0.3897]),\n",
       " DenseVector([-1.691, -1.9713, -1.5664, -8.8144, 8.1698, -4.1841, -4.941, -1.3728, -3.898]),\n",
       " DenseVector([0.9338, -4.7038, 2.3624, -1.8055, 0.5641, -1.6259, 4.1791, 2.4544, -0.6816]),\n",
       " DenseVector([0.3554, -0.6196, 2.6863, -1.0577, 0.5319, 0.0538, 0.5285, 0.3749, -0.4707]),\n",
       " DenseVector([-1.3375, 1.4148, -1.911, -4.9283, 0.4046, -1.4131, -0.7641, -0.6832, -4.1351]),\n",
       " DenseVector([3.1555, -14.5413, 9.6664, -4.3981, 6.7151, -1.9566, 2.0375, 1.3592, -2.1727]),\n",
       " DenseVector([-0.634, 0.9591, -0.0581, -6.1791, 5.5749, -4.0996, 5.7563, -0.3048, 0.7118]),\n",
       " DenseVector([0.6538, -2.4731, 6.8777, -1.9967, 2.1339, -0.9778, 1.6276, 0.3834, -0.9477]),\n",
       " DenseVector([0.0865, -0.0782, -0.6857, -3.8661, 2.0394, -1.4514, 6.6672, -1.7588, -2.1885]),\n",
       " DenseVector([-1.0087, 1.6266, 0.3977, -7.687, 6.7415, -4.4166, 9.172, -0.4336, -3.0955]),\n",
       " DenseVector([-0.0021, -2.3033, 7.1472, -2.4778, 3.4353, -0.8011, 5.8426, -2.9237, 0.8247]),\n",
       " DenseVector([0.2861, -0.8137, 4.1849, -0.0904, 2.1819, -0.4389, 0.718, 0.0314, -1.0124]),\n",
       " DenseVector([0.2892, -0.7214, 3.2048, -1.0364, 1.008, -0.3638, 1.1259, -0.2584, 0.346]),\n",
       " DenseVector([1.9742, -4.6558, 11.2408, 2.7753, 7.3154, -0.9143, 2.6092, 0.216, -1.0858]),\n",
       " DenseVector([0.7864, -6.5282, 2.7814, -5.9294, 1.5634, -2.9172, 2.9361, -2.4466, 1.0306]),\n",
       " DenseVector([-0.1725, 1.0908, 0.5234, -2.4713, 0.9496, -0.512, 1.8443, -1.3162, -1.0069]),\n",
       " DenseVector([-9.9687, -1.3468, 0.8156, -7.3178, 6.6863, -2.0199, 1.6603, 0.1486, 5.9678]),\n",
       " DenseVector([0.4859, -1.2601, 4.7254, -1.2115, 1.4548, -0.4725, 1.636, -0.2108, 0.3116]),\n",
       " DenseVector([-0.0495, -1.7563, 3.3058, 0.3113, 1.2115, 0.1137, 0.3017, -0.3534, 0.0407]),\n",
       " DenseVector([-0.9903, -1.1192, 1.738, -6.6325, 7.5218, -1.0551, -1.6876, -0.8235, -3.4576]),\n",
       " DenseVector([-1.6809, -0.7234, -2.0867, -5.2268, 5.0323, 1.4254, -0.6797, -0.5918, -1.5624]),\n",
       " DenseVector([-1.8252, -1.1998, 0.7655, -4.1797, 5.4898, -3.7381, 4.2746, 2.0675, -2.051]),\n",
       " DenseVector([-2.1975, -4.9843, 12.1066, -0.657, 9.6029, -1.0502, 2.4377, -3.381, 4.2657]),\n",
       " DenseVector([0.8712, -3.6856, 7.8866, 0.5439, 5.3183, -0.3295, 2.2405, -0.1916, -1.4494]),\n",
       " DenseVector([-0.6788, -2.8016, -2.4477, -3.8358, -2.3859, -1.8671, 4.6879, 11.4979, -7.6083]),\n",
       " DenseVector([0.5129, -1.3431, 1.9239, -1.1017, 0.0216, 0.0299, 0.7515, 0.9653, -0.7855]),\n",
       " DenseVector([-2.6299, -2.5788, 0.158, -8.5744, 2.8426, -2.2619, 3.2629, -3.1558, 0.8617]),\n",
       " DenseVector([2.047, -4.2491, 15.1515, -2.2203, 7.1876, 1.3799, 2.6394, -1.668, -0.6227]),\n",
       " DenseVector([1.6115, -5.3121, 14.0756, 2.0158, 7.4444, -1.8137, 2.439, -2.077, 1.1179]),\n",
       " DenseVector([-0.3457, -0.222, 2.0901, -1.8806, 3.2912, 0.9714, 2.9912, -2.8721, -3.6772]),\n",
       " DenseVector([-1.4898, 0.7781, -1.1223, -3.721, 3.8854, -0.7155, -0.1504, -2.1043, -2.1837]),\n",
       " DenseVector([-0.4815, -0.1544, 0.8853, -1.3321, 2.7513, -0.9608, -0.6375, -0.8421, -1.358]),\n",
       " DenseVector([0.1863, -3.2521, -1.9295, -6.4853, 2.4982, -2.9342, 8.3499, 1.9428, -3.3684]),\n",
       " DenseVector([0.0617, -6.2266, -4.8485, -4.3118, -1.5216, -1.7797, -3.1245, 10.7909, -7.8353]),\n",
       " DenseVector([0.3099, 0.01, 0.5204, -1.7723, 0.4753, -1.6256, 3.0179, -1.0033, 0.791]),\n",
       " DenseVector([-0.513, -0.5168, 3.7804, -0.8249, 1.9601, -0.5104, 2.0735, -0.4319, -0.6614]),\n",
       " DenseVector([0.2215, -0.7959, 3.2647, -1.4789, 0.9473, 0.1032, 0.865, -0.071, -1.1679]),\n",
       " DenseVector([2.0269, -23.7071, 2.7374, -3.3753, 4.1458, -5.4188, 8.6651, 4.0389, -0.2591]),\n",
       " DenseVector([0.3312, -0.8018, 6.9646, 0.7632, 3.4394, -1.2269, 1.6534, -0.761, -1.4941]),\n",
       " DenseVector([0.9156, -4.2041, 4.6162, 0.4902, 3.4079, 0.0416, 0.7332, -1.7814, 0.0629]),\n",
       " DenseVector([0.7631, -3.0415, 7.9916, -0.5933, 6.6484, -0.8849, -2.46, 2.5079, -0.7363]),\n",
       " DenseVector([-1.2718, 1.0454, -0.7947, -3.9721, 3.1162, 0.8608, -0.8264, -1.0086, -2.2178]),\n",
       " DenseVector([0.3537, -2.1795, 1.8538, -0.5884, 0.8362, -0.0207, 0.5591, -0.5792, -0.1056]),\n",
       " DenseVector([-1.2712, 0.0784, 0.8554, -2.7589, 1.746, 0.021, 0.7491, -2.2954, -2.1218]),\n",
       " DenseVector([1.9752, -8.8036, -1.9544, -1.6978, -1.6044, -1.4435, 6.7934, 4.2739, -4.556]),\n",
       " DenseVector([0.3679, -1.4525, 1.501, -1.3054, -1.0734, -0.4471, 1.862, 2.5696, -1.6306]),\n",
       " DenseVector([0.4359, -2.5566, 0.7474, -1.3903, -0.811, -1.3228, 3.5722, 2.9752, -2.4662]),\n",
       " DenseVector([-0.7229, -0.0454, -1.4909, -2.2012, -0.3647, -1.7909, 4.4266, 5.4488, -2.9343]),\n",
       " DenseVector([-1.4077, -4.8438, -1.2998, -4.7675, 5.2429, 1.5128, -5.5844, -3.9885, -7.067]),\n",
       " DenseVector([4.0147, -9.6373, 26.6026, 3.9744, 19.5566, -3.6577, 1.0141, 5.0614, -1.962]),\n",
       " DenseVector([-1.0976, 2.4622, -0.5835, -5.5074, 3.7341, -3.3577, 5.0706, -1.2451, 1.0869]),\n",
       " DenseVector([0.497, -12.0177, -0.4823, -5.9572, 3.7259, -3.76, 1.958, -4.4255, 5.2545]),\n",
       " DenseVector([3.7817, -12.6044, 32.11, -0.2203, 21.7221, 2.4855, 4.5836, 0.336, -10.6968]),\n",
       " DenseVector([0.2977, -1.0742, 3.1889, -1.3748, 2.0684, 2.9296, 1.9705, -0.1756, 2.0414]),\n",
       " DenseVector([2.4074, -5.7371, 15.5284, 0.0719, 7.8497, -0.1378, -2.7849, 0.8077, -0.143]),\n",
       " DenseVector([-0.5519, -0.1273, -0.2939, -3.7919, -0.8101, 0.1912, 1.3539, -2.7545, 1.8881]),\n",
       " DenseVector([0.5364, -1.191, 5.7874, 0.237, 3.5855, -0.2429, 0.4215, 0.8325, -0.7303]),\n",
       " DenseVector([-5.0148, 2.1745, -2.8974, -9.106, 6.3219, -6.8239, 10.9554, 1.3487, 1.391]),\n",
       " DenseVector([0.792, -2.1181, 9.1984, -2.9832, 2.2554, -0.3894, 1.7247, 0.0812, -0.3491]),\n",
       " DenseVector([1.2283, -6.4429, 10.872, -2.0012, 5.4863, -1.0195, 2.425, 1.1931, -2.4675]),\n",
       " DenseVector([1.5116, -9.0024, 3.8065, -5.5604, 1.6966, -2.7442, -1.4083, -6.0316, 6.1815]),\n",
       " DenseVector([1.9123, -14.5594, -0.1582, -3.5737, 2.1202, -3.8592, 4.3745, -1.8295, 8.5569]),\n",
       " DenseVector([0.6075, -1.1292, 3.209, 0.3315, 1.3627, -0.0219, 0.0688, 0.5216, -0.4238]),\n",
       " DenseVector([0.5344, -1.0559, 5.0331, -0.2014, 2.7714, 0.0605, 1.6126, 0.4309, -0.6053]),\n",
       " DenseVector([-0.5976, 0.8496, 0.0877, -3.3333, 3.5468, -2.2814, 3.0007, 1.1167, 0.9257]),\n",
       " DenseVector([-0.9163, 0.5171, -0.9087, -2.8606, 1.5855, -0.9093, 0.7703, -1.4904, -1.2005]),\n",
       " DenseVector([-0.1828, -2.1297, 1.1466, -1.7636, 1.8471, -0.4311, 0.9855, -0.0059, -1.2376]),\n",
       " DenseVector([0.5027, -1.9218, 6.1918, -2.2672, 3.4921, -2.5655, 4.211, -0.2124, -1.6938]),\n",
       " DenseVector([-0.1524, -3.1105, 2.3547, -4.0286, 3.7422, -2.2433, 3.4294, -1.2211, -3.2303]),\n",
       " DenseVector([0.7972, -6.0237, 2.2153, -2.3746, 0.501, -0.2282, 1.0565, -0.6449, -0.0891]),\n",
       " DenseVector([-0.0172, -0.3668, 2.3891, -0.44, 1.082, -0.4275, 0.6792, 0.5121, -0.6922]),\n",
       " DenseVector([1.0668, -2.6682, 6.8005, -1.2051, 2.2603, -1.1527, 1.7993, 0.8013, -2.2763]),\n",
       " DenseVector([0.2064, -4.6496, -0.0916, -5.3223, -0.479, -1.6493, 2.2548, 0.1298, -0.5879]),\n",
       " DenseVector([0.6386, -3.2777, 2.3352, -3.5013, 0.5673, -1.6572, 0.0275, -2.787, 0.9294]),\n",
       " DenseVector([-1.7557, 0.5373, -1.5368, -7.3934, 7.1364, -2.119, 6.8342, 0.3866, 0.3488]),\n",
       " DenseVector([0.4717, -3.3888, 1.1401, -0.5062, 0.7607, -0.3321, 1.1455, -0.3418, 0.4256]),\n",
       " DenseVector([-1.0064, -0.4733, -1.9461, -2.8635, 1.1344, -0.7604, -1.2389, 0.5986, -1.8494]),\n",
       " DenseVector([-1.2063, 1.1923, -1.5237, -2.524, 1.4359, 0.2442, -3.0786, -1.5854, -1.4776]),\n",
       " DenseVector([-1.6969, 0.0333, -0.0594, -2.4091, 2.4733, -1.1435, 0.2, -1.1165, -1.078]),\n",
       " DenseVector([2.5284, -17.3451, 1.8999, -1.188, 5.854, -2.1662, 1.6302, 3.4184, -1.8239]),\n",
       " DenseVector([-0.1625, -0.3226, 0.0794, -2.4961, 1.7867, -1.3036, 3.1623, 0.2671, -0.4849]),\n",
       " DenseVector([2.1023, -6.8578, 14.5817, 3.8854, 11.1576, -0.947, -0.3979, 1.0548, -0.2089]),\n",
       " DenseVector([-2.2925, 0.1209, -1.2642, -4.4071, 5.237, -1.1167, -1.6582, -2.3227, -3.6464]),\n",
       " DenseVector([-0.4638, 1.0168, 1.0327, -2.1297, 1.7469, 0.3538, 0.6794, -0.8708, -0.302]),\n",
       " DenseVector([-1.4941, -0.5028, -1.0597, -4.7575, 2.2483, -0.5944, -0.4563, -0.8583, -2.0937]),\n",
       " DenseVector([1.9247, -5.153, 8.8998, 2.8501, 6.0011, -0.6896, 0.2397, -0.0677, 0.1798]),\n",
       " DenseVector([-6.3222, -1.4933, -7.0279, -22.0212, 45.7849, -18.4497, -26.8182, 6.8025, -3.7386]),\n",
       " DenseVector([-2.1848, 1.0292, -1.0038, -6.0227, 3.0867, -2.0861, 4.7315, -0.6957, 0.7868]),\n",
       " DenseVector([2.581, -16.2621, -0.3663, -1.7621, 1.6393, -0.5028, 3.2313, 2.3672, -1.7238]),\n",
       " DenseVector([-4.0308, -0.1795, 2.3833, -2.6577, 1.5198, -2.7183, 7.8371, -1.1591, -2.8468]),\n",
       " DenseVector([1.3757, -6.529, 13.3651, -1.5474, 4.5864, -0.752, 3.2387, 0.5543, -3.5351]),\n",
       " DenseVector([0.6895, -1.5686, 6.452, 0.0134, 2.3871, 0.0383, 0.427, -0.0028, -0.9322]),\n",
       " DenseVector([-0.6681, -0.4047, -0.9094, -2.2725, 0.8502, -0.6308, 0.2107, -1.6945, 0.9674]),\n",
       " DenseVector([-0.3348, -3.0723, 1.3765, -1.204, -0.3594, -1.2999, 0.1824, -1.8412, 3.9512]),\n",
       " DenseVector([-1.8624, 0.6429, -2.9638, -4.4938, 2.3572, 0.2051, -3.7576, -3.2172, -3.3703]),\n",
       " DenseVector([3.9329, -27.6786, -3.8505, -5.7365, 6.223, -1.5877, 0.8495, -0.7229, -4.535]),\n",
       " DenseVector([1.7601, -15.7791, -2.5767, -4.4676, 2.2047, -1.0373, 1.8102, -3.9697, -0.6421]),\n",
       " DenseVector([-0.5212, 0.2208, -0.7738, -5.7817, 3.5051, -2.8159, 6.9763, -3.016, -3.0992]),\n",
       " DenseVector([-2.6957, -9.4709, 3.626, -1.8485, 2.2323, -3.6085, 3.2159, -2.0709, -0.2292]),\n",
       " DenseVector([-5.9677, 0.6742, -7.8941, -15.8263, 21.5601, -12.6368, -4.2235, 2.3181, 1.8296]),\n",
       " DenseVector([0.8737, -4.5621, 4.1923, 1.0795, 3.3104, -0.2216, 0.9391, 1.9329, -1.7441]),\n",
       " DenseVector([-0.1372, 1.0652, 4.4891, -3.1125, 5.7581, -2.7225, 5.5452, -0.1211, -0.6696]),\n",
       " DenseVector([0.1543, -2.1131, -0.4429, -2.4715, 1.6837, -0.5348, 3.6566, 5.2241, -3.6132]),\n",
       " DenseVector([-0.0968, -1.1493, -0.7409, -3.1155, 3.1117, -0.8942, 1.7249, 0.2727, -1.9509]),\n",
       " DenseVector([3.287, -24.7186, -4.7276, -2.363, 2.0018, -0.5728, 1.9182, 2.5493, -0.282]),\n",
       " DenseVector([-0.4135, -0.9814, 0.7215, -1.541, 2.4155, -0.9372, -0.3776, 1.1181, -0.4988]),\n",
       " DenseVector([0.682, -2.7617, 4.4269, -1.6542, 2.4448, -1.9762, 2.0822, -2.5965, -1.9039]),\n",
       " DenseVector([0.6016, -4.493, 3.9855, -0.5382, 3.2055, -0.9132, 1.6784, 3.5622, -1.3783]),\n",
       " DenseVector([-0.3623, -1.0045, 1.0765, -3.4534, 2.272, 0.1564, 4.1659, -1.5343, -0.0002]),\n",
       " DenseVector([1.228, -7.3669, 1.2298, -0.5955, 3.2266, -0.0639, -0.3775, 0.3706, -1.96]),\n",
       " DenseVector([0.8936, -9.8008, -1.5773, -3.0622, -0.7944, -0.0693, 9.3328, 5.1407, -6.682]),\n",
       " DenseVector([1.9589, -19.5871, -3.7738, -3.5389, 2.7638, 0.0962, 0.6371, -3.0693, -3.4896]),\n",
       " DenseVector([-2.7955, 0.016, -0.6293, -1.9782, 1.8998, -1.366, 0.3558, -1.3004, -1.5502]),\n",
       " DenseVector([0.3437, -2.8317, 1.6615, -1.4575, 2.2521, -0.9633, 2.332, -0.8335, 0.4238]),\n",
       " DenseVector([0.3702, -2.0836, 6.4386, -3.1393, 0.7791, -1.4748, 2.5567, -1.7896, 0.0252]),\n",
       " DenseVector([-4.9465, 1.8777, -6.9178, -16.6726, 20.5742, -10.0622, -7.1477, -3.629, -2.8262]),\n",
       " DenseVector([-1.5549, 1.1314, -1.6349, -3.9779, 1.743, -3.0923, 2.0814, 0.1515, -0.9733]),\n",
       " DenseVector([-0.9118, -2.0248, 2.7679, -0.0491, 1.6577, -0.3142, 0.2725, -1.724, -1.9674]),\n",
       " DenseVector([-0.3458, -0.5581, 0.9952, -5.4073, -1.8047, -1.7016, 1.6463, 0.3836, -0.1994]),\n",
       " DenseVector([-2.605, 1.1068, -1.5271, -4.5895, 1.0999, -1.178, -0.9292, -8.3856, 3.9165]),\n",
       " DenseVector([-0.6722, 0.4215, -0.4017, -4.3956, 1.4292, -0.5381, -1.6899, -1.5871, -0.9862]),\n",
       " DenseVector([1.3702, -7.5414, 4.7624, -1.6531, 3.0168, -0.3252, 3.6117, -3.1182, 2.8269]),\n",
       " DenseVector([0.1831, -0.744, 2.2006, -0.9271, 1.7316, -0.7445, -0.1442, -0.2546, 0.0674]),\n",
       " DenseVector([0.1963, -0.5444, 0.969, -0.7984, 0.2465, -0.3501, 0.6314, 0.0683, 0.16]),\n",
       " DenseVector([-0.8783, -0.067, -1.2687, -6.8779, 3.4662, -2.8216, 1.9469, 1.2133, -3.3421]),\n",
       " DenseVector([3.7181, -28.4551, -5.3581, -6.0695, 2.981, -1.8132, 2.3635, 3.8772, 4.2966]),\n",
       " DenseVector([0.0965, -0.2703, 2.2217, -2.4934, 1.155, -0.1587, 0.8109, -0.5659, -1.5825]),\n",
       " DenseVector([-0.1941, -5.1871, -0.6157, -0.7741, -0.3027, -0.4622, 1.0621, 7.3661, -4.3058]),\n",
       " DenseVector([0.6273, -5.7906, -2.2261, -2.1786, -2.6779, -1.6511, 2.3117, 17.4103, -8.8988]),\n",
       " DenseVector([2.6139, -6.1785, 23.999, -17.1264, 1.3549, -0.6594, 1.2415, -3.2171, -6.5589]),\n",
       " DenseVector([0.7531, -1.5611, 3.3673, 0.7811, 1.6412, 0.002, 0.2767, -1.7912, 0.3015]),\n",
       " DenseVector([-0.2208, -0.0039, 0.5821, -1.2463, 0.6241, -0.7228, 1.7872, -0.3075, -1.2616]),\n",
       " DenseVector([0.9491, -3.8726, 8.4182, -2.3258, 8.2021, -2.9116, 0.8661, 3.4719, 3.2764]),\n",
       " DenseVector([-2.1707, -1.5036, -0.779, -9.6262, 1.826, -2.4994, -2.9085, 1.5812, -4.7341]),\n",
       " DenseVector([-8.3006, -0.5134, 0.822, -3.0637, 4.2325, -2.1303, 0.701, -1.1241, 4.2157]),\n",
       " DenseVector([-0.2226, -1.0943, 0.2919, -1.8066, 2.428, -0.9075, 1.3592, -0.9977, -0.1122]),\n",
       " DenseVector([2.2816, -13.0593, -0.5392, -2.5315, 1.3195, -1.8004, 3.4886, -2.6537, -0.9775]),\n",
       " DenseVector([-0.1184, -3.301, -1.8202, -2.376, -0.6126, -2.0396, 6.0808, 6.235, -4.2346]),\n",
       " DenseVector([0.3331, -2.1155, 0.6538, -1.6024, 0.1705, -1.5293, 5.7544, 2.2204, -2.834]),\n",
       " DenseVector([-1.0023, 1.2648, -0.2594, -4.2693, 2.3619, -3.5111, 6.9465, -0.3482, 0.3163]),\n",
       " DenseVector([-1.531, -0.0947, -1.1081, -4.2789, 5.6465, 2.2321, -0.3651, -0.8278, -0.6722]),\n",
       " DenseVector([0.3944, -5.3444, 0.1363, -2.7959, 2.6785, -2.9368, 5.3793, -4.4386, 3.3493]),\n",
       " DenseVector([-4.9758, -18.5998, -6.5798, -9.8116, 9.4223, 12.3148, -12.4138, -14.0738, -27.6858]),\n",
       " DenseVector([1.88, -17.3321, 3.8985, -3.4908, 2.8241, -3.1071, 1.5753, -10.7105, 4.2396]),\n",
       " DenseVector([5.9104, -38.4018, -6.9302, -3.5969, 4.9701, -1.602, 4.2738, 7.7836, -3.7082]),\n",
       " DenseVector([0.6998, -5.8821, 5.0055, -0.3425, 5.795, 1.7475, -2.7476, -4.9121, -9.7338]),\n",
       " DenseVector([0.3779, -0.7115, 4.3799, -2.3829, 2.5649, 0.9872, 2.5969, -4.3956, -0.6299]),\n",
       " DenseVector([1.3263, -3.5272, 5.6968, 0.5396, 3.1995, 0.3276, 0.9574, 0.9268, 0.2349]),\n",
       " DenseVector([-0.6452, -0.7269, 0.2059, -2.8084, 1.8759, -0.654, -0.2884, -0.9426, -1.8177]),\n",
       " DenseVector([0.7534, -4.8505, 0.3914, -2.039, -1.0533, -0.8734, 2.7577, 4.5166, -1.2517]),\n",
       " DenseVector([-3.5407, -1.8293, 3.795, -0.4333, 0.8551, -0.7556, 0.4621, -0.1764, -1.2925]),\n",
       " DenseVector([2.1106, -16.1332, -0.4835, -2.5078, 1.5891, -0.9951, 3.3712, -0.2559, -5.0907]),\n",
       " DenseVector([1.4658, -7.467, 2.3522, -0.7477, 2.3082, -0.5978, 1.399, -0.3644, 0.117]),\n",
       " DenseVector([2.4962, -12.9317, -0.1755, -3.7738, 0.1131, -0.7561, 1.9374, 3.029, -3.8076]),\n",
       " DenseVector([-1.0621, -1.5915, 1.8858, -0.9697, 1.6568, -0.0074, 1.805, 1.0178, -0.0878]),\n",
       " DenseVector([0.6584, -7.9723, -2.7223, -1.1641, 3.0809, -5.3503, 9.0673, 4.7984, 11.9652]),\n",
       " DenseVector([-0.7469, 0.6121, -0.8819, -3.1324, 0.8836, -0.9812, -1.2417, -0.2432, -1.4876]),\n",
       " DenseVector([3.3453, -17.5538, -1.3644, -4.1228, -4.8199, -4.3249, 10.2584, 21.9683, -9.2796]),\n",
       " DenseVector([2.0005, -12.9104, -0.9911, -1.7221, 0.9105, -1.6183, -0.4497, -4.79, -1.9582]),\n",
       " DenseVector([0.6426, -5.2835, 0.144, -2.0054, 1.4387, -2.212, 2.623, -2.5445, 3.7571]),\n",
       " DenseVector([-5.8317, -0.468, 2.6399, -18.1468, 19.4699, 3.5513, -2.6186, -4.8375, -9.915]),\n",
       " DenseVector([1.2133, -13.1218, 2.8008, -5.0331, -0.2537, -2.1315, 2.205, 1.2082, -1.9403]),\n",
       " DenseVector([-0.64, 0.0555, -0.0587, -0.6761, 0.7647, -1.0899, 1.0735, 0.3037, -0.0743]),\n",
       " DenseVector([0.2949, -1.4779, 4.5129, -1.2207, 1.6649, 1.0366, 0.5832, -0.4627, -0.1093]),\n",
       " DenseVector([-0.002, 0.0447, 1.9335, -1.4748, 0.8287, -0.193, 0.9206, -0.6059, -0.9298]),\n",
       " DenseVector([0.9623, -2.5649, 7.0248, -0.7449, 2.6793, 0.1341, 0.7888, -0.6154, -2.0301]),\n",
       " DenseVector([0.0206, -1.614, 0.6579, -1.6048, 1.3631, -0.6477, -0.1452, 0.4012, -1.3696]),\n",
       " DenseVector([3.2805, -21.1115, -2.6348, -3.7457, 2.0377, -1.9174, 1.2738, 0.4944, -0.3035]),\n",
       " DenseVector([-0.2164, -2.7054, 6.6278, -0.44, 4.1479, -0.6686, 3.2413, -0.03, -0.5631]),\n",
       " DenseVector([-0.6733, -1.9971, -1.4919, -6.343, 2.4472, -3.2043, 2.963, 2.9419, -1.0975]),\n",
       " DenseVector([1.7705, -8.8038, 4.731, -0.3922, 5.719, -1.1451, 3.7339, -4.1904, 3.1388]),\n",
       " DenseVector([0.0316, -1.1368, 1.8513, -0.1217, 2.5695, -0.7401, -0.3049, 0.6143, 0.2159]),\n",
       " DenseVector([1.1645, -3.6536, 12.5501, -2.1977, 4.8558, -1.2704, 1.5093, 1.2005, -1.5099]),\n",
       " DenseVector([0.6983, -4.6035, 6.9821, 0.3685, 3.6083, -1.1133, 2.6931, 3.5279, -1.3204]),\n",
       " DenseVector([-1.8092, -3.8632, -1.2048, -5.9047, 6.8518, -2.9246, -4.3359, -5.2789, -3.5103]),\n",
       " DenseVector([-2.1642, 0.882, 0.1546, -4.8927, 0.8095, -0.9945, 5.4986, -0.7226, -2.4065]),\n",
       " DenseVector([-5.3671, 0.46, -3.7889, -16.0495, 17.2049, 23.1608, -0.1519, 6.1388, -3.8929]),\n",
       " DenseVector([-1.4015, -0.4698, 0.4282, -3.6174, 2.5795, 1.0201, 0.8496, -2.2473, -1.5733]),\n",
       " DenseVector([-1.1681, 0.916, -0.0705, -3.0417, 2.4814, -2.4037, 4.6559, -0.7551, -0.3022]),\n",
       " DenseVector([2.252, -5.1431, 16.6309, 2.2581, 11.0547, -2.1642, -1.2565, 2.5184, -1.5813]),\n",
       " DenseVector([1.2906, -3.5193, 6.9345, -0.7598, 2.9723, -0.1469, 0.3021, 1.4464, -1.2575]),\n",
       " DenseVector([-0.4153, 0.4438, 0.6707, -3.2046, 0.4943, -1.28, 5.3735, -0.0189, -3.6013]),\n",
       " DenseVector([-1.8517, -3.3071, -3.1116, -4.0467, 2.3905, 0.5196, -2.962, -4.1876, 0.1663]),\n",
       " DenseVector([-1.1473, -1.2903, -0.7931, -3.7151, 3.4493, -2.9114, -0.3402, -0.4307, -2.2751]),\n",
       " DenseVector([-4.5462, 0.7896, -0.8794, -5.4282, 4.2771, 0.0894, 10.1785, 1.1904, -0.1915]),\n",
       " DenseVector([1.3579, -3.1098, 10.0552, -5.0446, 3.3049, -1.3735, 2.8489, -0.9654, -1.1213]),\n",
       " DenseVector([6.1864, -44.0662, -4.8889, -7.6699, 5.1977, -2.9198, 3.1916, 4.3417, -2.9617]),\n",
       " DenseVector([0.4229, -9.9517, 1.2403, -1.6191, 2.377, -0.5102, 1.2897, 0.6815, -0.7442]),\n",
       " DenseVector([4.1736, -33.5243, -2.1103, -4.1283, 7.3453, -1.7681, 2.5367, 6.1008, -0.1458]),\n",
       " DenseVector([2.6416, -7.529, 13.2575, 2.468, 5.9141, -1.7186, 0.8957, -2.6258, -0.3103]),\n",
       " DenseVector([-0.9291, -7.6187, -3.9488, -8.4116, 7.9499, 1.6872, -3.2264, -8.82, -8.4064]),\n",
       " DenseVector([1.1079, -5.4007, 1.9204, -0.5083, 1.8747, 0.4411, 1.0744, -0.4026, 0.7976]),\n",
       " DenseVector([0.8902, -3.8926, 5.7396, -0.6287, 2.503, -0.1864, 0.3829, 0.991, -0.6972]),\n",
       " DenseVector([0.7986, -11.2212, -1.8752, -6.0273, 2.0976, -3.5273, 4.7516, -0.2605, -0.3081]),\n",
       " DenseVector([0.5225, -5.9942, 0.4577, -2.8573, -0.2631, -1.2387, 2.0079, -0.5932, -1.9817]),\n",
       " DenseVector([-0.8683, -1.2539, -2.1119, -4.2166, 3.3002, -0.5857, 0.9905, 0.4904, -0.7657]),\n",
       " DenseVector([-1.1332, 0.3533, 0.252, -3.6721, 2.0829, -1.0499, 7.937, 1.4188, -4.7475]),\n",
       " DenseVector([-0.4022, -1.8698, -1.6545, -3.6327, 3.0237, -2.0956, -2.0746, 0.1544, -1.8229]),\n",
       " DenseVector([1.0818, -3.7677, 8.7389, -0.091, 5.6174, -0.9531, 2.6485, -1.3055, -0.1915]),\n",
       " DenseVector([4.3546, -28.3486, -5.592, -3.1573, 1.3979, -0.2192, 7.4937, -5.2629, 1.3332]),\n",
       " DenseVector([-5.1048, 0.8617, -4.4534, -10.0893, 9.7895, -5.3233, 0.0518, -0.9605, 1.3322]),\n",
       " DenseVector([-3.1901, -1.6964, 0.0404, -7.3216, 8.7474, -5.9427, 1.4986, 1.9516, -1.1398]),\n",
       " DenseVector([0.8255, -5.0136, 2.3856, -2.8584, 1.9212, -1.3086, 2.7437, -4.8637, 4.1037]),\n",
       " DenseVector([-0.0535, -1.4873, -0.8416, -6.6036, 2.9622, -1.4613, 4.6074, -1.1559, -0.3761]),\n",
       " DenseVector([-3.4665, -1.5894, -1.4674, -14.3148, 4.9804, -1.0469, 6.847, 0.1317, -1.0041]),\n",
       " DenseVector([0.9857, -2.7938, 6.981, -1.3121, 1.6085, -0.2251, 0.7192, 1.4179, -0.5651]),\n",
       " DenseVector([-2.0592, 0.5311, -0.2344, -1.4712, 1.4795, -1.3481, 0.5749, -2.2138, -0.4841]),\n",
       " DenseVector([-1.1201, 1.5108, -1.7109, -5.2266, 4.0239, -4.4601, 4.9022, 1.4555, 0.4569]),\n",
       " DenseVector([1.9757, -6.7153, 8.3109, -1.8541, 2.5226, -2.1834, 0.9683, -2.0845, 0.5067]),\n",
       " DenseVector([-1.4232, -0.5632, 0.4556, -3.7483, 2.149, -1.3047, 5.1895, 0.451, -0.4297]),\n",
       " DenseVector([-2.0599, 1.3168, -2.6399, -5.958, 6.066, -1.9101, -0.9081, -3.5172, -4.1805]),\n",
       " DenseVector([0.889, -2.9494, 9.0079, -1.1592, 7.6026, -4.6784, 5.9377, 1.364, 3.3288]),\n",
       " DenseVector([0.2082, 0.3946, 1.5852, -2.0536, 1.8705, -0.2125, 3.6396, -0.4917, -0.2132]),\n",
       " DenseVector([1.7889, -13.7331, -2.5778, -3.1313, 0.5723, -2.413, 3.4583, -0.9182, -1.6174]),\n",
       " DenseVector([3.4528, -21.3239, -2.4637, -3.9754, -0.6774, -1.8057, 5.7078, -1.9488, 2.8955]),\n",
       " DenseVector([0.8124, -3.0265, 1.8281, -0.05, 0.963, 0.2335, 0.3607, -0.377, 0.1502]),\n",
       " DenseVector([-151.3032, -30.3381, 16.1821, 6.2627, -4.6656, -2.9051, 3.9896, 1.0475, -0.7142]),\n",
       " DenseVector([-0.735, -0.2632, 0.1695, -2.8673, 2.8448, -1.7647, 1.2483, -0.2365, 1.2744])]"
      ]
     },
     "execution_count": 101,
     "metadata": {},
     "output_type": "execute_result"
    }
   ],
   "source": [
    "projected.rows.collect()"
   ]
  },
  {
   "cell_type": "code",
   "execution_count": 110,
   "metadata": {},
   "outputs": [
    {
     "ename": "ValueError",
     "evalue": "x and y must be the same size",
     "output_type": "error",
     "traceback": [
      "\u001b[0;31m---------------------------------------------------------------------------\u001b[0m",
      "\u001b[0;31mValueError\u001b[0m                                Traceback (most recent call last)",
      "\u001b[0;32m<ipython-input-110-98de8a34cfe6>\u001b[0m in \u001b[0;36m<module>\u001b[0;34m\u001b[0m\n\u001b[1;32m     12\u001b[0m \u001b[0;34m\u001b[0m\u001b[0m\n\u001b[1;32m     13\u001b[0m \u001b[0;31m# Create an overlaid scatter plot\u001b[0m\u001b[0;34m\u001b[0m\u001b[0;34m\u001b[0m\u001b[0;34m\u001b[0m\u001b[0m\n\u001b[0;32m---> 14\u001b[0;31m \u001b[0mplt\u001b[0m\u001b[0;34m.\u001b[0m\u001b[0mscatter\u001b[0m\u001b[0;34m(\u001b[0m\u001b[0mrdd_split_int_df_pandas\u001b[0m\u001b[0;34m,\u001b[0m \u001b[0mcluster_centers_pandas\u001b[0m\u001b[0;34m,\u001b[0m \u001b[0mcolor\u001b[0m\u001b[0;34m=\u001b[0m\u001b[0;34m\"red\"\u001b[0m\u001b[0;34m,\u001b[0m \u001b[0mmarker\u001b[0m\u001b[0;34m=\u001b[0m\u001b[0;34m\"x\"\u001b[0m\u001b[0;34m)\u001b[0m\u001b[0;34m\u001b[0m\u001b[0;34m\u001b[0m\u001b[0m\n\u001b[0m\u001b[1;32m     15\u001b[0m \u001b[0mplt\u001b[0m\u001b[0;34m.\u001b[0m\u001b[0mshow\u001b[0m\u001b[0;34m(\u001b[0m\u001b[0;34m)\u001b[0m\u001b[0;34m\u001b[0m\u001b[0;34m\u001b[0m\u001b[0m\n",
      "\u001b[0;32m/usr/lib64/python3.7/site-packages/matplotlib/pyplot.py\u001b[0m in \u001b[0;36mscatter\u001b[0;34m(x, y, s, c, marker, cmap, norm, vmin, vmax, alpha, linewidths, verts, edgecolors, data, **kwargs)\u001b[0m\n\u001b[1;32m   2860\u001b[0m         \u001b[0mvmin\u001b[0m\u001b[0;34m=\u001b[0m\u001b[0mvmin\u001b[0m\u001b[0;34m,\u001b[0m \u001b[0mvmax\u001b[0m\u001b[0;34m=\u001b[0m\u001b[0mvmax\u001b[0m\u001b[0;34m,\u001b[0m \u001b[0malpha\u001b[0m\u001b[0;34m=\u001b[0m\u001b[0malpha\u001b[0m\u001b[0;34m,\u001b[0m \u001b[0mlinewidths\u001b[0m\u001b[0;34m=\u001b[0m\u001b[0mlinewidths\u001b[0m\u001b[0;34m,\u001b[0m\u001b[0;34m\u001b[0m\u001b[0;34m\u001b[0m\u001b[0m\n\u001b[1;32m   2861\u001b[0m         verts=verts, edgecolors=edgecolors, **({\"data\": data} if data\n\u001b[0;32m-> 2862\u001b[0;31m         is not None else {}), **kwargs)\n\u001b[0m\u001b[1;32m   2863\u001b[0m     \u001b[0msci\u001b[0m\u001b[0;34m(\u001b[0m\u001b[0m__ret\u001b[0m\u001b[0;34m)\u001b[0m\u001b[0;34m\u001b[0m\u001b[0;34m\u001b[0m\u001b[0m\n\u001b[1;32m   2864\u001b[0m     \u001b[0;32mreturn\u001b[0m \u001b[0m__ret\u001b[0m\u001b[0;34m\u001b[0m\u001b[0;34m\u001b[0m\u001b[0m\n",
      "\u001b[0;32m/usr/lib64/python3.7/site-packages/matplotlib/__init__.py\u001b[0m in \u001b[0;36minner\u001b[0;34m(ax, data, *args, **kwargs)\u001b[0m\n\u001b[1;32m   1796\u001b[0m                         \u001b[0;34m\"the Matplotlib list!)\"\u001b[0m \u001b[0;34m%\u001b[0m \u001b[0;34m(\u001b[0m\u001b[0mlabel_namer\u001b[0m\u001b[0;34m,\u001b[0m \u001b[0mfunc\u001b[0m\u001b[0;34m.\u001b[0m\u001b[0m__name__\u001b[0m\u001b[0;34m)\u001b[0m\u001b[0;34m,\u001b[0m\u001b[0;34m\u001b[0m\u001b[0;34m\u001b[0m\u001b[0m\n\u001b[1;32m   1797\u001b[0m                         RuntimeWarning, stacklevel=2)\n\u001b[0;32m-> 1798\u001b[0;31m             \u001b[0;32mreturn\u001b[0m \u001b[0mfunc\u001b[0m\u001b[0;34m(\u001b[0m\u001b[0max\u001b[0m\u001b[0;34m,\u001b[0m \u001b[0;34m*\u001b[0m\u001b[0margs\u001b[0m\u001b[0;34m,\u001b[0m \u001b[0;34m**\u001b[0m\u001b[0mkwargs\u001b[0m\u001b[0;34m)\u001b[0m\u001b[0;34m\u001b[0m\u001b[0;34m\u001b[0m\u001b[0m\n\u001b[0m\u001b[1;32m   1799\u001b[0m \u001b[0;34m\u001b[0m\u001b[0m\n\u001b[1;32m   1800\u001b[0m         inner.__doc__ = _add_data_doc(inner.__doc__,\n",
      "\u001b[0;32m/usr/lib64/python3.7/site-packages/matplotlib/axes/_axes.py\u001b[0m in \u001b[0;36mscatter\u001b[0;34m(self, x, y, s, c, marker, cmap, norm, vmin, vmax, alpha, linewidths, verts, edgecolors, **kwargs)\u001b[0m\n\u001b[1;32m   4180\u001b[0m         \u001b[0my\u001b[0m \u001b[0;34m=\u001b[0m \u001b[0mnp\u001b[0m\u001b[0;34m.\u001b[0m\u001b[0mma\u001b[0m\u001b[0;34m.\u001b[0m\u001b[0mravel\u001b[0m\u001b[0;34m(\u001b[0m\u001b[0my\u001b[0m\u001b[0;34m)\u001b[0m\u001b[0;34m\u001b[0m\u001b[0;34m\u001b[0m\u001b[0m\n\u001b[1;32m   4181\u001b[0m         \u001b[0;32mif\u001b[0m \u001b[0mx\u001b[0m\u001b[0;34m.\u001b[0m\u001b[0msize\u001b[0m \u001b[0;34m!=\u001b[0m \u001b[0my\u001b[0m\u001b[0;34m.\u001b[0m\u001b[0msize\u001b[0m\u001b[0;34m:\u001b[0m\u001b[0;34m\u001b[0m\u001b[0;34m\u001b[0m\u001b[0m\n\u001b[0;32m-> 4182\u001b[0;31m             \u001b[0;32mraise\u001b[0m \u001b[0mValueError\u001b[0m\u001b[0;34m(\u001b[0m\u001b[0;34m\"x and y must be the same size\"\u001b[0m\u001b[0;34m)\u001b[0m\u001b[0;34m\u001b[0m\u001b[0;34m\u001b[0m\u001b[0m\n\u001b[0m\u001b[1;32m   4183\u001b[0m \u001b[0;34m\u001b[0m\u001b[0m\n\u001b[1;32m   4184\u001b[0m         \u001b[0;32mif\u001b[0m \u001b[0ms\u001b[0m \u001b[0;32mis\u001b[0m \u001b[0;32mNone\u001b[0m\u001b[0;34m:\u001b[0m\u001b[0;34m\u001b[0m\u001b[0;34m\u001b[0m\u001b[0m\n",
      "\u001b[0;31mValueError\u001b[0m: x and y must be the same size"
     ]
    },
    {
     "data": {
      "image/png": "[encoded data removed]",
      "text/plain": [
       "<Figure size 432x288 with 1 Axes>"
      ]
     },
     "metadata": {
      "needs_background": "light"
     },
     "output_type": "display_data"
    }
   ],
   "source": [
    "rdd_split_int = projected.rows.map(lambda x: [float(x[0]), float(x[1]), float(x[2]), float(x[3]), float(x[4]), float(x[5]), float(x[6]), float(x[7]), float(x[8])])\n",
    "\n",
    "# Convert rdd_split_int RDD into Spark DataFrame\n",
    "rdd_split_int_df = spark.createDataFrame(rdd_split_int, schema=[\"col1\", \"col2\", \"col3\", \"col4\", \"col5\", \"col6\", \"col7\", \"col8\", \"col9\"])\n",
    "\n",
    "# Convert Spark DataFrame into Pandas DataFrame\n",
    "rdd_split_int_df_pandas = rdd_split_int_df.toPandas()\n",
    "\n",
    "# Convert \"cluster_centers\" that you generated earlier into Pandas DataFrame\n",
    "cluster_centers_pandas = pd.DataFrame(cluster_centers[8], columns=[\"col1\", \"col2\", \"col3\", \"col4\", \"col5\", \"col6\", \"col7\", \"col8\", \"col9\"])\n",
    "\n",
    "# Create an overlaid scatter plot\n",
    "plt.scatter(rdd_split_int_df_pandas, cluster_centers_pandas, color=\"red\", marker=\"x\")\n",
    "plt.show()"
   ]
  },
  {
   "cell_type": "code",
   "execution_count": null,
   "metadata": {},
   "outputs": [],
   "source": [
    "sc.stop()"
   ]
  },
  {
   "cell_type": "code",
   "execution_count": null,
   "metadata": {},
   "outputs": [],
   "source": []
  },
  {
   "cell_type": "markdown",
   "metadata": {},
   "source": [
    "# Clustering "
   ]
  },
  {
   "cell_type": "markdown",
   "metadata": {},
   "source": [
    "[Ref - Scikit learn](https://scikit-learn.org/stable/auto_examples/text/plot_document_clustering.html#sphx-glr-auto-examples-text-plot-document-clustering-py)"
   ]
  },
  {
   "cell_type": "markdown",
   "metadata": {},
   "source": [
    "### Elbow method and Silhouette method"
   ]
  },
  {
   "cell_type": "markdown",
   "metadata": {},
   "source": [
    "# Classification and cross validation using Multi-Layer Perceptrons"
   ]
  },
  {
   "cell_type": "markdown",
   "metadata": {},
   "source": [
    "### F Score, Precision, Recall, and Accuracy"
   ]
  },
  {
   "cell_type": "code",
   "execution_count": null,
   "metadata": {},
   "outputs": [],
   "source": [
    "# function to print out classification model report\n",
    "def classification_report(model_name, test, pred):\n",
    "    from sklearn.metrics import precision_score, recall_score\n",
    "    from sklearn.metrics import accuracy_score\n",
    "    from sklearn.metrics import f1_score\n",
    "    \n",
    "    print(model_name, \":\\n\")\n",
    "    print(\"Accuracy Score: \", '{:,.3f}'.format(float(accuracy_score(test, pred)) * 100), \"%\")\n",
    "    print(\"     Precision: \", '{:,.3f}'.format(float(precision_score(test, pred, average='macro')) * 100), \"%\")\n",
    "    print(\"        Recall: \", '{:,.3f}'.format(float(recall_score(test, pred, average='macro')) * 100), \"%\")\n",
    "    print(\"      F1 score: \", '{:,.3f}'.format(float(f1_score(test, pred, average='macro')) * 100), \"%\")\n",
    "    "
   ]
  },
  {
   "cell_type": "code",
   "execution_count": null,
   "metadata": {},
   "outputs": [],
   "source": [
    "from sklearn.model_selection import train_test_split\n",
    "\n",
    "# test set size of 20% of the data and the random seed 42 <3\n",
    "X_train, X_test, y_train, y_test = train_test_split(X.toarray(),y_pred, test_size=0.2, random_state=42)\n",
    "\n",
    "print(\"X_train size:\", len(X_train))\n",
    "print(\"X_test size:\", len(X_test), \"\\n\")\n"
   ]
  },
  {
   "cell_type": "code",
   "execution_count": null,
   "metadata": {},
   "outputs": [],
   "source": [
    "from sklearn.model_selection import cross_val_score\n",
    "from sklearn.model_selection import cross_val_predict\n",
    "from sklearn.linear_model import SGDClassifier\n",
    "from sklearn.neural_network import MLPClassifier\n"
   ]
  },
  {
   "cell_type": "code",
   "execution_count": null,
   "metadata": {},
   "outputs": [],
   "source": [
    "clf = MLPClassifier(solver='lbfgs', alpha=1e-5, hidden_layer_sizes=(400, 100), max_iter=200, random_state=1)\n"
   ]
  },
  {
   "cell_type": "code",
   "execution_count": null,
   "metadata": {},
   "outputs": [],
   "source": [
    "start_time = datetime.now()\n",
    "clf.fit(X_train, y_train)\n",
    "end_time = datetime.now()\n",
    "print(f'training time taken:{end_time-start_time}')\n"
   ]
  },
  {
   "cell_type": "code",
   "execution_count": null,
   "metadata": {},
   "outputs": [],
   "source": [
    "start_time = datetime.now()\n",
    "pred = cross_val_predict(clf, X_train, y_train, n_jobs=-1)\n",
    "end_time = datetime.now()\n",
    "print(f'cross validation time taken:{end_time-start_time}')\n",
    "classification_report(\"MLP Report (Training Set)\", y_train, sgd_pred)\n"
   ]
  },
  {
   "cell_type": "code",
   "execution_count": null,
   "metadata": {},
   "outputs": [],
   "source": [
    "start_time = datetime.now()\n",
    "pred = cross_val_predict(clf, X_test, y_test, cv=3, n_jobs=-1)\n",
    "end_time = datetime.now()\n",
    "print(f'test time taken:{end_time-start_time}')\n"
   ]
  },
  {
   "cell_type": "code",
   "execution_count": null,
   "metadata": {},
   "outputs": [],
   "source": [
    "classification_report(\"MLP Report (Test Set)\", y_test, sgd_pred)\n"
   ]
  },
  {
   "cell_type": "code",
   "execution_count": null,
   "metadata": {},
   "outputs": [],
   "source": [
    "cv_score = cross_val_score(clf, X.toarray(), y_pred, cv=10)\n"
   ]
  },
  {
   "cell_type": "code",
   "execution_count": null,
   "metadata": {},
   "outputs": [],
   "source": [
    "print(\"Mean cv Score - MLP: {:,.3f}\".format(float(cv_score.mean()) * 100), \"%\")\n"
   ]
  },
  {
   "cell_type": "markdown",
   "metadata": {},
   "source": [
    "## Bonus: Find top N closest words for given input query"
   ]
  },
  {
   "cell_type": "code",
   "execution_count": 40,
   "metadata": {},
   "outputs": [
    {
     "ename": "AttributeError",
     "evalue": "'NoneType' object has no attribute 'sc'",
     "output_type": "error",
     "traceback": [
      "\u001b[0;31m---------------------------------------------------------------------------\u001b[0m",
      "\u001b[0;31mAttributeError\u001b[0m                            Traceback (most recent call last)",
      "\u001b[0;32m<ipython-input-40-534b430b9343>\u001b[0m in \u001b[0;36m<module>\u001b[0;34m\u001b[0m\n\u001b[1;32m      1\u001b[0m \u001b[0;31m#Generate doc\u001b[0m\u001b[0;34m\u001b[0m\u001b[0;34m\u001b[0m\u001b[0;34m\u001b[0m\u001b[0m\n\u001b[1;32m      2\u001b[0m \u001b[0mlocalDoc\u001b[0m \u001b[0;34m=\u001b[0m \u001b[0mabstracts\u001b[0m\u001b[0;34m[\u001b[0m\u001b[0;34m'abstract'\u001b[0m\u001b[0;34m]\u001b[0m\u001b[0;34m\u001b[0m\u001b[0;34m\u001b[0m\u001b[0m\n\u001b[0;32m----> 3\u001b[0;31m \u001b[0mdoc\u001b[0m \u001b[0;34m=\u001b[0m \u001b[0msc\u001b[0m\u001b[0;34m.\u001b[0m\u001b[0mparallelize\u001b[0m\u001b[0;34m(\u001b[0m\u001b[0mlocalDoc\u001b[0m\u001b[0;34m)\u001b[0m\u001b[0;34m.\u001b[0m\u001b[0mmap\u001b[0m\u001b[0;34m(\u001b[0m\u001b[0;32mlambda\u001b[0m \u001b[0mline\u001b[0m\u001b[0;34m:\u001b[0m \u001b[0mline\u001b[0m\u001b[0;34m.\u001b[0m\u001b[0msplit\u001b[0m\u001b[0;34m(\u001b[0m\u001b[0;34m\" \"\u001b[0m\u001b[0;34m)\u001b[0m\u001b[0;34m)\u001b[0m\u001b[0;34m\u001b[0m\u001b[0;34m\u001b[0m\u001b[0m\n\u001b[0m",
      "\u001b[0;32m~/spark-2.4.4-bin-hadoop2.7/python/pyspark/context.py\u001b[0m in \u001b[0;36mparallelize\u001b[0;34m(self, c, numSlices)\u001b[0m\n\u001b[1;32m    497\u001b[0m         \u001b[0;34m[\u001b[0m\u001b[0;34m[\u001b[0m\u001b[0;34m]\u001b[0m\u001b[0;34m,\u001b[0m \u001b[0;34m[\u001b[0m\u001b[0;36m0\u001b[0m\u001b[0;34m]\u001b[0m\u001b[0;34m,\u001b[0m \u001b[0;34m[\u001b[0m\u001b[0;34m]\u001b[0m\u001b[0;34m,\u001b[0m \u001b[0;34m[\u001b[0m\u001b[0;36m2\u001b[0m\u001b[0;34m]\u001b[0m\u001b[0;34m,\u001b[0m \u001b[0;34m[\u001b[0m\u001b[0;36m4\u001b[0m\u001b[0;34m]\u001b[0m\u001b[0;34m]\u001b[0m\u001b[0;34m\u001b[0m\u001b[0;34m\u001b[0m\u001b[0m\n\u001b[1;32m    498\u001b[0m         \"\"\"\n\u001b[0;32m--> 499\u001b[0;31m         \u001b[0mnumSlices\u001b[0m \u001b[0;34m=\u001b[0m \u001b[0mint\u001b[0m\u001b[0;34m(\u001b[0m\u001b[0mnumSlices\u001b[0m\u001b[0;34m)\u001b[0m \u001b[0;32mif\u001b[0m \u001b[0mnumSlices\u001b[0m \u001b[0;32mis\u001b[0m \u001b[0;32mnot\u001b[0m \u001b[0;32mNone\u001b[0m \u001b[0;32melse\u001b[0m \u001b[0mself\u001b[0m\u001b[0;34m.\u001b[0m\u001b[0mdefaultParallelism\u001b[0m\u001b[0;34m\u001b[0m\u001b[0;34m\u001b[0m\u001b[0m\n\u001b[0m\u001b[1;32m    500\u001b[0m         \u001b[0;32mif\u001b[0m \u001b[0misinstance\u001b[0m\u001b[0;34m(\u001b[0m\u001b[0mc\u001b[0m\u001b[0;34m,\u001b[0m \u001b[0mxrange\u001b[0m\u001b[0;34m)\u001b[0m\u001b[0;34m:\u001b[0m\u001b[0;34m\u001b[0m\u001b[0;34m\u001b[0m\u001b[0m\n\u001b[1;32m    501\u001b[0m             \u001b[0msize\u001b[0m \u001b[0;34m=\u001b[0m \u001b[0mlen\u001b[0m\u001b[0;34m(\u001b[0m\u001b[0mc\u001b[0m\u001b[0;34m)\u001b[0m\u001b[0;34m\u001b[0m\u001b[0;34m\u001b[0m\u001b[0m\n",
      "\u001b[0;32m~/spark-2.4.4-bin-hadoop2.7/python/pyspark/context.py\u001b[0m in \u001b[0;36mdefaultParallelism\u001b[0;34m(self)\u001b[0m\n\u001b[1;32m    422\u001b[0m         reduce tasks)\n\u001b[1;32m    423\u001b[0m         \"\"\"\n\u001b[0;32m--> 424\u001b[0;31m         \u001b[0;32mreturn\u001b[0m \u001b[0mself\u001b[0m\u001b[0;34m.\u001b[0m\u001b[0m_jsc\u001b[0m\u001b[0;34m.\u001b[0m\u001b[0msc\u001b[0m\u001b[0;34m(\u001b[0m\u001b[0;34m)\u001b[0m\u001b[0;34m.\u001b[0m\u001b[0mdefaultParallelism\u001b[0m\u001b[0;34m(\u001b[0m\u001b[0;34m)\u001b[0m\u001b[0;34m\u001b[0m\u001b[0;34m\u001b[0m\u001b[0m\n\u001b[0m\u001b[1;32m    425\u001b[0m \u001b[0;34m\u001b[0m\u001b[0m\n\u001b[1;32m    426\u001b[0m     \u001b[0;34m@\u001b[0m\u001b[0mproperty\u001b[0m\u001b[0;34m\u001b[0m\u001b[0;34m\u001b[0m\u001b[0m\n",
      "\u001b[0;31mAttributeError\u001b[0m: 'NoneType' object has no attribute 'sc'"
     ]
    }
   ],
   "source": [
    "#Generate doc\n",
    "localDoc = abstracts['abstract']\n",
    "doc = sc.parallelize(localDoc).map(lambda line: line.split(\" \"))"
   ]
  },
  {
   "cell_type": "code",
   "execution_count": 41,
   "metadata": {
    "scrolled": false
   },
   "outputs": [
    {
     "ename": "NameError",
     "evalue": "name 'doc' is not defined",
     "output_type": "error",
     "traceback": [
      "\u001b[0;31m---------------------------------------------------------------------------\u001b[0m",
      "\u001b[0;31mNameError\u001b[0m                                 Traceback (most recent call last)",
      "\u001b[0;32m<ipython-input-41-74b20e70936b>\u001b[0m in \u001b[0;36m<module>\u001b[0;34m\u001b[0m\n\u001b[1;32m      2\u001b[0m \u001b[0mstart_time\u001b[0m \u001b[0;34m=\u001b[0m \u001b[0mdatetime\u001b[0m\u001b[0;34m.\u001b[0m\u001b[0mnow\u001b[0m\u001b[0;34m(\u001b[0m\u001b[0;34m)\u001b[0m\u001b[0;34m\u001b[0m\u001b[0;34m\u001b[0m\u001b[0m\n\u001b[1;32m      3\u001b[0m \u001b[0;31m# Learn a mapping from words to Vectors.\u001b[0m\u001b[0;34m\u001b[0m\u001b[0;34m\u001b[0m\u001b[0;34m\u001b[0m\u001b[0m\n\u001b[0;32m----> 4\u001b[0;31m \u001b[0mmodel\u001b[0m \u001b[0;34m=\u001b[0m \u001b[0mWord2Vec\u001b[0m\u001b[0;34m(\u001b[0m\u001b[0;34m)\u001b[0m\u001b[0;34m.\u001b[0m\u001b[0mfit\u001b[0m\u001b[0;34m(\u001b[0m\u001b[0mdoc\u001b[0m\u001b[0;34m)\u001b[0m\u001b[0;34m\u001b[0m\u001b[0;34m\u001b[0m\u001b[0m\n\u001b[0m\u001b[1;32m      5\u001b[0m \u001b[0mend_time\u001b[0m \u001b[0;34m=\u001b[0m \u001b[0mdatetime\u001b[0m\u001b[0;34m.\u001b[0m\u001b[0mnow\u001b[0m\u001b[0;34m(\u001b[0m\u001b[0;34m)\u001b[0m\u001b[0;34m\u001b[0m\u001b[0;34m\u001b[0m\u001b[0m\n\u001b[1;32m      6\u001b[0m \u001b[0mprint\u001b[0m\u001b[0;34m(\u001b[0m\u001b[0;34mf'Word2Vec model fit on the {len(abstracts)} abstracts. Time Taken: {end_time - start_time}'\u001b[0m\u001b[0;34m)\u001b[0m\u001b[0;34m\u001b[0m\u001b[0;34m\u001b[0m\u001b[0m\n",
      "\u001b[0;31mNameError\u001b[0m: name 'doc' is not defined"
     ]
    }
   ],
   "source": [
    "from pyspark.mllib.feature import Word2Vec\n",
    "start_time = datetime.now()\n",
    "# Learn a mapping from words to Vectors.\n",
    "model = Word2Vec().fit(doc)\n",
    "end_time = datetime.now()\n",
    "print(f'Word2Vec model fit on the {len(abstracts)} abstracts. Time Taken: {end_time - start_time}')"
   ]
  },
  {
   "cell_type": "code",
   "execution_count": 67,
   "metadata": {},
   "outputs": [],
   "source": [
    "word = \"corona\"\n",
    "topN = 10\n",
    "synonyms = model.findSynonyms(word, topN)\n",
    "result = [(s[0], s[1]) for s in synonyms]"
   ]
  },
  {
   "cell_type": "raw",
   "metadata": {},
   "source": [
    "result"
   ]
  },
  {
   "cell_type": "markdown",
   "metadata": {},
   "source": [
    "# Visualization and stuff"
   ]
  },
  {
   "cell_type": "markdown",
   "metadata": {},
   "source": [
    "https://cdn.oreillystatic.com/en/assets/1/event/261/Text%20analytics%20and%20new%20visualization%20techniques%20Presentation.pdf"
   ]
  },
  {
   "cell_type": "markdown",
   "metadata": {},
   "source": [
    "# References"
   ]
  },
  {
   "cell_type": "markdown",
   "metadata": {},
   "source": [
    "1. [COVID-19 Open Research Dataset Challenge (CORD-19)](https://www.kaggle.com/allen-institute-for-ai/CORD-19-research-challenge/)\n",
    "2. [How to build a topic-based search engine](https://www.smithinst.co.uk/insights/build-topic-based-search-engine/)\n",
    "3. W. Buntine et al., \"A Scalable Topic-Based Open Source Search Engine,\" IEEE/WIC/ACM International Conference on Web Intelligence (WI'04), Beijing, China, 2004, pp. 228-234.\n",
    "4. [Semantic Topic Modeling for Search Queries at Google](https://gofishdigital.com/semantic-topic-modeling/)\n",
    "5. GRANT, C.; PAZHAYIDAM GEORGE, C.; KANJILAL, V.; NIRKHIWALE, S.; WILSON, J.; WANG, D.. A Topic-Based Search, Visualization, and Exploration System. Florida Artificial Intelligence Research Society Conference, North America, apr. 2015. Available at: <https://www.aaai.org/ocs/index.php/FLAIRS/FLAIRS15/paper/view/10445/10360>. Date accessed: 25 Apr. 2020."
   ]
  }
 ],
 "metadata": {
  "kernelspec": {
   "display_name": "Python 3",
   "language": "python",
   "name": "python3"
  },
  "language_info": {
   "codemirror_mode": {
    "name": "ipython",
    "version": 3
   },
   "file_extension": ".py",
   "mimetype": "text/x-python",
   "name": "python",
   "nbconvert_exporter": "python",
   "pygments_lexer": "ipython3",
   "version": "3.7.6"
  },
  "toc": {
   "base_numbering": 1,
   "nav_menu": {},
   "number_sections": true,
   "sideBar": true,
   "skip_h1_title": false,
   "title_cell": "Table of Contents",
   "title_sidebar": "Contents",
   "toc_cell": true,
   "toc_position": {
    "height": "calc(100% - 180px)",
    "left": "10px",
    "top": "150px",
    "width": "288.72px"
   },
   "toc_section_display": true,
   "toc_window_display": true
  }
 },
 "nbformat": 4,
 "nbformat_minor": 4
}
