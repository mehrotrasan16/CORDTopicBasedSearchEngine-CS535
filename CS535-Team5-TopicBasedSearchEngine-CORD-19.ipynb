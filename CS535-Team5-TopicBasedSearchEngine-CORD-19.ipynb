{
 "cells": [
  {
   "cell_type": "markdown",
   "metadata": {
    "toc": true
   },
   "source": [
    "<h1>Table of Contents<span class=\"tocSkip\"></span></h1>\n",
    "<div class=\"toc\"><ul class=\"toc-item\"><li><span><a href=\"#Goal\" data-toc-modified-id=\"Goal-1\"><span class=\"toc-item-num\">1&nbsp;&nbsp;</span>Goal</a></span></li><li><span><a href=\"#Data-files\" data-toc-modified-id=\"Data-files-2\"><span class=\"toc-item-num\">2&nbsp;&nbsp;</span>Data files</a></span><ul class=\"toc-item\"><li><span><a href=\"#Metadata-for-the-database\" data-toc-modified-id=\"Metadata-for-the-database-2.1\"><span class=\"toc-item-num\">2.1&nbsp;&nbsp;</span>Metadata for the database</a></span></li><li><span><a href=\"#Setting-the-file-paths\" data-toc-modified-id=\"Setting-the-file-paths-2.2\"><span class=\"toc-item-num\">2.2&nbsp;&nbsp;</span>Setting the file paths</a></span></li><li><span><a href=\"#How-to-load-and-read-a-json-file\" data-toc-modified-id=\"How-to-load-and-read-a-json-file-2.3\"><span class=\"toc-item-num\">2.3&nbsp;&nbsp;</span>How to load and read a json file</a></span></li></ul></li><li><span><a href=\"#Data-Cleaning\" data-toc-modified-id=\"Data-Cleaning-3\"><span class=\"toc-item-num\">3&nbsp;&nbsp;</span>Data Cleaning</a></span></li><li><span><a href=\"#Data-Preprocessing\" data-toc-modified-id=\"Data-Preprocessing-4\"><span class=\"toc-item-num\">4&nbsp;&nbsp;</span>Data Preprocessing</a></span><ul class=\"toc-item\"><li><ul class=\"toc-item\"><li><span><a href=\"#TODO:-Clean-first-word-dirty-data\" data-toc-modified-id=\"TODO:-Clean-first-word-dirty-data-4.0.1\"><span class=\"toc-item-num\">4.0.1&nbsp;&nbsp;</span>TODO: Clean first word dirty data</a></span></li><li><span><a href=\"#END-TODO\" data-toc-modified-id=\"END-TODO-4.0.2\"><span class=\"toc-item-num\">4.0.2&nbsp;&nbsp;</span>END TODO</a></span></li></ul></li><li><span><a href=\"#Forming-n-grams\" data-toc-modified-id=\"Forming-n-grams-4.1\"><span class=\"toc-item-num\">4.1&nbsp;&nbsp;</span>Forming n-grams</a></span></li></ul></li><li><span><a href=\"#Word-Cloud-of-Abstracts\" data-toc-modified-id=\"Word-Cloud-of-Abstracts-5\"><span class=\"toc-item-num\">5&nbsp;&nbsp;</span>Word Cloud of Abstracts</a></span></li></ul></div>"
   ]
  },
  {
   "cell_type": "markdown",
   "metadata": {},
   "source": [
    "# Goal"
   ]
  },
  {
   "cell_type": "markdown",
   "metadata": {},
   "source": [
    "There is a need to respond quickly to changes in today's world. This response may sometimes require understanding of a topic. Given any topic, there is a plethora of sources providing seas of data related to the it. Given todays world condition, a global concern is the treatment and handling of the COVID-19 pandemic. Given the rising amount of literature regarding the subject, it will be difficult for a scientist to keep up with today's literature.\n",
    "> Is it possible to cluster these tens of thousands of articles to make it easier for a scientist to find relevant research articles?\n",
    "\n"
   ]
  },
  {
   "cell_type": "code",
   "execution_count": 6,
   "metadata": {},
   "outputs": [
    {
     "name": "stdout",
     "output_type": "stream",
     "text": [
      "Time for imports only: 0:00:00.814822\n"
     ]
    }
   ],
   "source": [
    "from datetime import datetime\n",
    "start_time = datetime.now()\n",
    "import pandas as pd\n",
    "import os\n",
    "import json\n",
    "import glob\n",
    "end_time = datetime.now()\n",
    "print(f'Time for imports only: {end_time-start_time}')"
   ]
  },
  {
   "cell_type": "code",
   "execution_count": 7,
   "metadata": {},
   "outputs": [],
   "source": [
    "root_path = \"D:/CORD-19-research-challenge/\"\n",
    "metadata_path = f'{root_path}/metadata.csv'\n",
    "biorxiv_medrxiv_path = \"D:/CORD-19-research-challenge/biorxiv_medrxiv/biorxiv_medrxiv\""
   ]
  },
  {
   "cell_type": "code",
   "execution_count": 8,
   "metadata": {},
   "outputs": [
    {
     "data": {
      "text/plain": [
       "['.ipynb_checkpoints',\n",
       " 'biorxiv_medrxiv',\n",
       " 'comm_use_subset',\n",
       " 'cord_19_embeddings_4_17',\n",
       " 'COVID.DATA.LIC.AGMT.pdf',\n",
       " 'CS535-Team5-TopicBasedSearchEngine-CORD-19(2).ipynb',\n",
       " 'CS535-Team5-TopicBasedSearchEngine-CORD-19.ipynb',\n",
       " 'custom_license',\n",
       " 'json_schema.txt',\n",
       " 'metadata.csv',\n",
       " 'metadata.readme',\n",
       " 'noncomm_use_subset']"
      ]
     },
     "execution_count": 8,
     "metadata": {},
     "output_type": "execute_result"
    }
   ],
   "source": [
    "os.chdir(root_path)\n",
    "os.listdir()"
   ]
  },
  {
   "cell_type": "markdown",
   "metadata": {},
   "source": [
    "# Data files"
   ]
  },
  {
   "cell_type": "markdown",
   "metadata": {},
   "source": [
    "The data files that we have been given are of the format that follows:"
   ]
  },
  {
   "cell_type": "markdown",
   "metadata": {},
   "source": [
    "![title](images/article_format.png)"
   ]
  },
  {
   "cell_type": "markdown",
   "metadata": {},
   "source": [
    "## Metadata for the database"
   ]
  },
  {
   "cell_type": "markdown",
   "metadata": {},
   "source": [
    "We are given a metadata file that gives us the filename of each article along with its abstract and some other details such as date published and journal that it was published in."
   ]
  },
  {
   "cell_type": "code",
   "execution_count": 9,
   "metadata": {},
   "outputs": [
    {
     "data": {
      "text/html": [
       "<div>\n",
       "<style scoped>\n",
       "    .dataframe tbody tr th:only-of-type {\n",
       "        vertical-align: middle;\n",
       "    }\n",
       "\n",
       "    .dataframe tbody tr th {\n",
       "        vertical-align: top;\n",
       "    }\n",
       "\n",
       "    .dataframe thead th {\n",
       "        text-align: right;\n",
       "    }\n",
       "</style>\n",
       "<table border=\"1\" class=\"dataframe\">\n",
       "  <thead>\n",
       "    <tr style=\"text-align: right;\">\n",
       "      <th></th>\n",
       "      <th>cord_uid</th>\n",
       "      <th>sha</th>\n",
       "      <th>source_x</th>\n",
       "      <th>title</th>\n",
       "      <th>doi</th>\n",
       "      <th>pmcid</th>\n",
       "      <th>pubmed_id</th>\n",
       "      <th>license</th>\n",
       "      <th>abstract</th>\n",
       "      <th>publish_time</th>\n",
       "      <th>authors</th>\n",
       "      <th>journal</th>\n",
       "      <th>Microsoft Academic Paper ID</th>\n",
       "      <th>WHO #Covidence</th>\n",
       "      <th>has_pdf_parse</th>\n",
       "      <th>has_pmc_xml_parse</th>\n",
       "      <th>full_text_file</th>\n",
       "      <th>url</th>\n",
       "    </tr>\n",
       "  </thead>\n",
       "  <tbody>\n",
       "    <tr>\n",
       "      <th>0</th>\n",
       "      <td>xqhn0vbp</td>\n",
       "      <td>1e1286db212100993d03cc22374b624f7caee956</td>\n",
       "      <td>PMC</td>\n",
       "      <td>Airborne rhinovirus detection and effect of ul...</td>\n",
       "      <td>10.1186/1471-2458-3-5</td>\n",
       "      <td>PMC140314</td>\n",
       "      <td>12525263</td>\n",
       "      <td>no-cc</td>\n",
       "      <td>BACKGROUND: Rhinovirus, the most common cause ...</td>\n",
       "      <td>2003-01-13</td>\n",
       "      <td>Myatt, Theodore A; Johnston, Sebastian L; Rudn...</td>\n",
       "      <td>BMC Public Health</td>\n",
       "      <td>NaN</td>\n",
       "      <td>NaN</td>\n",
       "      <td>True</td>\n",
       "      <td>True</td>\n",
       "      <td>custom_license</td>\n",
       "      <td>https://www.ncbi.nlm.nih.gov/pmc/articles/PMC1...</td>\n",
       "    </tr>\n",
       "    <tr>\n",
       "      <th>1</th>\n",
       "      <td>gi6uaa83</td>\n",
       "      <td>8ae137c8da1607b3a8e4c946c07ca8bda67f88ac</td>\n",
       "      <td>PMC</td>\n",
       "      <td>Discovering human history from stomach bacteria</td>\n",
       "      <td>10.1186/gb-2003-4-5-213</td>\n",
       "      <td>PMC156578</td>\n",
       "      <td>12734001</td>\n",
       "      <td>no-cc</td>\n",
       "      <td>Recent analyses of human pathogens have reveal...</td>\n",
       "      <td>2003-04-28</td>\n",
       "      <td>Disotell, Todd R</td>\n",
       "      <td>Genome Biol</td>\n",
       "      <td>NaN</td>\n",
       "      <td>NaN</td>\n",
       "      <td>True</td>\n",
       "      <td>True</td>\n",
       "      <td>custom_license</td>\n",
       "      <td>https://www.ncbi.nlm.nih.gov/pmc/articles/PMC1...</td>\n",
       "    </tr>\n",
       "    <tr>\n",
       "      <th>2</th>\n",
       "      <td>le0ogx1s</td>\n",
       "      <td>NaN</td>\n",
       "      <td>PMC</td>\n",
       "      <td>A new recruit for the army of the men of death</td>\n",
       "      <td>10.1186/gb-2003-4-7-113</td>\n",
       "      <td>PMC193621</td>\n",
       "      <td>12844350</td>\n",
       "      <td>no-cc</td>\n",
       "      <td>The army of the men of death, in John Bunyan's...</td>\n",
       "      <td>2003-06-27</td>\n",
       "      <td>Petsko, Gregory A</td>\n",
       "      <td>Genome Biol</td>\n",
       "      <td>NaN</td>\n",
       "      <td>NaN</td>\n",
       "      <td>False</td>\n",
       "      <td>True</td>\n",
       "      <td>custom_license</td>\n",
       "      <td>https://www.ncbi.nlm.nih.gov/pmc/articles/PMC1...</td>\n",
       "    </tr>\n",
       "    <tr>\n",
       "      <th>3</th>\n",
       "      <td>fy4w7xz8</td>\n",
       "      <td>0104f6ceccf92ae8567a0102f89cbb976969a774</td>\n",
       "      <td>PMC</td>\n",
       "      <td>Association of HLA class I with severe acute r...</td>\n",
       "      <td>10.1186/1471-2350-4-9</td>\n",
       "      <td>PMC212558</td>\n",
       "      <td>12969506</td>\n",
       "      <td>no-cc</td>\n",
       "      <td>BACKGROUND: The human leukocyte antigen (HLA) ...</td>\n",
       "      <td>2003-09-12</td>\n",
       "      <td>Lin, Marie; Tseng, Hsiang-Kuang; Trejaut, Jean...</td>\n",
       "      <td>BMC Med Genet</td>\n",
       "      <td>NaN</td>\n",
       "      <td>NaN</td>\n",
       "      <td>True</td>\n",
       "      <td>True</td>\n",
       "      <td>custom_license</td>\n",
       "      <td>https://www.ncbi.nlm.nih.gov/pmc/articles/PMC2...</td>\n",
       "    </tr>\n",
       "    <tr>\n",
       "      <th>4</th>\n",
       "      <td>0qaoam29</td>\n",
       "      <td>5b68a553a7cbbea13472721cd1ad617d42b40c26</td>\n",
       "      <td>PMC</td>\n",
       "      <td>A double epidemic model for the SARS propagation</td>\n",
       "      <td>10.1186/1471-2334-3-19</td>\n",
       "      <td>PMC222908</td>\n",
       "      <td>12964944</td>\n",
       "      <td>no-cc</td>\n",
       "      <td>BACKGROUND: An epidemic of a Severe Acute Resp...</td>\n",
       "      <td>2003-09-10</td>\n",
       "      <td>Ng, Tuen Wai; Turinici, Gabriel; Danchin, Antoine</td>\n",
       "      <td>BMC Infect Dis</td>\n",
       "      <td>NaN</td>\n",
       "      <td>NaN</td>\n",
       "      <td>True</td>\n",
       "      <td>True</td>\n",
       "      <td>custom_license</td>\n",
       "      <td>https://www.ncbi.nlm.nih.gov/pmc/articles/PMC2...</td>\n",
       "    </tr>\n",
       "  </tbody>\n",
       "</table>\n",
       "</div>"
      ],
      "text/plain": [
       "   cord_uid                                       sha source_x  \\\n",
       "0  xqhn0vbp  1e1286db212100993d03cc22374b624f7caee956      PMC   \n",
       "1  gi6uaa83  8ae137c8da1607b3a8e4c946c07ca8bda67f88ac      PMC   \n",
       "2  le0ogx1s                                       NaN      PMC   \n",
       "3  fy4w7xz8  0104f6ceccf92ae8567a0102f89cbb976969a774      PMC   \n",
       "4  0qaoam29  5b68a553a7cbbea13472721cd1ad617d42b40c26      PMC   \n",
       "\n",
       "                                               title                      doi  \\\n",
       "0  Airborne rhinovirus detection and effect of ul...    10.1186/1471-2458-3-5   \n",
       "1    Discovering human history from stomach bacteria  10.1186/gb-2003-4-5-213   \n",
       "2     A new recruit for the army of the men of death  10.1186/gb-2003-4-7-113   \n",
       "3  Association of HLA class I with severe acute r...    10.1186/1471-2350-4-9   \n",
       "4   A double epidemic model for the SARS propagation   10.1186/1471-2334-3-19   \n",
       "\n",
       "       pmcid pubmed_id license  \\\n",
       "0  PMC140314  12525263   no-cc   \n",
       "1  PMC156578  12734001   no-cc   \n",
       "2  PMC193621  12844350   no-cc   \n",
       "3  PMC212558  12969506   no-cc   \n",
       "4  PMC222908  12964944   no-cc   \n",
       "\n",
       "                                            abstract publish_time  \\\n",
       "0  BACKGROUND: Rhinovirus, the most common cause ...   2003-01-13   \n",
       "1  Recent analyses of human pathogens have reveal...   2003-04-28   \n",
       "2  The army of the men of death, in John Bunyan's...   2003-06-27   \n",
       "3  BACKGROUND: The human leukocyte antigen (HLA) ...   2003-09-12   \n",
       "4  BACKGROUND: An epidemic of a Severe Acute Resp...   2003-09-10   \n",
       "\n",
       "                                             authors            journal  \\\n",
       "0  Myatt, Theodore A; Johnston, Sebastian L; Rudn...  BMC Public Health   \n",
       "1                                   Disotell, Todd R        Genome Biol   \n",
       "2                                  Petsko, Gregory A        Genome Biol   \n",
       "3  Lin, Marie; Tseng, Hsiang-Kuang; Trejaut, Jean...      BMC Med Genet   \n",
       "4  Ng, Tuen Wai; Turinici, Gabriel; Danchin, Antoine     BMC Infect Dis   \n",
       "\n",
       "  Microsoft Academic Paper ID WHO #Covidence  has_pdf_parse  \\\n",
       "0                         NaN            NaN           True   \n",
       "1                         NaN            NaN           True   \n",
       "2                         NaN            NaN          False   \n",
       "3                         NaN            NaN           True   \n",
       "4                         NaN            NaN           True   \n",
       "\n",
       "   has_pmc_xml_parse  full_text_file  \\\n",
       "0               True  custom_license   \n",
       "1               True  custom_license   \n",
       "2               True  custom_license   \n",
       "3               True  custom_license   \n",
       "4               True  custom_license   \n",
       "\n",
       "                                                 url  \n",
       "0  https://www.ncbi.nlm.nih.gov/pmc/articles/PMC1...  \n",
       "1  https://www.ncbi.nlm.nih.gov/pmc/articles/PMC1...  \n",
       "2  https://www.ncbi.nlm.nih.gov/pmc/articles/PMC1...  \n",
       "3  https://www.ncbi.nlm.nih.gov/pmc/articles/PMC2...  \n",
       "4  https://www.ncbi.nlm.nih.gov/pmc/articles/PMC2...  "
      ]
     },
     "execution_count": 9,
     "metadata": {},
     "output_type": "execute_result"
    }
   ],
   "source": [
    "meta = pd.read_csv(metadata_path, dtype={\n",
    "    'pubmed_id': str,\n",
    "    'Microsoft Academic Paper ID': str, \n",
    "    'doi': str\n",
    "})\n",
    "meta.head()"
   ]
  },
  {
   "cell_type": "code",
   "execution_count": 10,
   "metadata": {},
   "outputs": [
    {
     "data": {
      "text/html": [
       "<div>\n",
       "<style scoped>\n",
       "    .dataframe tbody tr th:only-of-type {\n",
       "        vertical-align: middle;\n",
       "    }\n",
       "\n",
       "    .dataframe tbody tr th {\n",
       "        vertical-align: top;\n",
       "    }\n",
       "\n",
       "    .dataframe thead th {\n",
       "        text-align: right;\n",
       "    }\n",
       "</style>\n",
       "<table border=\"1\" class=\"dataframe\">\n",
       "  <thead>\n",
       "    <tr style=\"text-align: right;\">\n",
       "      <th></th>\n",
       "      <th>cord_uid</th>\n",
       "      <th>sha</th>\n",
       "      <th>source_x</th>\n",
       "      <th>title</th>\n",
       "      <th>doi</th>\n",
       "      <th>pmcid</th>\n",
       "      <th>pubmed_id</th>\n",
       "      <th>license</th>\n",
       "      <th>abstract</th>\n",
       "      <th>publish_time</th>\n",
       "      <th>authors</th>\n",
       "      <th>journal</th>\n",
       "      <th>Microsoft Academic Paper ID</th>\n",
       "      <th>WHO #Covidence</th>\n",
       "      <th>has_pdf_parse</th>\n",
       "      <th>has_pmc_xml_parse</th>\n",
       "      <th>full_text_file</th>\n",
       "      <th>url</th>\n",
       "    </tr>\n",
       "  </thead>\n",
       "  <tbody>\n",
       "  </tbody>\n",
       "</table>\n",
       "</div>"
      ],
      "text/plain": [
       "Empty DataFrame\n",
       "Columns: [cord_uid, sha, source_x, title, doi, pmcid, pubmed_id, license, abstract, publish_time, authors, journal, Microsoft Academic Paper ID, WHO #Covidence, has_pdf_parse, has_pmc_xml_parse, full_text_file, url]\n",
       "Index: []"
      ]
     },
     "execution_count": 10,
     "metadata": {},
     "output_type": "execute_result"
    }
   ],
   "source": [
    "meta[meta['abstract'] == '']"
   ]
  },
  {
   "cell_type": "code",
   "execution_count": 11,
   "metadata": {},
   "outputs": [
    {
     "data": {
      "text/plain": [
       "cord_uid                       52398\n",
       "sha                            39024\n",
       "source_x                       52398\n",
       "title                          52240\n",
       "doi                            49058\n",
       "pmcid                          43652\n",
       "pubmed_id                      38058\n",
       "license                        52398\n",
       "abstract                       43168\n",
       "publish_time                   52390\n",
       "authors                        50119\n",
       "journal                        47156\n",
       "Microsoft Academic Paper ID      964\n",
       "WHO #Covidence                  1768\n",
       "has_pdf_parse                  52398\n",
       "has_pmc_xml_parse              52398\n",
       "full_text_file                 43794\n",
       "url                            52096\n",
       "dtype: int64"
      ]
     },
     "execution_count": 11,
     "metadata": {},
     "output_type": "execute_result"
    }
   ],
   "source": [
    "meta.count()"
   ]
  },
  {
   "cell_type": "code",
   "execution_count": 12,
   "metadata": {},
   "outputs": [
    {
     "name": "stdout",
     "output_type": "stream",
     "text": [
      "<class 'pandas.core.frame.DataFrame'>\n",
      "RangeIndex: 52398 entries, 0 to 52397\n",
      "Data columns (total 18 columns):\n",
      "cord_uid                       52398 non-null object\n",
      "sha                            39024 non-null object\n",
      "source_x                       52398 non-null object\n",
      "title                          52240 non-null object\n",
      "doi                            49058 non-null object\n",
      "pmcid                          43652 non-null object\n",
      "pubmed_id                      38058 non-null object\n",
      "license                        52398 non-null object\n",
      "abstract                       43168 non-null object\n",
      "publish_time                   52390 non-null object\n",
      "authors                        50119 non-null object\n",
      "journal                        47156 non-null object\n",
      "Microsoft Academic Paper ID    964 non-null object\n",
      "WHO #Covidence                 1768 non-null object\n",
      "has_pdf_parse                  52398 non-null bool\n",
      "has_pmc_xml_parse              52398 non-null bool\n",
      "full_text_file                 43794 non-null object\n",
      "url                            52096 non-null object\n",
      "dtypes: bool(2), object(16)\n",
      "memory usage: 6.5+ MB\n"
     ]
    }
   ],
   "source": [
    "meta.info()"
   ]
  },
  {
   "cell_type": "markdown",
   "metadata": {},
   "source": [
    "Let us look at the column marked \"SHA\". At a closer look, we can see that it seems to be a hash of some kind.\n",
    "\n",
    "But looking into the folders, we see that this unique hash has been ingeniously used to identify each file. i.e. We don't need to refer to a long paper title to find its file contents. Instead we can just scan the home directory for a file with that hash.json."
   ]
  },
  {
   "cell_type": "code",
   "execution_count": 13,
   "metadata": {},
   "outputs": [
    {
     "data": {
      "text/plain": [
       "'1e1286db212100993d03cc22374b624f7caee956'"
      ]
     },
     "execution_count": 13,
     "metadata": {},
     "output_type": "execute_result"
    }
   ],
   "source": [
    "meta[\"sha\"][0]"
   ]
  },
  {
   "cell_type": "markdown",
   "metadata": {},
   "source": [
    "Now the source_x column is of importance for us as well. It refers to the source journal of each paper. This is important because the papers have been organized into folders, each representing a different source. e.g. a biorxiv folder, a WHO document folder etc."
   ]
  },
  {
   "cell_type": "code",
   "execution_count": 14,
   "metadata": {},
   "outputs": [
    {
     "data": {
      "text/plain": [
       "array(['PMC', 'Elsevier', 'CZI', 'WHO', 'biorxiv', 'medrxiv'],\n",
       "      dtype=object)"
      ]
     },
     "execution_count": 14,
     "metadata": {},
     "output_type": "execute_result"
    }
   ],
   "source": [
    "meta.source_x.unique()"
   ]
  },
  {
   "cell_type": "markdown",
   "metadata": {},
   "source": [
    "## Setting the file paths"
   ]
  },
  {
   "cell_type": "markdown",
   "metadata": {},
   "source": [
    "As we can see, there are up to six different sources whose documents we have been provided. We can try to make the document search easy by trying to make a dictionary to map sources with folder paths to search for each row of the document."
   ]
  },
  {
   "cell_type": "code",
   "execution_count": 15,
   "metadata": {},
   "outputs": [
    {
     "data": {
      "text/plain": [
       "{'PMC': None,\n",
       " 'Elsevier': None,\n",
       " 'CZI': None,\n",
       " 'WHO': None,\n",
       " 'biorxiv': None,\n",
       " 'medrxiv': None}"
      ]
     },
     "execution_count": 15,
     "metadata": {},
     "output_type": "execute_result"
    }
   ],
   "source": [
    "file_path = {}\n",
    "file_path.fromkeys(meta.source_x.unique())"
   ]
  },
  {
   "cell_type": "code",
   "execution_count": 16,
   "metadata": {},
   "outputs": [],
   "source": [
    "file_path['biorxiv'] = \"D:/CORD-19-research-challenge/\""
   ]
  },
  {
   "cell_type": "code",
   "execution_count": 17,
   "metadata": {},
   "outputs": [],
   "source": [
    "os.chdir(file_path['biorxiv'])"
   ]
  },
  {
   "cell_type": "markdown",
   "metadata": {},
   "source": [
    "Let us read some of the biorxiv files into variables to see the structure as viewed in the screenshot before section 2.1."
   ]
  },
  {
   "cell_type": "code",
   "execution_count": 18,
   "metadata": {},
   "outputs": [],
   "source": [
    "article_array = {}\n",
    "for i in range(5):\n",
    "    #article_array[i] = json.load(open(meta[\"sha\"][i] + \".json\"))\n",
    "    pass"
   ]
  },
  {
   "cell_type": "code",
   "execution_count": 19,
   "metadata": {},
   "outputs": [],
   "source": [
    "for i in range(5):\n",
    "    #print(article_array[i])\n",
    "    pass"
   ]
  },
  {
   "cell_type": "code",
   "execution_count": 20,
   "metadata": {},
   "outputs": [],
   "source": [
    "#article_array[0].keys()"
   ]
  },
  {
   "cell_type": "markdown",
   "metadata": {},
   "source": [
    "From above, we can see that there are keys that describe each paper of the biorxiv journal. Of these, Our paritcular interest lies in the abstract and the body_text. The title is useful too, and to get it, we have to look inside the metadata part of the file. "
   ]
  },
  {
   "cell_type": "code",
   "execution_count": 21,
   "metadata": {},
   "outputs": [],
   "source": [
    "#article_array[0]['metadata'].keys()"
   ]
  },
  {
   "cell_type": "markdown",
   "metadata": {},
   "source": [
    "If printed as a whole, each file would look like the below output:"
   ]
  },
  {
   "cell_type": "code",
   "execution_count": 22,
   "metadata": {},
   "outputs": [],
   "source": [
    "#f = open('04dc6d9c1e3f28e2b57934301593cf3da58b9935.json')\n",
    "#for line in f:\n",
    "    #print(line)"
   ]
  },
  {
   "cell_type": "markdown",
   "metadata": {},
   "source": [
    "## How to load and read a json file"
   ]
  },
  {
   "cell_type": "code",
   "execution_count": 23,
   "metadata": {},
   "outputs": [],
   "source": [
    "import json\n",
    "\n",
    "#with open('04dc6d9c1e3f28e2b57934301593cf3da58b9935.json') as f:\n",
    "  #data = json.load(f)\n",
    "\n",
    "#print(data)"
   ]
  },
  {
   "cell_type": "code",
   "execution_count": 24,
   "metadata": {},
   "outputs": [],
   "source": [
    "#data.keys()"
   ]
  },
  {
   "cell_type": "code",
   "execution_count": 25,
   "metadata": {},
   "outputs": [],
   "source": [
    "#for entry in data['abstract']:\n",
    "    #print(entry['section'],\"\\n\",entry['text'])"
   ]
  },
  {
   "cell_type": "code",
   "execution_count": 26,
   "metadata": {},
   "outputs": [],
   "source": [
    "def load_json(filename):\n",
    "    with open(filename +  \".json\") as f:\n",
    "        data = json.load(f)\n",
    "    return data"
   ]
  },
  {
   "cell_type": "markdown",
   "metadata": {},
   "source": [
    "Code to read all json files in the directory in one go (Cite: [Kernel on Kaggle](https://www.kaggle.com/maksimeren/covid-19-literature-clustering))"
   ]
  },
  {
   "cell_type": "code",
   "execution_count": 27,
   "metadata": {},
   "outputs": [
    {
     "data": {
      "text/plain": [
       "1934"
      ]
     },
     "execution_count": 27,
     "metadata": {},
     "output_type": "execute_result"
    }
   ],
   "source": [
    "all_json = glob.glob(f'{biorxiv_medrxiv_path}/**/*.json', recursive=True)\n",
    "len(all_json)"
   ]
  },
  {
   "cell_type": "code",
   "execution_count": 28,
   "metadata": {},
   "outputs": [
    {
     "data": {
      "text/plain": [
       "'D:/CORD-19-research-challenge/biorxiv_medrxiv/biorxiv_medrxiv\\\\pdf_json\\\\0015023cc06b5362d332b3baf348d11567ca2fbb.json'"
      ]
     },
     "execution_count": 28,
     "metadata": {},
     "output_type": "execute_result"
    }
   ],
   "source": [
    "all_json[0]"
   ]
  },
  {
   "cell_type": "markdown",
   "metadata": {},
   "source": [
    "Let's make a class so that we could refer to the loaded articles easily"
   ]
  },
  {
   "cell_type": "code",
   "execution_count": 29,
   "metadata": {},
   "outputs": [],
   "source": [
    "class Article:\n",
    "    \n",
    "    def __init__(self,filepath):\n",
    "        with open(filepath) as f:\n",
    "            metadata = json.load(f)\n",
    "            self.paper_id = metadata['paper_id']\n",
    "            self.title = metadata['metadata']['title']\n",
    "            self.abstract = \"\"\n",
    "            self.body_text = \"\"\n",
    "            \n",
    "            #Abstract\n",
    "            for entry in metadata['abstract']:\n",
    "                self.abstract += str(entry['text'])\n",
    "            \n",
    "\n",
    "            #body_text\n",
    "            for entry in metadata['body_text']:\n",
    "                self.body_text += str(entry['text'])\n",
    "\n",
    "\n",
    "            \n",
    "    def __repr__(self):\n",
    "        return f'Article Object with id: {self.paper_id} \\n title:{self.title} \\n abstract:{self.abstract}'\n",
    "            \n",
    "                       "
   ]
  },
  {
   "cell_type": "code",
   "execution_count": 30,
   "metadata": {},
   "outputs": [],
   "source": [
    "articles = {}\n",
    "for i in range(5):\n",
    "    articles[i] = Article(all_json[i])"
   ]
  },
  {
   "cell_type": "code",
   "execution_count": 31,
   "metadata": {},
   "outputs": [
    {
     "data": {
      "text/plain": [
       "'word count: 194 22 Text word count: 5168 23 24 25 author/funder. All rights reserved. No reuse allowed without permission. Abstract 27 The positive stranded RNA genomes of picornaviruses comprise a single large open reading 28 frame flanked by 5′ and 3′ untranslated regions (UTRs). Foot-and-mouth disease virus (FMDV) 29 has an unusually large 5′ UTR (1.3 kb) containing five structural domains. These include the 30 internal ribosome entry site (IRES), which facilitates initiation of translation, and the cis-acting 31 replication element (cre). Less well characterised structures are a 5′ terminal 360 nucleotide 32 stem-loop, a variable length poly-C-tract of approximately 100-200 nucleotides and a series of 33 two to four tandemly repeated pseudoknots (PKs). We investigated the structures of the PKs 34 by selective 2′ hydroxyl acetylation analysed by primer extension (SHAPE) analysis and 35 determined their contribution to genome replication by mutation and deletion experiments. 36 SHAPE and mutation experiments confirmed the importance of the previously predicted PK 37 structures for their function. Deletion experiments showed that although PKs are not essential 38for replication, they provide genomes with a competitive advantage. However, although 39 replicons and full-length genomes lacking all PKs were replication competent, no infectious 40 virus was rescued from genomes containing less than one PK copy. This is consistent with our 41 earlier report describing the presence of putative packaging signals in the PK region. 42 43 author/funder. All rights reserved. No reuse allowed without permission.'"
      ]
     },
     "execution_count": 31,
     "metadata": {},
     "output_type": "execute_result"
    }
   ],
   "source": [
    "articles[0].abstract"
   ]
  },
  {
   "cell_type": "code",
   "execution_count": 32,
   "metadata": {
    "scrolled": true
   },
   "outputs": [
    {
     "data": {
      "text/plain": [
       "Article Object with id: 00340eea543336d54adda18236424de6a5e91c9d \n",
       " title:Analysis Title: Regaining perspective on SARS-CoV-2 molecular tracing and its implications \n",
       " abstract:During the past three months, a new coronavirus (SARS-CoV-2) epidemic has been growing exponentially, affecting over 100 thousand people worldwide, and causing enormous distress to economies and societies of affected countries. A plethora of analyses based on viral sequences has already been published, in scientific journals as well as through non-peer reviewed channels, to investigate SARS-CoV-2 genetic heterogeneity and spatiotemporal dissemination. We examined all full genome sequences currently available to assess the presence of sufficient information for reliable phylogenetic and phylogeographic studies. Our analysis clearly shows severe limitations in the present data, in light of which any finding should be considered, at the very best, preliminary and hypothesis-generating. Hence the need for avoiding stigmatization based on partial information, and for continuing concerted efforts to increase number and quality of the sequences required for robust tracing of the epidemic.. CC-BY-NC-ND 4.0 International license It is made available under a author/funder, who has granted medRxiv a license to display the preprint in perpetuity.is the (which was not peer-reviewed) The copyright holder for this preprint ."
      ]
     },
     "execution_count": 32,
     "metadata": {},
     "output_type": "execute_result"
    }
   ],
   "source": [
    "articles[1]"
   ]
  },
  {
   "cell_type": "markdown",
   "metadata": {},
   "source": [
    "# Data Cleaning"
   ]
  },
  {
   "cell_type": "markdown",
   "metadata": {},
   "source": [
    "Now that we have explored the structure of the dataset, let us focus on our areas of interest as mentioned earlier: namely the Title, Abstract and the body of the text.\\\n",
    "We know that we can access these for a given paper by scanning the metadata for a paper of choice for its title and abstract, and if we need it, using its `sha` column value to get the full text of the paper."
   ]
  },
  {
   "cell_type": "markdown",
   "metadata": {},
   "source": [
    "First let us clean the metadata by dropping all NA valued rows for the title, sha and abstract columns.\n",
    "\n",
    "[Pandas filter rows](https://stackoverflow.com/questions/17071871/how-to-select-rows-from-a-dataframe-based-on-column-values)"
   ]
  },
  {
   "cell_type": "code",
   "execution_count": 33,
   "metadata": {},
   "outputs": [],
   "source": [
    "bio = meta.loc[meta['source_x'] == 'biorxiv']"
   ]
  },
  {
   "cell_type": "code",
   "execution_count": 34,
   "metadata": {},
   "outputs": [
    {
     "name": "stdout",
     "output_type": "stream",
     "text": [
      "Meta count:52398 biorxiv papers count: 867\n"
     ]
    }
   ],
   "source": [
    "print(f'Meta count:{len(meta)} biorxiv papers count: {len(bio)}')"
   ]
  },
  {
   "cell_type": "code",
   "execution_count": 35,
   "metadata": {},
   "outputs": [],
   "source": [
    "bio_clean = bio.drop_duplicates().dropna()"
   ]
  },
  {
   "cell_type": "code",
   "execution_count": 36,
   "metadata": {},
   "outputs": [
    {
     "data": {
      "text/plain": [
       "0"
      ]
     },
     "execution_count": 36,
     "metadata": {},
     "output_type": "execute_result"
    }
   ],
   "source": [
    "len(bio_clean)"
   ]
  },
  {
   "cell_type": "markdown",
   "metadata": {},
   "source": [
    "Using the above dropna condition doesn't work out,  number of rows in the resulting dataframe is zero.\n",
    "We found a solution Cite: [stack overflow post](https://stackoverflow.com/questions/39241346/pandas-dropna-on-specify-attribute)"
   ]
  },
  {
   "cell_type": "code",
   "execution_count": 37,
   "metadata": {},
   "outputs": [],
   "source": [
    "bio_clean = bio.loc[~(bio.sha.isnull())]"
   ]
  },
  {
   "cell_type": "code",
   "execution_count": 38,
   "metadata": {},
   "outputs": [
    {
     "data": {
      "text/plain": [
       "767"
      ]
     },
     "execution_count": 38,
     "metadata": {},
     "output_type": "execute_result"
    }
   ],
   "source": [
    "len(bio_clean)"
   ]
  },
  {
   "cell_type": "code",
   "execution_count": 39,
   "metadata": {},
   "outputs": [
    {
     "data": {
      "text/html": [
       "<div>\n",
       "<style scoped>\n",
       "    .dataframe tbody tr th:only-of-type {\n",
       "        vertical-align: middle;\n",
       "    }\n",
       "\n",
       "    .dataframe tbody tr th {\n",
       "        vertical-align: top;\n",
       "    }\n",
       "\n",
       "    .dataframe thead th {\n",
       "        text-align: right;\n",
       "    }\n",
       "</style>\n",
       "<table border=\"1\" class=\"dataframe\">\n",
       "  <thead>\n",
       "    <tr style=\"text-align: right;\">\n",
       "      <th></th>\n",
       "      <th>cord_uid</th>\n",
       "      <th>sha</th>\n",
       "      <th>source_x</th>\n",
       "      <th>title</th>\n",
       "      <th>doi</th>\n",
       "      <th>pmcid</th>\n",
       "      <th>pubmed_id</th>\n",
       "      <th>license</th>\n",
       "      <th>abstract</th>\n",
       "      <th>publish_time</th>\n",
       "      <th>authors</th>\n",
       "      <th>journal</th>\n",
       "      <th>Microsoft Academic Paper ID</th>\n",
       "      <th>WHO #Covidence</th>\n",
       "      <th>has_pdf_parse</th>\n",
       "      <th>has_pmc_xml_parse</th>\n",
       "      <th>full_text_file</th>\n",
       "      <th>url</th>\n",
       "    </tr>\n",
       "  </thead>\n",
       "  <tbody>\n",
       "    <tr>\n",
       "      <th>31175</th>\n",
       "      <td>vho70jcx</td>\n",
       "      <td>f056da9c64fbf00a4645ae326e8a4339d015d155</td>\n",
       "      <td>biorxiv</td>\n",
       "      <td>SIANN: Strain Identification by Alignment to N...</td>\n",
       "      <td>10.1101/001727</td>\n",
       "      <td>NaN</td>\n",
       "      <td>NaN</td>\n",
       "      <td>biorxiv</td>\n",
       "      <td>Next-generation sequencing is increasingly bei...</td>\n",
       "      <td>2014-01-10</td>\n",
       "      <td>Samuel Minot; Stephen D Turner; Krista L Ternu...</td>\n",
       "      <td>NaN</td>\n",
       "      <td>NaN</td>\n",
       "      <td>NaN</td>\n",
       "      <td>True</td>\n",
       "      <td>False</td>\n",
       "      <td>biorxiv_medrxiv</td>\n",
       "      <td>https://doi.org/10.1101/001727</td>\n",
       "    </tr>\n",
       "    <tr>\n",
       "      <th>31176</th>\n",
       "      <td>i9tbix2v</td>\n",
       "      <td>daf32e013d325a6feb80e83d15aabc64a48fae33</td>\n",
       "      <td>biorxiv</td>\n",
       "      <td>Spatial epidemiology of networked metapopulati...</td>\n",
       "      <td>10.1101/003889</td>\n",
       "      <td>NaN</td>\n",
       "      <td>NaN</td>\n",
       "      <td>biorxiv</td>\n",
       "      <td>An emerging disease is one infectious epidemic...</td>\n",
       "      <td>2014-06-04</td>\n",
       "      <td>Lin WANG; Xiang Li</td>\n",
       "      <td>NaN</td>\n",
       "      <td>NaN</td>\n",
       "      <td>NaN</td>\n",
       "      <td>True</td>\n",
       "      <td>False</td>\n",
       "      <td>biorxiv_medrxiv</td>\n",
       "      <td>https://doi.org/10.1101/003889</td>\n",
       "    </tr>\n",
       "    <tr>\n",
       "      <th>31177</th>\n",
       "      <td>62gfisc6</td>\n",
       "      <td>f33c6d94b0efaa198f8f3f20e644625fa3fe10d2</td>\n",
       "      <td>biorxiv</td>\n",
       "      <td>Sequencing of the human IG light chain loci fr...</td>\n",
       "      <td>10.1101/006866</td>\n",
       "      <td>NaN</td>\n",
       "      <td>NaN</td>\n",
       "      <td>biorxiv</td>\n",
       "      <td>Germline variation at immunoglobulin gene (IG)...</td>\n",
       "      <td>2014-07-03</td>\n",
       "      <td>Corey T Watson; Karyn Meltz Steinberg; Tina A ...</td>\n",
       "      <td>NaN</td>\n",
       "      <td>NaN</td>\n",
       "      <td>NaN</td>\n",
       "      <td>True</td>\n",
       "      <td>False</td>\n",
       "      <td>biorxiv_medrxiv</td>\n",
       "      <td>https://doi.org/10.1101/006866</td>\n",
       "    </tr>\n",
       "    <tr>\n",
       "      <th>31178</th>\n",
       "      <td>058r9486</td>\n",
       "      <td>4da8a87e614373d56070ed272487451266dce919</td>\n",
       "      <td>biorxiv</td>\n",
       "      <td>Bayesian mixture analysis for metagenomic comm...</td>\n",
       "      <td>10.1101/007476</td>\n",
       "      <td>NaN</td>\n",
       "      <td>NaN</td>\n",
       "      <td>biorxiv</td>\n",
       "      <td>Deep sequencing of clinical samples is now an ...</td>\n",
       "      <td>2014-07-25</td>\n",
       "      <td>Sofia Morfopoulou; Vincent Plagnol</td>\n",
       "      <td>NaN</td>\n",
       "      <td>NaN</td>\n",
       "      <td>NaN</td>\n",
       "      <td>True</td>\n",
       "      <td>False</td>\n",
       "      <td>biorxiv_medrxiv</td>\n",
       "      <td>https://doi.org/10.1101/007476</td>\n",
       "    </tr>\n",
       "    <tr>\n",
       "      <th>31179</th>\n",
       "      <td>wich35l7</td>\n",
       "      <td>eccef80cfbe078235df22398f195d5db462d8000</td>\n",
       "      <td>biorxiv</td>\n",
       "      <td>Mapping a viral phylogeny onto outbreak trees ...</td>\n",
       "      <td>10.1101/010389</td>\n",
       "      <td>NaN</td>\n",
       "      <td>NaN</td>\n",
       "      <td>biorxiv</td>\n",
       "      <td>Developing methods to reconstruct transmission...</td>\n",
       "      <td>2014-11-11</td>\n",
       "      <td>Stephen P Velsko; Jonathan E Allen</td>\n",
       "      <td>NaN</td>\n",
       "      <td>NaN</td>\n",
       "      <td>NaN</td>\n",
       "      <td>True</td>\n",
       "      <td>False</td>\n",
       "      <td>biorxiv_medrxiv</td>\n",
       "      <td>https://doi.org/10.1101/010389</td>\n",
       "    </tr>\n",
       "  </tbody>\n",
       "</table>\n",
       "</div>"
      ],
      "text/plain": [
       "       cord_uid                                       sha source_x  \\\n",
       "31175  vho70jcx  f056da9c64fbf00a4645ae326e8a4339d015d155  biorxiv   \n",
       "31176  i9tbix2v  daf32e013d325a6feb80e83d15aabc64a48fae33  biorxiv   \n",
       "31177  62gfisc6  f33c6d94b0efaa198f8f3f20e644625fa3fe10d2  biorxiv   \n",
       "31178  058r9486  4da8a87e614373d56070ed272487451266dce919  biorxiv   \n",
       "31179  wich35l7  eccef80cfbe078235df22398f195d5db462d8000  biorxiv   \n",
       "\n",
       "                                                   title             doi  \\\n",
       "31175  SIANN: Strain Identification by Alignment to N...  10.1101/001727   \n",
       "31176  Spatial epidemiology of networked metapopulati...  10.1101/003889   \n",
       "31177  Sequencing of the human IG light chain loci fr...  10.1101/006866   \n",
       "31178  Bayesian mixture analysis for metagenomic comm...  10.1101/007476   \n",
       "31179  Mapping a viral phylogeny onto outbreak trees ...  10.1101/010389   \n",
       "\n",
       "      pmcid pubmed_id  license  \\\n",
       "31175   NaN       NaN  biorxiv   \n",
       "31176   NaN       NaN  biorxiv   \n",
       "31177   NaN       NaN  biorxiv   \n",
       "31178   NaN       NaN  biorxiv   \n",
       "31179   NaN       NaN  biorxiv   \n",
       "\n",
       "                                                abstract publish_time  \\\n",
       "31175  Next-generation sequencing is increasingly bei...   2014-01-10   \n",
       "31176  An emerging disease is one infectious epidemic...   2014-06-04   \n",
       "31177  Germline variation at immunoglobulin gene (IG)...   2014-07-03   \n",
       "31178  Deep sequencing of clinical samples is now an ...   2014-07-25   \n",
       "31179  Developing methods to reconstruct transmission...   2014-11-11   \n",
       "\n",
       "                                                 authors journal  \\\n",
       "31175  Samuel Minot; Stephen D Turner; Krista L Ternu...     NaN   \n",
       "31176                                 Lin WANG; Xiang Li     NaN   \n",
       "31177  Corey T Watson; Karyn Meltz Steinberg; Tina A ...     NaN   \n",
       "31178                 Sofia Morfopoulou; Vincent Plagnol     NaN   \n",
       "31179                 Stephen P Velsko; Jonathan E Allen     NaN   \n",
       "\n",
       "      Microsoft Academic Paper ID WHO #Covidence  has_pdf_parse  \\\n",
       "31175                         NaN            NaN           True   \n",
       "31176                         NaN            NaN           True   \n",
       "31177                         NaN            NaN           True   \n",
       "31178                         NaN            NaN           True   \n",
       "31179                         NaN            NaN           True   \n",
       "\n",
       "       has_pmc_xml_parse   full_text_file                             url  \n",
       "31175              False  biorxiv_medrxiv  https://doi.org/10.1101/001727  \n",
       "31176              False  biorxiv_medrxiv  https://doi.org/10.1101/003889  \n",
       "31177              False  biorxiv_medrxiv  https://doi.org/10.1101/006866  \n",
       "31178              False  biorxiv_medrxiv  https://doi.org/10.1101/007476  \n",
       "31179              False  biorxiv_medrxiv  https://doi.org/10.1101/010389  "
      ]
     },
     "execution_count": 39,
     "metadata": {},
     "output_type": "execute_result"
    }
   ],
   "source": [
    "bio_clean.head()"
   ]
  },
  {
   "cell_type": "code",
   "execution_count": 40,
   "metadata": {},
   "outputs": [
    {
     "name": "stdout",
     "output_type": "stream",
     "text": [
      "['biorxiv'] [nan] [nan] [nan] [nan]\n"
     ]
    }
   ],
   "source": [
    "print(bio_clean['source_x'].unique(),\n",
    "bio_clean['pmcid'].unique(),\n",
    "bio_clean['pubmed_id'].unique(),\n",
    "bio_clean['Microsoft Academic Paper ID'].unique(),\n",
    "bio_clean['WHO #Covidence'].unique())"
   ]
  },
  {
   "cell_type": "code",
   "execution_count": 41,
   "metadata": {},
   "outputs": [],
   "source": [
    "bio_slim = bio_clean.drop(['Microsoft Academic Paper ID','WHO #Covidence','pubmed_id','pmcid'], axis = 1)"
   ]
  },
  {
   "cell_type": "code",
   "execution_count": 42,
   "metadata": {},
   "outputs": [],
   "source": [
    "bio_slim = bio_slim.drop(['url','doi','license','full_text_file'],axis =1 )"
   ]
  },
  {
   "cell_type": "code",
   "execution_count": 43,
   "metadata": {},
   "outputs": [],
   "source": [
    "bio_slim = bio_slim[~bio_slim.isin(['False'])]"
   ]
  },
  {
   "cell_type": "markdown",
   "metadata": {},
   "source": [
    "As we had seen at the send of section 2.3, all_json contains the paths of all the json files(i.e. the articles) in it.\n",
    "Now we should load this into a dataframe for it to be queryable"
   ]
  },
  {
   "cell_type": "code",
   "execution_count": 44,
   "metadata": {},
   "outputs": [],
   "source": [
    "for i, j in enumerate(all_json):\n",
    "    #print(i,j)\n",
    "    pass"
   ]
  },
  {
   "cell_type": "code",
   "execution_count": 45,
   "metadata": {},
   "outputs": [
    {
     "name": "stdout",
     "output_type": "stream",
     "text": [
      "Processing 0 of 1934\n",
      " time taken : 0:00:02.042539\n"
     ]
    }
   ],
   "source": [
    "#loaddict = \n",
    "articles = {}\n",
    "start_time = datetime.now()\n",
    "for i,path in enumerate(all_json):\n",
    "    if(i % 5000 == 0):\n",
    "        print(f'Processing {i} of {len(all_json)}')\n",
    "    try:\n",
    "        articles[i] = Article(all_json[i])\n",
    "    except Exception as e:\n",
    "        continue\n",
    "end_time = datetime.now()\n",
    "print(f' time taken : {(end_time  - start_time)}')"
   ]
  },
  {
   "cell_type": "code",
   "execution_count": 46,
   "metadata": {},
   "outputs": [],
   "source": [
    "#print(articles[0].paper_id,\"\\n\\n\",articles[0].abstract,\"\\n\\n\", articles[0].body_text)"
   ]
  },
  {
   "cell_type": "code",
   "execution_count": 47,
   "metadata": {},
   "outputs": [
    {
     "data": {
      "text/plain": [
       "1934"
      ]
     },
     "execution_count": 47,
     "metadata": {},
     "output_type": "execute_result"
    }
   ],
   "source": [
    "len(articles)"
   ]
  },
  {
   "cell_type": "code",
   "execution_count": 48,
   "metadata": {
    "scrolled": true
   },
   "outputs": [],
   "source": [
    "#all_json"
   ]
  },
  {
   "cell_type": "code",
   "execution_count": 49,
   "metadata": {},
   "outputs": [
    {
     "name": "stdout",
     "output_type": "stream",
     "text": [
      "Processing index: 0 of 1934\n",
      "Processing index: 193 of 1934\n",
      "Processing index: 386 of 1934\n",
      "Processing index: 579 of 1934\n",
      "Processing index: 772 of 1934\n",
      "Processing index: 965 of 1934\n",
      "Processing index: 1158 of 1934\n",
      "Processing index: 1351 of 1934\n",
      "Processing index: 1544 of 1934\n",
      "Processing index: 1737 of 1934\n",
      "Processing index: 1930 of 1934\n"
     ]
    },
    {
     "data": {
      "text/html": [
       "<div>\n",
       "<style scoped>\n",
       "    .dataframe tbody tr th:only-of-type {\n",
       "        vertical-align: middle;\n",
       "    }\n",
       "\n",
       "    .dataframe tbody tr th {\n",
       "        vertical-align: top;\n",
       "    }\n",
       "\n",
       "    .dataframe thead th {\n",
       "        text-align: right;\n",
       "    }\n",
       "</style>\n",
       "<table border=\"1\" class=\"dataframe\">\n",
       "  <thead>\n",
       "    <tr style=\"text-align: right;\">\n",
       "      <th></th>\n",
       "      <th>paper_id</th>\n",
       "      <th>abstract</th>\n",
       "      <th>body_text</th>\n",
       "      <th>authors</th>\n",
       "      <th>title</th>\n",
       "    </tr>\n",
       "  </thead>\n",
       "  <tbody>\n",
       "    <tr>\n",
       "      <th>0</th>\n",
       "      <td>0015023cc06b5362d332b3baf348d11567ca2fbb</td>\n",
       "      <td>AbstractThe positive stranded RNA genomes of p...</td>\n",
       "      <td>VP3, and VP0 (which is further processed to VP...</td>\n",
       "      <td>Joseph C. Ward.  Lidia Lasecka-Dykes...</td>\n",
       "      <td>(The RNA pseudoknots in foot-and-mouth disease...</td>\n",
       "    </tr>\n",
       "    <tr>\n",
       "      <th>1</th>\n",
       "      <td>00340eea543336d54adda18236424de6a5e91c9d</td>\n",
       "      <td>During the past three months, a new coronaviru...</td>\n",
       "      <td>In December 2019, a novel coronavirus, SARS-Co...</td>\n",
       "      <td>Carla Mavian.  Simone Marini...</td>\n",
       "      <td>(Regaining perspective on SARS-CoV-2 molecular...</td>\n",
       "    </tr>\n",
       "    <tr>\n",
       "      <th>2</th>\n",
       "      <td>004f0f8bb66cf446678dc13cf2701feec4f36d76</td>\n",
       "      <td>We integrate the human movement and healthcare...</td>\n",
       "      <td>The 2019-nCoV epidemic has spread across China...</td>\n",
       "      <td>Hanchu Zhou.  Jianan Yang...</td>\n",
       "      <td>(Healthcare-resource-adjusted vulnerabilities ...</td>\n",
       "    </tr>\n",
       "    <tr>\n",
       "      <th>3</th>\n",
       "      <td>005d189d5bd7ac01aee65e934fd3d5186a3f7b27</td>\n",
       "      <td>The rapid outbreak of the new Coronavirus (COV...</td>\n",
       "      <td>The outbreak of infectious diseases has always...</td>\n",
       "      <td>Behzad Pirouz.  Amirsina Golmohammadi...</td>\n",
       "      <td>(Relationship between Average Daily Temperatur...</td>\n",
       "    </tr>\n",
       "    <tr>\n",
       "      <th>4</th>\n",
       "      <td>00911cf4f99a3d5ae5e5b787675646a743574496</td>\n",
       "      <td>ABSTRARCTThe fast accumulation of viral metage...</td>\n",
       "      <td>Metagenomic sequencing, which allows us to dir...</td>\n",
       "      <td>Jiayu Shang.  Yanni Sun</td>\n",
       "      <td>(CHEER: hierarCHical taxonomic classification ...</td>\n",
       "    </tr>\n",
       "  </tbody>\n",
       "</table>\n",
       "</div>"
      ],
      "text/plain": [
       "                                   paper_id  \\\n",
       "0  0015023cc06b5362d332b3baf348d11567ca2fbb   \n",
       "1  00340eea543336d54adda18236424de6a5e91c9d   \n",
       "2  004f0f8bb66cf446678dc13cf2701feec4f36d76   \n",
       "3  005d189d5bd7ac01aee65e934fd3d5186a3f7b27   \n",
       "4  00911cf4f99a3d5ae5e5b787675646a743574496   \n",
       "\n",
       "                                            abstract  \\\n",
       "0  AbstractThe positive stranded RNA genomes of p...   \n",
       "1  During the past three months, a new coronaviru...   \n",
       "2  We integrate the human movement and healthcare...   \n",
       "3  The rapid outbreak of the new Coronavirus (COV...   \n",
       "4  ABSTRARCTThe fast accumulation of viral metage...   \n",
       "\n",
       "                                           body_text  \\\n",
       "0  VP3, and VP0 (which is further processed to VP...   \n",
       "1  In December 2019, a novel coronavirus, SARS-Co...   \n",
       "2  The 2019-nCoV epidemic has spread across China...   \n",
       "3  The outbreak of infectious diseases has always...   \n",
       "4  Metagenomic sequencing, which allows us to dir...   \n",
       "\n",
       "                                    authors  \\\n",
       "0   Joseph C. Ward.  Lidia Lasecka-Dykes...   \n",
       "1           Carla Mavian.  Simone Marini...   \n",
       "2              Hanchu Zhou.  Jianan Yang...   \n",
       "3  Behzad Pirouz.  Amirsina Golmohammadi...   \n",
       "4                   Jiayu Shang.  Yanni Sun   \n",
       "\n",
       "                                               title  \n",
       "0  (The RNA pseudoknots in foot-and-mouth disease...  \n",
       "1  (Regaining perspective on SARS-CoV-2 molecular...  \n",
       "2  (Healthcare-resource-adjusted vulnerabilities ...  \n",
       "3  (Relationship between Average Daily Temperatur...  \n",
       "4  (CHEER: hierarCHical taxonomic classification ...  "
      ]
     },
     "execution_count": 49,
     "metadata": {},
     "output_type": "execute_result"
    }
   ],
   "source": [
    "dict_ = {'paper_id': [], 'abstract': [], 'body_text': [], 'authors': [], 'title': []}\n",
    "for idx, entry in enumerate(all_json):\n",
    "    if idx % (len(all_json) // 10) == 0:\n",
    "        print(f'Processing index: {idx} of {len(all_json)}')\n",
    "    \n",
    "    try:\n",
    "        content = Article(entry)\n",
    "    except Exception as e:\n",
    "        continue\n",
    "    \n",
    "    # get metadata information\n",
    "    meta_data = meta.loc[meta['sha'] == content.paper_id]\n",
    "    # no metadata, skip this paper\n",
    "    if len(meta_data) == 0:\n",
    "        continue\n",
    "\n",
    "    dict_['body_text'].append(content.body_text)\n",
    "    \n",
    "       \n",
    "    # get metadata information\n",
    "    meta_data = meta.loc[meta['sha'] == content.paper_id]\n",
    "    \n",
    "    try:\n",
    "        # if more than one author\n",
    "        authors = meta_data['authors'].values[0].split(';')\n",
    "        if len(authors) > 2:\n",
    "            # more than 2 authors, may be problem when plotting, so take first 2 append with ...\n",
    "            dict_['authors'].append(\". \".join(authors[:2]) + \"...\")\n",
    "        else:\n",
    "            # authors will fit in plot\n",
    "            dict_['authors'].append(\". \".join(authors))\n",
    "    except Exception as e:\n",
    "        # if only one author - or Null valie\n",
    "        dict_['authors'].append(meta_data['authors'].values[0])\n",
    "    \n",
    "    # add the title information, add breaks when needed\n",
    "    try:\n",
    "        title = meta_data['title'].values[0], 40\n",
    "        dict_['title'].append(title)\n",
    "    # if title was not provided\n",
    "    except Exception as e:\n",
    "        dict_['title'].append(meta_data['title'].values[0])\n",
    "    \n",
    "       \n",
    "    dict_['paper_id'].append(meta_data['sha'].values[0])\n",
    "    dict_['abstract'].append(meta_data['abstract'].values[0])\n",
    "    \n",
    "df_covid = pd.DataFrame(dict_, columns=['paper_id', 'abstract', 'body_text', 'authors', 'title'])\n",
    "df_covid.head()"
   ]
  },
  {
   "cell_type": "code",
   "execution_count": 50,
   "metadata": {
    "scrolled": true
   },
   "outputs": [
    {
     "name": "stdout",
     "output_type": "stream",
     "text": [
      "1934 1934 1934 1934 1934\n"
     ]
    }
   ],
   "source": [
    "print(len(dict_['paper_id']),len(dict_['abstract']),len(dict_['body_text']),len(dict_['authors']),len(dict_['title']))"
   ]
  },
  {
   "cell_type": "code",
   "execution_count": 51,
   "metadata": {},
   "outputs": [
    {
     "data": {
      "text/plain": [
       "194"
      ]
     },
     "execution_count": 51,
     "metadata": {},
     "output_type": "execute_result"
    }
   ],
   "source": [
    "len(df_covid['abstract'][0].strip().split())"
   ]
  },
  {
   "cell_type": "code",
   "execution_count": 52,
   "metadata": {},
   "outputs": [
    {
     "data": {
      "text/html": [
       "<div>\n",
       "<style scoped>\n",
       "    .dataframe tbody tr th:only-of-type {\n",
       "        vertical-align: middle;\n",
       "    }\n",
       "\n",
       "    .dataframe tbody tr th {\n",
       "        vertical-align: top;\n",
       "    }\n",
       "\n",
       "    .dataframe thead th {\n",
       "        text-align: right;\n",
       "    }\n",
       "</style>\n",
       "<table border=\"1\" class=\"dataframe\">\n",
       "  <thead>\n",
       "    <tr style=\"text-align: right;\">\n",
       "      <th></th>\n",
       "      <th>paper_id</th>\n",
       "      <th>abstract</th>\n",
       "      <th>body_text</th>\n",
       "      <th>authors</th>\n",
       "      <th>title</th>\n",
       "      <th>abstract_word_count</th>\n",
       "      <th>body_word_count</th>\n",
       "    </tr>\n",
       "  </thead>\n",
       "  <tbody>\n",
       "    <tr>\n",
       "      <th>0</th>\n",
       "      <td>0015023cc06b5362d332b3baf348d11567ca2fbb</td>\n",
       "      <td>AbstractThe positive stranded RNA genomes of p...</td>\n",
       "      <td>VP3, and VP0 (which is further processed to VP...</td>\n",
       "      <td>Joseph C. Ward.  Lidia Lasecka-Dykes...</td>\n",
       "      <td>(The RNA pseudoknots in foot-and-mouth disease...</td>\n",
       "      <td>194</td>\n",
       "      <td>1709</td>\n",
       "    </tr>\n",
       "    <tr>\n",
       "      <th>1</th>\n",
       "      <td>00340eea543336d54adda18236424de6a5e91c9d</td>\n",
       "      <td>During the past three months, a new coronaviru...</td>\n",
       "      <td>In December 2019, a novel coronavirus, SARS-Co...</td>\n",
       "      <td>Carla Mavian.  Simone Marini...</td>\n",
       "      <td>(Regaining perspective on SARS-CoV-2 molecular...</td>\n",
       "      <td>138</td>\n",
       "      <td>2487</td>\n",
       "    </tr>\n",
       "    <tr>\n",
       "      <th>2</th>\n",
       "      <td>004f0f8bb66cf446678dc13cf2701feec4f36d76</td>\n",
       "      <td>We integrate the human movement and healthcare...</td>\n",
       "      <td>The 2019-nCoV epidemic has spread across China...</td>\n",
       "      <td>Hanchu Zhou.  Jianan Yang...</td>\n",
       "      <td>(Healthcare-resource-adjusted vulnerabilities ...</td>\n",
       "      <td>34</td>\n",
       "      <td>749</td>\n",
       "    </tr>\n",
       "    <tr>\n",
       "      <th>3</th>\n",
       "      <td>005d189d5bd7ac01aee65e934fd3d5186a3f7b27</td>\n",
       "      <td>The rapid outbreak of the new Coronavirus (COV...</td>\n",
       "      <td>The outbreak of infectious diseases has always...</td>\n",
       "      <td>Behzad Pirouz.  Amirsina Golmohammadi...</td>\n",
       "      <td>(Relationship between Average Daily Temperatur...</td>\n",
       "      <td>249</td>\n",
       "      <td>2791</td>\n",
       "    </tr>\n",
       "    <tr>\n",
       "      <th>4</th>\n",
       "      <td>00911cf4f99a3d5ae5e5b787675646a743574496</td>\n",
       "      <td>ABSTRARCTThe fast accumulation of viral metage...</td>\n",
       "      <td>Metagenomic sequencing, which allows us to dir...</td>\n",
       "      <td>Jiayu Shang.  Yanni Sun</td>\n",
       "      <td>(CHEER: hierarCHical taxonomic classification ...</td>\n",
       "      <td>139</td>\n",
       "      <td>5153</td>\n",
       "    </tr>\n",
       "    <tr>\n",
       "      <th>5</th>\n",
       "      <td>009ceadbb6f9f0d597b9516f0b9ca01e40231aad</td>\n",
       "      <td>Objective: Describe the changes in patient pop...</td>\n",
       "      <td>Since its emergence in December 2019 the novel...</td>\n",
       "      <td>Omar Badawi.  Xinggang Liu...</td>\n",
       "      <td>(Impact of COVID-19 pandemic on severity of il...</td>\n",
       "      <td>292</td>\n",
       "      <td>1409</td>\n",
       "    </tr>\n",
       "    <tr>\n",
       "      <th>6</th>\n",
       "      <td>00d16927588fb04d4be0e6b269fc02f0d3c2aa7b</td>\n",
       "      <td>AbstractInfectious bronchitis (IB) causes sign...</td>\n",
       "      <td>Infectious bronchitis (IB), which is caused by...</td>\n",
       "      <td>Salman L. Butt.  Eric C. Erwood...</td>\n",
       "      <td>(Real-time, MinION-based, amplicon sequencing ...</td>\n",
       "      <td>248</td>\n",
       "      <td>3958</td>\n",
       "    </tr>\n",
       "    <tr>\n",
       "      <th>7</th>\n",
       "      <td>00eb9220dc8cd351393b6b035323d350f103f8c6</td>\n",
       "      <td>Importance: As with other traumatic events, pa...</td>\n",
       "      <td>Evidence from prior pandemics suggests that, a...</td>\n",
       "      <td>Victor M. Castro.  Roy H Perlis</td>\n",
       "      <td>(Impact of COVID-19 on psychiatric assessment ...</td>\n",
       "      <td>246</td>\n",
       "      <td>2103</td>\n",
       "    </tr>\n",
       "    <tr>\n",
       "      <th>8</th>\n",
       "      <td>0109d1273b2d59a099ab66cdad6939d5e7fcb2e8</td>\n",
       "      <td>In severe cases of coronavirus disease 2019 (C...</td>\n",
       "      <td>To date, the coronavirus disease 2019 (COVID-1...</td>\n",
       "      <td>Yu Zuo.  Srilakshmi Yalavarthi...</td>\n",
       "      <td>(Neutrophil extracellular traps (NETs) as mark...</td>\n",
       "      <td>247</td>\n",
       "      <td>2734</td>\n",
       "    </tr>\n",
       "    <tr>\n",
       "      <th>9</th>\n",
       "      <td>0139ea4ca580af99b602c6435368e7fdbefacb03</td>\n",
       "      <td>AbstractBackgroundNipah Virus (NiV) came into ...</td>\n",
       "      <td>Nipah is an infectious negative-sense single-s...</td>\n",
       "      <td>Nishi Kumari.  Ayush Upadhyay...</td>\n",
       "      <td>(A Combined Evidence Approach to Prioritize Ni...</td>\n",
       "      <td>326</td>\n",
       "      <td>2382</td>\n",
       "    </tr>\n",
       "  </tbody>\n",
       "</table>\n",
       "</div>"
      ],
      "text/plain": [
       "                                   paper_id  \\\n",
       "0  0015023cc06b5362d332b3baf348d11567ca2fbb   \n",
       "1  00340eea543336d54adda18236424de6a5e91c9d   \n",
       "2  004f0f8bb66cf446678dc13cf2701feec4f36d76   \n",
       "3  005d189d5bd7ac01aee65e934fd3d5186a3f7b27   \n",
       "4  00911cf4f99a3d5ae5e5b787675646a743574496   \n",
       "5  009ceadbb6f9f0d597b9516f0b9ca01e40231aad   \n",
       "6  00d16927588fb04d4be0e6b269fc02f0d3c2aa7b   \n",
       "7  00eb9220dc8cd351393b6b035323d350f103f8c6   \n",
       "8  0109d1273b2d59a099ab66cdad6939d5e7fcb2e8   \n",
       "9  0139ea4ca580af99b602c6435368e7fdbefacb03   \n",
       "\n",
       "                                            abstract  \\\n",
       "0  AbstractThe positive stranded RNA genomes of p...   \n",
       "1  During the past three months, a new coronaviru...   \n",
       "2  We integrate the human movement and healthcare...   \n",
       "3  The rapid outbreak of the new Coronavirus (COV...   \n",
       "4  ABSTRARCTThe fast accumulation of viral metage...   \n",
       "5  Objective: Describe the changes in patient pop...   \n",
       "6  AbstractInfectious bronchitis (IB) causes sign...   \n",
       "7  Importance: As with other traumatic events, pa...   \n",
       "8  In severe cases of coronavirus disease 2019 (C...   \n",
       "9  AbstractBackgroundNipah Virus (NiV) came into ...   \n",
       "\n",
       "                                           body_text  \\\n",
       "0  VP3, and VP0 (which is further processed to VP...   \n",
       "1  In December 2019, a novel coronavirus, SARS-Co...   \n",
       "2  The 2019-nCoV epidemic has spread across China...   \n",
       "3  The outbreak of infectious diseases has always...   \n",
       "4  Metagenomic sequencing, which allows us to dir...   \n",
       "5  Since its emergence in December 2019 the novel...   \n",
       "6  Infectious bronchitis (IB), which is caused by...   \n",
       "7  Evidence from prior pandemics suggests that, a...   \n",
       "8  To date, the coronavirus disease 2019 (COVID-1...   \n",
       "9  Nipah is an infectious negative-sense single-s...   \n",
       "\n",
       "                                    authors  \\\n",
       "0   Joseph C. Ward.  Lidia Lasecka-Dykes...   \n",
       "1           Carla Mavian.  Simone Marini...   \n",
       "2              Hanchu Zhou.  Jianan Yang...   \n",
       "3  Behzad Pirouz.  Amirsina Golmohammadi...   \n",
       "4                   Jiayu Shang.  Yanni Sun   \n",
       "5             Omar Badawi.  Xinggang Liu...   \n",
       "6        Salman L. Butt.  Eric C. Erwood...   \n",
       "7           Victor M. Castro.  Roy H Perlis   \n",
       "8         Yu Zuo.  Srilakshmi Yalavarthi...   \n",
       "9          Nishi Kumari.  Ayush Upadhyay...   \n",
       "\n",
       "                                               title  abstract_word_count  \\\n",
       "0  (The RNA pseudoknots in foot-and-mouth disease...                  194   \n",
       "1  (Regaining perspective on SARS-CoV-2 molecular...                  138   \n",
       "2  (Healthcare-resource-adjusted vulnerabilities ...                   34   \n",
       "3  (Relationship between Average Daily Temperatur...                  249   \n",
       "4  (CHEER: hierarCHical taxonomic classification ...                  139   \n",
       "5  (Impact of COVID-19 pandemic on severity of il...                  292   \n",
       "6  (Real-time, MinION-based, amplicon sequencing ...                  248   \n",
       "7  (Impact of COVID-19 on psychiatric assessment ...                  246   \n",
       "8  (Neutrophil extracellular traps (NETs) as mark...                  247   \n",
       "9  (A Combined Evidence Approach to Prioritize Ni...                  326   \n",
       "\n",
       "   body_word_count  \n",
       "0             1709  \n",
       "1             2487  \n",
       "2              749  \n",
       "3             2791  \n",
       "4             5153  \n",
       "5             1409  \n",
       "6             3958  \n",
       "7             2103  \n",
       "8             2734  \n",
       "9             2382  "
      ]
     },
     "execution_count": 52,
     "metadata": {},
     "output_type": "execute_result"
    }
   ],
   "source": [
    "df_covid['abstract_word_count'] = df_covid['abstract'].apply(lambda x: len(str(x).strip().split()))\n",
    "df_covid['body_word_count'] = df_covid['body_text'].apply(lambda x: len(str(x).strip().split()))\n",
    "df_covid.head(10)"
   ]
  },
  {
   "cell_type": "code",
   "execution_count": 53,
   "metadata": {},
   "outputs": [
    {
     "name": "stdout",
     "output_type": "stream",
     "text": [
      "<class 'pandas.core.frame.DataFrame'>\n",
      "RangeIndex: 1934 entries, 0 to 1933\n",
      "Data columns (total 7 columns):\n",
      "paper_id               1934 non-null object\n",
      "abstract               1933 non-null object\n",
      "body_text              1934 non-null object\n",
      "authors                1934 non-null object\n",
      "title                  1934 non-null object\n",
      "abstract_word_count    1934 non-null int64\n",
      "body_word_count        1934 non-null int64\n",
      "dtypes: int64(2), object(5)\n",
      "memory usage: 105.8+ KB\n"
     ]
    }
   ],
   "source": [
    "df_covid.info()"
   ]
  },
  {
   "cell_type": "code",
   "execution_count": 54,
   "metadata": {},
   "outputs": [
    {
     "data": {
      "text/plain": [
       "count                                                  1933\n",
       "unique                                                 1932\n",
       "top       Fast testing can help mitigate the coronavirus...\n",
       "freq                                                      2\n",
       "Name: abstract, dtype: object"
      ]
     },
     "execution_count": 54,
     "metadata": {},
     "output_type": "execute_result"
    }
   ],
   "source": [
    "df_covid['abstract'].describe(include='all')"
   ]
  },
  {
   "cell_type": "code",
   "execution_count": 55,
   "metadata": {},
   "outputs": [
    {
     "data": {
      "text/plain": [
       "count                                                  1934\n",
       "unique                                                 1934\n",
       "top       This systematic review and meta-analysis will ...\n",
       "freq                                                      1\n",
       "Name: body_text, dtype: object"
      ]
     },
     "execution_count": 55,
     "metadata": {},
     "output_type": "execute_result"
    }
   ],
   "source": [
    "df_covid['body_text'].describe(include='all')"
   ]
  },
  {
   "cell_type": "markdown",
   "metadata": {},
   "source": [
    "The differencre between the unique count and the total count means that there are some duplicate abstracts.\n",
    "It is also possible that there are blank abstracts that are being counted as the same. "
   ]
  },
  {
   "cell_type": "code",
   "execution_count": 56,
   "metadata": {},
   "outputs": [],
   "source": [
    "df_covid2 = df_covid.copy()"
   ]
  },
  {
   "cell_type": "code",
   "execution_count": 57,
   "metadata": {},
   "outputs": [],
   "source": [
    "df_covid2.drop_duplicates(['body_text'],inplace=True)"
   ]
  },
  {
   "cell_type": "code",
   "execution_count": 58,
   "metadata": {},
   "outputs": [
    {
     "name": "stdout",
     "output_type": "stream",
     "text": [
      "<class 'pandas.core.frame.DataFrame'>\n",
      "Int64Index: 1934 entries, 0 to 1933\n",
      "Data columns (total 7 columns):\n",
      "paper_id               1934 non-null object\n",
      "abstract               1933 non-null object\n",
      "body_text              1934 non-null object\n",
      "authors                1934 non-null object\n",
      "title                  1934 non-null object\n",
      "abstract_word_count    1934 non-null int64\n",
      "body_word_count        1934 non-null int64\n",
      "dtypes: int64(2), object(5)\n",
      "memory usage: 120.9+ KB\n"
     ]
    }
   ],
   "source": [
    "df_covid2.info()"
   ]
  },
  {
   "cell_type": "code",
   "execution_count": 59,
   "metadata": {},
   "outputs": [
    {
     "data": {
      "text/html": [
       "<div>\n",
       "<style scoped>\n",
       "    .dataframe tbody tr th:only-of-type {\n",
       "        vertical-align: middle;\n",
       "    }\n",
       "\n",
       "    .dataframe tbody tr th {\n",
       "        vertical-align: top;\n",
       "    }\n",
       "\n",
       "    .dataframe thead th {\n",
       "        text-align: right;\n",
       "    }\n",
       "</style>\n",
       "<table border=\"1\" class=\"dataframe\">\n",
       "  <thead>\n",
       "    <tr style=\"text-align: right;\">\n",
       "      <th></th>\n",
       "      <th>abstract_word_count</th>\n",
       "      <th>body_word_count</th>\n",
       "    </tr>\n",
       "  </thead>\n",
       "  <tbody>\n",
       "    <tr>\n",
       "      <th>count</th>\n",
       "      <td>1934.000000</td>\n",
       "      <td>1934.000000</td>\n",
       "    </tr>\n",
       "    <tr>\n",
       "      <th>mean</th>\n",
       "      <td>222.068769</td>\n",
       "      <td>2986.755429</td>\n",
       "    </tr>\n",
       "    <tr>\n",
       "      <th>std</th>\n",
       "      <td>92.719230</td>\n",
       "      <td>2207.443432</td>\n",
       "    </tr>\n",
       "    <tr>\n",
       "      <th>min</th>\n",
       "      <td>1.000000</td>\n",
       "      <td>43.000000</td>\n",
       "    </tr>\n",
       "    <tr>\n",
       "      <th>25%</th>\n",
       "      <td>152.000000</td>\n",
       "      <td>1616.750000</td>\n",
       "    </tr>\n",
       "    <tr>\n",
       "      <th>50%</th>\n",
       "      <td>216.000000</td>\n",
       "      <td>2539.000000</td>\n",
       "    </tr>\n",
       "    <tr>\n",
       "      <th>75%</th>\n",
       "      <td>270.000000</td>\n",
       "      <td>3748.500000</td>\n",
       "    </tr>\n",
       "    <tr>\n",
       "      <th>max</th>\n",
       "      <td>678.000000</td>\n",
       "      <td>44519.000000</td>\n",
       "    </tr>\n",
       "  </tbody>\n",
       "</table>\n",
       "</div>"
      ],
      "text/plain": [
       "       abstract_word_count  body_word_count\n",
       "count          1934.000000      1934.000000\n",
       "mean            222.068769      2986.755429\n",
       "std              92.719230      2207.443432\n",
       "min               1.000000        43.000000\n",
       "25%             152.000000      1616.750000\n",
       "50%             216.000000      2539.000000\n",
       "75%             270.000000      3748.500000\n",
       "max             678.000000     44519.000000"
      ]
     },
     "execution_count": 59,
     "metadata": {},
     "output_type": "execute_result"
    }
   ],
   "source": [
    "df_covid2.describe()"
   ]
  },
  {
   "cell_type": "code",
   "execution_count": 60,
   "metadata": {},
   "outputs": [
    {
     "data": {
      "text/html": [
       "<div>\n",
       "<style scoped>\n",
       "    .dataframe tbody tr th:only-of-type {\n",
       "        vertical-align: middle;\n",
       "    }\n",
       "\n",
       "    .dataframe tbody tr th {\n",
       "        vertical-align: top;\n",
       "    }\n",
       "\n",
       "    .dataframe thead th {\n",
       "        text-align: right;\n",
       "    }\n",
       "</style>\n",
       "<table border=\"1\" class=\"dataframe\">\n",
       "  <thead>\n",
       "    <tr style=\"text-align: right;\">\n",
       "      <th></th>\n",
       "      <th>abstract_word_count</th>\n",
       "      <th>body_word_count</th>\n",
       "    </tr>\n",
       "  </thead>\n",
       "  <tbody>\n",
       "    <tr>\n",
       "      <th>count</th>\n",
       "      <td>1934.000000</td>\n",
       "      <td>1934.000000</td>\n",
       "    </tr>\n",
       "    <tr>\n",
       "      <th>mean</th>\n",
       "      <td>222.068769</td>\n",
       "      <td>2986.755429</td>\n",
       "    </tr>\n",
       "    <tr>\n",
       "      <th>std</th>\n",
       "      <td>92.719230</td>\n",
       "      <td>2207.443432</td>\n",
       "    </tr>\n",
       "    <tr>\n",
       "      <th>min</th>\n",
       "      <td>1.000000</td>\n",
       "      <td>43.000000</td>\n",
       "    </tr>\n",
       "    <tr>\n",
       "      <th>25%</th>\n",
       "      <td>152.000000</td>\n",
       "      <td>1616.750000</td>\n",
       "    </tr>\n",
       "    <tr>\n",
       "      <th>50%</th>\n",
       "      <td>216.000000</td>\n",
       "      <td>2539.000000</td>\n",
       "    </tr>\n",
       "    <tr>\n",
       "      <th>75%</th>\n",
       "      <td>270.000000</td>\n",
       "      <td>3748.500000</td>\n",
       "    </tr>\n",
       "    <tr>\n",
       "      <th>max</th>\n",
       "      <td>678.000000</td>\n",
       "      <td>44519.000000</td>\n",
       "    </tr>\n",
       "  </tbody>\n",
       "</table>\n",
       "</div>"
      ],
      "text/plain": [
       "       abstract_word_count  body_word_count\n",
       "count          1934.000000      1934.000000\n",
       "mean            222.068769      2986.755429\n",
       "std              92.719230      2207.443432\n",
       "min               1.000000        43.000000\n",
       "25%             152.000000      1616.750000\n",
       "50%             216.000000      2539.000000\n",
       "75%             270.000000      3748.500000\n",
       "max             678.000000     44519.000000"
      ]
     },
     "execution_count": 60,
     "metadata": {},
     "output_type": "execute_result"
    }
   ],
   "source": [
    "df_covid.describe()"
   ]
  },
  {
   "cell_type": "markdown",
   "metadata": {},
   "source": [
    "We now clean the text data so that our key words are clear and we do not have to worry about details we are not concerned about. [ref1](https://towardsdatascience.com/nlp-text-preprocessing-a-practical-guide-and-template-d80874676e79)  [ref2](https://www.geeksforgeeks.org/text-preprocessing-in-python-set-1/)"
   ]
  },
  {
   "cell_type": "markdown",
   "metadata": {},
   "source": [
    "Firstly By now looking at the abstract columns, we must notice that the text scraped from these articles is not perfect.\n",
    "\n",
    "For example, many of the abstracts start with the word *Abstract* glued to the beginning of the first word of the real abstract body. "
   ]
  },
  {
   "cell_type": "code",
   "execution_count": 61,
   "metadata": {},
   "outputs": [
    {
     "data": {
      "text/html": [
       "<div>\n",
       "<style scoped>\n",
       "    .dataframe tbody tr th:only-of-type {\n",
       "        vertical-align: middle;\n",
       "    }\n",
       "\n",
       "    .dataframe tbody tr th {\n",
       "        vertical-align: top;\n",
       "    }\n",
       "\n",
       "    .dataframe thead th {\n",
       "        text-align: right;\n",
       "    }\n",
       "</style>\n",
       "<table border=\"1\" class=\"dataframe\">\n",
       "  <thead>\n",
       "    <tr style=\"text-align: right;\">\n",
       "      <th></th>\n",
       "      <th>paper_id</th>\n",
       "      <th>abstract</th>\n",
       "      <th>body_text</th>\n",
       "      <th>authors</th>\n",
       "      <th>title</th>\n",
       "      <th>abstract_word_count</th>\n",
       "      <th>body_word_count</th>\n",
       "    </tr>\n",
       "  </thead>\n",
       "  <tbody>\n",
       "    <tr>\n",
       "      <th>0</th>\n",
       "      <td>0015023cc06b5362d332b3baf348d11567ca2fbb</td>\n",
       "      <td>The positive stranded RNA genomes of picornavi...</td>\n",
       "      <td>VP3, and VP0 (which is further processed to VP...</td>\n",
       "      <td>Joseph C. Ward.  Lidia Lasecka-Dykes...</td>\n",
       "      <td>(The RNA pseudoknots in foot-and-mouth disease...</td>\n",
       "      <td>194</td>\n",
       "      <td>1709</td>\n",
       "    </tr>\n",
       "    <tr>\n",
       "      <th>1</th>\n",
       "      <td>00340eea543336d54adda18236424de6a5e91c9d</td>\n",
       "      <td>During the past three months, a new coronaviru...</td>\n",
       "      <td>In December 2019, a novel coronavirus, SARS-Co...</td>\n",
       "      <td>Carla Mavian.  Simone Marini...</td>\n",
       "      <td>(Regaining perspective on SARS-CoV-2 molecular...</td>\n",
       "      <td>138</td>\n",
       "      <td>2487</td>\n",
       "    </tr>\n",
       "    <tr>\n",
       "      <th>2</th>\n",
       "      <td>004f0f8bb66cf446678dc13cf2701feec4f36d76</td>\n",
       "      <td>We integrate the human movement and healthcare...</td>\n",
       "      <td>The 2019-nCoV epidemic has spread across China...</td>\n",
       "      <td>Hanchu Zhou.  Jianan Yang...</td>\n",
       "      <td>(Healthcare-resource-adjusted vulnerabilities ...</td>\n",
       "      <td>34</td>\n",
       "      <td>749</td>\n",
       "    </tr>\n",
       "    <tr>\n",
       "      <th>3</th>\n",
       "      <td>005d189d5bd7ac01aee65e934fd3d5186a3f7b27</td>\n",
       "      <td>The rapid outbreak of the new Coronavirus (COV...</td>\n",
       "      <td>The outbreak of infectious diseases has always...</td>\n",
       "      <td>Behzad Pirouz.  Amirsina Golmohammadi...</td>\n",
       "      <td>(Relationship between Average Daily Temperatur...</td>\n",
       "      <td>249</td>\n",
       "      <td>2791</td>\n",
       "    </tr>\n",
       "    <tr>\n",
       "      <th>4</th>\n",
       "      <td>00911cf4f99a3d5ae5e5b787675646a743574496</td>\n",
       "      <td>ABSTRARCTThe fast accumulation of viral metage...</td>\n",
       "      <td>Metagenomic sequencing, which allows us to dir...</td>\n",
       "      <td>Jiayu Shang.  Yanni Sun</td>\n",
       "      <td>(CHEER: hierarCHical taxonomic classification ...</td>\n",
       "      <td>139</td>\n",
       "      <td>5153</td>\n",
       "    </tr>\n",
       "    <tr>\n",
       "      <th>5</th>\n",
       "      <td>009ceadbb6f9f0d597b9516f0b9ca01e40231aad</td>\n",
       "      <td>Objective: Describe the changes in patient pop...</td>\n",
       "      <td>Since its emergence in December 2019 the novel...</td>\n",
       "      <td>Omar Badawi.  Xinggang Liu...</td>\n",
       "      <td>(Impact of COVID-19 pandemic on severity of il...</td>\n",
       "      <td>292</td>\n",
       "      <td>1409</td>\n",
       "    </tr>\n",
       "    <tr>\n",
       "      <th>6</th>\n",
       "      <td>00d16927588fb04d4be0e6b269fc02f0d3c2aa7b</td>\n",
       "      <td>Infectious bronchitis (IB) causes significant ...</td>\n",
       "      <td>Infectious bronchitis (IB), which is caused by...</td>\n",
       "      <td>Salman L. Butt.  Eric C. Erwood...</td>\n",
       "      <td>(Real-time, MinION-based, amplicon sequencing ...</td>\n",
       "      <td>248</td>\n",
       "      <td>3958</td>\n",
       "    </tr>\n",
       "    <tr>\n",
       "      <th>7</th>\n",
       "      <td>00eb9220dc8cd351393b6b035323d350f103f8c6</td>\n",
       "      <td>Importance: As with other traumatic events, pa...</td>\n",
       "      <td>Evidence from prior pandemics suggests that, a...</td>\n",
       "      <td>Victor M. Castro.  Roy H Perlis</td>\n",
       "      <td>(Impact of COVID-19 on psychiatric assessment ...</td>\n",
       "      <td>246</td>\n",
       "      <td>2103</td>\n",
       "    </tr>\n",
       "    <tr>\n",
       "      <th>8</th>\n",
       "      <td>0109d1273b2d59a099ab66cdad6939d5e7fcb2e8</td>\n",
       "      <td>In severe cases of coronavirus disease 2019 (C...</td>\n",
       "      <td>To date, the coronavirus disease 2019 (COVID-1...</td>\n",
       "      <td>Yu Zuo.  Srilakshmi Yalavarthi...</td>\n",
       "      <td>(Neutrophil extracellular traps (NETs) as mark...</td>\n",
       "      <td>247</td>\n",
       "      <td>2734</td>\n",
       "    </tr>\n",
       "    <tr>\n",
       "      <th>9</th>\n",
       "      <td>0139ea4ca580af99b602c6435368e7fdbefacb03</td>\n",
       "      <td>BackgroundNipah Virus (NiV) came into limeligh...</td>\n",
       "      <td>Nipah is an infectious negative-sense single-s...</td>\n",
       "      <td>Nishi Kumari.  Ayush Upadhyay...</td>\n",
       "      <td>(A Combined Evidence Approach to Prioritize Ni...</td>\n",
       "      <td>326</td>\n",
       "      <td>2382</td>\n",
       "    </tr>\n",
       "  </tbody>\n",
       "</table>\n",
       "</div>"
      ],
      "text/plain": [
       "                                   paper_id  \\\n",
       "0  0015023cc06b5362d332b3baf348d11567ca2fbb   \n",
       "1  00340eea543336d54adda18236424de6a5e91c9d   \n",
       "2  004f0f8bb66cf446678dc13cf2701feec4f36d76   \n",
       "3  005d189d5bd7ac01aee65e934fd3d5186a3f7b27   \n",
       "4  00911cf4f99a3d5ae5e5b787675646a743574496   \n",
       "5  009ceadbb6f9f0d597b9516f0b9ca01e40231aad   \n",
       "6  00d16927588fb04d4be0e6b269fc02f0d3c2aa7b   \n",
       "7  00eb9220dc8cd351393b6b035323d350f103f8c6   \n",
       "8  0109d1273b2d59a099ab66cdad6939d5e7fcb2e8   \n",
       "9  0139ea4ca580af99b602c6435368e7fdbefacb03   \n",
       "\n",
       "                                            abstract  \\\n",
       "0  The positive stranded RNA genomes of picornavi...   \n",
       "1  During the past three months, a new coronaviru...   \n",
       "2  We integrate the human movement and healthcare...   \n",
       "3  The rapid outbreak of the new Coronavirus (COV...   \n",
       "4  ABSTRARCTThe fast accumulation of viral metage...   \n",
       "5  Objective: Describe the changes in patient pop...   \n",
       "6  Infectious bronchitis (IB) causes significant ...   \n",
       "7  Importance: As with other traumatic events, pa...   \n",
       "8  In severe cases of coronavirus disease 2019 (C...   \n",
       "9  BackgroundNipah Virus (NiV) came into limeligh...   \n",
       "\n",
       "                                           body_text  \\\n",
       "0  VP3, and VP0 (which is further processed to VP...   \n",
       "1  In December 2019, a novel coronavirus, SARS-Co...   \n",
       "2  The 2019-nCoV epidemic has spread across China...   \n",
       "3  The outbreak of infectious diseases has always...   \n",
       "4  Metagenomic sequencing, which allows us to dir...   \n",
       "5  Since its emergence in December 2019 the novel...   \n",
       "6  Infectious bronchitis (IB), which is caused by...   \n",
       "7  Evidence from prior pandemics suggests that, a...   \n",
       "8  To date, the coronavirus disease 2019 (COVID-1...   \n",
       "9  Nipah is an infectious negative-sense single-s...   \n",
       "\n",
       "                                    authors  \\\n",
       "0   Joseph C. Ward.  Lidia Lasecka-Dykes...   \n",
       "1           Carla Mavian.  Simone Marini...   \n",
       "2              Hanchu Zhou.  Jianan Yang...   \n",
       "3  Behzad Pirouz.  Amirsina Golmohammadi...   \n",
       "4                   Jiayu Shang.  Yanni Sun   \n",
       "5             Omar Badawi.  Xinggang Liu...   \n",
       "6        Salman L. Butt.  Eric C. Erwood...   \n",
       "7           Victor M. Castro.  Roy H Perlis   \n",
       "8         Yu Zuo.  Srilakshmi Yalavarthi...   \n",
       "9          Nishi Kumari.  Ayush Upadhyay...   \n",
       "\n",
       "                                               title  abstract_word_count  \\\n",
       "0  (The RNA pseudoknots in foot-and-mouth disease...                  194   \n",
       "1  (Regaining perspective on SARS-CoV-2 molecular...                  138   \n",
       "2  (Healthcare-resource-adjusted vulnerabilities ...                   34   \n",
       "3  (Relationship between Average Daily Temperatur...                  249   \n",
       "4  (CHEER: hierarCHical taxonomic classification ...                  139   \n",
       "5  (Impact of COVID-19 pandemic on severity of il...                  292   \n",
       "6  (Real-time, MinION-based, amplicon sequencing ...                  248   \n",
       "7  (Impact of COVID-19 on psychiatric assessment ...                  246   \n",
       "8  (Neutrophil extracellular traps (NETs) as mark...                  247   \n",
       "9  (A Combined Evidence Approach to Prioritize Ni...                  326   \n",
       "\n",
       "   body_word_count  \n",
       "0             1709  \n",
       "1             2487  \n",
       "2              749  \n",
       "3             2791  \n",
       "4             5153  \n",
       "5             1409  \n",
       "6             3958  \n",
       "7             2103  \n",
       "8             2734  \n",
       "9             2382  "
      ]
     },
     "execution_count": 61,
     "metadata": {},
     "output_type": "execute_result"
    }
   ],
   "source": [
    "df_covid2['abstract'] = df_covid2['abstract'].apply(lambda x: str(x).replace('Abstract',''))\n",
    "df_covid2.head(10)"
   ]
  },
  {
   "cell_type": "markdown",
   "metadata": {},
   "source": [
    "Now let us remove all punctuation from text and change it to lowercase"
   ]
  },
  {
   "cell_type": "markdown",
   "metadata": {},
   "source": [
    "# Data Preprocessing"
   ]
  },
  {
   "cell_type": "code",
   "execution_count": 62,
   "metadata": {},
   "outputs": [
    {
     "name": "stdout",
     "output_type": "stream",
     "text": [
      "imported text preprocessing libraries, time taken:0:00:01.261625\n"
     ]
    }
   ],
   "source": [
    "start_time = datetime.now()\n",
    "import nltk \n",
    "import string \n",
    "import re \n",
    "end_time = datetime.now()\n",
    "print(f'imported text preprocessing libraries, time taken:{end_time-start_time}')"
   ]
  },
  {
   "cell_type": "code",
   "execution_count": 63,
   "metadata": {},
   "outputs": [
    {
     "data": {
      "text/html": [
       "<div>\n",
       "<style scoped>\n",
       "    .dataframe tbody tr th:only-of-type {\n",
       "        vertical-align: middle;\n",
       "    }\n",
       "\n",
       "    .dataframe tbody tr th {\n",
       "        vertical-align: top;\n",
       "    }\n",
       "\n",
       "    .dataframe thead th {\n",
       "        text-align: right;\n",
       "    }\n",
       "</style>\n",
       "<table border=\"1\" class=\"dataframe\">\n",
       "  <thead>\n",
       "    <tr style=\"text-align: right;\">\n",
       "      <th></th>\n",
       "      <th>paper_id</th>\n",
       "      <th>abstract</th>\n",
       "      <th>body_text</th>\n",
       "      <th>authors</th>\n",
       "      <th>title</th>\n",
       "      <th>abstract_word_count</th>\n",
       "      <th>body_word_count</th>\n",
       "    </tr>\n",
       "  </thead>\n",
       "  <tbody>\n",
       "    <tr>\n",
       "      <th>0</th>\n",
       "      <td>0015023cc06b5362d332b3baf348d11567ca2fbb</td>\n",
       "      <td>the positive stranded rna genomes of picornavi...</td>\n",
       "      <td>VP3, and VP0 (which is further processed to VP...</td>\n",
       "      <td>Joseph C. Ward.  Lidia Lasecka-Dykes...</td>\n",
       "      <td>(The RNA pseudoknots in foot-and-mouth disease...</td>\n",
       "      <td>194</td>\n",
       "      <td>1709</td>\n",
       "    </tr>\n",
       "    <tr>\n",
       "      <th>1</th>\n",
       "      <td>00340eea543336d54adda18236424de6a5e91c9d</td>\n",
       "      <td>during the past three months, a new coronaviru...</td>\n",
       "      <td>In December 2019, a novel coronavirus, SARS-Co...</td>\n",
       "      <td>Carla Mavian.  Simone Marini...</td>\n",
       "      <td>(Regaining perspective on SARS-CoV-2 molecular...</td>\n",
       "      <td>138</td>\n",
       "      <td>2487</td>\n",
       "    </tr>\n",
       "    <tr>\n",
       "      <th>2</th>\n",
       "      <td>004f0f8bb66cf446678dc13cf2701feec4f36d76</td>\n",
       "      <td>we integrate the human movement and healthcare...</td>\n",
       "      <td>The 2019-nCoV epidemic has spread across China...</td>\n",
       "      <td>Hanchu Zhou.  Jianan Yang...</td>\n",
       "      <td>(Healthcare-resource-adjusted vulnerabilities ...</td>\n",
       "      <td>34</td>\n",
       "      <td>749</td>\n",
       "    </tr>\n",
       "    <tr>\n",
       "      <th>3</th>\n",
       "      <td>005d189d5bd7ac01aee65e934fd3d5186a3f7b27</td>\n",
       "      <td>the rapid outbreak of the new coronavirus (cov...</td>\n",
       "      <td>The outbreak of infectious diseases has always...</td>\n",
       "      <td>Behzad Pirouz.  Amirsina Golmohammadi...</td>\n",
       "      <td>(Relationship between Average Daily Temperatur...</td>\n",
       "      <td>249</td>\n",
       "      <td>2791</td>\n",
       "    </tr>\n",
       "    <tr>\n",
       "      <th>4</th>\n",
       "      <td>00911cf4f99a3d5ae5e5b787675646a743574496</td>\n",
       "      <td>abstrarctthe fast accumulation of viral metage...</td>\n",
       "      <td>Metagenomic sequencing, which allows us to dir...</td>\n",
       "      <td>Jiayu Shang.  Yanni Sun</td>\n",
       "      <td>(CHEER: hierarCHical taxonomic classification ...</td>\n",
       "      <td>139</td>\n",
       "      <td>5153</td>\n",
       "    </tr>\n",
       "  </tbody>\n",
       "</table>\n",
       "</div>"
      ],
      "text/plain": [
       "                                   paper_id  \\\n",
       "0  0015023cc06b5362d332b3baf348d11567ca2fbb   \n",
       "1  00340eea543336d54adda18236424de6a5e91c9d   \n",
       "2  004f0f8bb66cf446678dc13cf2701feec4f36d76   \n",
       "3  005d189d5bd7ac01aee65e934fd3d5186a3f7b27   \n",
       "4  00911cf4f99a3d5ae5e5b787675646a743574496   \n",
       "\n",
       "                                            abstract  \\\n",
       "0  the positive stranded rna genomes of picornavi...   \n",
       "1  during the past three months, a new coronaviru...   \n",
       "2  we integrate the human movement and healthcare...   \n",
       "3  the rapid outbreak of the new coronavirus (cov...   \n",
       "4  abstrarctthe fast accumulation of viral metage...   \n",
       "\n",
       "                                           body_text  \\\n",
       "0  VP3, and VP0 (which is further processed to VP...   \n",
       "1  In December 2019, a novel coronavirus, SARS-Co...   \n",
       "2  The 2019-nCoV epidemic has spread across China...   \n",
       "3  The outbreak of infectious diseases has always...   \n",
       "4  Metagenomic sequencing, which allows us to dir...   \n",
       "\n",
       "                                    authors  \\\n",
       "0   Joseph C. Ward.  Lidia Lasecka-Dykes...   \n",
       "1           Carla Mavian.  Simone Marini...   \n",
       "2              Hanchu Zhou.  Jianan Yang...   \n",
       "3  Behzad Pirouz.  Amirsina Golmohammadi...   \n",
       "4                   Jiayu Shang.  Yanni Sun   \n",
       "\n",
       "                                               title  abstract_word_count  \\\n",
       "0  (The RNA pseudoknots in foot-and-mouth disease...                  194   \n",
       "1  (Regaining perspective on SARS-CoV-2 molecular...                  138   \n",
       "2  (Healthcare-resource-adjusted vulnerabilities ...                   34   \n",
       "3  (Relationship between Average Daily Temperatur...                  249   \n",
       "4  (CHEER: hierarCHical taxonomic classification ...                  139   \n",
       "\n",
       "   body_word_count  \n",
       "0             1709  \n",
       "1             2487  \n",
       "2              749  \n",
       "3             2791  \n",
       "4             5153  "
      ]
     },
     "execution_count": 63,
     "metadata": {},
     "output_type": "execute_result"
    }
   ],
   "source": [
    "df_covid2['abstract'] = df_covid2['abstract'].apply(lambda x: str(x).lower())\n",
    "df_covid2.head()"
   ]
  },
  {
   "cell_type": "code",
   "execution_count": 64,
   "metadata": {},
   "outputs": [
    {
     "data": {
      "text/html": [
       "<div>\n",
       "<style scoped>\n",
       "    .dataframe tbody tr th:only-of-type {\n",
       "        vertical-align: middle;\n",
       "    }\n",
       "\n",
       "    .dataframe tbody tr th {\n",
       "        vertical-align: top;\n",
       "    }\n",
       "\n",
       "    .dataframe thead th {\n",
       "        text-align: right;\n",
       "    }\n",
       "</style>\n",
       "<table border=\"1\" class=\"dataframe\">\n",
       "  <thead>\n",
       "    <tr style=\"text-align: right;\">\n",
       "      <th></th>\n",
       "      <th>paper_id</th>\n",
       "      <th>abstract</th>\n",
       "      <th>body_text</th>\n",
       "      <th>authors</th>\n",
       "      <th>title</th>\n",
       "      <th>abstract_word_count</th>\n",
       "      <th>body_word_count</th>\n",
       "    </tr>\n",
       "  </thead>\n",
       "  <tbody>\n",
       "    <tr>\n",
       "      <th>0</th>\n",
       "      <td>0015023cc06b5362d332b3baf348d11567ca2fbb</td>\n",
       "      <td>the positive stranded rna genomes of picornavi...</td>\n",
       "      <td>vp3, and vp0 (which is further processed to vp...</td>\n",
       "      <td>Joseph C. Ward.  Lidia Lasecka-Dykes...</td>\n",
       "      <td>(The RNA pseudoknots in foot-and-mouth disease...</td>\n",
       "      <td>194</td>\n",
       "      <td>1709</td>\n",
       "    </tr>\n",
       "    <tr>\n",
       "      <th>1</th>\n",
       "      <td>00340eea543336d54adda18236424de6a5e91c9d</td>\n",
       "      <td>during the past three months, a new coronaviru...</td>\n",
       "      <td>in december 2019, a novel coronavirus, sars-co...</td>\n",
       "      <td>Carla Mavian.  Simone Marini...</td>\n",
       "      <td>(Regaining perspective on SARS-CoV-2 molecular...</td>\n",
       "      <td>138</td>\n",
       "      <td>2487</td>\n",
       "    </tr>\n",
       "    <tr>\n",
       "      <th>2</th>\n",
       "      <td>004f0f8bb66cf446678dc13cf2701feec4f36d76</td>\n",
       "      <td>we integrate the human movement and healthcare...</td>\n",
       "      <td>the 2019-ncov epidemic has spread across china...</td>\n",
       "      <td>Hanchu Zhou.  Jianan Yang...</td>\n",
       "      <td>(Healthcare-resource-adjusted vulnerabilities ...</td>\n",
       "      <td>34</td>\n",
       "      <td>749</td>\n",
       "    </tr>\n",
       "    <tr>\n",
       "      <th>3</th>\n",
       "      <td>005d189d5bd7ac01aee65e934fd3d5186a3f7b27</td>\n",
       "      <td>the rapid outbreak of the new coronavirus (cov...</td>\n",
       "      <td>the outbreak of infectious diseases has always...</td>\n",
       "      <td>Behzad Pirouz.  Amirsina Golmohammadi...</td>\n",
       "      <td>(Relationship between Average Daily Temperatur...</td>\n",
       "      <td>249</td>\n",
       "      <td>2791</td>\n",
       "    </tr>\n",
       "    <tr>\n",
       "      <th>4</th>\n",
       "      <td>00911cf4f99a3d5ae5e5b787675646a743574496</td>\n",
       "      <td>abstrarctthe fast accumulation of viral metage...</td>\n",
       "      <td>metagenomic sequencing, which allows us to dir...</td>\n",
       "      <td>Jiayu Shang.  Yanni Sun</td>\n",
       "      <td>(CHEER: hierarCHical taxonomic classification ...</td>\n",
       "      <td>139</td>\n",
       "      <td>5153</td>\n",
       "    </tr>\n",
       "  </tbody>\n",
       "</table>\n",
       "</div>"
      ],
      "text/plain": [
       "                                   paper_id  \\\n",
       "0  0015023cc06b5362d332b3baf348d11567ca2fbb   \n",
       "1  00340eea543336d54adda18236424de6a5e91c9d   \n",
       "2  004f0f8bb66cf446678dc13cf2701feec4f36d76   \n",
       "3  005d189d5bd7ac01aee65e934fd3d5186a3f7b27   \n",
       "4  00911cf4f99a3d5ae5e5b787675646a743574496   \n",
       "\n",
       "                                            abstract  \\\n",
       "0  the positive stranded rna genomes of picornavi...   \n",
       "1  during the past three months, a new coronaviru...   \n",
       "2  we integrate the human movement and healthcare...   \n",
       "3  the rapid outbreak of the new coronavirus (cov...   \n",
       "4  abstrarctthe fast accumulation of viral metage...   \n",
       "\n",
       "                                           body_text  \\\n",
       "0  vp3, and vp0 (which is further processed to vp...   \n",
       "1  in december 2019, a novel coronavirus, sars-co...   \n",
       "2  the 2019-ncov epidemic has spread across china...   \n",
       "3  the outbreak of infectious diseases has always...   \n",
       "4  metagenomic sequencing, which allows us to dir...   \n",
       "\n",
       "                                    authors  \\\n",
       "0   Joseph C. Ward.  Lidia Lasecka-Dykes...   \n",
       "1           Carla Mavian.  Simone Marini...   \n",
       "2              Hanchu Zhou.  Jianan Yang...   \n",
       "3  Behzad Pirouz.  Amirsina Golmohammadi...   \n",
       "4                   Jiayu Shang.  Yanni Sun   \n",
       "\n",
       "                                               title  abstract_word_count  \\\n",
       "0  (The RNA pseudoknots in foot-and-mouth disease...                  194   \n",
       "1  (Regaining perspective on SARS-CoV-2 molecular...                  138   \n",
       "2  (Healthcare-resource-adjusted vulnerabilities ...                   34   \n",
       "3  (Relationship between Average Daily Temperatur...                  249   \n",
       "4  (CHEER: hierarCHical taxonomic classification ...                  139   \n",
       "\n",
       "   body_word_count  \n",
       "0             1709  \n",
       "1             2487  \n",
       "2              749  \n",
       "3             2791  \n",
       "4             5153  "
      ]
     },
     "execution_count": 64,
     "metadata": {},
     "output_type": "execute_result"
    }
   ],
   "source": [
    "df_covid2['body_text'] = df_covid2['body_text'].apply(lambda x: str(x).lower())\n",
    "df_covid2.head()"
   ]
  },
  {
   "cell_type": "code",
   "execution_count": 65,
   "metadata": {},
   "outputs": [
    {
     "name": "stdout",
     "output_type": "stream",
     "text": [
      "Punctuated:\n",
      " during the past three months, a new coronavirus (sars-cov-2) epidemic has been growing exponentially, affecting over 100 thousand people worldwide, and causing enormous distress to economies and societies of affected countries. a plethora of analyses based on viral sequences has already been published, in scientific journals as well as through non-peer reviewed channels, to investigate sars-cov-2 genetic heterogeneity and spatiotemporal dissemination. we examined all full genome sequences currently available to assess the presence of sufficient information for reliable phylogenetic and phylogeographic studies. our analysis clearly shows severe limitations in the present data, in light of which any finding should be considered, at the very best, preliminary and hypothesis-generating. hence the need for avoiding stigmatization based on partial information, and for continuing concerted efforts to increase number and quality of the sequences required for robust tracing of the epidemic. \n",
      "\n",
      "\n",
      "\n",
      "Cleaned:\n",
      " during the past three months a new coronavirus sarscov2 epidemic has been growing exponentially affecting over 100 thousand people worldwide and causing enormous distress to economies and societies of affected countries a plethora of analyses based on viral sequences has already been published in scientific journals as well as through nonpeer reviewed channels to investigate sarscov2 genetic heterogeneity and spatiotemporal dissemination we examined all full genome sequences currently available to assess the presence of sufficient information for reliable phylogenetic and phylogeographic studies our analysis clearly shows severe limitations in the present data in light of which any finding should be considered at the very best preliminary and hypothesisgenerating hence the need for avoiding stigmatization based on partial information and for continuing concerted efforts to increase number and quality of the sequences required for robust tracing of the epidemic\n"
     ]
    }
   ],
   "source": [
    "print(\"Punctuated:\\n\",df_covid2['abstract'][1],'\\n\\n\\n')\n",
    "translator = str.maketrans('','',string.punctuation)\n",
    "print(\"Cleaned:\\n\",df_covid2['abstract'][1].translate(translator))"
   ]
  },
  {
   "cell_type": "code",
   "execution_count": 66,
   "metadata": {},
   "outputs": [
    {
     "data": {
      "text/plain": [
       "'!\"#$%&\\'()*+,-./:;<=>?@[\\\\]^_`{|}~'"
      ]
     },
     "execution_count": 66,
     "metadata": {},
     "output_type": "execute_result"
    }
   ],
   "source": [
    "string.punctuation"
   ]
  },
  {
   "cell_type": "code",
   "execution_count": 67,
   "metadata": {},
   "outputs": [
    {
     "data": {
      "text/html": [
       "<div>\n",
       "<style scoped>\n",
       "    .dataframe tbody tr th:only-of-type {\n",
       "        vertical-align: middle;\n",
       "    }\n",
       "\n",
       "    .dataframe tbody tr th {\n",
       "        vertical-align: top;\n",
       "    }\n",
       "\n",
       "    .dataframe thead th {\n",
       "        text-align: right;\n",
       "    }\n",
       "</style>\n",
       "<table border=\"1\" class=\"dataframe\">\n",
       "  <thead>\n",
       "    <tr style=\"text-align: right;\">\n",
       "      <th></th>\n",
       "      <th>paper_id</th>\n",
       "      <th>abstract</th>\n",
       "      <th>body_text</th>\n",
       "      <th>authors</th>\n",
       "      <th>title</th>\n",
       "      <th>abstract_word_count</th>\n",
       "      <th>body_word_count</th>\n",
       "    </tr>\n",
       "  </thead>\n",
       "  <tbody>\n",
       "    <tr>\n",
       "      <th>0</th>\n",
       "      <td>0015023cc06b5362d332b3baf348d11567ca2fbb</td>\n",
       "      <td>the positive stranded rna genomes of picornavi...</td>\n",
       "      <td>vp3, and vp0 (which is further processed to vp...</td>\n",
       "      <td>Joseph C. Ward.  Lidia Lasecka-Dykes...</td>\n",
       "      <td>(The RNA pseudoknots in foot-and-mouth disease...</td>\n",
       "      <td>194</td>\n",
       "      <td>1709</td>\n",
       "    </tr>\n",
       "    <tr>\n",
       "      <th>1</th>\n",
       "      <td>00340eea543336d54adda18236424de6a5e91c9d</td>\n",
       "      <td>during the past three months a new coronavirus...</td>\n",
       "      <td>in december 2019, a novel coronavirus, sars-co...</td>\n",
       "      <td>Carla Mavian.  Simone Marini...</td>\n",
       "      <td>(Regaining perspective on SARS-CoV-2 molecular...</td>\n",
       "      <td>138</td>\n",
       "      <td>2487</td>\n",
       "    </tr>\n",
       "    <tr>\n",
       "      <th>2</th>\n",
       "      <td>004f0f8bb66cf446678dc13cf2701feec4f36d76</td>\n",
       "      <td>we integrate the human movement and healthcare...</td>\n",
       "      <td>the 2019-ncov epidemic has spread across china...</td>\n",
       "      <td>Hanchu Zhou.  Jianan Yang...</td>\n",
       "      <td>(Healthcare-resource-adjusted vulnerabilities ...</td>\n",
       "      <td>34</td>\n",
       "      <td>749</td>\n",
       "    </tr>\n",
       "    <tr>\n",
       "      <th>3</th>\n",
       "      <td>005d189d5bd7ac01aee65e934fd3d5186a3f7b27</td>\n",
       "      <td>the rapid outbreak of the new coronavirus covi...</td>\n",
       "      <td>the outbreak of infectious diseases has always...</td>\n",
       "      <td>Behzad Pirouz.  Amirsina Golmohammadi...</td>\n",
       "      <td>(Relationship between Average Daily Temperatur...</td>\n",
       "      <td>249</td>\n",
       "      <td>2791</td>\n",
       "    </tr>\n",
       "    <tr>\n",
       "      <th>4</th>\n",
       "      <td>00911cf4f99a3d5ae5e5b787675646a743574496</td>\n",
       "      <td>abstrarctthe fast accumulation of viral metage...</td>\n",
       "      <td>metagenomic sequencing, which allows us to dir...</td>\n",
       "      <td>Jiayu Shang.  Yanni Sun</td>\n",
       "      <td>(CHEER: hierarCHical taxonomic classification ...</td>\n",
       "      <td>139</td>\n",
       "      <td>5153</td>\n",
       "    </tr>\n",
       "  </tbody>\n",
       "</table>\n",
       "</div>"
      ],
      "text/plain": [
       "                                   paper_id  \\\n",
       "0  0015023cc06b5362d332b3baf348d11567ca2fbb   \n",
       "1  00340eea543336d54adda18236424de6a5e91c9d   \n",
       "2  004f0f8bb66cf446678dc13cf2701feec4f36d76   \n",
       "3  005d189d5bd7ac01aee65e934fd3d5186a3f7b27   \n",
       "4  00911cf4f99a3d5ae5e5b787675646a743574496   \n",
       "\n",
       "                                            abstract  \\\n",
       "0  the positive stranded rna genomes of picornavi...   \n",
       "1  during the past three months a new coronavirus...   \n",
       "2  we integrate the human movement and healthcare...   \n",
       "3  the rapid outbreak of the new coronavirus covi...   \n",
       "4  abstrarctthe fast accumulation of viral metage...   \n",
       "\n",
       "                                           body_text  \\\n",
       "0  vp3, and vp0 (which is further processed to vp...   \n",
       "1  in december 2019, a novel coronavirus, sars-co...   \n",
       "2  the 2019-ncov epidemic has spread across china...   \n",
       "3  the outbreak of infectious diseases has always...   \n",
       "4  metagenomic sequencing, which allows us to dir...   \n",
       "\n",
       "                                    authors  \\\n",
       "0   Joseph C. Ward.  Lidia Lasecka-Dykes...   \n",
       "1           Carla Mavian.  Simone Marini...   \n",
       "2              Hanchu Zhou.  Jianan Yang...   \n",
       "3  Behzad Pirouz.  Amirsina Golmohammadi...   \n",
       "4                   Jiayu Shang.  Yanni Sun   \n",
       "\n",
       "                                               title  abstract_word_count  \\\n",
       "0  (The RNA pseudoknots in foot-and-mouth disease...                  194   \n",
       "1  (Regaining perspective on SARS-CoV-2 molecular...                  138   \n",
       "2  (Healthcare-resource-adjusted vulnerabilities ...                   34   \n",
       "3  (Relationship between Average Daily Temperatur...                  249   \n",
       "4  (CHEER: hierarCHical taxonomic classification ...                  139   \n",
       "\n",
       "   body_word_count  \n",
       "0             1709  \n",
       "1             2487  \n",
       "2              749  \n",
       "3             2791  \n",
       "4             5153  "
      ]
     },
     "execution_count": 67,
     "metadata": {},
     "output_type": "execute_result"
    }
   ],
   "source": [
    "df_covid2['abstract'] = df_covid2['abstract'].apply(lambda x: str(x).translate(translator))\n",
    "df_covid2.head()"
   ]
  },
  {
   "cell_type": "code",
   "execution_count": 68,
   "metadata": {},
   "outputs": [
    {
     "data": {
      "text/html": [
       "<div>\n",
       "<style scoped>\n",
       "    .dataframe tbody tr th:only-of-type {\n",
       "        vertical-align: middle;\n",
       "    }\n",
       "\n",
       "    .dataframe tbody tr th {\n",
       "        vertical-align: top;\n",
       "    }\n",
       "\n",
       "    .dataframe thead th {\n",
       "        text-align: right;\n",
       "    }\n",
       "</style>\n",
       "<table border=\"1\" class=\"dataframe\">\n",
       "  <thead>\n",
       "    <tr style=\"text-align: right;\">\n",
       "      <th></th>\n",
       "      <th>paper_id</th>\n",
       "      <th>abstract</th>\n",
       "      <th>body_text</th>\n",
       "      <th>authors</th>\n",
       "      <th>title</th>\n",
       "      <th>abstract_word_count</th>\n",
       "      <th>body_word_count</th>\n",
       "    </tr>\n",
       "  </thead>\n",
       "  <tbody>\n",
       "    <tr>\n",
       "      <th>0</th>\n",
       "      <td>0015023cc06b5362d332b3baf348d11567ca2fbb</td>\n",
       "      <td>the positive stranded rna genomes of picornavi...</td>\n",
       "      <td>vp3 and vp0 which is further processed to vp2 ...</td>\n",
       "      <td>Joseph C. Ward.  Lidia Lasecka-Dykes...</td>\n",
       "      <td>(The RNA pseudoknots in foot-and-mouth disease...</td>\n",
       "      <td>194</td>\n",
       "      <td>1709</td>\n",
       "    </tr>\n",
       "    <tr>\n",
       "      <th>1</th>\n",
       "      <td>00340eea543336d54adda18236424de6a5e91c9d</td>\n",
       "      <td>during the past three months a new coronavirus...</td>\n",
       "      <td>in december 2019 a novel coronavirus sarscov2 ...</td>\n",
       "      <td>Carla Mavian.  Simone Marini...</td>\n",
       "      <td>(Regaining perspective on SARS-CoV-2 molecular...</td>\n",
       "      <td>138</td>\n",
       "      <td>2487</td>\n",
       "    </tr>\n",
       "    <tr>\n",
       "      <th>2</th>\n",
       "      <td>004f0f8bb66cf446678dc13cf2701feec4f36d76</td>\n",
       "      <td>we integrate the human movement and healthcare...</td>\n",
       "      <td>the 2019ncov epidemic has spread across china ...</td>\n",
       "      <td>Hanchu Zhou.  Jianan Yang...</td>\n",
       "      <td>(Healthcare-resource-adjusted vulnerabilities ...</td>\n",
       "      <td>34</td>\n",
       "      <td>749</td>\n",
       "    </tr>\n",
       "    <tr>\n",
       "      <th>3</th>\n",
       "      <td>005d189d5bd7ac01aee65e934fd3d5186a3f7b27</td>\n",
       "      <td>the rapid outbreak of the new coronavirus covi...</td>\n",
       "      <td>the outbreak of infectious diseases has always...</td>\n",
       "      <td>Behzad Pirouz.  Amirsina Golmohammadi...</td>\n",
       "      <td>(Relationship between Average Daily Temperatur...</td>\n",
       "      <td>249</td>\n",
       "      <td>2791</td>\n",
       "    </tr>\n",
       "    <tr>\n",
       "      <th>4</th>\n",
       "      <td>00911cf4f99a3d5ae5e5b787675646a743574496</td>\n",
       "      <td>abstrarctthe fast accumulation of viral metage...</td>\n",
       "      <td>metagenomic sequencing which allows us to dire...</td>\n",
       "      <td>Jiayu Shang.  Yanni Sun</td>\n",
       "      <td>(CHEER: hierarCHical taxonomic classification ...</td>\n",
       "      <td>139</td>\n",
       "      <td>5153</td>\n",
       "    </tr>\n",
       "  </tbody>\n",
       "</table>\n",
       "</div>"
      ],
      "text/plain": [
       "                                   paper_id  \\\n",
       "0  0015023cc06b5362d332b3baf348d11567ca2fbb   \n",
       "1  00340eea543336d54adda18236424de6a5e91c9d   \n",
       "2  004f0f8bb66cf446678dc13cf2701feec4f36d76   \n",
       "3  005d189d5bd7ac01aee65e934fd3d5186a3f7b27   \n",
       "4  00911cf4f99a3d5ae5e5b787675646a743574496   \n",
       "\n",
       "                                            abstract  \\\n",
       "0  the positive stranded rna genomes of picornavi...   \n",
       "1  during the past three months a new coronavirus...   \n",
       "2  we integrate the human movement and healthcare...   \n",
       "3  the rapid outbreak of the new coronavirus covi...   \n",
       "4  abstrarctthe fast accumulation of viral metage...   \n",
       "\n",
       "                                           body_text  \\\n",
       "0  vp3 and vp0 which is further processed to vp2 ...   \n",
       "1  in december 2019 a novel coronavirus sarscov2 ...   \n",
       "2  the 2019ncov epidemic has spread across china ...   \n",
       "3  the outbreak of infectious diseases has always...   \n",
       "4  metagenomic sequencing which allows us to dire...   \n",
       "\n",
       "                                    authors  \\\n",
       "0   Joseph C. Ward.  Lidia Lasecka-Dykes...   \n",
       "1           Carla Mavian.  Simone Marini...   \n",
       "2              Hanchu Zhou.  Jianan Yang...   \n",
       "3  Behzad Pirouz.  Amirsina Golmohammadi...   \n",
       "4                   Jiayu Shang.  Yanni Sun   \n",
       "\n",
       "                                               title  abstract_word_count  \\\n",
       "0  (The RNA pseudoknots in foot-and-mouth disease...                  194   \n",
       "1  (Regaining perspective on SARS-CoV-2 molecular...                  138   \n",
       "2  (Healthcare-resource-adjusted vulnerabilities ...                   34   \n",
       "3  (Relationship between Average Daily Temperatur...                  249   \n",
       "4  (CHEER: hierarCHical taxonomic classification ...                  139   \n",
       "\n",
       "   body_word_count  \n",
       "0             1709  \n",
       "1             2487  \n",
       "2              749  \n",
       "3             2791  \n",
       "4             5153  "
      ]
     },
     "execution_count": 68,
     "metadata": {},
     "output_type": "execute_result"
    }
   ],
   "source": [
    "df_covid2['body_text'] = df_covid2['body_text'].apply(lambda x: str(x).translate(translator))\n",
    "df_covid2.head()"
   ]
  },
  {
   "cell_type": "code",
   "execution_count": 69,
   "metadata": {},
   "outputs": [
    {
     "data": {
      "text/html": [
       "<div>\n",
       "<style scoped>\n",
       "    .dataframe tbody tr th:only-of-type {\n",
       "        vertical-align: middle;\n",
       "    }\n",
       "\n",
       "    .dataframe tbody tr th {\n",
       "        vertical-align: top;\n",
       "    }\n",
       "\n",
       "    .dataframe thead th {\n",
       "        text-align: right;\n",
       "    }\n",
       "</style>\n",
       "<table border=\"1\" class=\"dataframe\">\n",
       "  <thead>\n",
       "    <tr style=\"text-align: right;\">\n",
       "      <th></th>\n",
       "      <th>abstract</th>\n",
       "    </tr>\n",
       "  </thead>\n",
       "  <tbody>\n",
       "    <tr>\n",
       "      <th>0</th>\n",
       "      <td>the positive stranded rna genomes of picornavi...</td>\n",
       "    </tr>\n",
       "    <tr>\n",
       "      <th>1</th>\n",
       "      <td>during the past three months a new coronavirus...</td>\n",
       "    </tr>\n",
       "    <tr>\n",
       "      <th>2</th>\n",
       "      <td>we integrate the human movement and healthcare...</td>\n",
       "    </tr>\n",
       "    <tr>\n",
       "      <th>3</th>\n",
       "      <td>the rapid outbreak of the new coronavirus covi...</td>\n",
       "    </tr>\n",
       "    <tr>\n",
       "      <th>4</th>\n",
       "      <td>abstrarctthe fast accumulation of viral metage...</td>\n",
       "    </tr>\n",
       "  </tbody>\n",
       "</table>\n",
       "</div>"
      ],
      "text/plain": [
       "                                            abstract\n",
       "0  the positive stranded rna genomes of picornavi...\n",
       "1  during the past three months a new coronavirus...\n",
       "2  we integrate the human movement and healthcare...\n",
       "3  the rapid outbreak of the new coronavirus covi...\n",
       "4  abstrarctthe fast accumulation of viral metage..."
      ]
     },
     "execution_count": 69,
     "metadata": {},
     "output_type": "execute_result"
    }
   ],
   "source": [
    "abstracts = df_covid2.drop([\"paper_id\",\"body_text\", \"abstract_word_count\", \"body_word_count\", \"authors\", \"title\"], axis=1)\n",
    "abstracts.head()"
   ]
  },
  {
   "cell_type": "code",
   "execution_count": 70,
   "metadata": {},
   "outputs": [
    {
     "data": {
      "text/html": [
       "<div>\n",
       "<style scoped>\n",
       "    .dataframe tbody tr th:only-of-type {\n",
       "        vertical-align: middle;\n",
       "    }\n",
       "\n",
       "    .dataframe tbody tr th {\n",
       "        vertical-align: top;\n",
       "    }\n",
       "\n",
       "    .dataframe thead th {\n",
       "        text-align: right;\n",
       "    }\n",
       "</style>\n",
       "<table border=\"1\" class=\"dataframe\">\n",
       "  <thead>\n",
       "    <tr style=\"text-align: right;\">\n",
       "      <th></th>\n",
       "      <th>body_text</th>\n",
       "    </tr>\n",
       "  </thead>\n",
       "  <tbody>\n",
       "    <tr>\n",
       "      <th>0</th>\n",
       "      <td>vp3 and vp0 which is further processed to vp2 ...</td>\n",
       "    </tr>\n",
       "    <tr>\n",
       "      <th>1</th>\n",
       "      <td>in december 2019 a novel coronavirus sarscov2 ...</td>\n",
       "    </tr>\n",
       "    <tr>\n",
       "      <th>2</th>\n",
       "      <td>the 2019ncov epidemic has spread across china ...</td>\n",
       "    </tr>\n",
       "    <tr>\n",
       "      <th>3</th>\n",
       "      <td>the outbreak of infectious diseases has always...</td>\n",
       "    </tr>\n",
       "    <tr>\n",
       "      <th>4</th>\n",
       "      <td>metagenomic sequencing which allows us to dire...</td>\n",
       "    </tr>\n",
       "  </tbody>\n",
       "</table>\n",
       "</div>"
      ],
      "text/plain": [
       "                                           body_text\n",
       "0  vp3 and vp0 which is further processed to vp2 ...\n",
       "1  in december 2019 a novel coronavirus sarscov2 ...\n",
       "2  the 2019ncov epidemic has spread across china ...\n",
       "3  the outbreak of infectious diseases has always...\n",
       "4  metagenomic sequencing which allows us to dire..."
      ]
     },
     "execution_count": 70,
     "metadata": {},
     "output_type": "execute_result"
    }
   ],
   "source": [
    "bodytexts = df_covid2.drop([\"paper_id\",\"abstract\", \"abstract_word_count\", \"body_word_count\", \"authors\", \"title\"], axis=1)\n",
    "bodytexts.head()"
   ]
  },
  {
   "cell_type": "markdown",
   "metadata": {},
   "source": [
    "### TODO: Clean first word dirty data"
   ]
  },
  {
   "cell_type": "code",
   "execution_count": 71,
   "metadata": {},
   "outputs": [],
   "source": [
    "tempdf = pd.DataFrame(abstracts['abstract'].apply(lambda x:  (str(x).split())[0] if x != \"\" else x))\n",
    "#print(tempdf.to_string())"
   ]
  },
  {
   "cell_type": "code",
   "execution_count": 72,
   "metadata": {},
   "outputs": [
    {
     "data": {
      "text/html": [
       "<div>\n",
       "<style scoped>\n",
       "    .dataframe tbody tr th:only-of-type {\n",
       "        vertical-align: middle;\n",
       "    }\n",
       "\n",
       "    .dataframe tbody tr th {\n",
       "        vertical-align: top;\n",
       "    }\n",
       "\n",
       "    .dataframe thead th {\n",
       "        text-align: right;\n",
       "    }\n",
       "</style>\n",
       "<table border=\"1\" class=\"dataframe\">\n",
       "  <thead>\n",
       "    <tr style=\"text-align: right;\">\n",
       "      <th></th>\n",
       "      <th>abstract</th>\n",
       "      <th>first_word</th>\n",
       "    </tr>\n",
       "  </thead>\n",
       "  <tbody>\n",
       "    <tr>\n",
       "      <th>0</th>\n",
       "      <td>the</td>\n",
       "      <td>3</td>\n",
       "    </tr>\n",
       "    <tr>\n",
       "      <th>1</th>\n",
       "      <td>during</td>\n",
       "      <td>6</td>\n",
       "    </tr>\n",
       "    <tr>\n",
       "      <th>2</th>\n",
       "      <td>we</td>\n",
       "      <td>2</td>\n",
       "    </tr>\n",
       "    <tr>\n",
       "      <th>3</th>\n",
       "      <td>the</td>\n",
       "      <td>3</td>\n",
       "    </tr>\n",
       "    <tr>\n",
       "      <th>4</th>\n",
       "      <td>abstrarctthe</td>\n",
       "      <td>12</td>\n",
       "    </tr>\n",
       "  </tbody>\n",
       "</table>\n",
       "</div>"
      ],
      "text/plain": [
       "       abstract  first_word\n",
       "0           the           3\n",
       "1        during           6\n",
       "2            we           2\n",
       "3           the           3\n",
       "4  abstrarctthe          12"
      ]
     },
     "execution_count": 72,
     "metadata": {},
     "output_type": "execute_result"
    }
   ],
   "source": [
    "tempdf['first_word'] = tempdf['abstract'].apply(lambda x: len(str(x)))\n",
    "tempdf.head()"
   ]
  },
  {
   "cell_type": "code",
   "execution_count": 73,
   "metadata": {},
   "outputs": [
    {
     "data": {
      "text/html": [
       "<div>\n",
       "<style scoped>\n",
       "    .dataframe tbody tr th:only-of-type {\n",
       "        vertical-align: middle;\n",
       "    }\n",
       "\n",
       "    .dataframe tbody tr th {\n",
       "        vertical-align: top;\n",
       "    }\n",
       "\n",
       "    .dataframe thead th {\n",
       "        text-align: right;\n",
       "    }\n",
       "</style>\n",
       "<table border=\"1\" class=\"dataframe\">\n",
       "  <thead>\n",
       "    <tr style=\"text-align: right;\">\n",
       "      <th></th>\n",
       "      <th>abstract</th>\n",
       "      <th>first_word</th>\n",
       "    </tr>\n",
       "  </thead>\n",
       "  <tbody>\n",
       "    <tr>\n",
       "      <th>4</th>\n",
       "      <td>abstrarctthe</td>\n",
       "      <td>12</td>\n",
       "    </tr>\n",
       "    <tr>\n",
       "      <th>5</th>\n",
       "      <td>objective</td>\n",
       "      <td>9</td>\n",
       "    </tr>\n",
       "    <tr>\n",
       "      <th>6</th>\n",
       "      <td>infectious</td>\n",
       "      <td>10</td>\n",
       "    </tr>\n",
       "    <tr>\n",
       "      <th>7</th>\n",
       "      <td>importance</td>\n",
       "      <td>10</td>\n",
       "    </tr>\n",
       "    <tr>\n",
       "      <th>9</th>\n",
       "      <td>backgroundnipah</td>\n",
       "      <td>15</td>\n",
       "    </tr>\n",
       "    <tr>\n",
       "      <th>10</th>\n",
       "      <td>background</td>\n",
       "      <td>10</td>\n",
       "    </tr>\n",
       "    <tr>\n",
       "      <th>11</th>\n",
       "      <td>background</td>\n",
       "      <td>10</td>\n",
       "    </tr>\n",
       "    <tr>\n",
       "      <th>12</th>\n",
       "      <td>introduction</td>\n",
       "      <td>12</td>\n",
       "    </tr>\n",
       "    <tr>\n",
       "      <th>16</th>\n",
       "      <td>posttranscriptional</td>\n",
       "      <td>19</td>\n",
       "    </tr>\n",
       "    <tr>\n",
       "      <th>17</th>\n",
       "      <td>abstractduring</td>\n",
       "      <td>14</td>\n",
       "    </tr>\n",
       "    <tr>\n",
       "      <th>20</th>\n",
       "      <td>abstracthuman</td>\n",
       "      <td>13</td>\n",
       "    </tr>\n",
       "    <tr>\n",
       "      <th>21</th>\n",
       "      <td>abstractribosomal</td>\n",
       "      <td>17</td>\n",
       "    </tr>\n",
       "    <tr>\n",
       "      <th>23</th>\n",
       "      <td>background</td>\n",
       "      <td>10</td>\n",
       "    </tr>\n",
       "    <tr>\n",
       "      <th>25</th>\n",
       "      <td>summarythe</td>\n",
       "      <td>10</td>\n",
       "    </tr>\n",
       "    <tr>\n",
       "      <th>27</th>\n",
       "      <td>herewith</td>\n",
       "      <td>8</td>\n",
       "    </tr>\n",
       "    <tr>\n",
       "      <th>29</th>\n",
       "      <td>background</td>\n",
       "      <td>10</td>\n",
       "    </tr>\n",
       "    <tr>\n",
       "      <th>30</th>\n",
       "      <td>abstractthe</td>\n",
       "      <td>11</td>\n",
       "    </tr>\n",
       "    <tr>\n",
       "      <th>31</th>\n",
       "      <td>background</td>\n",
       "      <td>10</td>\n",
       "    </tr>\n",
       "    <tr>\n",
       "      <th>33</th>\n",
       "      <td>background</td>\n",
       "      <td>10</td>\n",
       "    </tr>\n",
       "    <tr>\n",
       "      <th>34</th>\n",
       "      <td>abstractmotivationlongread</td>\n",
       "      <td>26</td>\n",
       "    </tr>\n",
       "    <tr>\n",
       "      <th>35</th>\n",
       "      <td>abstractto</td>\n",
       "      <td>10</td>\n",
       "    </tr>\n",
       "    <tr>\n",
       "      <th>36</th>\n",
       "      <td>2019ncov</td>\n",
       "      <td>8</td>\n",
       "    </tr>\n",
       "    <tr>\n",
       "      <th>45</th>\n",
       "      <td>background</td>\n",
       "      <td>10</td>\n",
       "    </tr>\n",
       "    <tr>\n",
       "      <th>46</th>\n",
       "      <td>infection</td>\n",
       "      <td>9</td>\n",
       "    </tr>\n",
       "    <tr>\n",
       "      <th>53</th>\n",
       "      <td>summarymany</td>\n",
       "      <td>11</td>\n",
       "    </tr>\n",
       "    <tr>\n",
       "      <th>57</th>\n",
       "      <td>background</td>\n",
       "      <td>10</td>\n",
       "    </tr>\n",
       "    <tr>\n",
       "      <th>58</th>\n",
       "      <td>quantification</td>\n",
       "      <td>14</td>\n",
       "    </tr>\n",
       "    <tr>\n",
       "      <th>60</th>\n",
       "      <td>background</td>\n",
       "      <td>10</td>\n",
       "    </tr>\n",
       "    <tr>\n",
       "      <th>62</th>\n",
       "      <td>background</td>\n",
       "      <td>10</td>\n",
       "    </tr>\n",
       "    <tr>\n",
       "      <th>63</th>\n",
       "      <td>motivationunderstanding</td>\n",
       "      <td>23</td>\n",
       "    </tr>\n",
       "    <tr>\n",
       "      <th>...</th>\n",
       "      <td>...</td>\n",
       "      <td>...</td>\n",
       "    </tr>\n",
       "    <tr>\n",
       "      <th>1861</th>\n",
       "      <td>polyomaviruses</td>\n",
       "      <td>14</td>\n",
       "    </tr>\n",
       "    <tr>\n",
       "      <th>1863</th>\n",
       "      <td>introduction</td>\n",
       "      <td>12</td>\n",
       "    </tr>\n",
       "    <tr>\n",
       "      <th>1864</th>\n",
       "      <td>background</td>\n",
       "      <td>10</td>\n",
       "    </tr>\n",
       "    <tr>\n",
       "      <th>1865</th>\n",
       "      <td>background</td>\n",
       "      <td>10</td>\n",
       "    </tr>\n",
       "    <tr>\n",
       "      <th>1866</th>\n",
       "      <td>traditionally</td>\n",
       "      <td>13</td>\n",
       "    </tr>\n",
       "    <tr>\n",
       "      <th>1868</th>\n",
       "      <td>background</td>\n",
       "      <td>10</td>\n",
       "    </tr>\n",
       "    <tr>\n",
       "      <th>1869</th>\n",
       "      <td>background</td>\n",
       "      <td>10</td>\n",
       "    </tr>\n",
       "    <tr>\n",
       "      <th>1872</th>\n",
       "      <td>enterovirus</td>\n",
       "      <td>11</td>\n",
       "    </tr>\n",
       "    <tr>\n",
       "      <th>1875</th>\n",
       "      <td>motivation</td>\n",
       "      <td>10</td>\n",
       "    </tr>\n",
       "    <tr>\n",
       "      <th>1876</th>\n",
       "      <td>abstractnew</td>\n",
       "      <td>11</td>\n",
       "    </tr>\n",
       "    <tr>\n",
       "      <th>1877</th>\n",
       "      <td>previously</td>\n",
       "      <td>10</td>\n",
       "    </tr>\n",
       "    <tr>\n",
       "      <th>1878</th>\n",
       "      <td>sarscov2</td>\n",
       "      <td>8</td>\n",
       "    </tr>\n",
       "    <tr>\n",
       "      <th>1881</th>\n",
       "      <td>abstractzika</td>\n",
       "      <td>12</td>\n",
       "    </tr>\n",
       "    <tr>\n",
       "      <th>1883</th>\n",
       "      <td>background</td>\n",
       "      <td>10</td>\n",
       "    </tr>\n",
       "    <tr>\n",
       "      <th>1887</th>\n",
       "      <td>abstractthe</td>\n",
       "      <td>11</td>\n",
       "    </tr>\n",
       "    <tr>\n",
       "      <th>1889</th>\n",
       "      <td>background</td>\n",
       "      <td>10</td>\n",
       "    </tr>\n",
       "    <tr>\n",
       "      <th>1892</th>\n",
       "      <td>objectives</td>\n",
       "      <td>10</td>\n",
       "    </tr>\n",
       "    <tr>\n",
       "      <th>1894</th>\n",
       "      <td>background</td>\n",
       "      <td>10</td>\n",
       "    </tr>\n",
       "    <tr>\n",
       "      <th>1899</th>\n",
       "      <td>coronavirus</td>\n",
       "      <td>11</td>\n",
       "    </tr>\n",
       "    <tr>\n",
       "      <th>1902</th>\n",
       "      <td>abstractschizophrenia</td>\n",
       "      <td>21</td>\n",
       "    </tr>\n",
       "    <tr>\n",
       "      <th>1908</th>\n",
       "      <td>influenza</td>\n",
       "      <td>9</td>\n",
       "    </tr>\n",
       "    <tr>\n",
       "      <th>1909</th>\n",
       "      <td>background</td>\n",
       "      <td>10</td>\n",
       "    </tr>\n",
       "    <tr>\n",
       "      <th>1910</th>\n",
       "      <td>introductioncryptococcosis</td>\n",
       "      <td>26</td>\n",
       "    </tr>\n",
       "    <tr>\n",
       "      <th>1911</th>\n",
       "      <td>abstractformation</td>\n",
       "      <td>17</td>\n",
       "    </tr>\n",
       "    <tr>\n",
       "      <th>1913</th>\n",
       "      <td>abstractpositivesense</td>\n",
       "      <td>21</td>\n",
       "    </tr>\n",
       "    <tr>\n",
       "      <th>1922</th>\n",
       "      <td>introduction</td>\n",
       "      <td>12</td>\n",
       "    </tr>\n",
       "    <tr>\n",
       "      <th>1924</th>\n",
       "      <td>background</td>\n",
       "      <td>10</td>\n",
       "    </tr>\n",
       "    <tr>\n",
       "      <th>1925</th>\n",
       "      <td>abstractcurrent</td>\n",
       "      <td>15</td>\n",
       "    </tr>\n",
       "    <tr>\n",
       "      <th>1926</th>\n",
       "      <td>abstractextracellular</td>\n",
       "      <td>21</td>\n",
       "    </tr>\n",
       "    <tr>\n",
       "      <th>1931</th>\n",
       "      <td>summarycoronaviruses</td>\n",
       "      <td>20</td>\n",
       "    </tr>\n",
       "  </tbody>\n",
       "</table>\n",
       "<p>919 rows × 2 columns</p>\n",
       "</div>"
      ],
      "text/plain": [
       "                        abstract  first_word\n",
       "4                   abstrarctthe          12\n",
       "5                      objective           9\n",
       "6                     infectious          10\n",
       "7                     importance          10\n",
       "9                backgroundnipah          15\n",
       "10                    background          10\n",
       "11                    background          10\n",
       "12                  introduction          12\n",
       "16           posttranscriptional          19\n",
       "17                abstractduring          14\n",
       "20                 abstracthuman          13\n",
       "21             abstractribosomal          17\n",
       "23                    background          10\n",
       "25                    summarythe          10\n",
       "27                      herewith           8\n",
       "29                    background          10\n",
       "30                   abstractthe          11\n",
       "31                    background          10\n",
       "33                    background          10\n",
       "34    abstractmotivationlongread          26\n",
       "35                    abstractto          10\n",
       "36                      2019ncov           8\n",
       "45                    background          10\n",
       "46                     infection           9\n",
       "53                   summarymany          11\n",
       "57                    background          10\n",
       "58                quantification          14\n",
       "60                    background          10\n",
       "62                    background          10\n",
       "63       motivationunderstanding          23\n",
       "...                          ...         ...\n",
       "1861              polyomaviruses          14\n",
       "1863                introduction          12\n",
       "1864                  background          10\n",
       "1865                  background          10\n",
       "1866               traditionally          13\n",
       "1868                  background          10\n",
       "1869                  background          10\n",
       "1872                 enterovirus          11\n",
       "1875                  motivation          10\n",
       "1876                 abstractnew          11\n",
       "1877                  previously          10\n",
       "1878                    sarscov2           8\n",
       "1881                abstractzika          12\n",
       "1883                  background          10\n",
       "1887                 abstractthe          11\n",
       "1889                  background          10\n",
       "1892                  objectives          10\n",
       "1894                  background          10\n",
       "1899                 coronavirus          11\n",
       "1902       abstractschizophrenia          21\n",
       "1908                   influenza           9\n",
       "1909                  background          10\n",
       "1910  introductioncryptococcosis          26\n",
       "1911           abstractformation          17\n",
       "1913       abstractpositivesense          21\n",
       "1922                introduction          12\n",
       "1924                  background          10\n",
       "1925             abstractcurrent          15\n",
       "1926       abstractextracellular          21\n",
       "1931        summarycoronaviruses          20\n",
       "\n",
       "[919 rows x 2 columns]"
      ]
     },
     "execution_count": 73,
     "metadata": {},
     "output_type": "execute_result"
    }
   ],
   "source": [
    "tempdf[tempdf['first_word'] > 7]"
   ]
  },
  {
   "cell_type": "code",
   "execution_count": 74,
   "metadata": {},
   "outputs": [
    {
     "data": {
      "text/plain": [
       "0       False\n",
       "1        True\n",
       "2       False\n",
       "3       False\n",
       "4        True\n",
       "5       False\n",
       "6        True\n",
       "7        True\n",
       "8       False\n",
       "9        True\n",
       "10       True\n",
       "11       True\n",
       "12       True\n",
       "13      False\n",
       "14       True\n",
       "15      False\n",
       "16       True\n",
       "17       True\n",
       "18      False\n",
       "19       True\n",
       "20       True\n",
       "21       True\n",
       "22      False\n",
       "23       True\n",
       "24      False\n",
       "25       True\n",
       "26      False\n",
       "27      False\n",
       "28      False\n",
       "29       True\n",
       "        ...  \n",
       "1904    False\n",
       "1905    False\n",
       "1906    False\n",
       "1907    False\n",
       "1908    False\n",
       "1909     True\n",
       "1910     True\n",
       "1911     True\n",
       "1912    False\n",
       "1913     True\n",
       "1914    False\n",
       "1915    False\n",
       "1916    False\n",
       "1917    False\n",
       "1918    False\n",
       "1919    False\n",
       "1920    False\n",
       "1921    False\n",
       "1922     True\n",
       "1923    False\n",
       "1924     True\n",
       "1925     True\n",
       "1926     True\n",
       "1927    False\n",
       "1928     True\n",
       "1929    False\n",
       "1930     True\n",
       "1931     True\n",
       "1932    False\n",
       "1933    False\n",
       "Name: abstract, Length: 1934, dtype: bool"
      ]
     },
     "execution_count": 74,
     "metadata": {},
     "output_type": "execute_result"
    }
   ],
   "source": [
    "pattern = r'[background][summary][abstract]'\n",
    "tempdf['abstract'].str.contains(pattern)"
   ]
  },
  {
   "cell_type": "markdown",
   "metadata": {},
   "source": [
    "### END TODO"
   ]
  },
  {
   "cell_type": "markdown",
   "metadata": {},
   "source": [
    "## Forming n-grams"
   ]
  },
  {
   "cell_type": "markdown",
   "metadata": {},
   "source": [
    "# Word Cloud of Abstracts"
   ]
  },
  {
   "cell_type": "markdown",
   "metadata": {},
   "source": [
    "# Vectorize with HashingVectorizer"
   ]
  },
  {
   "cell_type": "code",
   "execution_count": 75,
   "metadata": {},
   "outputs": [],
   "source": [
    "from nltk import word_tokenize\n",
    "from nltk.util import ngrams"
   ]
  },
  {
   "cell_type": "code",
   "execution_count": 76,
   "metadata": {},
   "outputs": [],
   "source": [
    "words = []\n",
    "for text in abstracts['abstract']:\n",
    "    for word in text.split(\" \"):\n",
    "        words.append(word)"
   ]
  },
  {
   "cell_type": "code",
   "execution_count": 77,
   "metadata": {},
   "outputs": [
    {
     "name": "stdout",
     "output_type": "stream",
     "text": [
      "['the', 'positive', 'stranded', 'rna', 'genomes', 'of', 'picornaviruses', 'comprise', 'a', 'single']\n"
     ]
    }
   ],
   "source": [
    "print(words[:10])"
   ]
  },
  {
   "cell_type": "code",
   "execution_count": 78,
   "metadata": {},
   "outputs": [],
   "source": [
    "from sklearn.feature_extraction.text import HashingVectorizer\n",
    "\n",
    "# hash vectorizer instance\n",
    "hvec = HashingVectorizer(lowercase=False, analyzer=lambda l:l, n_features=2**12)\n",
    "\n",
    "# features matrix X\n",
    "X = hvec.fit_transform(words)"
   ]
  },
  {
   "cell_type": "code",
   "execution_count": 79,
   "metadata": {},
   "outputs": [
    {
     "data": {
      "text/plain": [
       "(429481, 4096)"
      ]
     },
     "execution_count": 79,
     "metadata": {},
     "output_type": "execute_result"
    }
   ],
   "source": [
    "X.shape"
   ]
  },
  {
   "cell_type": "markdown",
   "metadata": {},
   "source": [
    "#### Separete Training and Test Set"
   ]
  },
  {
   "cell_type": "code",
   "execution_count": 80,
   "metadata": {},
   "outputs": [
    {
     "name": "stdout",
     "output_type": "stream",
     "text": [
      "X_train size: 800\n",
      "X_test size: 200 \n",
      "\n"
     ]
    }
   ],
   "source": [
    "from sklearn.model_selection import train_test_split\n",
    "\n",
    "# test set size of 20% of the data and the random seed 42 <3\n",
    "X_train, X_test = train_test_split(X[:1000].toarray(), test_size=0.2, random_state=42)\n",
    "\n",
    "print(\"X_train size:\", len(X_train))\n",
    "print(\"X_test size:\", len(X_test), \"\\n\")"
   ]
  },
  {
   "cell_type": "markdown",
   "metadata": {},
   "source": [
    "# Dimensionality Reduction with t-SNE"
   ]
  },
  {
   "cell_type": "code",
   "execution_count": 81,
   "metadata": {},
   "outputs": [
    {
     "name": "stdout",
     "output_type": "stream",
     "text": [
      "[t-SNE] Computing 16 nearest neighbors...\n",
      "[t-SNE] Indexed 800 samples in 0.081s...\n",
      "[t-SNE] Computed neighbors for 800 samples in 4.286s...\n",
      "[t-SNE] Computed conditional probabilities for sample 800 / 800\n",
      "[t-SNE] Mean sigma: 0.000000\n",
      "[t-SNE] KL divergence after 250 iterations with early exaggeration: 71.343811\n",
      "[t-SNE] KL divergence after 1000 iterations: 0.619654\n"
     ]
    }
   ],
   "source": [
    "from sklearn.manifold import TSNE\n",
    "\n",
    "tsne = TSNE(verbose=1, perplexity=5)\n",
    "X_embedded = tsne.fit_transform(X_train)"
   ]
  },
  {
   "cell_type": "markdown",
   "metadata": {},
   "source": [
    "Let's plot the result:"
   ]
  },
  {
   "cell_type": "code",
   "execution_count": 82,
   "metadata": {},
   "outputs": [
    {
     "data": {
      "text/plain": [
       "<Figure size 1500x1500 with 1 Axes>"
      ]
     },
     "metadata": {},
     "output_type": "display_data"
    }
   ],
   "source": [
    "from matplotlib import pyplot as plt\n",
    "import seaborn as sns\n",
    "\n",
    "# sns settings\n",
    "sns.set(rc={'figure.figsize':(15,15)})\n",
    "\n",
    "# colors\n",
    "palette = sns.color_palette(\"bright\", 1)\n",
    "\n",
    "# plot\n",
    "sns.scatterplot(X_embedded[:,0], X_embedded[:,1], palette=palette)\n",
    "\n",
    "plt.title(\"t-SNE Covid-19 Articles\")\n",
    "# plt.savefig(\"plots/t-sne_covid19.png\")\n",
    "plt.show()"
   ]
  },
  {
   "cell_type": "markdown",
   "metadata": {},
   "source": [
    "# Unsupervised Learning: Clustering with K-Means"
   ]
  },
  {
   "cell_type": "code",
   "execution_count": 83,
   "metadata": {},
   "outputs": [],
   "source": [
    "from sklearn.cluster import KMeans\n",
    "\n",
    "k = 10\n",
    "kmeans = KMeans(n_clusters=k, n_jobs=4, verbose=10)\n",
    "y_pred = kmeans.fit_predict(X_train)"
   ]
  },
  {
   "cell_type": "code",
   "execution_count": 84,
   "metadata": {},
   "outputs": [],
   "source": [
    "y_train = y_pred"
   ]
  },
  {
   "cell_type": "code",
   "execution_count": 85,
   "metadata": {},
   "outputs": [],
   "source": [
    "y_test = kmeans.predict(X_test)"
   ]
  },
  {
   "cell_type": "code",
   "execution_count": 86,
   "metadata": {},
   "outputs": [
    {
     "data": {
      "image/png": "[encoded data removed]",
      "text/plain": [
       "<Figure size 1080x1080 with 1 Axes>"
      ]
     },
     "metadata": {},
     "output_type": "display_data"
    }
   ],
   "source": [
    "# sns settings\n",
    "sns.set(rc={'figure.figsize':(15,15)})\n",
    "\n",
    "# colors\n",
    "palette = sns.color_palette(\"bright\", len(set(y_pred)))\n",
    "\n",
    "# plot\n",
    "sns.scatterplot(X_embedded[:,0], X_embedded[:,1], hue=y_pred, legend='full', palette=palette)\n",
    "plt.title(\"t-SNE Covid-19 Articles - Clustered\")\n",
    "# plt.savefig(\"plots/t-sne_covid19_label.png\")\n",
    "plt.show()"
   ]
  },
  {
   "cell_type": "markdown",
   "metadata": {},
   "source": [
    "# * Merge from below part!"
   ]
  },
  {
   "cell_type": "markdown",
   "metadata": {},
   "source": [
    "# Create Spark session"
   ]
  },
  {
   "cell_type": "code",
   "execution_count": 169,
   "metadata": {},
   "outputs": [],
   "source": [
    "from pyspark.sql import SparkSession\n",
    "\n",
    "appName = \"PySpark\"\n",
    "master = \"local\"\n",
    "\n",
    "# Create Spark session\n",
    "spark = SparkSession.builder \\\n",
    "                    .appName(appName) \\\n",
    "                    .config(\"spark.driver.memory\", \"15g\") \\\n",
    "                    .master(master) \\\n",
    "                    .getOrCreate()"
   ]
  },
  {
   "cell_type": "markdown",
   "metadata": {},
   "source": [
    "# Find top N closest words"
   ]
  },
  {
   "cell_type": "code",
   "execution_count": 171,
   "metadata": {},
   "outputs": [],
   "source": [
    "#Generate doc\n",
    "localDoc = abstracts['abstract']\n",
    "doc = spark.sparkContext.parallelize(localDoc).map(lambda line: line.split(\" \"))"
   ]
  },
  {
   "cell_type": "code",
   "execution_count": 173,
   "metadata": {},
   "outputs": [],
   "source": [
    "from pyspark.mllib.feature import Word2Vec\n",
    "\n",
    "# Learn a mapping from words to Vectors.\n",
    "model = Word2Vec().fit(doc)"
   ]
  },
  {
   "cell_type": "code",
   "execution_count": 174,
   "metadata": {},
   "outputs": [],
   "source": [
    "word = \"corona\"\n",
    "topN = 10\n",
    "synonyms = model.findSynonyms(word, topN)\n",
    "result = [(s[0], s[1]) for s in synonyms]"
   ]
  },
  {
   "cell_type": "code",
   "execution_count": 177,
   "metadata": {},
   "outputs": [
    {
     "data": {
      "text/plain": [
       "[('caused', 0.8722241520881653),\n",
       " ('etiological', 0.8331533670425415),\n",
       " ('background', 0.8325658440589905),\n",
       " ('named', 0.8272594213485718),\n",
       " ('coronavirus', 0.8165912628173828),\n",
       " ('causing', 0.8161082863807678),\n",
       " ('backgroundthe', 0.8092041015625),\n",
       " ('disease2019', 0.8020564913749695),\n",
       " ('emerged', 0.7924125790596008),\n",
       " ('229e', 0.7856630682945251)]"
      ]
     },
     "execution_count": 177,
     "metadata": {},
     "output_type": "execute_result"
    }
   ],
   "source": [
    "result"
   ]
  },
  {
   "cell_type": "markdown",
   "metadata": {},
   "source": [
    "# Feature Extraction and Transformation"
   ]
  },
  {
   "cell_type": "markdown",
   "metadata": {},
   "source": [
    "### * Only used 10 abstracts"
   ]
  },
  {
   "cell_type": "code",
   "execution_count": 178,
   "metadata": {},
   "outputs": [],
   "source": [
    "from pyspark.mllib.feature import HashingTF, IDF\n",
    "\n",
    "# Load documents (one per line).\n",
    "documents = spark.sparkContext.parallelize(abstracts['abstract'][:10]).map(lambda line: line.split(\" \"))\n",
    "\n",
    "hashingTF = HashingTF(numFeatures = 2 ** 12)\n",
    "tf = hashingTF.transform(documents)\n",
    "\n",
    "# While applying HashingTF only needs a single pass to the data, applying IDF needs two passes:\n",
    "# First to compute the IDF vector and second to scale the term frequencies by IDF.\n",
    "tf.cache()\n",
    "idf = IDF().fit(tf)\n",
    "tfidf = idf.transform(tf)\n",
    "\n",
    "# spark.mllib's IDF implementation provides an option for ignoring terms\n",
    "# which occur in less than a minimum number of documents.\n",
    "# In such cases, the IDF for these terms is set to 0.\n",
    "# This feature can be used by passing the minDocFreq value to the IDF constructor.\n",
    "idfIgnore = IDF(minDocFreq=2).fit(tf)\n",
    "tfidfIgnore = idfIgnore.transform(tf)"
   ]
  },
  {
   "cell_type": "code",
   "execution_count": 179,
   "metadata": {},
   "outputs": [
    {
     "data": {
      "text/plain": [
       "(10, 4096)"
      ]
     },
     "execution_count": 179,
     "metadata": {},
     "output_type": "execute_result"
    }
   ],
   "source": [
    "import numpy as np\n",
    "np.array(tfidfIgnore.collect()).shape"
   ]
  },
  {
   "cell_type": "markdown",
   "metadata": {},
   "source": [
    "# PCA  & Clustering"
   ]
  },
  {
   "cell_type": "code",
   "execution_count": 180,
   "metadata": {},
   "outputs": [],
   "source": [
    "from pyspark.mllib.linalg import Vectors\n",
    "from pyspark.mllib.linalg.distributed import RowMatrix\n",
    "\n",
    "rows = spark.sparkContext.parallelize(tfidfIgnore.collect())\n",
    "\n",
    "mat = RowMatrix(rows)\n",
    "\n",
    "# Compute the top (9 principal components.\n",
    "# Principal components are stored in a local dense matrix.\n",
    "pc = mat.computePrincipalComponents(9)\n",
    "\n",
    "# Project the rows to the linear space spanned by the top (9 principal components.\n",
    "projected = mat.multiply(pc)"
   ]
  },
  {
   "cell_type": "code",
   "execution_count": 181,
   "metadata": {},
   "outputs": [
    {
     "data": {
      "text/plain": [
       "(10, 9)"
      ]
     },
     "execution_count": 181,
     "metadata": {},
     "output_type": "execute_result"
    }
   ],
   "source": [
    "projected.numRows(), projected.numCols()"
   ]
  },
  {
   "cell_type": "markdown",
   "metadata": {},
   "source": [
    "To separate the literature, k-means will be run on the vectorized text. Given the number of clusters, k, k-means will categorize each vector by taking the mean distance to a randomly initialized centroid. The centroids are updated iteratively."
   ]
  },
  {
   "cell_type": "markdown",
   "metadata": {},
   "source": [
    "# Elbow method to determine the optimal number of clusters for k-means clustering"
   ]
  },
  {
   "cell_type": "code",
   "execution_count": 250,
   "metadata": {},
   "outputs": [],
   "source": [
    "from pyspark.mllib.clustering import KMeans\n",
    "\n",
    "cost = np.zeros(20)\n",
    "for k in range(2, 20):\n",
    "    model = KMeans.train(projected.rows,\n",
    "                         k,\n",
    "                         maxIterations=10,\n",
    "                         initializationMode=\"random\",\n",
    "                         seed=50,\n",
    "                         initializationSteps=5,\n",
    "                         epsilon=1e-4)\n",
    "\n",
    "    cost[k] = model.computeCost(projected.rows)"
   ]
  },
  {
   "cell_type": "code",
   "execution_count": 252,
   "metadata": {},
   "outputs": [
    {
     "data": {
      "image/png": "[encoded data removed]",
      "text/plain": [
       "<Figure size 576x432 with 1 Axes>"
      ]
     },
     "metadata": {},
     "output_type": "display_data"
    }
   ],
   "source": [
    "import matplotlib.mlab as mlab\n",
    "import matplotlib.pyplot as plt\n",
    "import seaborn as sbs\n",
    "from matplotlib.ticker import MaxNLocator\n",
    "\n",
    "fig, ax = plt.subplots(1,1, figsize =(8,6))\n",
    "ax.plot(range(2,20), cost[2:20])\n",
    "ax.set_xlabel('k')\n",
    "ax.set_ylabel('cost')\n",
    "ax.xaxis.set_major_locator(MaxNLocator(integer=True))\n",
    "plt.show()"
   ]
  },
  {
   "cell_type": "markdown",
   "metadata": {},
   "source": [
    "# Within Set Sum of Squared Error (WSSSE)"
   ]
  },
  {
   "cell_type": "code",
   "execution_count": 258,
   "metadata": {},
   "outputs": [],
   "source": [
    "# Evaluate clustering by computing Within Set Sum of Squared Errors\n",
    "def error(point):\n",
    "    center = clusters.centers[clusters.predict(point)]\n",
    "    return sqrt(sum([x**2 for x in (point - center)]))"
   ]
  },
  {
   "cell_type": "code",
   "execution_count": 266,
   "metadata": {},
   "outputs": [
    {
     "name": "stdout",
     "output_type": "stream",
     "text": [
      "The cluster 2 has Within Set Sum of Squared Error 93.8619143285639\n",
      "The cluster 3 has Within Set Sum of Squared Error 84.3107553691597\n",
      "The cluster 4 has Within Set Sum of Squared Error 71.87213324219526\n",
      "The cluster 5 has Within Set Sum of Squared Error 55.05745585366811\n",
      "The cluster 6 has Within Set Sum of Squared Error 40.57852718289841\n",
      "The cluster 7 has Within Set Sum of Squared Error 29.350106040903853\n",
      "The cluster 8 has Within Set Sum of Squared Error 19.686247492787935\n",
      "The cluster 9 has Within Set Sum of Squared Error 11.08523263391893\n",
      "The cluster 10 has Within Set Sum of Squared Error 0.0\n",
      "The cluster 11 has Within Set Sum of Squared Error 0.0\n",
      "The cluster 12 has Within Set Sum of Squared Error 0.0\n",
      "The cluster 13 has Within Set Sum of Squared Error 0.0\n",
      "The cluster 14 has Within Set Sum of Squared Error 0.0\n",
      "The cluster 15 has Within Set Sum of Squared Error 0.0\n",
      "The cluster 16 has Within Set Sum of Squared Error 0.0\n",
      "The cluster 17 has Within Set Sum of Squared Error 0.0\n",
      "The cluster 18 has Within Set Sum of Squared Error 0.0\n",
      "The cluster 19 has Within Set Sum of Squared Error 0.0\n"
     ]
    }
   ],
   "source": [
    "from pyspark.mllib.clustering import KMeans, KMeansModel\n",
    "\n",
    "cluster_centers = []\n",
    "\n",
    "# Build the model (cluster the data)\n",
    "for k in range(2, 20):\n",
    "    clusters = KMeans.train(projected.rows,\n",
    "                            k,\n",
    "                            maxIterations=10,\n",
    "                            initializationMode=\"random\",\n",
    "                            seed=50,\n",
    "                            initializationSteps=5,\n",
    "                            epsilon=1e-4)\n",
    "    \n",
    "    # Evaluate clustering by computing Within Set Sum of Squared Errors\n",
    "    def error(point):\n",
    "        center = clusters.centers[clusters.predict(point)]\n",
    "        return sqrt(sum([x**2 for x in (point - center)]))\n",
    "\n",
    "    WSSSE = projected.rows.map(lambda point: error(point)).reduce(lambda x, y: x + y)\n",
    "    print(\"The cluster {} has Within Set Sum of Squared Error {}\".format(k, WSSSE))\n",
    "    \n",
    "    centers = clusters.clusterCenters\n",
    "    \n",
    "    cluster_centers.append(centers)"
   ]
  },
  {
   "cell_type": "code",
   "execution_count": null,
   "metadata": {},
   "outputs": [],
   "source": [
    "print(\"Cluster Centers: \")\n",
    "for center in cluster_centers:\n",
    "    #print(center)\n",
    "    pass"
   ]
  },
  {
   "cell_type": "code",
   "execution_count": 306,
   "metadata": {},
   "outputs": [
    {
     "data": {
      "text/plain": [
       "[DenseVector([0.6416, 0.7393, 0.1907, 0.6379, 1.2012, -4.8564, -6.9568, -1.3488, -4.6145]),\n",
       " DenseVector([-0.5472, 0.411, -0.6961, -1.3148, -1.4175, 1.5755, 3.4735, -5.2414, -5.5419]),\n",
       " DenseVector([-0.2248, 0.0926, -0.0582, -0.1063, -0.2387, 0.2444, 0.1438, 0.1028, 1.8632]),\n",
       " DenseVector([8.5431, -14.6256, 1.3272, -0.8928, 0.4846, -0.8114, 0.0235, 0.6679, -3.7672]),\n",
       " DenseVector([0.3215, 1.5386, -1.4351, 0.4901, 4.061, -4.0572, 3.9071, 4.854, -4.8088]),\n",
       " DenseVector([-13.3987, -9.213, -4.0465, 3.4184, -2.1818, -1.3966, -0.3841, 1.0312, -3.8129]),\n",
       " DenseVector([2.645, -1.467, 5.1751, 11.0939, -3.185, -0.9186, 0.7899, 0.5611, -3.8561]),\n",
       " DenseVector([-0.9232, -0.5536, 1.3007, 0.028, -0.382, 7.0, -2.9916, 3.9935, -4.9452]),\n",
       " DenseVector([-7.8437, -3.8549, 11.5502, -2.7441, -0.1245, -2.0198, 0.4807, 0.8252, -3.7536]),\n",
       " DenseVector([1.8854, -0.7608, 0.235, -2.9424, -9.9433, -3.1455, 0.022, 3.0261, -4.0478])]"
      ]
     },
     "execution_count": 306,
     "metadata": {},
     "output_type": "execute_result"
    }
   ],
   "source": [
    "projected.rows.collect()"
   ]
  },
  {
   "cell_type": "code",
   "execution_count": 309,
   "metadata": {},
   "outputs": [
    {
     "data": {
      "image/png": "[encoded data removed]",
      "text/plain": [
       "<Figure size 1080x1080 with 1 Axes>"
      ]
     },
     "metadata": {},
     "output_type": "display_data"
    }
   ],
   "source": [
    "rdd_split_int = projected.rows.map(lambda x: [float(x[0]), float(x[1]), float(x[2]), float(x[3]), float(x[4]), float(x[5]), float(x[6]), float(x[7]), float(x[8])])\n",
    "\n",
    "# Convert rdd_split_int RDD into Spark DataFrame\n",
    "rdd_split_int_df = spark.createDataFrame(rdd_split_int, schema=[\"col1\", \"col2\", \"col3\", \"col4\", \"col5\", \"col6\", \"col7\", \"col8\", \"col9\"])\n",
    "\n",
    "# Convert Spark DataFrame into Pandas DataFrame\n",
    "rdd_split_int_df_pandas = rdd_split_int_df.toPandas()\n",
    "\n",
    "# Convert \"cluster_centers\" that you generated earlier into Pandas DataFrame\n",
    "cluster_centers_pandas = pd.DataFrame(cluster_centers[8], columns=[\"col1\", \"col2\", \"col3\", \"col4\", \"col5\", \"col6\", \"col7\", \"col8\", \"col9\"])\n",
    "\n",
    "# Create an overlaid scatter plot\n",
    "plt.scatter(rdd_split_int_df_pandas, cluster_centers_pandas, color=\"red\", marker=\"x\")\n",
    "plt.show()"
   ]
  },
  {
   "cell_type": "code",
   "execution_count": null,
   "metadata": {},
   "outputs": [],
   "source": []
  }
 ],
 "metadata": {
  "kernelspec": {
   "display_name": "Python 3",
   "language": "python",
   "name": "python3"
  },
  "language_info": {
   "codemirror_mode": {
    "name": "ipython",
    "version": 3
   },
   "file_extension": ".py",
   "mimetype": "text/x-python",
   "name": "python",
   "nbconvert_exporter": "python",
   "pygments_lexer": "ipython3",
   "version": "3.7.3"
  },
  "toc": {
   "base_numbering": 1,
   "nav_menu": {},
   "number_sections": true,
   "sideBar": true,
   "skip_h1_title": false,
   "title_cell": "Table of Contents",
   "title_sidebar": "Contents",
   "toc_cell": true,
   "toc_position": {
    "height": "calc(100% - 180px)",
    "left": "10px",
    "top": "150px",
    "width": "288.72px"
   },
   "toc_section_display": true,
   "toc_window_display": true
  }
 },
 "nbformat": 4,
 "nbformat_minor": 4
}
